{
  "nbformat": 4,
  "nbformat_minor": 0,
  "metadata": {
    "colab": {
      "provenance": [],
      "toc_visible": true,
      "machine_shape": "hm",
      "collapsed_sections": [
        "17E8qn7jjAp4"
      ],
      "include_colab_link": true
    },
    "kernelspec": {
      "name": "python3",
      "display_name": "Python 3"
    },
    "language_info": {
      "name": "python"
    }
  },
  "cells": [
    {
      "cell_type": "markdown",
      "metadata": {
        "id": "view-in-github",
        "colab_type": "text"
      },
      "source": [
        "<a href=\"https://colab.research.google.com/github/mazinkamal134/DS_MRP_2024/blob/main/Demographics%20Pipeline/Demographics_Age_Inference.ipynb\" target=\"_parent\"><img src=\"https://colab.research.google.com/assets/colab-badge.svg\" alt=\"Open In Colab\"/></a>"
      ]
    },
    {
      "cell_type": "code",
      "source": [
        "!pip install contractions"
      ],
      "metadata": {
        "colab": {
          "base_uri": "https://localhost:8080/"
        },
        "id": "rB5K8l4COBwS",
        "outputId": "7d261a4f-fdcf-4ae8-978f-30748f8d82dc"
      },
      "execution_count": null,
      "outputs": [
        {
          "output_type": "stream",
          "name": "stdout",
          "text": [
            "Collecting contractions\n",
            "  Downloading contractions-0.1.73-py2.py3-none-any.whl.metadata (1.2 kB)\n",
            "Collecting textsearch>=0.0.21 (from contractions)\n",
            "  Downloading textsearch-0.0.24-py2.py3-none-any.whl.metadata (1.2 kB)\n",
            "Collecting anyascii (from textsearch>=0.0.21->contractions)\n",
            "  Downloading anyascii-0.3.2-py3-none-any.whl.metadata (1.5 kB)\n",
            "Collecting pyahocorasick (from textsearch>=0.0.21->contractions)\n",
            "  Downloading pyahocorasick-2.1.0-cp310-cp310-manylinux_2_5_x86_64.manylinux1_x86_64.manylinux_2_12_x86_64.manylinux2010_x86_64.whl.metadata (13 kB)\n",
            "Downloading contractions-0.1.73-py2.py3-none-any.whl (8.7 kB)\n",
            "Downloading textsearch-0.0.24-py2.py3-none-any.whl (7.6 kB)\n",
            "Downloading anyascii-0.3.2-py3-none-any.whl (289 kB)\n",
            "\u001b[2K   \u001b[90m━━━━━━━━━━━━━━━━━━━━━━━━━━━━━━━━━━━━━━━━\u001b[0m \u001b[32m289.9/289.9 kB\u001b[0m \u001b[31m2.1 MB/s\u001b[0m eta \u001b[36m0:00:00\u001b[0m\n",
            "\u001b[?25hDownloading pyahocorasick-2.1.0-cp310-cp310-manylinux_2_5_x86_64.manylinux1_x86_64.manylinux_2_12_x86_64.manylinux2010_x86_64.whl (110 kB)\n",
            "\u001b[2K   \u001b[90m━━━━━━━━━━━━━━━━━━━━━━━━━━━━━━━━━━━━━━━━\u001b[0m \u001b[32m110.7/110.7 kB\u001b[0m \u001b[31m6.6 MB/s\u001b[0m eta \u001b[36m0:00:00\u001b[0m\n",
            "\u001b[?25hInstalling collected packages: pyahocorasick, anyascii, textsearch, contractions\n",
            "Successfully installed anyascii-0.3.2 contractions-0.1.73 pyahocorasick-2.1.0 textsearch-0.0.24\n"
          ]
        }
      ]
    },
    {
      "cell_type": "code",
      "source": [
        "!pip install emoji"
      ],
      "metadata": {
        "colab": {
          "base_uri": "https://localhost:8080/"
        },
        "id": "jtLipk47OCL1",
        "outputId": "453b9b07-4099-4797-a8de-dca635eea847"
      },
      "execution_count": null,
      "outputs": [
        {
          "output_type": "stream",
          "name": "stdout",
          "text": [
            "Collecting emoji\n",
            "  Downloading emoji-2.12.1-py3-none-any.whl.metadata (5.4 kB)\n",
            "Requirement already satisfied: typing-extensions>=4.7.0 in /usr/local/lib/python3.10/dist-packages (from emoji) (4.12.2)\n",
            "Downloading emoji-2.12.1-py3-none-any.whl (431 kB)\n",
            "\u001b[2K   \u001b[90m━━━━━━━━━━━━━━━━━━━━━━━━━━━━━━━━━━━━━━━━\u001b[0m \u001b[32m431.4/431.4 kB\u001b[0m \u001b[31m2.5 MB/s\u001b[0m eta \u001b[36m0:00:00\u001b[0m\n",
            "\u001b[?25hInstalling collected packages: emoji\n",
            "Successfully installed emoji-2.12.1\n"
          ]
        }
      ]
    },
    {
      "cell_type": "markdown",
      "source": [
        "### Packages"
      ],
      "metadata": {
        "id": "A3ol4V7kN5yr"
      }
    },
    {
      "cell_type": "code",
      "execution_count": null,
      "metadata": {
        "colab": {
          "base_uri": "https://localhost:8080/"
        },
        "id": "rS_ck8bIN0lQ",
        "outputId": "35b98c38-a418-48d4-beb7-c2fa9fb14c2f"
      },
      "outputs": [
        {
          "output_type": "stream",
          "name": "stderr",
          "text": [
            "[nltk_data] Downloading package punkt to /root/nltk_data...\n",
            "[nltk_data]   Unzipping tokenizers/punkt.zip.\n",
            "[nltk_data] Downloading package averaged_perceptron_tagger to\n",
            "[nltk_data]     /root/nltk_data...\n",
            "[nltk_data]   Unzipping taggers/averaged_perceptron_tagger.zip.\n",
            "[nltk_data] Downloading package stopwords to /root/nltk_data...\n",
            "[nltk_data]   Unzipping corpora/stopwords.zip.\n",
            "[nltk_data] Downloading package vader_lexicon to /root/nltk_data...\n"
          ]
        }
      ],
      "source": [
        "import os\n",
        "import pandas as pd\n",
        "import numpy as np\n",
        "import re\n",
        "import html\n",
        "import pickle\n",
        "import contractions\n",
        "import emoji\n",
        "\n",
        "import nltk\n",
        "from nltk.tokenize import word_tokenize\n",
        "from nltk.corpus import stopwords\n",
        "from nltk.sentiment import SentimentIntensityAnalyzer\n",
        "nltk.download('punkt')\n",
        "nltk.download('averaged_perceptron_tagger')\n",
        "nltk.download('stopwords')\n",
        "nltk.download('vader_lexicon')\n",
        "\n",
        "from imblearn.under_sampling import RandomUnderSampler\n",
        "from imblearn.over_sampling import SMOTE\n",
        "from collections import Counter\n",
        "import matplotlib.pyplot as plt\n",
        "import scipy.stats as stats\n",
        "import seaborn as sns\n",
        "\n",
        "# ML\n",
        "from sklearn.feature_extraction.text import TfidfVectorizer\n",
        "from sklearn.preprocessing import LabelEncoder, StandardScaler, OneHotEncoder\n",
        "from sklearn.model_selection import train_test_split, StratifiedKFold, GridSearchCV, cross_val_score\n",
        "from sklearn.metrics import classification_report, accuracy_score, confusion_matrix, roc_auc_score, roc_curve, auc\n",
        "from sklearn.compose import ColumnTransformer\n",
        "from sklearn.pipeline import Pipeline\n",
        "from sklearn.decomposition import PCA, TruncatedSVD\n",
        "import xgboost as xgb\n",
        "from sklearn.ensemble import RandomForestClassifier\n",
        "from sklearn.linear_model import LogisticRegression\n",
        "from sklearn.svm import SVC\n",
        "\n",
        "# Word Embeddings\n",
        "from gensim.models import KeyedVectors  # For loading GloVe embeddings\n",
        "from gensim.scripts.glove2word2vec import glove2word2vec  # For converting GloVe embeddings to Word2Vec format"
      ]
    },
    {
      "cell_type": "markdown",
      "source": [
        "### Google Drive"
      ],
      "metadata": {
        "id": "xNcXamHTOHgh"
      }
    },
    {
      "cell_type": "code",
      "source": [
        "# Mount Google Drive\n",
        "from google.colab import drive\n",
        "drive.mount('/content/drive')"
      ],
      "metadata": {
        "colab": {
          "base_uri": "https://localhost:8080/"
        },
        "id": "RhQNiTQvOE6s",
        "outputId": "20250245-c319-482f-e981-55bede76eb36"
      },
      "execution_count": null,
      "outputs": [
        {
          "output_type": "stream",
          "name": "stdout",
          "text": [
            "Mounted at /content/drive\n"
          ]
        }
      ]
    },
    {
      "cell_type": "markdown",
      "source": [
        "### Text Cleaning"
      ],
      "metadata": {
        "id": "lmNTocxHOLZk"
      }
    },
    {
      "cell_type": "code",
      "source": [
        "# Function to clean the text (user description)\n",
        "def clean_text(text):\n",
        "\n",
        "    # regex\n",
        "    REPLACE_BY_SPACE_RE = re.compile('[/(){}\\[\\]\\|@,;]')\n",
        "    BAD_SYMBOLS_RE = re.compile('[^0-9a-z #+_%]')\n",
        "    URLs = re.compile(r\"http\\S+|www\\S+|https\\S+\")\n",
        "    HASHTAG = re.compile(r\"#\\w+\")\n",
        "    EMOJIS = re.compile(\n",
        "        \"[\"\n",
        "        \"\\U0001F600-\\U0001F64F\"  # Emoticons\n",
        "        \"\\U0001F300-\\U0001F5FF\"  # Symbols & Pictographs\n",
        "        \"\\U0001F680-\\U0001F6FF\"  # Transport & Map Symbols\n",
        "        \"\\U0001F1E0-\\U0001F1FF\"  # Flags (iOS)\n",
        "        \"\\U00002700-\\U000027BF\"  # Dingbats\n",
        "        \"\\U0001F900-\\U0001F9FF\"  # Supplemental Symbols and Pictographs\n",
        "        \"\\U0001FA70-\\U0001FAFF\"  # Symbols and Pictographs Extended-A\n",
        "        \"\\U00002600-\\U000026FF\"  # Miscellaneous Symbols\n",
        "        \"\\U00002500-\\U00002BEF\"  # Other symbols\n",
        "        \"\\U0001F004\"             # Mahjong Tile Red Dragon\n",
        "        \"\\U0001F0CF\"             # Playing Card Black Joker\n",
        "        \"\\U0001F018-\\U0001F270\"  # Various Asian characters\n",
        "        \"\\U0001F201-\\U0001F251\"  # Enclosed characters\n",
        "        \"\\U0001F926-\\U0001F937\"  # Additional emoji\n",
        "        \"\\U0001F97C-\\U0001F9FF\"  # Additional emoji\n",
        "        \"\\U0001F9E0-\\U0001F9E6\"  # Additional emoji\n",
        "        \"\\U0001F680-\\U0001F6C5\"  # Transport and map symbols\n",
        "        \"\\U0001F6F4-\\U0001F6F8\"  # Additional transport and map symbols\n",
        "        \"\\U0001F7E0-\\U0001F7EB\"  # Additional symbols\n",
        "        \"\\U0001F90D-\\U0001F93A\"  # Additional emoji\n",
        "        \"\\U0001F93C-\\U0001F945\"  # Additional emoji\n",
        "        \"\\U0001F947-\\U0001F978\"  # Additional emoji\n",
        "        \"\\U0001F97A-\\U0001F9CB\"  # Additional emoji\n",
        "        \"\\U0001F9CD-\\U0001FA6D\"  # Additional emoji\n",
        "        \"\\U0001FA60-\\U0001FA6D\"  # Additional emoji\n",
        "        \"\\U0001FA70-\\U0001FA74\"  # Additional emoji\n",
        "        \"\\U0001FA78-\\U0001FA7A\"  # Additional emoji\n",
        "        \"\\U0001FA80-\\U0001FA86\"  # Additional emoji\n",
        "        \"\\U0001FA90-\\U0001FAA8\"  # Additional emoji\n",
        "        \"\\U0001FAB0-\\U0001FAB6\"  # Additional emoji\n",
        "        \"\\U0001FAC0-\\U0001FAC2\"  # Additional emoji\n",
        "        \"\\U0001FAD0-\\U0001FAD6\"  # Additional emoji\n",
        "        \"\\u200d\"                 # Zero Width Joiner\n",
        "        \"\\u2640-\\u2642\"          # Gender symbols\n",
        "        \"\\u2600-\\u2B55\"          # Miscellaneous symbols and dingbats\n",
        "        \"\\u23cf\"                 # Eject symbol\n",
        "        \"\\u23e9\"                 # Fast forward\n",
        "        \"\\u231a\"                 # Watch\n",
        "        \"\\ufe0f\"                 # Dingbats\n",
        "        \"\\u3030\"                 # Wavy dash\n",
        "        \"\\u00a9\"                 # Copyright\n",
        "        \"\\u00ae\"                 # Registered\n",
        "        \"\\u2122\"                 # Trademark\n",
        "        \"]+\", flags = re.UNICODE)\n",
        "\n",
        "    # Replace contractions with their original form\n",
        "    text = contractions.fix(text)\n",
        "    # remove html related tokens\n",
        "    text = html.unescape(text)\n",
        "    # remove the line feeds\n",
        "    text = re.sub(r\"\\n\", \" \", text)\n",
        "    # lowercase text\n",
        "    text = text.lower()\n",
        "    # Remove emojis from the text using the pattern\n",
        "    text = EMOJIS.sub(\" \", text)\n",
        "    # Substitute the matched string in URLs with space.\n",
        "    text = URLs.sub(\" \", text)\n",
        "    # Substitute the matched string in HASHTAG with space.\n",
        "    text = HASHTAG.sub(\" \", text)\n",
        "    # Substitute the matched string in REPLACE_BY_SPACE_RE with space.\n",
        "    text = REPLACE_BY_SPACE_RE.sub(\" \", text)\n",
        "    # Substitute the matched string in BAD_SYMBOLS_RE with space.\n",
        "    text = BAD_SYMBOLS_RE.sub(\" \", text)\n",
        "    # Trim the text\n",
        "    text = text.strip()\n",
        "\n",
        "    return text"
      ],
      "metadata": {
        "id": "oegP2pMDakQD"
      },
      "execution_count": null,
      "outputs": []
    },
    {
      "cell_type": "markdown",
      "source": [
        "### Global Params"
      ],
      "metadata": {
        "id": "3zxKU9QKOesI"
      }
    },
    {
      "cell_type": "code",
      "source": [
        "authorsDir = \"/content/drive/MyDrive/Master-2024/MRP/Data/Authors\"\n",
        "tweetsDir = \"/content/drive/MyDrive/Master-2024/MRP/Data/Tweets\"\n",
        "embeddingDir = \"/content/drive/MyDrive/Master-2024/MRP/Data/Demographics/Word Embeddings\"\n",
        "demographicsDir = \"/content/drive/MyDrive/Master-2024/MRP/Data/Demographics\""
      ],
      "metadata": {
        "id": "4WCpmVnCOglF"
      },
      "execution_count": null,
      "outputs": []
    },
    {
      "cell_type": "markdown",
      "source": [
        "### Data"
      ],
      "metadata": {
        "id": "p6U6xltdgCJ3"
      }
    },
    {
      "cell_type": "markdown",
      "source": [
        "#### Users"
      ],
      "metadata": {
        "id": "ckZ_Rna0Oywl"
      }
    },
    {
      "cell_type": "code",
      "source": [
        "# Read the data\n",
        "usersDf = pd.read_parquet(os.path.join(authorsDir, \"Authors.parquet\"))\n",
        "# Clean the required text\n",
        "usersDf[\"description_cleaned\"] = usersDf[\"description\"].apply(clean_text)\n",
        "usersDf[\"name_cleaned\"] = usersDf[\"name\"].apply(clean_text)\n",
        "\"\"\"\n",
        "controlUsers = pd.read_csv(os.path.join(authorsDir, \"authors_control.csv\"))\n",
        "# Add the group column\n",
        "controlUsers[\"group\"] = 0\n",
        "print(\"Control users shape:\", controlUsers.shape)\n",
        "treatmentUsers = pd.read_csv(os.path.join(authorsDir, \"authors_treatment.csv\"))\n",
        "treatmentUsers[\"group\"] = 1\n",
        "print(\"Treatment users shape:\", treatmentUsers.shape)\n",
        "\n",
        "# Combine\n",
        "usersDf = pd.concat([controlUsers, treatmentUsers])\n",
        "\n",
        "# Remove the unnecessary columns\n",
        "usersDf.drop([\"anonymized_id\", \"matched_author_count\", \"matched_author_ids\", \"location\", \"username\"], axis = 1, inplace = True)\n",
        "\n",
        "# Fix the datatypes\n",
        "usersDf[\"created_at\"] = pd.to_datetime(usersDf[\"created_at\"]).dt.tz_localize(None)\n",
        "# find the account age\n",
        "usersDf[\"account_age\"] = (pd.to_datetime(\"today\") - usersDf[\"created_at\"]).dt.days/365.0\n",
        "# Fill na\n",
        "usersDf[\"account_age\"].fillna(0, inplace = True)\n",
        "toFill = [\"followers_count\", \"following_count\", \"tweet_count\"]\n",
        "# Fill and convert to int\n",
        "usersDf[toFill] = usersDf[toFill].fillna(0)\n",
        "usersDf[\"followers_count\"] = usersDf[\"followers_count\"].astype(\"int64\")\n",
        "usersDf[\"following_count\"] = usersDf[\"following_count\"].astype(\"int64\")\n",
        "usersDf[\"tweet_count\"] = usersDf[\"tweet_count\"].astype(\"int64\")\n",
        "\n",
        "# Fill the rest of columns with nothing\n",
        "usersDf.fillna(\"\", inplace = True)\n",
        "\n",
        "# Clean the required text\n",
        "usersDf[\"description_cleaned\"] = usersDf[\"description\"].apply(clean_text)\n",
        "\n",
        "# find the length of the description field\n",
        "usersDf[\"description_len\"] = usersDf[\"description\"].apply(lambda x: len(x.split()))\n",
        "usersDf[\"name_cleaned\"] = usersDf[\"name\"].apply(clean_text)\n",
        "\n",
        "# Reorganize the columns\n",
        "reOrg = ['id', 'created_at', \"account_age\", 'verified', 'name', 'name_cleaned', 'description',\n",
        "       'description_cleaned', \"description_len\", 'disorder', 'group', 'followers_count', 'following_count', 'tweet_count']\n",
        "usersDf = usersDf[reOrg]\n",
        "# Rename id to author_id\n",
        "usersDf.rename({\"id\":\"author_id\"}, axis = 1, inplace = True)\n",
        "# Change the author_id data type to str\n",
        "usersDf[\"author_id\"] = usersDf[\"author_id\"].astype(\"str\")\n",
        "\"\"\"\n",
        "# Check\n",
        "print(\"Full dataset shape:\", usersDf.shape)"
      ],
      "metadata": {
        "colab": {
          "base_uri": "https://localhost:8080/"
        },
        "id": "IL5FP-YIOxe4",
        "outputId": "31e1c5da-c814-4d8e-9b32-2eab0608b1d9"
      },
      "execution_count": null,
      "outputs": [
        {
          "output_type": "stream",
          "name": "stdout",
          "text": [
            "Full dataset shape: (5612, 15)\n"
          ]
        }
      ]
    },
    {
      "cell_type": "markdown",
      "source": [
        "#### Tweets"
      ],
      "metadata": {
        "id": "b2k8UJ5TgF8Y"
      }
    },
    {
      "cell_type": "code",
      "source": [
        "# Load the tweets parquet file\n",
        "tweetsDf = pd.read_parquet(os.path.join(tweetsDir, \"processedTweets.parquet\"))\n",
        "print(\"Original tweets shape:\", tweetsDf.shape)\n",
        "# Remove other languages + remove the missing text, and only focus on timeline tweets\n",
        "# Commented part is to account for some control users without timeline tweets\n",
        "tweetsDf = tweetsDf[(tweetsDf.cleaned_text.notna()) &\n",
        " #(tweetsDf.tweet_type == \"timeline\") &\n",
        "  #(tweetsDf.referenced_tweet_type != \"quoted\") &\n",
        "    (tweetsDf.lang == \"en\")]\n",
        "# Join with the users\n",
        "tweetsDf = tweetsDf.merge(usersDf[[\"author_id\"]], on = \"author_id\", how = \"inner\")\n",
        "print(\"Filtered tweets shape:\", tweetsDf.shape)\n",
        "\n",
        "# Sort for further processing\n",
        "tweetsDf = tweetsDf.sort_values(by = [\"author_id\", \"created_at\"], ascending = [True, False])\n",
        "print(\"Tweets shape:\", tweetsDf.shape)"
      ],
      "metadata": {
        "id": "huzwB09wgHXa",
        "colab": {
          "base_uri": "https://localhost:8080/"
        },
        "outputId": "1d38dac0-5767-43ac-b8c3-39b203fd9582"
      },
      "execution_count": null,
      "outputs": [
        {
          "output_type": "stream",
          "name": "stdout",
          "text": [
            "Original tweets shape: (15542629, 28)\n",
            "Filtered tweets shape: (8025384, 28)\n",
            "Tweets shape: (8025384, 28)\n"
          ]
        }
      ]
    },
    {
      "cell_type": "markdown",
      "source": [
        "#### RegEx on Description"
      ],
      "metadata": {
        "id": "v7Z6muLFOoFb"
      }
    },
    {
      "cell_type": "code",
      "source": [
        "# Function to extract age from text (self-reporting): On user description\n",
        "def extract_age(text):\n",
        "    patterns = [\n",
        "        r'\\b(?:i\\'m|i am|am|im|age|years old|yrs old|years old|yrs old|yo)\\s*(1[0-9]|2[0-9]|3[0-9]|4[0-9]|5[0-9]|6[0-9]|7[0-5])\\b',\n",
        "        r'\\b(1[0-9]|2[0-9]|3[0-9]|4[0-9]|5[0-9]|6[0-9]|7[0-5])\\s*(?:years old|yrs old|yo)\\b',\n",
        "        r'^(1[0-9]|2[0-9]|3[0-9]|4[0-9]|5[0-9]|6[0-5])\\b(?:\\s+\\w+)*$'\n",
        "    ]\n",
        "    for pattern in patterns:\n",
        "        match = re.search(pattern, text)\n",
        "        if match:\n",
        "            return int(match.group(1))\n",
        "    return None"
      ],
      "metadata": {
        "id": "t5pKvZicOYnH"
      },
      "execution_count": null,
      "outputs": []
    },
    {
      "cell_type": "code",
      "source": [
        "# Extract the age\n",
        "usersDf[\"age\"] = usersDf[\"description_cleaned\"].apply(extract_age)\n",
        "\n",
        "# Categorixe based on GenZ and Millineals\n",
        "def categorize_age(age):\n",
        "    if 12 < age <= 25:\n",
        "        return \"Gen-Z\"\n",
        "    elif 25 < age <= 65:\n",
        "        return \"Millenial\"\n",
        "\n",
        "# Apply the function above\n",
        "usersDf[\"age_group\"] = usersDf[\"age\"].apply(categorize_age)\n",
        "\n",
        "# % of extracted ages\n",
        "print(\"% of users with age in their descriptions\", round(usersDf[~usersDf.age.isna()].shape[0]/usersDf.shape[0], 2)*100, \"%\")\n",
        "# Groups\n",
        "usersDf[\"age_group\"].value_counts()"
      ],
      "metadata": {
        "id": "swfxXB36PD2z",
        "colab": {
          "base_uri": "https://localhost:8080/",
          "height": 195
        },
        "outputId": "e0ca8187-db92-43e0-cd32-ededa2a1f6c4"
      },
      "execution_count": null,
      "outputs": [
        {
          "output_type": "stream",
          "name": "stdout",
          "text": [
            "% of users with age in their descriptions 6.0 %\n"
          ]
        },
        {
          "output_type": "execute_result",
          "data": {
            "text/plain": [
              "age_group\n",
              "Gen-Z        257\n",
              "Millenial     85\n",
              "Name: count, dtype: int64"
            ],
            "text/html": [
              "<table border=\"1\" class=\"dataframe\">\n",
              "  <thead>\n",
              "    <tr style=\"text-align: right;\">\n",
              "      <th></th>\n",
              "      <th>count</th>\n",
              "    </tr>\n",
              "    <tr>\n",
              "      <th>age_group</th>\n",
              "      <th></th>\n",
              "    </tr>\n",
              "  </thead>\n",
              "  <tbody>\n",
              "    <tr>\n",
              "      <th>Gen-Z</th>\n",
              "      <td>257</td>\n",
              "    </tr>\n",
              "    <tr>\n",
              "      <th>Millenial</th>\n",
              "      <td>85</td>\n",
              "    </tr>\n",
              "  </tbody>\n",
              "</table><br><label><b>dtype:</b> int64</label>"
            ]
          },
          "metadata": {},
          "execution_count": 10
        }
      ]
    },
    {
      "cell_type": "code",
      "source": [
        "# plot\n",
        "plt.hist(usersDf.age, bins = \"auto\", alpha = 0.75)\n",
        "plt.xlabel(\"Age\")\n",
        "plt.ylabel(\"Frequency\")\n",
        "plt.title(f\"Distribution of Age\")\n",
        "plt.show()"
      ],
      "metadata": {
        "id": "jHN4_xuEPML0",
        "colab": {
          "base_uri": "https://localhost:8080/",
          "height": 472
        },
        "outputId": "06699ac4-801b-492d-d205-8392384c7b49"
      },
      "execution_count": null,
      "outputs": [
        {
          "output_type": "display_data",
          "data": {
            "text/plain": [
              "<Figure size 640x480 with 1 Axes>"
            ],
            "image/png": "[encoded data removed]"
          },
          "metadata": {}
        }
      ]
    },
    {
      "cell_type": "markdown",
      "source": [
        "#### RegEx on Tweets"
      ],
      "metadata": {
        "id": "efCsVXMeYHba"
      }
    },
    {
      "cell_type": "markdown",
      "source": [
        "\"Iam 23 today, happy birthday to me\",\n",
        "\"I'm turning 23 today\",\n",
        "\"Just turned 23\",\n",
        "\"I am 23 years old\",\n",
        "\"Celebrating my 23rd birthday\",\n",
        "\"I am finally 23\",\n",
        "\"Im 23 today\",\n",
        "\"I m turning 23\",\n",
        "\"Today is my 23rd birthday\",\n",
        "\"23 years old today\",\n",
        "\"I'm 23 years old\",\n",
        "\"I am 23\",\n",
        "\"I just turned 23\",\n",
        "\"Turning 23 today\",\n",
        "\"Feeling great at 23\",\n",
        "\"Happy 23rd to me\",\n",
        "\"23 years young today\",\n",
        "\"HBD to me 23\",\n",
        "\"No age mentioned here\"\n"
      ],
      "metadata": {
        "id": "qBRU9EfcfeCJ"
      }
    },
    {
      "cell_type": "code",
      "source": [
        "def extract_age_from_tweet(text):\n",
        "    age_patterns = [\n",
        "        # r\"I(?:'m|'m| m| am| turned| turn| am turning| turning| will be| am going to be) (\\d{1,3})(?: years old| today| yrs old| yo| y\\.o\\.| this year)?\",\n",
        "        # r\"happy (\\d{1,3})(?:th|st|nd|rd)? birthday (?:to me|to myself|to yours truly)\",\n",
        "        # r\"HBD (?:to me|to myself|to yours truly) (?:I'm|turning) (\\d{1,3})\",\n",
        "        # r\"(\\d{1,3}) years (?:young|old) today\",\n",
        "        # r\"(?:turning|turned) the big (\\d{1,3})\",\n",
        "        # r\"it's my (\\d{1,3})(?:th|st|nd|rd)? birthday\",\n",
        "        # r\"just turned (\\d{1,3})\",\n",
        "\n",
        "        r'\\b[Ii](?:\\s|\\'|a?m|[A-Za-z])*\\s(\\d{1,2})\\s(?:today|this\\s(?:birthday|year))\\b',\n",
        "        r'\\b[Ii](?:\\s|\\'|a?m|[A-Za-z])*\\sturning\\s(\\d{1,2})\\s(?:today|this\\s(?:birthday|year))\\b',\n",
        "        r'\\bJust\\s(?:turned|turning)\\s(\\d{1,2})\\b',\n",
        "        r'\\b[Ii](?:\\s|\\'|a?m|[A-Za-z])*\\s(\\d{1,2})\\syears?\\sold\\b',\n",
        "        r'\\bCelebrating\\s(?:my\\s)?(\\d{1,2})(?:st|nd|rd|th)\\sbirthday\\b',\n",
        "        r'\\b[Ii](?:\\s|\\'|a?m|[A-Za-z])*\\sfinally\\s(\\d{1,2})\\b',\n",
        "        r'\\b[Ii]\\'?m\\s(\\d{1,2})\\s(?:today|this\\s(?:birthday|year))\\b',\n",
        "        r'\\bTurning\\s(\\d{1,2})\\s(?:today|this\\s(?:birthday|year))\\b',\n",
        "        r'\\bToday\\sis\\s(?:my\\s)?(\\d{1,2})(?:st|nd|rd|th)\\sbirthday\\b',\n",
        "        r'\\b(\\d{1,2})\\syears?\\sold\\b',\n",
        "        r'\\b(\\d{1,2})\\syears?\\syoung\\s(?:today|this\\s(?:birthday|year))\\b',\n",
        "        r'\\bHBD\\s(?:to\\sme|me)\\s(\\d{1,2})\\b'\n",
        "    ]\n",
        "\n",
        "    for pattern in age_patterns:\n",
        "        match = re.search(pattern, text, re.IGNORECASE)\n",
        "        if match:\n",
        "            age = int(match.group(1))\n",
        "            return age\n",
        "\n",
        "    return None  # No age found"
      ],
      "metadata": {
        "id": "77nf_ATYYO2h"
      },
      "execution_count": null,
      "outputs": []
    },
    {
      "cell_type": "code",
      "source": [
        "# Exclude the already inferred users\n",
        "usersNoAgeDf = usersDf[usersDf[\"age\"].isna()]\n",
        "print(\"Users with no age:\", usersNoAgeDf.shape[0])\n",
        "\n",
        "# Join the users with no age with tweetsDf\n",
        "tweetsAgeDf = tweetsDf.merge(usersNoAgeDf[[\"author_id\"]], on = \"author_id\", how = \"inner\")\n",
        "print(\"Tweets with no age:\", tweetsAgeDf.shape[0])"
      ],
      "metadata": {
        "colab": {
          "base_uri": "https://localhost:8080/"
        },
        "id": "-3Xg2PWx8S4E",
        "outputId": "ddc1a41f-efc0-4a31-cd0e-a87391292ce2"
      },
      "execution_count": null,
      "outputs": [
        {
          "output_type": "stream",
          "name": "stdout",
          "text": [
            "Users with no age: 5263\n",
            "Tweets with no age: 7528916\n"
          ]
        }
      ]
    },
    {
      "cell_type": "markdown",
      "source": [
        "### Feature Engineering"
      ],
      "metadata": {
        "id": "SxcGLFzEhiJ5"
      }
    },
    {
      "cell_type": "markdown",
      "source": [
        "#### Tweets features"
      ],
      "metadata": {
        "id": "uFIRM1M8miK9"
      }
    },
    {
      "cell_type": "code",
      "source": [
        "# Function to extract some tweet features\n",
        "def extract_tweet_features(text):\n",
        "    hashtag_pattern = r\"#\\w+\"\n",
        "    url_pattern = r\"https?://\\S+\"\n",
        "    mention_pattern = r\"@\\w+\"\n",
        "\n",
        "    hashtag_count = len(re.findall(hashtag_pattern, text))\n",
        "    url_count = len(re.findall(url_pattern, text))\n",
        "    mention_count = len(re.findall(mention_pattern, text))\n",
        "\n",
        "    return {\n",
        "        \"hashtag_count\": hashtag_count,\n",
        "        \"url_count\": url_count,\n",
        "        \"mention_count\": mention_count\n",
        "    }\n",
        "\n",
        "# Update the dataframe\n",
        "tweetsDf[\"tweet_features\"] = tweetsDf[\"cleaned_text\"].apply(extract_tweet_features)\n",
        "# Split the tweet_features into 3 different coloumns\n",
        "tweetsDf[[\"auth_hashtag_count\", \"auth_url_count\", \"auth_mention_count\"]] = pd.DataFrame(tweetsDf[\"tweet_features\"].tolist(), index = tweetsDf.index)\n",
        "# Drop tweets_fatures column\n",
        "tweetsDf.drop(\"tweet_features\", axis = 1, inplace = True)\n",
        "\n",
        "# Find total number of tokens per tweet\n",
        "tweetsDf[\"total_tokens\"] = tweetsDf[\"cleaned_text\"].apply(lambda x: len(x.split()))\n",
        "\n",
        "# Fill na\n",
        "tweetsDf[\"auth_hashtag_count\"].fillna(0, inplace = True)\n",
        "tweetsDf[\"auth_url_count\"].fillna(0, inplace = True)\n",
        "tweetsDf[\"auth_mention_count\"].fillna(0, inplace = True)\n",
        "\n",
        "# Aggregate at user level\n",
        "engagementMetricsDf = tweetsDf.groupby(\"author_id\").agg({\n",
        "    \"auth_hashtag_count\": \"sum\",\n",
        "    \"auth_url_count\": \"sum\",\n",
        "    \"auth_mention_count\": \"sum\",\n",
        "    \"like_count\": \"sum\",\n",
        "    \"retweet_count\": \"sum\",\n",
        "    \"reply_count\": \"sum\",\n",
        "    \"quote_count\": \"sum\",\n",
        "    \"total_tokens\": \"mean\"\n",
        "}).reset_index().rename({\"like_count\": \"auth_like_count\", \"retweet_count\": \"auth_retweet_count\", \"reply_count\": \"auth_reply_count\", \"quote_count\": \"auth_quote_count\", \"total_tokens\": \"auth_avg_tokens\"}, axis = 1)\n",
        "\n",
        "# Combine with the userDf\n",
        "usersDf = usersDf.merge(engagementMetricsDf, on = \"author_id\", how = \"left\")"
      ],
      "metadata": {
        "id": "AgbGeCMehkFE"
      },
      "execution_count": null,
      "outputs": []
    },
    {
      "cell_type": "markdown",
      "source": [
        "#### Time features"
      ],
      "metadata": {
        "id": "JCWjFNAdHnHc"
      }
    },
    {
      "cell_type": "code",
      "source": [
        "# Popular Posting Time (Categorical):\n",
        "def categorize_time(hour):\n",
        "    if 5 <= hour < 12:\n",
        "        return \"Early Morning\"\n",
        "    elif 12 <= hour < 17:\n",
        "        return \"Afternoon\"\n",
        "    elif 17 <= hour < 22:\n",
        "        return \"Evening\"\n",
        "    elif 22 <= hour or hour < 5:  # Covers late night and after midnight\n",
        "        return \"Night\"\n",
        "\n",
        "# Aggregate by majority vote\n",
        "def aggregate_by_majority_vote(group):\n",
        "    modeResult = group.mode()\n",
        "    return modeResult.iloc[0] if not modeResult.empty else None\n",
        "\n",
        "tweetsDf['posting_time'] = tweetsDf['created_at'].dt.hour.apply(categorize_time)\n",
        "\n",
        "# Average Time Between Tweets (per User):\n",
        "tweetsDf['time_since_last_tweet'] = tweetsDf.sort_values(['author_id', 'created_at']).groupby('author_id')['created_at'].diff()\n",
        "\n",
        "meanTimeBetweenTweets = tweetsDf.groupby('author_id')['time_since_last_tweet'].mean().dt.total_seconds() / 3600\n",
        "meanTimeBetweenTweets = meanTimeBetweenTweets.reset_index(name = \"mean_time_between_tweets\")\n",
        "# Fill null values\n",
        "meanTimeBetweenTweets['mean_time_between_tweets'].fillna(0, inplace = True)\n",
        "# drop the unnecessary column\n",
        "tweetsDf.drop(columns = [\"time_since_last_tweet\"], inplace = True)\n",
        "\n",
        "# Posting Day of Week (Categorical) and Weekend vs. Weekday (Binary):\n",
        "tweetsDf['day_of_week'] = tweetsDf['created_at'].dt.day_name()\n",
        "\n",
        "# Tweet Frequency (per User):\n",
        "tweetFrequency = tweetsDf['author_id'].value_counts() / (tweetsDf['created_at'].max() - tweetsDf['created_at'].min()).days\n",
        "tweetFrequency = tweetFrequency.reset_index(name = \"tweet_frequency\")\n",
        "\n",
        "# Apply majority voting to each categorical feature\n",
        "postingTime = tweetsDf.groupby('author_id')['posting_time'].apply(aggregate_by_majority_vote).reset_index()\n",
        "dayOfWeek = tweetsDf.groupby('author_id')['day_of_week'].apply(aggregate_by_majority_vote).reset_index()\n",
        "\n",
        "# Combine aggregated features into a single DataFrame\n",
        "timeFeaturesPerUser = pd.DataFrame({\n",
        "    'author_id': postingTime['author_id'],\n",
        "    'fav_posting_time': postingTime['posting_time'],\n",
        "    'fav_day_of_week': dayOfWeek['day_of_week'],\n",
        "    \"mean_time_between_tweets\": meanTimeBetweenTweets['mean_time_between_tweets'],\n",
        "    \"tweet_frequency\": tweetFrequency['tweet_frequency']\n",
        "})\n",
        "\n",
        "# merge back into the original tweets DataFrame\n",
        "usersDf = usersDf.merge(timeFeaturesPerUser, on = 'author_id', how = 'left')\n",
        "\n",
        "# Fill the na\n",
        "mostFavPostingDay = usersDf.fav_day_of_week.value_counts().reset_index(name = \"count\").iloc[0][\"fav_day_of_week\"]\n",
        "mostFavPostingTime = usersDf.fav_posting_time.value_counts().reset_index(name = \"count\").iloc[0][\"fav_posting_time\"]\n",
        "usersDf = usersDf.fillna({\"fav_day_of_week\": mostFavPostingDay, \"fav_posting_time\": mostFavPostingTime})\n",
        "# Use the fav_day_of_week to infer the weekend day\n",
        "usersDf[\"is_weekend\"] = usersDf.fav_day_of_week.isin([\"Saturday\", \"Sunday\"])"
      ],
      "metadata": {
        "id": "d1EI_wunHbkE"
      },
      "execution_count": null,
      "outputs": []
    },
    {
      "cell_type": "markdown",
      "source": [
        "#### Most recent tweets"
      ],
      "metadata": {
        "id": "Q-BUgTZZmpI8"
      }
    },
    {
      "cell_type": "code",
      "source": [
        "# Get only the last n tweets of each user based on created_at and combine at user level\n",
        "n = 200\n",
        "recentTweetsDf = tweetsDf.groupby(\"author_id\").head(n).reset_index()\n",
        "\n",
        "# Aggregate on the last n tweets for each user\n",
        "authorsWithTextDf = recentTweetsDf.groupby(\"author_id\")[\"cleaned_text\"].apply(lambda x: \". \".join(x)).reset_index()\n",
        "\n",
        "# Add the lexical density for the tweets\n",
        "authorsWithTextDf[\"lexical_density\"] = authorsWithTextDf[\"cleaned_text\"].apply(lambda x: len(set(x.split())) / len(x.split()))\n",
        "\n",
        "# Duplicate the text column\n",
        "authorsWithTextDf[\"original_text\"] = authorsWithTextDf[\"cleaned_text\"]\n",
        "# Clean the aggregated tweets of each author\n",
        "authorsWithTextDf[\"cleaned_text\"] = authorsWithTextDf[\"cleaned_text\"].apply(clean_text)\n",
        "\n",
        "# Join with the usersDf on author_id\n",
        "authorsWithTextDf = authorsWithTextDf.merge(usersDf[[\"author_id\", \"verified\", \"description_len\", \"account_age\",\n",
        "                                                     \"followers_count\", \"following_count\", \"tweet_count\",\n",
        "                                                     \"fav_posting_time\", \"fav_day_of_week\", \"mean_time_between_tweets\", \"tweet_frequency\", \"is_weekend\",\n",
        "                                                     \"auth_hashtag_count\", \"auth_url_count\", \"auth_mention_count\", \"auth_like_count\", \"auth_retweet_count\", \"auth_reply_count\", \"auth_quote_count\", \"auth_avg_tokens\",\n",
        "                                                     \"age\", \"age_group\"]], on = \"author_id\", how = \"inner\")\n",
        "\n",
        "print(\"Authors with text shape:\", authorsWithTextDf.shape)"
      ],
      "metadata": {
        "colab": {
          "base_uri": "https://localhost:8080/"
        },
        "id": "kbIheLL9mqc6",
        "outputId": "6aeb2480-c404-4019-9a57-e1ec3790265a"
      },
      "execution_count": null,
      "outputs": [
        {
          "output_type": "stream",
          "name": "stdout",
          "text": [
            "Authors with text shape: (5612, 25)\n"
          ]
        }
      ]
    },
    {
      "cell_type": "markdown",
      "source": [
        "#### Linguistic fatures"
      ],
      "metadata": {
        "id": "BUomCnsvuQ-_"
      }
    },
    {
      "cell_type": "code",
      "source": [
        "# Function to get POS tag counts for a tweet\n",
        "def get_pos_tag_counts(text):\n",
        "    tokens = nltk.word_tokenize(text)\n",
        "    tagged_tokens = nltk.pos_tag(tokens)\n",
        "    tag_counts = {}\n",
        "    for word, tag in tagged_tokens:\n",
        "        tag_counts[tag] = tag_counts.get(tag, 0) + 1\n",
        "    return tag_counts\n",
        "\n",
        "# Apply the function to the 'cleaned_text' column\n",
        "authorsWithTextDf['pos_tag_counts'] = authorsWithTextDf['cleaned_text'].astype(str).apply(get_pos_tag_counts)\n",
        "\n",
        "# Define lists of relevant tags for each category\n",
        "nouns = ['NN', 'NNS', 'NNP', 'NNPS']\n",
        "verbs = ['VB', 'VBD', 'VBG', 'VBN', 'VBP', 'VBZ']\n",
        "adjectives = ['JJ', 'JJR', 'JJS']\n",
        "adverbs = ['RB', 'RBR', 'RBS']\n",
        "\n",
        "# Count tags in a specific category\n",
        "def count_tags(counts, tags):\n",
        "    return sum(counts.get(tag, 0) for tag in tags)\n",
        "\n",
        "# Create new columns for each part of speech\n",
        "authorsWithTextDf[\"noun_tags\"] = authorsWithTextDf[\"pos_tag_counts\"].apply(lambda x: count_tags(x, nouns))\n",
        "authorsWithTextDf[\"verb_tags\"] = authorsWithTextDf[\"pos_tag_counts\"].apply(lambda x: count_tags(x, verbs))\n",
        "authorsWithTextDf[\"adjective_tags\"] = authorsWithTextDf[\"pos_tag_counts\"].apply(lambda x: count_tags(x, adjectives))\n",
        "authorsWithTextDf[\"adverb_tags\"] = authorsWithTextDf[\"pos_tag_counts\"].apply(lambda x: count_tags(x, adverbs))\n",
        "# Create a column for other tags\n",
        "all_tags = nouns + verbs + adjectives + adverbs\n",
        "authorsWithTextDf['other_tags'] = authorsWithTextDf['pos_tag_counts'].apply(lambda x: sum(count for tag, count in x.items() if tag not in all_tags))"
      ],
      "metadata": {
        "id": "M94yLrL1uNq1"
      },
      "execution_count": null,
      "outputs": []
    },
    {
      "cell_type": "markdown",
      "source": [
        "#### Emoji's"
      ],
      "metadata": {
        "id": "cGZ0mhzvuZFv"
      }
    },
    {
      "cell_type": "code",
      "source": [
        "# Extract emojis from a tweet\n",
        "def extract_emojis(text):\n",
        "    return [c for c in text if c in emoji.EMOJI_DATA]\n",
        "\n",
        "# Count emojis in a tweet\n",
        "def count_emojis(text):\n",
        "    return len(extract_emojis(text))\n",
        "\n",
        "# Get sentiment of emojis in a tweet (using demojize and VADER)\n",
        "sia = SentimentIntensityAnalyzer()\n",
        "def emoji_sentiment(text):\n",
        "    emoji_descriptions = \" \".join([emoji.demojize(c) for c in extract_emojis(text)])\n",
        "    return sia.polarity_scores(\" \".join(emoji_descriptions.replace(\":\", \"\").split(\"_\")))[\"compound\"]\n",
        "\n",
        "# Apply the functions to the 'cleaned_text' column\n",
        "authorsWithTextDf[\"emojis\"] = authorsWithTextDf[\"original_text\"].apply(extract_emojis)\n",
        "authorsWithTextDf[\"emoji_count\"] = authorsWithTextDf[\"original_text\"].apply(count_emojis)\n",
        "authorsWithTextDf[\"emoji_sentiment\"] = authorsWithTextDf[\"original_text\"].apply(emoji_sentiment)\n",
        "\n",
        "# Drop unnecessary columns\n",
        "authorsWithTextDf.drop([\"original_text\", \"pos_tag_counts\", \"emojis\"], axis = 1, inplace = True)"
      ],
      "metadata": {
        "id": "bx-WzUbnubKa"
      },
      "execution_count": null,
      "outputs": []
    },
    {
      "cell_type": "code",
      "source": [
        "# Subject dataframe (will be used throught the section)\n",
        "X = authorsWithTextDf[authorsWithTextDf.age_group.notna()].reset_index(drop = True)\n",
        "X.drop(columns=[\"author_id\", \"age\", \"age_group\"], inplace=True)"
      ],
      "metadata": {
        "id": "bm6Mj5L9pMTq"
      },
      "execution_count": null,
      "outputs": []
    },
    {
      "cell_type": "markdown",
      "source": [
        "#### TF-IDF\n",
        "Going forward, the idea is to create a unified dataframe with all features in one place (TF-IDF, Embedding, PCA, original features). Then keep/remove features as appropriate."
      ],
      "metadata": {
        "id": "RzfWFIOMMCgb"
      }
    },
    {
      "cell_type": "code",
      "source": [
        "# Convert text to numerical features using TF-IDF\n",
        "vectorizer = TfidfVectorizer(max_features = 10000, ngram_range = (1, 2), min_df = 0.05, max_df = 0.95, stop_words = \"english\")\n",
        "X_tfidf = vectorizer.fit_transform(X[\"cleaned_text\"])\n",
        "\n",
        "# Create a DataFrame from the TF-IDF matrix\n",
        "tfidfDf = pd.DataFrame(X_tfidf.toarray(), columns = vectorizer.get_feature_names_out())\n",
        "tfidfFeatures = tfidfDf.columns.tolist()\n",
        "# Check\n",
        "print(\"TF-IDF shape:\", tfidfDf.shape)"
      ],
      "metadata": {
        "id": "dVu1YdzvMGME",
        "colab": {
          "base_uri": "https://localhost:8080/"
        },
        "outputId": "a1d21030-ac63-41de-c73e-02b8545853ef"
      },
      "execution_count": null,
      "outputs": [
        {
          "output_type": "stream",
          "name": "stdout",
          "text": [
            "TF-IDF shape: (342, 2882)\n"
          ]
        }
      ]
    },
    {
      "cell_type": "markdown",
      "source": [
        "#### Embedding"
      ],
      "metadata": {
        "id": "oNFJm3yQOCfu"
      }
    },
    {
      "cell_type": "code",
      "source": [
        "# Load pre-trained GloVe embeddings for Twitter (adjust path if needed)\n",
        "gloveFilePath = os.path.join(embeddingDir, \"glove.twitter.27B.25d.txt\")\n",
        "tempFile = \"temp_word2vec.txt\"\n",
        "\n",
        "# Convert GloVe to Word2Vec format (required for loading with Gensim)\n",
        "glove2word2vec(gloveFilePath, tempFile)\n",
        "\n",
        "# Load the converted embeddings\n",
        "gloveModel = KeyedVectors.load_word2vec_format(tempFile, binary=False)\n",
        "\n",
        "# Function to get GloVe representation of a tweet\n",
        "def get_tweet_embedding(text):\n",
        "    words = text.split()\n",
        "    validWords = [word for word in words if word in gloveModel]\n",
        "    if validWords:\n",
        "        return np.mean(gloveModel[validWords], axis=0)\n",
        "    else:\n",
        "        return np.zeros(gloveModel.vector_size)\n",
        "\n",
        "# Create GloVe embeddings for tweets\n",
        "embeddings = X[\"cleaned_text\"].apply(get_tweet_embedding)\n",
        "# Convert to dataframe\n",
        "embeddingDf = pd.DataFrame(embeddings.tolist(), columns = [f\"embedding_{i}\" for i in range(gloveModel.vector_size)])\n",
        "# Get the feature names\n",
        "embeddingFeatures = embeddingDf.columns.tolist()\n",
        "# Check\n",
        "print(\"Embeddings shape:\", embeddingDf.shape)"
      ],
      "metadata": {
        "colab": {
          "base_uri": "https://localhost:8080/"
        },
        "id": "mPKy9dvlOF3x",
        "outputId": "be4b7bcd-ccf9-46de-a2c0-90bd42c07a30"
      },
      "execution_count": null,
      "outputs": [
        {
          "output_type": "stream",
          "name": "stderr",
          "text": [
            "<ipython-input-21-e2a5713482d7>:6: DeprecationWarning: Call to deprecated `glove2word2vec` (KeyedVectors.load_word2vec_format(.., binary=False, no_header=True) loads GLoVE text vectors.).\n",
            "  glove2word2vec(gloveFilePath, tempFile)\n"
          ]
        },
        {
          "output_type": "stream",
          "name": "stdout",
          "text": [
            "Embeddings shape: (342, 25)\n"
          ]
        }
      ]
    },
    {
      "cell_type": "markdown",
      "source": [
        "#### PCA"
      ],
      "metadata": {
        "id": "cjbb_VebOl9X"
      }
    },
    {
      "cell_type": "code",
      "source": [
        "# Features\n",
        "categoricalCols = ['fav_posting_time', 'fav_day_of_week']\n",
        "numericalCols = ['verified', 'lexical_density', 'description_len', 'account_age',\n",
        "                'followers_count', 'following_count', 'tweet_count',\n",
        "                'mean_time_between_tweets', 'tweet_frequency', 'is_weekend',\n",
        "                'auth_hashtag_count', 'auth_url_count', 'auth_mention_count', 'auth_like_count', 'auth_retweet_count', 'auth_reply_count', 'auth_quote_count', 'auth_avg_tokens',\n",
        "                'noun_tags', 'verb_tags', 'adjective_tags', 'adverb_tags', 'other_tags',\n",
        "                'emoji_count', 'emoji_sentiment']\n",
        "\n",
        "# Create a ColumnTransformer to preprocess the data\n",
        "preprocessor = ColumnTransformer(\n",
        "    transformers=[\n",
        "        ('num', StandardScaler(), numericalCols),   # Standardize numerical features\n",
        "        ('cat', OneHotEncoder(handle_unknown = 'ignore'), categoricalCols), # One-hot encode categorical features\n",
        "    ])\n",
        "\n",
        "# Create a PCA pipeline:\n",
        "pca = PCA()\n",
        "\n",
        "# Combine preprocessing and PCA into a single pipeline:\n",
        "pcaPipeline = Pipeline(steps=[('preprocessor', preprocessor),\n",
        "                           ('pca', pca)])\n",
        "\n",
        "# Fit the pipeline to the data:\n",
        "pcaPipeline.fit(X)\n",
        "\n",
        "# Get explained variance ratios\n",
        "explainedVarRatio = pca.explained_variance_ratio_\n",
        "\n",
        "# Determine the number of components to keep\n",
        "cumulativeVarRatio = np.cumsum(explainedVarRatio)\n",
        "nComponents = np.argmax(cumulativeVarRatio >= 0.95) + 1  # Keep components explaining 95% variance\n",
        "\n",
        "# Transform the data using the selected number of components\n",
        "X_pca = pcaPipeline.transform(X)[:, :nComponents]\n",
        "\n",
        "# Create a DataFrame for the transformed data\n",
        "pcaCols = [f'PC{i+1}' for i in range(nComponents)]\n",
        "pcaDf = pd.DataFrame(X_pca, columns = pcaCols, index = X.index)\n",
        "\n",
        "# get the selected features\n",
        "pcaFeatures = pcaDf.columns.tolist()\n",
        "# Check\n",
        "print(\"PCA shape:\", pcaDf.shape)"
      ],
      "metadata": {
        "colab": {
          "base_uri": "https://localhost:8080/"
        },
        "id": "amiBB0NGOnxH",
        "outputId": "7666f943-7991-4f6f-b4b3-27255aa28e6e"
      },
      "execution_count": null,
      "outputs": [
        {
          "output_type": "stream",
          "name": "stdout",
          "text": [
            "PCA shape: (342, 20)\n"
          ]
        }
      ]
    },
    {
      "cell_type": "markdown",
      "source": [
        "#### Decomposed TF-IDF"
      ],
      "metadata": {
        "id": "jS1MkF4zlwqQ"
      }
    },
    {
      "cell_type": "code",
      "source": [
        "# Create TF-IDF vectorizer\n",
        "vectorizer = TfidfVectorizer(max_features = 10000, ngram_range = (1, 2), min_df = 0.05, max_df = 0.95, stop_words = \"english\")\n",
        "tfidfResult = vectorizer.fit_transform(X[\"cleaned_text\"])\n",
        "\n",
        "# Apply SVD (TruncatedSVD for sparse matrices)\n",
        "svd = TruncatedSVD(n_components = 100)\n",
        "svdResult = svd.fit_transform(tfidfResult)\n",
        "\n",
        "# Create DataFrame with SVD results and original feature names\n",
        "svdTfidfDf = pd.DataFrame(svdResult, columns=[f\"svd_tfidf_{i}\" for i in range(svdResult.shape[1])])\n",
        "\n",
        "# Get the feature names\n",
        "svdTfidfFeatures = svdTfidfDf.columns.tolist()\n",
        "# Check\n",
        "print(\"TF-IDF shape:\", svdTfidfDf.shape)"
      ],
      "metadata": {
        "colab": {
          "base_uri": "https://localhost:8080/"
        },
        "id": "3b3536A7luuD",
        "outputId": "e1d3ff4d-afd8-42b0-ecd7-f0ab859b4f12"
      },
      "execution_count": null,
      "outputs": [
        {
          "output_type": "stream",
          "name": "stdout",
          "text": [
            "TF-IDF shape: (342, 100)\n"
          ]
        }
      ]
    },
    {
      "cell_type": "markdown",
      "source": [
        "#### Metadata"
      ],
      "metadata": {
        "id": "DdjjIszlRwVd"
      }
    },
    {
      "cell_type": "code",
      "source": [
        "# Create a ColumnTransformer to preprocess the data\n",
        "categoricalCols = ['fav_posting_time', 'fav_day_of_week']\n",
        "numericalCols = ['verified', 'lexical_density', 'description_len', 'account_age',\n",
        "                'followers_count', 'following_count', 'tweet_count',\n",
        "                'mean_time_between_tweets', 'tweet_frequency', 'is_weekend',\n",
        "                'auth_hashtag_count', 'auth_url_count', 'auth_mention_count', 'auth_like_count', 'auth_retweet_count', 'auth_reply_count', 'auth_quote_count', 'auth_avg_tokens',\n",
        "                'noun_tags', 'verb_tags', 'adjective_tags', 'adverb_tags', 'other_tags',\n",
        "                'emoji_count', 'emoji_sentiment']\n",
        "\n",
        "preprocessor = ColumnTransformer(\n",
        "    transformers=[\n",
        "        ('num', StandardScaler(), numericalCols),   # Standardize numerical features\n",
        "        ('cat', OneHotEncoder(handle_unknown = 'ignore'), categoricalCols), # One-hot encode categorical features\n",
        "    ])\n",
        "\n",
        "processed = preprocessor.fit_transform(X)\n",
        "metadataDf = pd.DataFrame(processed, columns = preprocessor.get_feature_names_out())\n",
        "metadataFeatures = metadataDf.columns.tolist()\n",
        "# Check\n",
        "print(\"Metadata shape:\", metadataDf.shape)"
      ],
      "metadata": {
        "colab": {
          "base_uri": "https://localhost:8080/"
        },
        "id": "AInk6MEHRytX",
        "outputId": "1344161d-1f1d-49a5-bcf8-b4146c229a03"
      },
      "execution_count": null,
      "outputs": [
        {
          "output_type": "stream",
          "name": "stdout",
          "text": [
            "Metadata shape: (342, 36)\n"
          ]
        }
      ]
    },
    {
      "cell_type": "markdown",
      "source": [
        "#### Combined Features"
      ],
      "metadata": {
        "id": "MFL5QtR0Txz4"
      }
    },
    {
      "cell_type": "code",
      "source": [
        "# Get y and label encode it\n",
        "y = authorsWithTextDf[authorsWithTextDf.age_group.notna()][\"age_group\"]\n",
        "le = LabelEncoder()\n",
        "y = pd.Series(le.fit_transform(y), name=\"label\")\n",
        "classes = le.classes_\n",
        "\n",
        "# Calculate scale_pos_weight\n",
        "imbalanceRatio = y.value_counts()[0] / y.value_counts()[1]\n",
        "print(\"Imbalance Ratio:\", imbalanceRatio)\n",
        "\n",
        "# Concatenate all features\n",
        "finalMLDf = pd.concat([metadataDf, tfidfDf, embeddingDf, pcaDf, svdTfidfDf, y], axis = 1)\n",
        "print(\"Final ML shape:\", finalMLDf.shape)"
      ],
      "metadata": {
        "colab": {
          "base_uri": "https://localhost:8080/"
        },
        "id": "5n2AzIgsT0s5",
        "outputId": "a52f68a0-90fd-4224-9bf4-4ed13e413098"
      },
      "execution_count": null,
      "outputs": [
        {
          "output_type": "stream",
          "name": "stdout",
          "text": [
            "Imbalance Ratio: 3.023529411764706\n",
            "Final ML shape: (342, 3064)\n"
          ]
        }
      ]
    },
    {
      "cell_type": "markdown",
      "source": [
        "### Machine Learning"
      ],
      "metadata": {
        "id": "n8hjQ-3mJso2"
      }
    },
    {
      "cell_type": "markdown",
      "source": [
        "#### Balancing\n",
        "Run **one** of those only"
      ],
      "metadata": {
        "id": "P_QqTHs51_qG"
      }
    },
    {
      "cell_type": "markdown",
      "source": [
        "##### SMOTE"
      ],
      "metadata": {
        "id": "17E8qn7jjAp4"
      }
    },
    {
      "cell_type": "code",
      "source": [
        "# Split the data into features and target\n",
        "X = finalMLDf.drop(columns = [\"label\"])\n",
        "y = finalMLDf[\"label\"]\n",
        "\n",
        "# Split into training and testing sets\n",
        "X_train, X_test, y_train, y_test = train_test_split(X, y, test_size = 0.2, random_state = 42)\n",
        "\n",
        "# Apply SMOTE to the training set (keep the test set as is)\n",
        "smote = SMOTE(random_state = 42)\n",
        "X_train, y_train = smote.fit_resample(X_train, y_train)\n",
        "\n",
        "# Unify the dataframes\n",
        "trainDf = pd.concat([X_train, y_train], axis = 1)\n",
        "testDf = pd.concat([X_test, y_test], axis = 1)\n",
        "\n",
        "# Check\n",
        "print(\"Shape of the Resampled train df:\", trainDf.shape)\n",
        "print(\"Shape of the original test df:\", testDf.shape)"
      ],
      "metadata": {
        "colab": {
          "base_uri": "https://localhost:8080/"
        },
        "id": "vmnTC7cL2Brk",
        "outputId": "d943d87c-9437-4c36-e92f-649035c446b2"
      },
      "execution_count": null,
      "outputs": [
        {
          "output_type": "stream",
          "name": "stdout",
          "text": [
            "Shape of the Resampled train df: (462, 3109)\n",
            "Shape of the original test df: (81, 3109)\n"
          ]
        }
      ]
    },
    {
      "cell_type": "markdown",
      "source": [
        "##### None"
      ],
      "metadata": {
        "id": "XV_A7gySjIWC"
      }
    },
    {
      "cell_type": "code",
      "source": [
        "# Split the data into features and target\n",
        "X = finalMLDf.drop(columns = [\"label\"])\n",
        "y = finalMLDf[\"label\"]\n",
        "\n",
        "# Split into training and testing sets\n",
        "X_train, X_test, y_train, y_test = train_test_split(X, y, test_size = 0.3, random_state = 42)\n",
        "\n",
        "# Reset the index for the next step\n",
        "X_train = X_train.reset_index(drop = True)\n",
        "y_train = y_train.reset_index(drop = True)\n",
        "X_test = X_test.reset_index(drop = True)\n",
        "y_test = y_test.reset_index(drop = True)\n",
        "\n",
        "# Unify the dataframes\n",
        "trainDf = pd.concat([X_train, y_train], axis = 1)\n",
        "testDf = pd.concat([X_test, y_test], axis = 1)\n",
        "\n",
        "# Check\n",
        "print(\"Shape of the train df:\", trainDf.shape)\n",
        "print(\"Shape of the test df:\", testDf.shape)\n",
        "print(\"Labels on train:\", trainDf.label.value_counts())\n",
        "print(\"Labels on test:\", testDf.label.value_counts())"
      ],
      "metadata": {
        "colab": {
          "base_uri": "https://localhost:8080/"
        },
        "id": "uCUE5ZjXjK5J",
        "outputId": "0546ba14-574e-460f-edf5-009626d028f8"
      },
      "execution_count": null,
      "outputs": [
        {
          "output_type": "stream",
          "name": "stdout",
          "text": [
            "Shape of the train df: (239, 3064)\n",
            "Shape of the test df: (103, 3064)\n",
            "Labels on train: label\n",
            "0    176\n",
            "1     63\n",
            "Name: count, dtype: int64\n",
            "Labels on test: label\n",
            "0    81\n",
            "1    22\n",
            "Name: count, dtype: int64\n"
          ]
        }
      ]
    },
    {
      "cell_type": "markdown",
      "source": [
        "#### Modeling"
      ],
      "metadata": {
        "id": "IcR0-ZROXQKP"
      }
    },
    {
      "cell_type": "markdown",
      "source": [
        "##### Metadata"
      ],
      "metadata": {
        "id": "0OxEFcA3J8HU"
      }
    },
    {
      "cell_type": "code",
      "source": [
        "# Create StratifiedKFold object for balanced folds\n",
        "k = 5\n",
        "skf = StratifiedKFold(n_splits = k, shuffle = True, random_state = 42)\n",
        "\n",
        "# Lists to store results for each fold\n",
        "accuracies = []\n",
        "reports = []\n",
        "\n",
        "# XGBoost model\n",
        "xgb_model_meta = xgb.XGBClassifier(objective='binary:logistic', max_depth = 7, eta = 0.1, random_state=42)\n",
        "\n",
        "# Iterate through folds\n",
        "for train_index, val_index in skf.split(X_train, y_train):\n",
        "  # Get the fold's training and validation data\n",
        "  X_train_fold, X_val_fold = X_train.loc[train_index], X_train.loc[val_index]\n",
        "  y_train_fold, y_val_fold = y_train.loc[train_index], y_train.loc[val_index]\n",
        "\n",
        "  # Train on folds\n",
        "  xgb_model_meta.fit(X_train_fold[metadataFeatures], y_train_fold)\n",
        "\n",
        "  # Make predictions on the validation set\n",
        "  y_pred_fold = xgb_model_meta.predict(X_val_fold[metadataFeatures])\n",
        "\n",
        "  # Evaluate the fold's performance\n",
        "  accuracies.append(accuracy_score(y_val_fold, y_pred_fold))\n",
        "  reports.append(classification_report(y_val_fold, y_pred_fold, target_names=classes, output_dict=True))\n",
        "\n",
        "print(f\"Folds mean accuracy: {np.mean(accuracies):.4f}\")\n",
        "print(f\"Std. Dev: {np.std(accuracies):.4f}\")\n",
        "print(f\"All accuracy values: \", np.round(accuracies, 3))\n",
        "# Use the classification reports to find the average precision, recall, and f1-score per class\n",
        "dfs = []\n",
        "for report in reports:\n",
        "  df = pd.DataFrame(report).drop(columns = [\"accuracy\",\t\"macro avg\",\t\"weighted avg\"]).drop(index = [\"support\"]).reset_index().rename({\"index\": \"metric\"}, axis = 1)\n",
        "  dfs.append(df)\n",
        "# Combine\n",
        "reportsDf = pd.concat(dfs)\n",
        "\n",
        "# CV ROC-AUC\n",
        "cv = StratifiedKFold(n_splits=k, shuffle=True, random_state=42)\n",
        "cvScores = cross_val_score(xgb_model_meta, X_train[metadataFeatures], y_train, cv=cv, scoring='roc_auc')\n",
        "print(f\"Average ROC-AUC: {np.mean(cvScores):.4f}\")\n",
        "\n",
        "# Group by metric and take the mean\n",
        "reportsDfMeta = reportsDf.groupby(\"metric\").mean().reset_index()\n",
        "print(\"Folds avg. metrics:\")\n",
        "print(reportsDfMeta)\n",
        "\n",
        "print(\"~~~~~~~~~~~~~~~~~~~~~~~~~~~~~~~~~~~~~~~~~~~~\")\n",
        "# Train on the full training set\n",
        "xgb_model_meta.fit(X_train[metadataFeatures], y_train)\n",
        "# Evaluate model performance on the test dataset\n",
        "y_pred = xgb_model_meta.predict(X_test[metadataFeatures])\n",
        "print(f\"Accuracy: {np.mean(accuracy_score(y_test, y_pred)):.4f}\")\n",
        "print(\"Classification Report:\\n\", classification_report(y_test, y_pred, target_names=classes))\n",
        "print(\"Confusion Matrix:\\n\", confusion_matrix(y_test, y_pred))"
      ],
      "metadata": {
        "colab": {
          "base_uri": "https://localhost:8080/"
        },
        "id": "wFtiHlP5XYbI",
        "outputId": "aee2fba8-ede2-4a39-d304-aac8621eb630"
      },
      "execution_count": null,
      "outputs": [
        {
          "output_type": "stream",
          "name": "stdout",
          "text": [
            "Folds mean accuracy: 0.7988\n",
            "Std. Dev: 0.0520\n",
            "All accuracy values:  [0.792 0.833 0.875 0.771 0.723]\n",
            "Average ROC-AUC: 0.7900\n",
            "Folds avg. metrics:\n",
            "      metric     Gen-Z  Millenial\n",
            "0   f1-score  0.870093   0.553266\n",
            "1  precision  0.829642   0.667222\n",
            "2     recall  0.914762   0.473077\n",
            "~~~~~~~~~~~~~~~~~~~~~~~~~~~~~~~~~~~~~~~~~~~~\n",
            "Accuracy: 0.7476\n",
            "Classification Report:\n",
            "               precision    recall  f1-score   support\n",
            "\n",
            "       Gen-Z       0.83      0.85      0.84        81\n",
            "   Millenial       0.40      0.36      0.38        22\n",
            "\n",
            "    accuracy                           0.75       103\n",
            "   macro avg       0.62      0.61      0.61       103\n",
            "weighted avg       0.74      0.75      0.74       103\n",
            "\n",
            "Confusion Matrix:\n",
            " [[69 12]\n",
            " [14  8]]\n"
          ]
        }
      ]
    },
    {
      "cell_type": "code",
      "source": [
        "reportsDfMeta.round(3)"
      ],
      "metadata": {
        "colab": {
          "base_uri": "https://localhost:8080/",
          "height": 143
        },
        "id": "c0Y7e8hQFs8q",
        "outputId": "0f55d475-fa5f-47db-9fb2-c6905b40e439"
      },
      "execution_count": null,
      "outputs": [
        {
          "output_type": "execute_result",
          "data": {
            "text/plain": [
              "      metric  Gen-Z  Millenial\n",
              "0   f1-score  0.870      0.553\n",
              "1  precision  0.830      0.667\n",
              "2     recall  0.915      0.473"
            ],
            "text/html": [
              "\n",
              "  <div id=\"df-c41a7711-b1ef-48c6-9e14-9f44f8c40532\" class=\"colab-df-container\">\n",
              "    <div>\n",
              "<style scoped>\n",
              "    .dataframe tbody tr th:only-of-type {\n",
              "        vertical-align: middle;\n",
              "    }\n",
              "\n",
              "    .dataframe tbody tr th {\n",
              "        vertical-align: top;\n",
              "    }\n",
              "\n",
              "    .dataframe thead th {\n",
              "        text-align: right;\n",
              "    }\n",
              "</style>\n",
              "<table border=\"1\" class=\"dataframe\">\n",
              "  <thead>\n",
              "    <tr style=\"text-align: right;\">\n",
              "      <th></th>\n",
              "      <th>metric</th>\n",
              "      <th>Gen-Z</th>\n",
              "      <th>Millenial</th>\n",
              "    </tr>\n",
              "  </thead>\n",
              "  <tbody>\n",
              "    <tr>\n",
              "      <th>0</th>\n",
              "      <td>f1-score</td>\n",
              "      <td>0.870</td>\n",
              "      <td>0.553</td>\n",
              "    </tr>\n",
              "    <tr>\n",
              "      <th>1</th>\n",
              "      <td>precision</td>\n",
              "      <td>0.830</td>\n",
              "      <td>0.667</td>\n",
              "    </tr>\n",
              "    <tr>\n",
              "      <th>2</th>\n",
              "      <td>recall</td>\n",
              "      <td>0.915</td>\n",
              "      <td>0.473</td>\n",
              "    </tr>\n",
              "  </tbody>\n",
              "</table>\n",
              "</div>\n",
              "    <div class=\"colab-df-buttons\">\n",
              "\n",
              "  <div class=\"colab-df-container\">\n",
              "    <button class=\"colab-df-convert\" onclick=\"convertToInteractive('df-c41a7711-b1ef-48c6-9e14-9f44f8c40532')\"\n",
              "            title=\"Convert this dataframe to an interactive table.\"\n",
              "            style=\"display:none;\">\n",
              "\n",
              "  <svg xmlns=\"http://www.w3.org/2000/svg\" height=\"24px\" viewBox=\"0 -960 960 960\">\n",
              "    <path d=\"M120-120v-720h720v720H120Zm60-500h600v-160H180v160Zm220 220h160v-160H400v160Zm0 220h160v-160H400v160ZM180-400h160v-160H180v160Zm440 0h160v-160H620v160ZM180-180h160v-160H180v160Zm440 0h160v-160H620v160Z\"/>\n",
              "  </svg>\n",
              "    </button>\n",
              "\n",
              "  <style>\n",
              "    .colab-df-container {\n",
              "      display:flex;\n",
              "      gap: 12px;\n",
              "    }\n",
              "\n",
              "    .colab-df-convert {\n",
              "      background-color: #E8F0FE;\n",
              "      border: none;\n",
              "      border-radius: 50%;\n",
              "      cursor: pointer;\n",
              "      display: none;\n",
              "      fill: #1967D2;\n",
              "      height: 32px;\n",
              "      padding: 0 0 0 0;\n",
              "      width: 32px;\n",
              "    }\n",
              "\n",
              "    .colab-df-convert:hover {\n",
              "      background-color: #E2EBFA;\n",
              "      box-shadow: 0px 1px 2px rgba(60, 64, 67, 0.3), 0px 1px 3px 1px rgba(60, 64, 67, 0.15);\n",
              "      fill: #174EA6;\n",
              "    }\n",
              "\n",
              "    .colab-df-buttons div {\n",
              "      margin-bottom: 4px;\n",
              "    }\n",
              "\n",
              "    [theme=dark] .colab-df-convert {\n",
              "      background-color: #3B4455;\n",
              "      fill: #D2E3FC;\n",
              "    }\n",
              "\n",
              "    [theme=dark] .colab-df-convert:hover {\n",
              "      background-color: #434B5C;\n",
              "      box-shadow: 0px 1px 3px 1px rgba(0, 0, 0, 0.15);\n",
              "      filter: drop-shadow(0px 1px 2px rgba(0, 0, 0, 0.3));\n",
              "      fill: #FFFFFF;\n",
              "    }\n",
              "  </style>\n",
              "\n",
              "    <script>\n",
              "      const buttonEl =\n",
              "        document.querySelector('#df-c41a7711-b1ef-48c6-9e14-9f44f8c40532 button.colab-df-convert');\n",
              "      buttonEl.style.display =\n",
              "        google.colab.kernel.accessAllowed ? 'block' : 'none';\n",
              "\n",
              "      async function convertToInteractive(key) {\n",
              "        const element = document.querySelector('#df-c41a7711-b1ef-48c6-9e14-9f44f8c40532');\n",
              "        const dataTable =\n",
              "          await google.colab.kernel.invokeFunction('convertToInteractive',\n",
              "                                                    [key], {});\n",
              "        if (!dataTable) return;\n",
              "\n",
              "        const docLinkHtml = 'Like what you see? Visit the ' +\n",
              "          '<a target=\"_blank\" href=https://colab.research.google.com/notebooks/data_table.ipynb>data table notebook</a>'\n",
              "          + ' to learn more about interactive tables.';\n",
              "        element.innerHTML = '';\n",
              "        dataTable['output_type'] = 'display_data';\n",
              "        await google.colab.output.renderOutput(dataTable, element);\n",
              "        const docLink = document.createElement('div');\n",
              "        docLink.innerHTML = docLinkHtml;\n",
              "        element.appendChild(docLink);\n",
              "      }\n",
              "    </script>\n",
              "  </div>\n",
              "\n",
              "\n",
              "<div id=\"df-62582acf-d765-4285-b407-173dbf961f7e\">\n",
              "  <button class=\"colab-df-quickchart\" onclick=\"quickchart('df-62582acf-d765-4285-b407-173dbf961f7e')\"\n",
              "            title=\"Suggest charts\"\n",
              "            style=\"display:none;\">\n",
              "\n",
              "<svg xmlns=\"http://www.w3.org/2000/svg\" height=\"24px\"viewBox=\"0 0 24 24\"\n",
              "     width=\"24px\">\n",
              "    <g>\n",
              "        <path d=\"M19 3H5c-1.1 0-2 .9-2 2v14c0 1.1.9 2 2 2h14c1.1 0 2-.9 2-2V5c0-1.1-.9-2-2-2zM9 17H7v-7h2v7zm4 0h-2V7h2v10zm4 0h-2v-4h2v4z\"/>\n",
              "    </g>\n",
              "</svg>\n",
              "  </button>\n",
              "\n",
              "<style>\n",
              "  .colab-df-quickchart {\n",
              "      --bg-color: #E8F0FE;\n",
              "      --fill-color: #1967D2;\n",
              "      --hover-bg-color: #E2EBFA;\n",
              "      --hover-fill-color: #174EA6;\n",
              "      --disabled-fill-color: #AAA;\n",
              "      --disabled-bg-color: #DDD;\n",
              "  }\n",
              "\n",
              "  [theme=dark] .colab-df-quickchart {\n",
              "      --bg-color: #3B4455;\n",
              "      --fill-color: #D2E3FC;\n",
              "      --hover-bg-color: #434B5C;\n",
              "      --hover-fill-color: #FFFFFF;\n",
              "      --disabled-bg-color: #3B4455;\n",
              "      --disabled-fill-color: #666;\n",
              "  }\n",
              "\n",
              "  .colab-df-quickchart {\n",
              "    background-color: var(--bg-color);\n",
              "    border: none;\n",
              "    border-radius: 50%;\n",
              "    cursor: pointer;\n",
              "    display: none;\n",
              "    fill: var(--fill-color);\n",
              "    height: 32px;\n",
              "    padding: 0;\n",
              "    width: 32px;\n",
              "  }\n",
              "\n",
              "  .colab-df-quickchart:hover {\n",
              "    background-color: var(--hover-bg-color);\n",
              "    box-shadow: 0 1px 2px rgba(60, 64, 67, 0.3), 0 1px 3px 1px rgba(60, 64, 67, 0.15);\n",
              "    fill: var(--button-hover-fill-color);\n",
              "  }\n",
              "\n",
              "  .colab-df-quickchart-complete:disabled,\n",
              "  .colab-df-quickchart-complete:disabled:hover {\n",
              "    background-color: var(--disabled-bg-color);\n",
              "    fill: var(--disabled-fill-color);\n",
              "    box-shadow: none;\n",
              "  }\n",
              "\n",
              "  .colab-df-spinner {\n",
              "    border: 2px solid var(--fill-color);\n",
              "    border-color: transparent;\n",
              "    border-bottom-color: var(--fill-color);\n",
              "    animation:\n",
              "      spin 1s steps(1) infinite;\n",
              "  }\n",
              "\n",
              "  @keyframes spin {\n",
              "    0% {\n",
              "      border-color: transparent;\n",
              "      border-bottom-color: var(--fill-color);\n",
              "      border-left-color: var(--fill-color);\n",
              "    }\n",
              "    20% {\n",
              "      border-color: transparent;\n",
              "      border-left-color: var(--fill-color);\n",
              "      border-top-color: var(--fill-color);\n",
              "    }\n",
              "    30% {\n",
              "      border-color: transparent;\n",
              "      border-left-color: var(--fill-color);\n",
              "      border-top-color: var(--fill-color);\n",
              "      border-right-color: var(--fill-color);\n",
              "    }\n",
              "    40% {\n",
              "      border-color: transparent;\n",
              "      border-right-color: var(--fill-color);\n",
              "      border-top-color: var(--fill-color);\n",
              "    }\n",
              "    60% {\n",
              "      border-color: transparent;\n",
              "      border-right-color: var(--fill-color);\n",
              "    }\n",
              "    80% {\n",
              "      border-color: transparent;\n",
              "      border-right-color: var(--fill-color);\n",
              "      border-bottom-color: var(--fill-color);\n",
              "    }\n",
              "    90% {\n",
              "      border-color: transparent;\n",
              "      border-bottom-color: var(--fill-color);\n",
              "    }\n",
              "  }\n",
              "</style>\n",
              "\n",
              "  <script>\n",
              "    async function quickchart(key) {\n",
              "      const quickchartButtonEl =\n",
              "        document.querySelector('#' + key + ' button');\n",
              "      quickchartButtonEl.disabled = true;  // To prevent multiple clicks.\n",
              "      quickchartButtonEl.classList.add('colab-df-spinner');\n",
              "      try {\n",
              "        const charts = await google.colab.kernel.invokeFunction(\n",
              "            'suggestCharts', [key], {});\n",
              "      } catch (error) {\n",
              "        console.error('Error during call to suggestCharts:', error);\n",
              "      }\n",
              "      quickchartButtonEl.classList.remove('colab-df-spinner');\n",
              "      quickchartButtonEl.classList.add('colab-df-quickchart-complete');\n",
              "    }\n",
              "    (() => {\n",
              "      let quickchartButtonEl =\n",
              "        document.querySelector('#df-62582acf-d765-4285-b407-173dbf961f7e button');\n",
              "      quickchartButtonEl.style.display =\n",
              "        google.colab.kernel.accessAllowed ? 'block' : 'none';\n",
              "    })();\n",
              "  </script>\n",
              "</div>\n",
              "\n",
              "    </div>\n",
              "  </div>\n"
            ],
            "application/vnd.google.colaboratory.intrinsic+json": {
              "type": "dataframe",
              "summary": "{\n  \"name\": \"reportsDfMeta\",\n  \"rows\": 3,\n  \"fields\": [\n    {\n      \"column\": \"metric\",\n      \"properties\": {\n        \"dtype\": \"string\",\n        \"num_unique_values\": 3,\n        \"samples\": [\n          \"f1-score\",\n          \"precision\",\n          \"recall\"\n        ],\n        \"semantic_type\": \"\",\n        \"description\": \"\"\n      }\n    },\n    {\n      \"column\": \"Gen-Z\",\n      \"properties\": {\n        \"dtype\": \"number\",\n        \"std\": 0.04252450274057695,\n        \"min\": 0.83,\n        \"max\": 0.915,\n        \"num_unique_values\": 3,\n        \"samples\": [\n          0.87,\n          0.83,\n          0.915\n        ],\n        \"semantic_type\": \"\",\n        \"description\": \"\"\n      }\n    },\n    {\n      \"column\": \"Millenial\",\n      \"properties\": {\n        \"dtype\": \"number\",\n        \"std\": 0.09749529903197045,\n        \"min\": 0.473,\n        \"max\": 0.667,\n        \"num_unique_values\": 3,\n        \"samples\": [\n          0.553,\n          0.667,\n          0.473\n        ],\n        \"semantic_type\": \"\",\n        \"description\": \"\"\n      }\n    }\n  ]\n}"
            }
          },
          "metadata": {},
          "execution_count": 28
        }
      ]
    },
    {
      "cell_type": "markdown",
      "source": [
        "###### ROC"
      ],
      "metadata": {
        "id": "paMVdbBx1_Ru"
      }
    },
    {
      "cell_type": "code",
      "source": [
        "# Prediction prob\n",
        "y_pred_prob = xgb_model_meta.predict_proba(X_test[metadataFeatures])[:, 1]\n",
        "# Compute the ROC curve and the area under the curve (AUC)\n",
        "fpr, tpr, thresholds = roc_curve(y_test, y_pred_prob)\n",
        "roc_auc = auc(fpr, tpr)\n",
        "# Plot\n",
        "plt.figure()\n",
        "plt.plot(fpr, tpr, color='darkorange', lw=2, label=f'ROC curve (area = {roc_auc:.2f})')\n",
        "plt.plot([0, 1], [0, 1], color='navy', lw=2, linestyle='--')\n",
        "plt.xlim([0.0, 1.0])\n",
        "plt.ylim([0.0, 1.05])\n",
        "plt.xlabel('False Positive Rate')\n",
        "plt.ylabel('True Positive Rate')\n",
        "plt.title('Receiver Operating Characteristic (ROC)')\n",
        "plt.legend(loc='lower right')\n",
        "plt.show()"
      ],
      "metadata": {
        "colab": {
          "base_uri": "https://localhost:8080/",
          "height": 472
        },
        "id": "XKX3MJG42BA7",
        "outputId": "399aca13-4c13-4e9c-9b96-2634496052c6"
      },
      "execution_count": null,
      "outputs": [
        {
          "output_type": "display_data",
          "data": {
            "text/plain": [
              "<Figure size 640x480 with 1 Axes>"
            ],
            "image/png": "[encoded data removed]"
          },
          "metadata": {}
        }
      ]
    },
    {
      "cell_type": "markdown",
      "source": [
        "##### PCA"
      ],
      "metadata": {
        "id": "xG_kqpB2KB-Q"
      }
    },
    {
      "cell_type": "code",
      "source": [
        "k = 5\n",
        "skf = StratifiedKFold(n_splits = k, shuffle = True, random_state = 42)\n",
        "\n",
        "# Lists to store results for each fold\n",
        "accuracies = []\n",
        "reports = []\n",
        "\n",
        "# XGBoost model on PCA features\n",
        "xgb_model_pca = xgb.XGBClassifier(objective = 'binary:logistic', max_depth = 5, eta = 0.1, eval_metric = \"logloss\", random_state=42)\n",
        "\n",
        "# Iterate through folds\n",
        "for train_index, val_index in skf.split(X_train, y_train):\n",
        "  # Get the fold's training and validation data\n",
        "  X_train_fold, X_val_fold = X_train.loc[train_index], X_train.loc[val_index]\n",
        "  y_train_fold, y_val_fold = y_train.loc[train_index], y_train.loc[val_index]\n",
        "\n",
        "  # Train on folds\n",
        "  xgb_model_pca.fit(X_train_fold[pcaFeatures], y_train_fold)\n",
        "\n",
        "  # Make predictions\n",
        "  y_pred_fold = xgb_model_pca.predict(X_val_fold[pcaFeatures])\n",
        "\n",
        "  # Evaluate the fold's performance\n",
        "  accuracies.append(accuracy_score(y_val_fold, y_pred_fold))\n",
        "  reports.append(classification_report(y_val_fold, y_pred_fold, target_names=classes, output_dict=True))\n",
        "\n",
        "print(f\"Folds mean accuracy: {np.mean(accuracies):.4f}\")\n",
        "print(f\"Std. Dev: {np.std(accuracies):.4f}\")\n",
        "print(f\"All accuracy values: \", np.round(accuracies, 3))\n",
        "# Use the classification reports to find the average precision, recall, and f1-score per class\n",
        "dfs = []\n",
        "for report in reports:\n",
        "  df = pd.DataFrame(report).drop(columns = [\"accuracy\",\t\"macro avg\",\t\"weighted avg\"]).drop(index = [\"support\"]).reset_index().rename({\"index\": \"metric\"}, axis = 1)\n",
        "  dfs.append(df)\n",
        "# Combine\n",
        "reportsDf = pd.concat(dfs)\n",
        "\n",
        "# CV ROC-AUC\n",
        "cv = StratifiedKFold(n_splits=k, shuffle=True, random_state=42)\n",
        "cvScores = cross_val_score(xgb_model_pca, X_train[pcaFeatures], y_train, cv=cv, scoring='roc_auc')\n",
        "print(f\"Average ROC-AUC: {np.mean(cvScores):.4f}\")\n",
        "\n",
        "# Group by metric and take the mean\n",
        "reportsDfPca = reportsDf.groupby(\"metric\").mean().reset_index()\n",
        "print(\"Folds avg. metrics:\")\n",
        "print(reportsDfPca)\n",
        "\n",
        "print(\"~~~~~~~~~~~~~~~~~~~~~~~~~~~~~~~~~~~~~~~~~~~~\")\n",
        "# Train on the full training set\n",
        "xgb_model_pca.fit(X_train[pcaFeatures], y_train)\n",
        "# Evaluate model performance on the test dataset\n",
        "y_pred = xgb_model_pca.predict(X_test[pcaFeatures])\n",
        "print(f\"Accuracy: {np.mean(accuracy_score(y_test, y_pred)):.4f}\")\n",
        "print(\"Classification Report:\\n\", classification_report(y_test, y_pred, target_names=classes))\n",
        "print(\"Confusion Matrix:\\n\", confusion_matrix(y_test, y_pred))"
      ],
      "metadata": {
        "colab": {
          "base_uri": "https://localhost:8080/"
        },
        "id": "45WYyb6sKDVo",
        "outputId": "aeaa6ae3-6b58-473e-e205-65c95c812f2f"
      },
      "execution_count": null,
      "outputs": [
        {
          "output_type": "stream",
          "name": "stdout",
          "text": [
            "Folds mean accuracy: 0.7447\n",
            "Std. Dev: 0.0169\n",
            "All accuracy values:  [0.771 0.75  0.75  0.729 0.723]\n",
            "Average ROC-AUC: 0.6999\n",
            "Folds avg. metrics:\n",
            "      metric     Gen-Z  Millenial\n",
            "0   f1-score  0.836131   0.414278\n",
            "1  precision  0.792159   0.525397\n",
            "2     recall  0.886190   0.347436\n",
            "~~~~~~~~~~~~~~~~~~~~~~~~~~~~~~~~~~~~~~~~~~~~\n",
            "Accuracy: 0.6990\n",
            "Classification Report:\n",
            "               precision    recall  f1-score   support\n",
            "\n",
            "       Gen-Z       0.80      0.83      0.81        81\n",
            "   Millenial       0.26      0.23      0.24        22\n",
            "\n",
            "    accuracy                           0.70       103\n",
            "   macro avg       0.53      0.53      0.53       103\n",
            "weighted avg       0.68      0.70      0.69       103\n",
            "\n",
            "Confusion Matrix:\n",
            " [[67 14]\n",
            " [17  5]]\n"
          ]
        }
      ]
    },
    {
      "cell_type": "code",
      "source": [
        "reportsDfPca.round(3)"
      ],
      "metadata": {
        "colab": {
          "base_uri": "https://localhost:8080/",
          "height": 143
        },
        "id": "7vNRZ6NlFkb1",
        "outputId": "e0426911-bf30-4c99-9bdf-065405c5f20b"
      },
      "execution_count": null,
      "outputs": [
        {
          "output_type": "execute_result",
          "data": {
            "text/plain": [
              "      metric  Gen-Z  Millenial\n",
              "0   f1-score  0.836      0.414\n",
              "1  precision  0.792      0.525\n",
              "2     recall  0.886      0.347"
            ],
            "text/html": [
              "\n",
              "  <div id=\"df-d6a88e89-916e-4ff0-b69a-7584707b87ad\" class=\"colab-df-container\">\n",
              "    <div>\n",
              "<style scoped>\n",
              "    .dataframe tbody tr th:only-of-type {\n",
              "        vertical-align: middle;\n",
              "    }\n",
              "\n",
              "    .dataframe tbody tr th {\n",
              "        vertical-align: top;\n",
              "    }\n",
              "\n",
              "    .dataframe thead th {\n",
              "        text-align: right;\n",
              "    }\n",
              "</style>\n",
              "<table border=\"1\" class=\"dataframe\">\n",
              "  <thead>\n",
              "    <tr style=\"text-align: right;\">\n",
              "      <th></th>\n",
              "      <th>metric</th>\n",
              "      <th>Gen-Z</th>\n",
              "      <th>Millenial</th>\n",
              "    </tr>\n",
              "  </thead>\n",
              "  <tbody>\n",
              "    <tr>\n",
              "      <th>0</th>\n",
              "      <td>f1-score</td>\n",
              "      <td>0.836</td>\n",
              "      <td>0.414</td>\n",
              "    </tr>\n",
              "    <tr>\n",
              "      <th>1</th>\n",
              "      <td>precision</td>\n",
              "      <td>0.792</td>\n",
              "      <td>0.525</td>\n",
              "    </tr>\n",
              "    <tr>\n",
              "      <th>2</th>\n",
              "      <td>recall</td>\n",
              "      <td>0.886</td>\n",
              "      <td>0.347</td>\n",
              "    </tr>\n",
              "  </tbody>\n",
              "</table>\n",
              "</div>\n",
              "    <div class=\"colab-df-buttons\">\n",
              "\n",
              "  <div class=\"colab-df-container\">\n",
              "    <button class=\"colab-df-convert\" onclick=\"convertToInteractive('df-d6a88e89-916e-4ff0-b69a-7584707b87ad')\"\n",
              "            title=\"Convert this dataframe to an interactive table.\"\n",
              "            style=\"display:none;\">\n",
              "\n",
              "  <svg xmlns=\"http://www.w3.org/2000/svg\" height=\"24px\" viewBox=\"0 -960 960 960\">\n",
              "    <path d=\"M120-120v-720h720v720H120Zm60-500h600v-160H180v160Zm220 220h160v-160H400v160Zm0 220h160v-160H400v160ZM180-400h160v-160H180v160Zm440 0h160v-160H620v160ZM180-180h160v-160H180v160Zm440 0h160v-160H620v160Z\"/>\n",
              "  </svg>\n",
              "    </button>\n",
              "\n",
              "  <style>\n",
              "    .colab-df-container {\n",
              "      display:flex;\n",
              "      gap: 12px;\n",
              "    }\n",
              "\n",
              "    .colab-df-convert {\n",
              "      background-color: #E8F0FE;\n",
              "      border: none;\n",
              "      border-radius: 50%;\n",
              "      cursor: pointer;\n",
              "      display: none;\n",
              "      fill: #1967D2;\n",
              "      height: 32px;\n",
              "      padding: 0 0 0 0;\n",
              "      width: 32px;\n",
              "    }\n",
              "\n",
              "    .colab-df-convert:hover {\n",
              "      background-color: #E2EBFA;\n",
              "      box-shadow: 0px 1px 2px rgba(60, 64, 67, 0.3), 0px 1px 3px 1px rgba(60, 64, 67, 0.15);\n",
              "      fill: #174EA6;\n",
              "    }\n",
              "\n",
              "    .colab-df-buttons div {\n",
              "      margin-bottom: 4px;\n",
              "    }\n",
              "\n",
              "    [theme=dark] .colab-df-convert {\n",
              "      background-color: #3B4455;\n",
              "      fill: #D2E3FC;\n",
              "    }\n",
              "\n",
              "    [theme=dark] .colab-df-convert:hover {\n",
              "      background-color: #434B5C;\n",
              "      box-shadow: 0px 1px 3px 1px rgba(0, 0, 0, 0.15);\n",
              "      filter: drop-shadow(0px 1px 2px rgba(0, 0, 0, 0.3));\n",
              "      fill: #FFFFFF;\n",
              "    }\n",
              "  </style>\n",
              "\n",
              "    <script>\n",
              "      const buttonEl =\n",
              "        document.querySelector('#df-d6a88e89-916e-4ff0-b69a-7584707b87ad button.colab-df-convert');\n",
              "      buttonEl.style.display =\n",
              "        google.colab.kernel.accessAllowed ? 'block' : 'none';\n",
              "\n",
              "      async function convertToInteractive(key) {\n",
              "        const element = document.querySelector('#df-d6a88e89-916e-4ff0-b69a-7584707b87ad');\n",
              "        const dataTable =\n",
              "          await google.colab.kernel.invokeFunction('convertToInteractive',\n",
              "                                                    [key], {});\n",
              "        if (!dataTable) return;\n",
              "\n",
              "        const docLinkHtml = 'Like what you see? Visit the ' +\n",
              "          '<a target=\"_blank\" href=https://colab.research.google.com/notebooks/data_table.ipynb>data table notebook</a>'\n",
              "          + ' to learn more about interactive tables.';\n",
              "        element.innerHTML = '';\n",
              "        dataTable['output_type'] = 'display_data';\n",
              "        await google.colab.output.renderOutput(dataTable, element);\n",
              "        const docLink = document.createElement('div');\n",
              "        docLink.innerHTML = docLinkHtml;\n",
              "        element.appendChild(docLink);\n",
              "      }\n",
              "    </script>\n",
              "  </div>\n",
              "\n",
              "\n",
              "<div id=\"df-57d50eab-90ec-454d-9d33-a349da2a95d1\">\n",
              "  <button class=\"colab-df-quickchart\" onclick=\"quickchart('df-57d50eab-90ec-454d-9d33-a349da2a95d1')\"\n",
              "            title=\"Suggest charts\"\n",
              "            style=\"display:none;\">\n",
              "\n",
              "<svg xmlns=\"http://www.w3.org/2000/svg\" height=\"24px\"viewBox=\"0 0 24 24\"\n",
              "     width=\"24px\">\n",
              "    <g>\n",
              "        <path d=\"M19 3H5c-1.1 0-2 .9-2 2v14c0 1.1.9 2 2 2h14c1.1 0 2-.9 2-2V5c0-1.1-.9-2-2-2zM9 17H7v-7h2v7zm4 0h-2V7h2v10zm4 0h-2v-4h2v4z\"/>\n",
              "    </g>\n",
              "</svg>\n",
              "  </button>\n",
              "\n",
              "<style>\n",
              "  .colab-df-quickchart {\n",
              "      --bg-color: #E8F0FE;\n",
              "      --fill-color: #1967D2;\n",
              "      --hover-bg-color: #E2EBFA;\n",
              "      --hover-fill-color: #174EA6;\n",
              "      --disabled-fill-color: #AAA;\n",
              "      --disabled-bg-color: #DDD;\n",
              "  }\n",
              "\n",
              "  [theme=dark] .colab-df-quickchart {\n",
              "      --bg-color: #3B4455;\n",
              "      --fill-color: #D2E3FC;\n",
              "      --hover-bg-color: #434B5C;\n",
              "      --hover-fill-color: #FFFFFF;\n",
              "      --disabled-bg-color: #3B4455;\n",
              "      --disabled-fill-color: #666;\n",
              "  }\n",
              "\n",
              "  .colab-df-quickchart {\n",
              "    background-color: var(--bg-color);\n",
              "    border: none;\n",
              "    border-radius: 50%;\n",
              "    cursor: pointer;\n",
              "    display: none;\n",
              "    fill: var(--fill-color);\n",
              "    height: 32px;\n",
              "    padding: 0;\n",
              "    width: 32px;\n",
              "  }\n",
              "\n",
              "  .colab-df-quickchart:hover {\n",
              "    background-color: var(--hover-bg-color);\n",
              "    box-shadow: 0 1px 2px rgba(60, 64, 67, 0.3), 0 1px 3px 1px rgba(60, 64, 67, 0.15);\n",
              "    fill: var(--button-hover-fill-color);\n",
              "  }\n",
              "\n",
              "  .colab-df-quickchart-complete:disabled,\n",
              "  .colab-df-quickchart-complete:disabled:hover {\n",
              "    background-color: var(--disabled-bg-color);\n",
              "    fill: var(--disabled-fill-color);\n",
              "    box-shadow: none;\n",
              "  }\n",
              "\n",
              "  .colab-df-spinner {\n",
              "    border: 2px solid var(--fill-color);\n",
              "    border-color: transparent;\n",
              "    border-bottom-color: var(--fill-color);\n",
              "    animation:\n",
              "      spin 1s steps(1) infinite;\n",
              "  }\n",
              "\n",
              "  @keyframes spin {\n",
              "    0% {\n",
              "      border-color: transparent;\n",
              "      border-bottom-color: var(--fill-color);\n",
              "      border-left-color: var(--fill-color);\n",
              "    }\n",
              "    20% {\n",
              "      border-color: transparent;\n",
              "      border-left-color: var(--fill-color);\n",
              "      border-top-color: var(--fill-color);\n",
              "    }\n",
              "    30% {\n",
              "      border-color: transparent;\n",
              "      border-left-color: var(--fill-color);\n",
              "      border-top-color: var(--fill-color);\n",
              "      border-right-color: var(--fill-color);\n",
              "    }\n",
              "    40% {\n",
              "      border-color: transparent;\n",
              "      border-right-color: var(--fill-color);\n",
              "      border-top-color: var(--fill-color);\n",
              "    }\n",
              "    60% {\n",
              "      border-color: transparent;\n",
              "      border-right-color: var(--fill-color);\n",
              "    }\n",
              "    80% {\n",
              "      border-color: transparent;\n",
              "      border-right-color: var(--fill-color);\n",
              "      border-bottom-color: var(--fill-color);\n",
              "    }\n",
              "    90% {\n",
              "      border-color: transparent;\n",
              "      border-bottom-color: var(--fill-color);\n",
              "    }\n",
              "  }\n",
              "</style>\n",
              "\n",
              "  <script>\n",
              "    async function quickchart(key) {\n",
              "      const quickchartButtonEl =\n",
              "        document.querySelector('#' + key + ' button');\n",
              "      quickchartButtonEl.disabled = true;  // To prevent multiple clicks.\n",
              "      quickchartButtonEl.classList.add('colab-df-spinner');\n",
              "      try {\n",
              "        const charts = await google.colab.kernel.invokeFunction(\n",
              "            'suggestCharts', [key], {});\n",
              "      } catch (error) {\n",
              "        console.error('Error during call to suggestCharts:', error);\n",
              "      }\n",
              "      quickchartButtonEl.classList.remove('colab-df-spinner');\n",
              "      quickchartButtonEl.classList.add('colab-df-quickchart-complete');\n",
              "    }\n",
              "    (() => {\n",
              "      let quickchartButtonEl =\n",
              "        document.querySelector('#df-57d50eab-90ec-454d-9d33-a349da2a95d1 button');\n",
              "      quickchartButtonEl.style.display =\n",
              "        google.colab.kernel.accessAllowed ? 'block' : 'none';\n",
              "    })();\n",
              "  </script>\n",
              "</div>\n",
              "\n",
              "    </div>\n",
              "  </div>\n"
            ],
            "application/vnd.google.colaboratory.intrinsic+json": {
              "type": "dataframe",
              "summary": "{\n  \"name\": \"reportsDfPca\",\n  \"rows\": 3,\n  \"fields\": [\n    {\n      \"column\": \"metric\",\n      \"properties\": {\n        \"dtype\": \"string\",\n        \"num_unique_values\": 3,\n        \"samples\": [\n          \"f1-score\",\n          \"precision\",\n          \"recall\"\n        ],\n        \"semantic_type\": \"\",\n        \"description\": \"\"\n      }\n    },\n    {\n      \"column\": \"Gen-Z\",\n      \"properties\": {\n        \"dtype\": \"number\",\n        \"std\": 0.04703190406521937,\n        \"min\": 0.792,\n        \"max\": 0.886,\n        \"num_unique_values\": 3,\n        \"samples\": [\n          0.836,\n          0.792,\n          0.886\n        ],\n        \"semantic_type\": \"\",\n        \"description\": \"\"\n      }\n    },\n    {\n      \"column\": \"Millenial\",\n      \"properties\": {\n        \"dtype\": \"number\",\n        \"std\": 0.08990179827641567,\n        \"min\": 0.347,\n        \"max\": 0.525,\n        \"num_unique_values\": 3,\n        \"samples\": [\n          0.414,\n          0.525,\n          0.347\n        ],\n        \"semantic_type\": \"\",\n        \"description\": \"\"\n      }\n    }\n  ]\n}"
            }
          },
          "metadata": {},
          "execution_count": 31
        }
      ]
    },
    {
      "cell_type": "markdown",
      "source": [
        "###### ROC"
      ],
      "metadata": {
        "id": "9vkhdafa1sUd"
      }
    },
    {
      "cell_type": "code",
      "source": [
        "# Prediction prob\n",
        "y_pred_prob = xgb_model_pca.predict_proba(X_test[pcaFeatures])[:, 1]\n",
        "# Compute the ROC curve and the area under the curve (AUC)\n",
        "fpr, tpr, thresholds = roc_curve(y_test, y_pred_prob)\n",
        "roc_auc = auc(fpr, tpr)\n",
        "# Plot\n",
        "plt.figure()\n",
        "plt.plot(fpr, tpr, color='darkorange', lw=2, label=f'ROC curve (area = {roc_auc:.2f})')\n",
        "plt.plot([0, 1], [0, 1], color='navy', lw=2, linestyle='--')\n",
        "plt.xlim([0.0, 1.0])\n",
        "plt.ylim([0.0, 1.05])\n",
        "plt.xlabel('False Positive Rate')\n",
        "plt.ylabel('True Positive Rate')\n",
        "plt.title('Receiver Operating Characteristic (ROC)')\n",
        "plt.legend(loc='lower right')\n",
        "plt.show()"
      ],
      "metadata": {
        "colab": {
          "base_uri": "https://localhost:8080/",
          "height": 472
        },
        "id": "iT8dVGWe1s_x",
        "outputId": "e8dbd1ee-0925-41f4-cb8a-40d0400330c1"
      },
      "execution_count": null,
      "outputs": [
        {
          "output_type": "display_data",
          "data": {
            "text/plain": [
              "<Figure size 640x480 with 1 Axes>"
            ],
            "image/png": "[encoded data removed]"
          },
          "metadata": {}
        }
      ]
    },
    {
      "cell_type": "markdown",
      "source": [
        "##### TF-IDF"
      ],
      "metadata": {
        "id": "RzngIs0aXcLD"
      }
    },
    {
      "cell_type": "code",
      "source": [
        "k = 5\n",
        "skf = StratifiedKFold(n_splits = k, shuffle = True, random_state = 42)\n",
        "\n",
        "# Lists to store results for each fold\n",
        "accuracies = []\n",
        "reports = []\n",
        "\n",
        "# XGBoost model on TF-IDF features\n",
        "xgb_model_tfidf = xgb.XGBClassifier(objective = \"binary:logistic\", max_depth = 7, eta = 0.1, random_state = 42)\n",
        "\n",
        "# Iterate through folds\n",
        "for train_index, val_index in skf.split(X_train, y_train):\n",
        "  # Get the fold's training and validation data\n",
        "  X_train_fold, X_val_fold = X_train.loc[train_index], X_train.loc[val_index]\n",
        "  y_train_fold, y_val_fold = y_train.loc[train_index], y_train.loc[val_index]\n",
        "\n",
        "  # Train on folds\n",
        "  xgb_model_tfidf.fit(X_train_fold[tfidfFeatures + metadataFeatures], y_train_fold)\n",
        "\n",
        "  # Make predictions on the test set\n",
        "  y_pred_fold = xgb_model_tfidf.predict(X_val_fold[tfidfFeatures + metadataFeatures])\n",
        "\n",
        "  # Evaluate the fold's performance\n",
        "  accuracies.append(accuracy_score(y_val_fold, y_pred_fold))\n",
        "  reports.append(classification_report(y_val_fold, y_pred_fold, target_names=classes, output_dict=True))\n",
        "\n",
        "print(f\"Folds mean accuracy: {np.mean(accuracies):.4f}\")\n",
        "print(f\"Std. Dev: {np.std(accuracies):.4f}\")\n",
        "print(f\"All accuracy values: \", np.round(accuracies, 3))\n",
        "# Use the classification reports to find the average precision, recall, and f1-score per class\n",
        "dfs = []\n",
        "for report in reports:\n",
        "  df = pd.DataFrame(report).drop(columns = [\"accuracy\",\t\"macro avg\",\t\"weighted avg\"]).drop(index = [\"support\"]).reset_index().rename({\"index\": \"metric\"}, axis = 1)\n",
        "  dfs.append(df)\n",
        "# Combine\n",
        "reportsDf = pd.concat(dfs)\n",
        "\n",
        "# CV ROC-AUC\n",
        "cv = StratifiedKFold(n_splits=k, shuffle=True, random_state=42)\n",
        "cvScores = cross_val_score(xgb_model_tfidf, X_train[tfidfFeatures + metadataFeatures], y_train, cv=cv, scoring='roc_auc')\n",
        "print(f\"Average ROC-AUC: {np.mean(cvScores):.4f}\")\n",
        "\n",
        "# Group by metric and take the mean\n",
        "reportsDfTfidf = reportsDf.groupby(\"metric\").mean().reset_index()\n",
        "print(\"Folds avg. metrics:\")\n",
        "print(reportsDfTfidf)\n",
        "\n",
        "print(\"~~~~~~~~~~~~~~~~~~~~~~~~~~~~~~~~~~~~~~~~~~~~\")\n",
        "# Train on the full training set\n",
        "xgb_model_tfidf.fit(X_train[tfidfFeatures + metadataFeatures], y_train)\n",
        "# Evaluate model performance on the test dataset\n",
        "y_pred = xgb_model_tfidf.predict(X_test[tfidfFeatures + metadataFeatures])\n",
        "print(f\"Accuracy: {np.mean(accuracy_score(y_test, y_pred)):.4f}\")\n",
        "print(\"Classification Report:\\n\", classification_report(y_test, y_pred, target_names=classes))\n",
        "print(\"Confusion Matrix:\\n\", confusion_matrix(y_test, y_pred))"
      ],
      "metadata": {
        "colab": {
          "base_uri": "https://localhost:8080/"
        },
        "id": "8jCN_g9TXd9q",
        "outputId": "8bd6aca5-0e98-4aa1-db01-7b4592e310d2"
      },
      "execution_count": null,
      "outputs": [
        {
          "output_type": "stream",
          "name": "stdout",
          "text": [
            "Folds mean accuracy: 0.7573\n",
            "Std. Dev: 0.0315\n",
            "All accuracy values:  [0.729 0.771 0.812 0.729 0.745]\n",
            "Average ROC-AUC: 0.7028\n",
            "Folds avg. metrics:\n",
            "      metric     Gen-Z  Millenial\n",
            "0   f1-score  0.850351   0.351579\n",
            "1  precision  0.778655   0.652381\n",
            "2     recall  0.937778   0.253846\n",
            "~~~~~~~~~~~~~~~~~~~~~~~~~~~~~~~~~~~~~~~~~~~~\n",
            "Accuracy: 0.7864\n",
            "Classification Report:\n",
            "               precision    recall  f1-score   support\n",
            "\n",
            "       Gen-Z       0.82      0.94      0.87        81\n",
            "   Millenial       0.50      0.23      0.31        22\n",
            "\n",
            "    accuracy                           0.79       103\n",
            "   macro avg       0.66      0.58      0.59       103\n",
            "weighted avg       0.75      0.79      0.75       103\n",
            "\n",
            "Confusion Matrix:\n",
            " [[76  5]\n",
            " [17  5]]\n"
          ]
        }
      ]
    },
    {
      "cell_type": "code",
      "source": [
        "reportsDfTfidf.round(3)"
      ],
      "metadata": {
        "colab": {
          "base_uri": "https://localhost:8080/",
          "height": 143
        },
        "id": "miE2aAooF09E",
        "outputId": "785c517b-a328-4dad-e0d6-4321be31f8e1"
      },
      "execution_count": null,
      "outputs": [
        {
          "output_type": "execute_result",
          "data": {
            "text/plain": [
              "      metric  Gen-Z  Millenial\n",
              "0   f1-score  0.850      0.352\n",
              "1  precision  0.779      0.652\n",
              "2     recall  0.938      0.254"
            ],
            "text/html": [
              "\n",
              "  <div id=\"df-4cfd0ce2-94ec-4fda-a675-cf73ad18b297\" class=\"colab-df-container\">\n",
              "    <div>\n",
              "<style scoped>\n",
              "    .dataframe tbody tr th:only-of-type {\n",
              "        vertical-align: middle;\n",
              "    }\n",
              "\n",
              "    .dataframe tbody tr th {\n",
              "        vertical-align: top;\n",
              "    }\n",
              "\n",
              "    .dataframe thead th {\n",
              "        text-align: right;\n",
              "    }\n",
              "</style>\n",
              "<table border=\"1\" class=\"dataframe\">\n",
              "  <thead>\n",
              "    <tr style=\"text-align: right;\">\n",
              "      <th></th>\n",
              "      <th>metric</th>\n",
              "      <th>Gen-Z</th>\n",
              "      <th>Millenial</th>\n",
              "    </tr>\n",
              "  </thead>\n",
              "  <tbody>\n",
              "    <tr>\n",
              "      <th>0</th>\n",
              "      <td>f1-score</td>\n",
              "      <td>0.850</td>\n",
              "      <td>0.352</td>\n",
              "    </tr>\n",
              "    <tr>\n",
              "      <th>1</th>\n",
              "      <td>precision</td>\n",
              "      <td>0.779</td>\n",
              "      <td>0.652</td>\n",
              "    </tr>\n",
              "    <tr>\n",
              "      <th>2</th>\n",
              "      <td>recall</td>\n",
              "      <td>0.938</td>\n",
              "      <td>0.254</td>\n",
              "    </tr>\n",
              "  </tbody>\n",
              "</table>\n",
              "</div>\n",
              "    <div class=\"colab-df-buttons\">\n",
              "\n",
              "  <div class=\"colab-df-container\">\n",
              "    <button class=\"colab-df-convert\" onclick=\"convertToInteractive('df-4cfd0ce2-94ec-4fda-a675-cf73ad18b297')\"\n",
              "            title=\"Convert this dataframe to an interactive table.\"\n",
              "            style=\"display:none;\">\n",
              "\n",
              "  <svg xmlns=\"http://www.w3.org/2000/svg\" height=\"24px\" viewBox=\"0 -960 960 960\">\n",
              "    <path d=\"M120-120v-720h720v720H120Zm60-500h600v-160H180v160Zm220 220h160v-160H400v160Zm0 220h160v-160H400v160ZM180-400h160v-160H180v160Zm440 0h160v-160H620v160ZM180-180h160v-160H180v160Zm440 0h160v-160H620v160Z\"/>\n",
              "  </svg>\n",
              "    </button>\n",
              "\n",
              "  <style>\n",
              "    .colab-df-container {\n",
              "      display:flex;\n",
              "      gap: 12px;\n",
              "    }\n",
              "\n",
              "    .colab-df-convert {\n",
              "      background-color: #E8F0FE;\n",
              "      border: none;\n",
              "      border-radius: 50%;\n",
              "      cursor: pointer;\n",
              "      display: none;\n",
              "      fill: #1967D2;\n",
              "      height: 32px;\n",
              "      padding: 0 0 0 0;\n",
              "      width: 32px;\n",
              "    }\n",
              "\n",
              "    .colab-df-convert:hover {\n",
              "      background-color: #E2EBFA;\n",
              "      box-shadow: 0px 1px 2px rgba(60, 64, 67, 0.3), 0px 1px 3px 1px rgba(60, 64, 67, 0.15);\n",
              "      fill: #174EA6;\n",
              "    }\n",
              "\n",
              "    .colab-df-buttons div {\n",
              "      margin-bottom: 4px;\n",
              "    }\n",
              "\n",
              "    [theme=dark] .colab-df-convert {\n",
              "      background-color: #3B4455;\n",
              "      fill: #D2E3FC;\n",
              "    }\n",
              "\n",
              "    [theme=dark] .colab-df-convert:hover {\n",
              "      background-color: #434B5C;\n",
              "      box-shadow: 0px 1px 3px 1px rgba(0, 0, 0, 0.15);\n",
              "      filter: drop-shadow(0px 1px 2px rgba(0, 0, 0, 0.3));\n",
              "      fill: #FFFFFF;\n",
              "    }\n",
              "  </style>\n",
              "\n",
              "    <script>\n",
              "      const buttonEl =\n",
              "        document.querySelector('#df-4cfd0ce2-94ec-4fda-a675-cf73ad18b297 button.colab-df-convert');\n",
              "      buttonEl.style.display =\n",
              "        google.colab.kernel.accessAllowed ? 'block' : 'none';\n",
              "\n",
              "      async function convertToInteractive(key) {\n",
              "        const element = document.querySelector('#df-4cfd0ce2-94ec-4fda-a675-cf73ad18b297');\n",
              "        const dataTable =\n",
              "          await google.colab.kernel.invokeFunction('convertToInteractive',\n",
              "                                                    [key], {});\n",
              "        if (!dataTable) return;\n",
              "\n",
              "        const docLinkHtml = 'Like what you see? Visit the ' +\n",
              "          '<a target=\"_blank\" href=https://colab.research.google.com/notebooks/data_table.ipynb>data table notebook</a>'\n",
              "          + ' to learn more about interactive tables.';\n",
              "        element.innerHTML = '';\n",
              "        dataTable['output_type'] = 'display_data';\n",
              "        await google.colab.output.renderOutput(dataTable, element);\n",
              "        const docLink = document.createElement('div');\n",
              "        docLink.innerHTML = docLinkHtml;\n",
              "        element.appendChild(docLink);\n",
              "      }\n",
              "    </script>\n",
              "  </div>\n",
              "\n",
              "\n",
              "<div id=\"df-998dd61c-0a73-4db4-9e1f-43b2db22eb20\">\n",
              "  <button class=\"colab-df-quickchart\" onclick=\"quickchart('df-998dd61c-0a73-4db4-9e1f-43b2db22eb20')\"\n",
              "            title=\"Suggest charts\"\n",
              "            style=\"display:none;\">\n",
              "\n",
              "<svg xmlns=\"http://www.w3.org/2000/svg\" height=\"24px\"viewBox=\"0 0 24 24\"\n",
              "     width=\"24px\">\n",
              "    <g>\n",
              "        <path d=\"M19 3H5c-1.1 0-2 .9-2 2v14c0 1.1.9 2 2 2h14c1.1 0 2-.9 2-2V5c0-1.1-.9-2-2-2zM9 17H7v-7h2v7zm4 0h-2V7h2v10zm4 0h-2v-4h2v4z\"/>\n",
              "    </g>\n",
              "</svg>\n",
              "  </button>\n",
              "\n",
              "<style>\n",
              "  .colab-df-quickchart {\n",
              "      --bg-color: #E8F0FE;\n",
              "      --fill-color: #1967D2;\n",
              "      --hover-bg-color: #E2EBFA;\n",
              "      --hover-fill-color: #174EA6;\n",
              "      --disabled-fill-color: #AAA;\n",
              "      --disabled-bg-color: #DDD;\n",
              "  }\n",
              "\n",
              "  [theme=dark] .colab-df-quickchart {\n",
              "      --bg-color: #3B4455;\n",
              "      --fill-color: #D2E3FC;\n",
              "      --hover-bg-color: #434B5C;\n",
              "      --hover-fill-color: #FFFFFF;\n",
              "      --disabled-bg-color: #3B4455;\n",
              "      --disabled-fill-color: #666;\n",
              "  }\n",
              "\n",
              "  .colab-df-quickchart {\n",
              "    background-color: var(--bg-color);\n",
              "    border: none;\n",
              "    border-radius: 50%;\n",
              "    cursor: pointer;\n",
              "    display: none;\n",
              "    fill: var(--fill-color);\n",
              "    height: 32px;\n",
              "    padding: 0;\n",
              "    width: 32px;\n",
              "  }\n",
              "\n",
              "  .colab-df-quickchart:hover {\n",
              "    background-color: var(--hover-bg-color);\n",
              "    box-shadow: 0 1px 2px rgba(60, 64, 67, 0.3), 0 1px 3px 1px rgba(60, 64, 67, 0.15);\n",
              "    fill: var(--button-hover-fill-color);\n",
              "  }\n",
              "\n",
              "  .colab-df-quickchart-complete:disabled,\n",
              "  .colab-df-quickchart-complete:disabled:hover {\n",
              "    background-color: var(--disabled-bg-color);\n",
              "    fill: var(--disabled-fill-color);\n",
              "    box-shadow: none;\n",
              "  }\n",
              "\n",
              "  .colab-df-spinner {\n",
              "    border: 2px solid var(--fill-color);\n",
              "    border-color: transparent;\n",
              "    border-bottom-color: var(--fill-color);\n",
              "    animation:\n",
              "      spin 1s steps(1) infinite;\n",
              "  }\n",
              "\n",
              "  @keyframes spin {\n",
              "    0% {\n",
              "      border-color: transparent;\n",
              "      border-bottom-color: var(--fill-color);\n",
              "      border-left-color: var(--fill-color);\n",
              "    }\n",
              "    20% {\n",
              "      border-color: transparent;\n",
              "      border-left-color: var(--fill-color);\n",
              "      border-top-color: var(--fill-color);\n",
              "    }\n",
              "    30% {\n",
              "      border-color: transparent;\n",
              "      border-left-color: var(--fill-color);\n",
              "      border-top-color: var(--fill-color);\n",
              "      border-right-color: var(--fill-color);\n",
              "    }\n",
              "    40% {\n",
              "      border-color: transparent;\n",
              "      border-right-color: var(--fill-color);\n",
              "      border-top-color: var(--fill-color);\n",
              "    }\n",
              "    60% {\n",
              "      border-color: transparent;\n",
              "      border-right-color: var(--fill-color);\n",
              "    }\n",
              "    80% {\n",
              "      border-color: transparent;\n",
              "      border-right-color: var(--fill-color);\n",
              "      border-bottom-color: var(--fill-color);\n",
              "    }\n",
              "    90% {\n",
              "      border-color: transparent;\n",
              "      border-bottom-color: var(--fill-color);\n",
              "    }\n",
              "  }\n",
              "</style>\n",
              "\n",
              "  <script>\n",
              "    async function quickchart(key) {\n",
              "      const quickchartButtonEl =\n",
              "        document.querySelector('#' + key + ' button');\n",
              "      quickchartButtonEl.disabled = true;  // To prevent multiple clicks.\n",
              "      quickchartButtonEl.classList.add('colab-df-spinner');\n",
              "      try {\n",
              "        const charts = await google.colab.kernel.invokeFunction(\n",
              "            'suggestCharts', [key], {});\n",
              "      } catch (error) {\n",
              "        console.error('Error during call to suggestCharts:', error);\n",
              "      }\n",
              "      quickchartButtonEl.classList.remove('colab-df-spinner');\n",
              "      quickchartButtonEl.classList.add('colab-df-quickchart-complete');\n",
              "    }\n",
              "    (() => {\n",
              "      let quickchartButtonEl =\n",
              "        document.querySelector('#df-998dd61c-0a73-4db4-9e1f-43b2db22eb20 button');\n",
              "      quickchartButtonEl.style.display =\n",
              "        google.colab.kernel.accessAllowed ? 'block' : 'none';\n",
              "    })();\n",
              "  </script>\n",
              "</div>\n",
              "\n",
              "    </div>\n",
              "  </div>\n"
            ],
            "application/vnd.google.colaboratory.intrinsic+json": {
              "type": "dataframe",
              "summary": "{\n  \"name\": \"reportsDfTfidf\",\n  \"rows\": 3,\n  \"fields\": [\n    {\n      \"column\": \"metric\",\n      \"properties\": {\n        \"dtype\": \"string\",\n        \"num_unique_values\": 3,\n        \"samples\": [\n          \"f1-score\",\n          \"precision\",\n          \"recall\"\n        ],\n        \"semantic_type\": \"\",\n        \"description\": \"\"\n      }\n    },\n    {\n      \"column\": \"Gen-Z\",\n      \"properties\": {\n        \"dtype\": \"number\",\n        \"std\": 0.07965132348764412,\n        \"min\": 0.779,\n        \"max\": 0.938,\n        \"num_unique_values\": 3,\n        \"samples\": [\n          0.85,\n          0.779,\n          0.938\n        ],\n        \"semantic_type\": \"\",\n        \"description\": \"\"\n      }\n    },\n    {\n      \"column\": \"Millenial\",\n      \"properties\": {\n        \"dtype\": \"number\",\n        \"std\": 0.2073676284605033,\n        \"min\": 0.254,\n        \"max\": 0.652,\n        \"num_unique_values\": 3,\n        \"samples\": [\n          0.352,\n          0.652,\n          0.254\n        ],\n        \"semantic_type\": \"\",\n        \"description\": \"\"\n      }\n    }\n  ]\n}"
            }
          },
          "metadata": {},
          "execution_count": 34
        }
      ]
    },
    {
      "cell_type": "markdown",
      "source": [
        "###### ROC"
      ],
      "metadata": {
        "id": "DGF7w8HV1gH0"
      }
    },
    {
      "cell_type": "code",
      "source": [
        "# Prediction prob\n",
        "y_pred_prob = xgb_model_tfidf.predict_proba(X_test[tfidfFeatures + metadataFeatures])[:, 1]\n",
        "# Compute the ROC curve and the area under the curve (AUC)\n",
        "fpr, tpr, thresholds = roc_curve(y_test, y_pred_prob)\n",
        "roc_auc = auc(fpr, tpr)\n",
        "# Plot\n",
        "plt.figure()\n",
        "plt.plot(fpr, tpr, color='darkorange', lw=2, label=f'ROC curve (area = {roc_auc:.2f})')\n",
        "plt.plot([0, 1], [0, 1], color='navy', lw=2, linestyle='--')\n",
        "plt.xlim([0.0, 1.0])\n",
        "plt.ylim([0.0, 1.05])\n",
        "plt.xlabel('False Positive Rate')\n",
        "plt.ylabel('True Positive Rate')\n",
        "plt.title('Receiver Operating Characteristic (ROC)')\n",
        "plt.legend(loc='lower right')\n",
        "plt.show()"
      ],
      "metadata": {
        "colab": {
          "base_uri": "https://localhost:8080/",
          "height": 472
        },
        "id": "lvqNdQkL1iab",
        "outputId": "5dd634d8-86d2-415e-b8e2-a9257d168d88"
      },
      "execution_count": null,
      "outputs": [
        {
          "output_type": "display_data",
          "data": {
            "text/plain": [
              "<Figure size 640x480 with 1 Axes>"
            ],
            "image/png": "[encoded data removed]"
          },
          "metadata": {}
        }
      ]
    },
    {
      "cell_type": "markdown",
      "source": [
        "##### TF-IDF + SVD\n",
        " Alternative to PCA"
      ],
      "metadata": {
        "id": "Rl6xV6svkWds"
      }
    },
    {
      "cell_type": "code",
      "source": [
        "k = 5\n",
        "skf = StratifiedKFold(n_splits = k, shuffle = True, random_state = 42)\n",
        "\n",
        "# Lists to store results for each fold\n",
        "accuracies = []\n",
        "reports = []\n",
        "\n",
        "# XGBoost model on TF-IDF features\n",
        "xgb_model_tfidf_svd = xgb.XGBClassifier(objective = \"binary:logistic\", max_depth = 7, eta = 0.1, random_state = 42)\n",
        "\n",
        "# Iterate through folds\n",
        "for train_index, val_index in skf.split(X_train, y_train):\n",
        "  # Get the fold's training and validation data\n",
        "  X_train_fold, X_val_fold = X_train.loc[train_index], X_train.loc[val_index]\n",
        "  y_train_fold, y_val_fold = y_train.loc[train_index], y_train.loc[val_index]\n",
        "\n",
        "  # Train on folds\n",
        "  xgb_model_tfidf_svd.fit(X_train_fold[svdTfidfFeatures + pcaFeatures], y_train_fold)\n",
        "\n",
        "  # Make predictions on the test set\n",
        "  y_pred_fold = xgb_model_tfidf_svd.predict(X_val_fold[svdTfidfFeatures + pcaFeatures])\n",
        "\n",
        "  # Evaluate the fold's performance\n",
        "  accuracies.append(accuracy_score(y_val_fold, y_pred_fold))\n",
        "  reports.append(classification_report(y_val_fold, y_pred_fold, target_names=classes, output_dict=True))\n",
        "\n",
        "print(f\"Folds mean accuracy: {np.mean(accuracies):.4f}\")\n",
        "print(f\"Std. Dev: {np.std(accuracies):.4f}\")\n",
        "print(f\"All accuracy values: \", np.round(accuracies, 3))\n",
        "# Use the classification reports to find the average precision, recall, and f1-score per class\n",
        "dfs = []\n",
        "for report in reports:\n",
        "  df = pd.DataFrame(report).drop(columns = [\"accuracy\",\t\"macro avg\",\t\"weighted avg\"]).drop(index = [\"support\"]).reset_index().rename({\"index\": \"metric\"}, axis = 1)\n",
        "  dfs.append(df)\n",
        "# Combine\n",
        "reportsDf = pd.concat(dfs)\n",
        "\n",
        "# CV ROC-AUC\n",
        "cv = StratifiedKFold(n_splits=k, shuffle=True, random_state=42)\n",
        "cvScores = cross_val_score(xgb_model_tfidf_svd, X_train[svdTfidfFeatures + pcaFeatures], y_train, cv=cv, scoring='roc_auc')\n",
        "print(f\"Average ROC-AUC: {np.mean(cvScores):.4f}\")\n",
        "\n",
        "# Group by metric and take the mean\n",
        "reportsDfSvd = reportsDf.groupby(\"metric\").mean().reset_index()\n",
        "print(\"Folds avg. metrics:\")\n",
        "print(reportsDfSvd)\n",
        "\n",
        "print(\"~~~~~~~~~~~~~~~~~~~~~~~~~~~~~~~~~~~~~~~~~~~~\")\n",
        "# Train on the full training set\n",
        "xgb_model_tfidf_svd.fit(X_train[svdTfidfFeatures + pcaFeatures], y_train)\n",
        "# Evaluate model performance on the test dataset\n",
        "y_pred = xgb_model_tfidf_svd.predict(X_test[svdTfidfFeatures + pcaFeatures])\n",
        "print(f\"Accuracy: {np.mean(accuracy_score(y_test, y_pred)):.4f}\")\n",
        "print(\"Classification Report:\\n\", classification_report(y_test, y_pred, target_names=classes))\n",
        "print(\"Confusion Matrix:\\n\", confusion_matrix(y_test, y_pred))"
      ],
      "metadata": {
        "colab": {
          "base_uri": "https://localhost:8080/"
        },
        "id": "_i5bnC5_kZpu",
        "outputId": "2d2c0911-2058-4d81-a577-666578e0a106"
      },
      "execution_count": null,
      "outputs": [
        {
          "output_type": "stream",
          "name": "stdout",
          "text": [
            "Folds mean accuracy: 0.7866\n",
            "Std. Dev: 0.0276\n",
            "All accuracy values:  [0.771 0.75  0.792 0.833 0.787]\n",
            "Average ROC-AUC: 0.7891\n",
            "Folds avg. metrics:\n",
            "      metric     Gen-Z  Millenial\n",
            "0   f1-score  0.868325   0.434766\n",
            "1  precision  0.796597   0.715714\n",
            "2     recall  0.954762   0.316667\n",
            "~~~~~~~~~~~~~~~~~~~~~~~~~~~~~~~~~~~~~~~~~~~~\n",
            "Accuracy: 0.7864\n",
            "Classification Report:\n",
            "               precision    recall  f1-score   support\n",
            "\n",
            "       Gen-Z       0.82      0.94      0.87        81\n",
            "   Millenial       0.50      0.23      0.31        22\n",
            "\n",
            "    accuracy                           0.79       103\n",
            "   macro avg       0.66      0.58      0.59       103\n",
            "weighted avg       0.75      0.79      0.75       103\n",
            "\n",
            "Confusion Matrix:\n",
            " [[76  5]\n",
            " [17  5]]\n"
          ]
        }
      ]
    },
    {
      "cell_type": "code",
      "source": [
        "reportsDfSvd.round(3)"
      ],
      "metadata": {
        "colab": {
          "base_uri": "https://localhost:8080/",
          "height": 143
        },
        "id": "7YubV4DmF9cX",
        "outputId": "63b4f7f6-686a-484c-ad62-5bdcfabd5129"
      },
      "execution_count": null,
      "outputs": [
        {
          "output_type": "execute_result",
          "data": {
            "text/plain": [
              "      metric  Gen-Z  Millenial\n",
              "0   f1-score  0.868      0.435\n",
              "1  precision  0.797      0.716\n",
              "2     recall  0.955      0.317"
            ],
            "text/html": [
              "\n",
              "  <div id=\"df-e3572719-2d86-4726-837b-2f6d6e010bb5\" class=\"colab-df-container\">\n",
              "    <div>\n",
              "<style scoped>\n",
              "    .dataframe tbody tr th:only-of-type {\n",
              "        vertical-align: middle;\n",
              "    }\n",
              "\n",
              "    .dataframe tbody tr th {\n",
              "        vertical-align: top;\n",
              "    }\n",
              "\n",
              "    .dataframe thead th {\n",
              "        text-align: right;\n",
              "    }\n",
              "</style>\n",
              "<table border=\"1\" class=\"dataframe\">\n",
              "  <thead>\n",
              "    <tr style=\"text-align: right;\">\n",
              "      <th></th>\n",
              "      <th>metric</th>\n",
              "      <th>Gen-Z</th>\n",
              "      <th>Millenial</th>\n",
              "    </tr>\n",
              "  </thead>\n",
              "  <tbody>\n",
              "    <tr>\n",
              "      <th>0</th>\n",
              "      <td>f1-score</td>\n",
              "      <td>0.868</td>\n",
              "      <td>0.435</td>\n",
              "    </tr>\n",
              "    <tr>\n",
              "      <th>1</th>\n",
              "      <td>precision</td>\n",
              "      <td>0.797</td>\n",
              "      <td>0.716</td>\n",
              "    </tr>\n",
              "    <tr>\n",
              "      <th>2</th>\n",
              "      <td>recall</td>\n",
              "      <td>0.955</td>\n",
              "      <td>0.317</td>\n",
              "    </tr>\n",
              "  </tbody>\n",
              "</table>\n",
              "</div>\n",
              "    <div class=\"colab-df-buttons\">\n",
              "\n",
              "  <div class=\"colab-df-container\">\n",
              "    <button class=\"colab-df-convert\" onclick=\"convertToInteractive('df-e3572719-2d86-4726-837b-2f6d6e010bb5')\"\n",
              "            title=\"Convert this dataframe to an interactive table.\"\n",
              "            style=\"display:none;\">\n",
              "\n",
              "  <svg xmlns=\"http://www.w3.org/2000/svg\" height=\"24px\" viewBox=\"0 -960 960 960\">\n",
              "    <path d=\"M120-120v-720h720v720H120Zm60-500h600v-160H180v160Zm220 220h160v-160H400v160Zm0 220h160v-160H400v160ZM180-400h160v-160H180v160Zm440 0h160v-160H620v160ZM180-180h160v-160H180v160Zm440 0h160v-160H620v160Z\"/>\n",
              "  </svg>\n",
              "    </button>\n",
              "\n",
              "  <style>\n",
              "    .colab-df-container {\n",
              "      display:flex;\n",
              "      gap: 12px;\n",
              "    }\n",
              "\n",
              "    .colab-df-convert {\n",
              "      background-color: #E8F0FE;\n",
              "      border: none;\n",
              "      border-radius: 50%;\n",
              "      cursor: pointer;\n",
              "      display: none;\n",
              "      fill: #1967D2;\n",
              "      height: 32px;\n",
              "      padding: 0 0 0 0;\n",
              "      width: 32px;\n",
              "    }\n",
              "\n",
              "    .colab-df-convert:hover {\n",
              "      background-color: #E2EBFA;\n",
              "      box-shadow: 0px 1px 2px rgba(60, 64, 67, 0.3), 0px 1px 3px 1px rgba(60, 64, 67, 0.15);\n",
              "      fill: #174EA6;\n",
              "    }\n",
              "\n",
              "    .colab-df-buttons div {\n",
              "      margin-bottom: 4px;\n",
              "    }\n",
              "\n",
              "    [theme=dark] .colab-df-convert {\n",
              "      background-color: #3B4455;\n",
              "      fill: #D2E3FC;\n",
              "    }\n",
              "\n",
              "    [theme=dark] .colab-df-convert:hover {\n",
              "      background-color: #434B5C;\n",
              "      box-shadow: 0px 1px 3px 1px rgba(0, 0, 0, 0.15);\n",
              "      filter: drop-shadow(0px 1px 2px rgba(0, 0, 0, 0.3));\n",
              "      fill: #FFFFFF;\n",
              "    }\n",
              "  </style>\n",
              "\n",
              "    <script>\n",
              "      const buttonEl =\n",
              "        document.querySelector('#df-e3572719-2d86-4726-837b-2f6d6e010bb5 button.colab-df-convert');\n",
              "      buttonEl.style.display =\n",
              "        google.colab.kernel.accessAllowed ? 'block' : 'none';\n",
              "\n",
              "      async function convertToInteractive(key) {\n",
              "        const element = document.querySelector('#df-e3572719-2d86-4726-837b-2f6d6e010bb5');\n",
              "        const dataTable =\n",
              "          await google.colab.kernel.invokeFunction('convertToInteractive',\n",
              "                                                    [key], {});\n",
              "        if (!dataTable) return;\n",
              "\n",
              "        const docLinkHtml = 'Like what you see? Visit the ' +\n",
              "          '<a target=\"_blank\" href=https://colab.research.google.com/notebooks/data_table.ipynb>data table notebook</a>'\n",
              "          + ' to learn more about interactive tables.';\n",
              "        element.innerHTML = '';\n",
              "        dataTable['output_type'] = 'display_data';\n",
              "        await google.colab.output.renderOutput(dataTable, element);\n",
              "        const docLink = document.createElement('div');\n",
              "        docLink.innerHTML = docLinkHtml;\n",
              "        element.appendChild(docLink);\n",
              "      }\n",
              "    </script>\n",
              "  </div>\n",
              "\n",
              "\n",
              "<div id=\"df-784ff86d-4dfe-444d-a8a0-8c086e748a50\">\n",
              "  <button class=\"colab-df-quickchart\" onclick=\"quickchart('df-784ff86d-4dfe-444d-a8a0-8c086e748a50')\"\n",
              "            title=\"Suggest charts\"\n",
              "            style=\"display:none;\">\n",
              "\n",
              "<svg xmlns=\"http://www.w3.org/2000/svg\" height=\"24px\"viewBox=\"0 0 24 24\"\n",
              "     width=\"24px\">\n",
              "    <g>\n",
              "        <path d=\"M19 3H5c-1.1 0-2 .9-2 2v14c0 1.1.9 2 2 2h14c1.1 0 2-.9 2-2V5c0-1.1-.9-2-2-2zM9 17H7v-7h2v7zm4 0h-2V7h2v10zm4 0h-2v-4h2v4z\"/>\n",
              "    </g>\n",
              "</svg>\n",
              "  </button>\n",
              "\n",
              "<style>\n",
              "  .colab-df-quickchart {\n",
              "      --bg-color: #E8F0FE;\n",
              "      --fill-color: #1967D2;\n",
              "      --hover-bg-color: #E2EBFA;\n",
              "      --hover-fill-color: #174EA6;\n",
              "      --disabled-fill-color: #AAA;\n",
              "      --disabled-bg-color: #DDD;\n",
              "  }\n",
              "\n",
              "  [theme=dark] .colab-df-quickchart {\n",
              "      --bg-color: #3B4455;\n",
              "      --fill-color: #D2E3FC;\n",
              "      --hover-bg-color: #434B5C;\n",
              "      --hover-fill-color: #FFFFFF;\n",
              "      --disabled-bg-color: #3B4455;\n",
              "      --disabled-fill-color: #666;\n",
              "  }\n",
              "\n",
              "  .colab-df-quickchart {\n",
              "    background-color: var(--bg-color);\n",
              "    border: none;\n",
              "    border-radius: 50%;\n",
              "    cursor: pointer;\n",
              "    display: none;\n",
              "    fill: var(--fill-color);\n",
              "    height: 32px;\n",
              "    padding: 0;\n",
              "    width: 32px;\n",
              "  }\n",
              "\n",
              "  .colab-df-quickchart:hover {\n",
              "    background-color: var(--hover-bg-color);\n",
              "    box-shadow: 0 1px 2px rgba(60, 64, 67, 0.3), 0 1px 3px 1px rgba(60, 64, 67, 0.15);\n",
              "    fill: var(--button-hover-fill-color);\n",
              "  }\n",
              "\n",
              "  .colab-df-quickchart-complete:disabled,\n",
              "  .colab-df-quickchart-complete:disabled:hover {\n",
              "    background-color: var(--disabled-bg-color);\n",
              "    fill: var(--disabled-fill-color);\n",
              "    box-shadow: none;\n",
              "  }\n",
              "\n",
              "  .colab-df-spinner {\n",
              "    border: 2px solid var(--fill-color);\n",
              "    border-color: transparent;\n",
              "    border-bottom-color: var(--fill-color);\n",
              "    animation:\n",
              "      spin 1s steps(1) infinite;\n",
              "  }\n",
              "\n",
              "  @keyframes spin {\n",
              "    0% {\n",
              "      border-color: transparent;\n",
              "      border-bottom-color: var(--fill-color);\n",
              "      border-left-color: var(--fill-color);\n",
              "    }\n",
              "    20% {\n",
              "      border-color: transparent;\n",
              "      border-left-color: var(--fill-color);\n",
              "      border-top-color: var(--fill-color);\n",
              "    }\n",
              "    30% {\n",
              "      border-color: transparent;\n",
              "      border-left-color: var(--fill-color);\n",
              "      border-top-color: var(--fill-color);\n",
              "      border-right-color: var(--fill-color);\n",
              "    }\n",
              "    40% {\n",
              "      border-color: transparent;\n",
              "      border-right-color: var(--fill-color);\n",
              "      border-top-color: var(--fill-color);\n",
              "    }\n",
              "    60% {\n",
              "      border-color: transparent;\n",
              "      border-right-color: var(--fill-color);\n",
              "    }\n",
              "    80% {\n",
              "      border-color: transparent;\n",
              "      border-right-color: var(--fill-color);\n",
              "      border-bottom-color: var(--fill-color);\n",
              "    }\n",
              "    90% {\n",
              "      border-color: transparent;\n",
              "      border-bottom-color: var(--fill-color);\n",
              "    }\n",
              "  }\n",
              "</style>\n",
              "\n",
              "  <script>\n",
              "    async function quickchart(key) {\n",
              "      const quickchartButtonEl =\n",
              "        document.querySelector('#' + key + ' button');\n",
              "      quickchartButtonEl.disabled = true;  // To prevent multiple clicks.\n",
              "      quickchartButtonEl.classList.add('colab-df-spinner');\n",
              "      try {\n",
              "        const charts = await google.colab.kernel.invokeFunction(\n",
              "            'suggestCharts', [key], {});\n",
              "      } catch (error) {\n",
              "        console.error('Error during call to suggestCharts:', error);\n",
              "      }\n",
              "      quickchartButtonEl.classList.remove('colab-df-spinner');\n",
              "      quickchartButtonEl.classList.add('colab-df-quickchart-complete');\n",
              "    }\n",
              "    (() => {\n",
              "      let quickchartButtonEl =\n",
              "        document.querySelector('#df-784ff86d-4dfe-444d-a8a0-8c086e748a50 button');\n",
              "      quickchartButtonEl.style.display =\n",
              "        google.colab.kernel.accessAllowed ? 'block' : 'none';\n",
              "    })();\n",
              "  </script>\n",
              "</div>\n",
              "\n",
              "    </div>\n",
              "  </div>\n"
            ],
            "application/vnd.google.colaboratory.intrinsic+json": {
              "type": "dataframe",
              "summary": "{\n  \"name\": \"reportsDfSvd\",\n  \"rows\": 3,\n  \"fields\": [\n    {\n      \"column\": \"metric\",\n      \"properties\": {\n        \"dtype\": \"string\",\n        \"num_unique_values\": 3,\n        \"samples\": [\n          \"f1-score\",\n          \"precision\",\n          \"recall\"\n        ],\n        \"semantic_type\": \"\",\n        \"description\": \"\"\n      }\n    },\n    {\n      \"column\": \"Gen-Z\",\n      \"properties\": {\n        \"dtype\": \"number\",\n        \"std\": 0.07913490590967634,\n        \"min\": 0.797,\n        \"max\": 0.955,\n        \"num_unique_values\": 3,\n        \"samples\": [\n          0.868,\n          0.797,\n          0.955\n        ],\n        \"semantic_type\": \"\",\n        \"description\": \"\"\n      }\n    },\n    {\n      \"column\": \"Millenial\",\n      \"properties\": {\n        \"dtype\": \"number\",\n        \"std\": 0.20497398208878445,\n        \"min\": 0.317,\n        \"max\": 0.716,\n        \"num_unique_values\": 3,\n        \"samples\": [\n          0.435,\n          0.716,\n          0.317\n        ],\n        \"semantic_type\": \"\",\n        \"description\": \"\"\n      }\n    }\n  ]\n}"
            }
          },
          "metadata": {},
          "execution_count": 37
        }
      ]
    },
    {
      "cell_type": "markdown",
      "source": [
        "###### ROC"
      ],
      "metadata": {
        "id": "dLx-XU5H1HXS"
      }
    },
    {
      "cell_type": "code",
      "source": [
        "# Prediction prob\n",
        "y_pred_prob = xgb_model_tfidf_svd.predict_proba(X_test[svdTfidfFeatures + pcaFeatures])[:, 1]\n",
        "# Compute the ROC curve and the area under the curve (AUC)\n",
        "fpr, tpr, thresholds = roc_curve(y_test, y_pred_prob)\n",
        "roc_auc = auc(fpr, tpr)\n",
        "# Plot\n",
        "plt.figure()\n",
        "plt.plot(fpr, tpr, color='darkorange', lw=2, label=f'ROC curve (area = {roc_auc:.2f})')\n",
        "plt.plot([0, 1], [0, 1], color='navy', lw=2, linestyle='--')\n",
        "plt.xlim([0.0, 1.0])\n",
        "plt.ylim([0.0, 1.05])\n",
        "plt.xlabel('False Positive Rate')\n",
        "plt.ylabel('True Positive Rate')\n",
        "plt.title('Receiver Operating Characteristic (ROC)')\n",
        "plt.legend(loc='lower right')\n",
        "plt.show()"
      ],
      "metadata": {
        "colab": {
          "base_uri": "https://localhost:8080/",
          "height": 472
        },
        "id": "IpzMzuGu1P5x",
        "outputId": "9cd42f7e-dbc7-4d5b-eeba-e6e1c4bc1473"
      },
      "execution_count": null,
      "outputs": [
        {
          "output_type": "display_data",
          "data": {
            "text/plain": [
              "<Figure size 640x480 with 1 Axes>"
            ],
            "image/png": "[encoded data removed]"
          },
          "metadata": {}
        }
      ]
    },
    {
      "cell_type": "markdown",
      "source": [
        "##### Word Embeddings"
      ],
      "metadata": {
        "id": "zVKGbQn3Xe5-"
      }
    },
    {
      "cell_type": "code",
      "source": [
        "k = 5\n",
        "skf = StratifiedKFold(n_splits = k, shuffle = True, random_state = 42)\n",
        "\n",
        "# Lists to store results for each fold\n",
        "accuracies = []\n",
        "reports = []\n",
        "\n",
        "# XGBoost model on Word Embeddings\n",
        "xgb_model_embed = xgb.XGBClassifier(objective='binary:logistic', max_depth = 7, eta = 0.1, random_state=42)\n",
        "\n",
        "# Iterate through folds\n",
        "for train_index, val_index in skf.split(X_train, y_train):\n",
        "  # Get the fold's training and validation data\n",
        "  X_train_fold, X_val_fold = X_train.loc[train_index], X_train.loc[val_index]\n",
        "  y_train_fold, y_val_fold = y_train.loc[train_index], y_train.loc[val_index]\n",
        "\n",
        "  # Train on folds\n",
        "  xgb_model_embed.fit(X_train_fold[embeddingFeatures + metadataFeatures], y_train_fold)\n",
        "\n",
        "  # Evaluate on the validation set\n",
        "  y_pred_fold = xgb_model_embed.predict(X_val_fold[embeddingFeatures + metadataFeatures])\n",
        "\n",
        "  # Evaluate the fold's performance\n",
        "  accuracies.append(accuracy_score(y_val_fold, y_pred_fold))\n",
        "  reports.append(classification_report(y_val_fold, y_pred_fold, target_names=classes, output_dict=True))\n",
        "\n",
        "print(f\"Folds mean accuracy: {np.mean(accuracies):.4f}\")\n",
        "print(f\"Std. Dev: {np.std(accuracies):.4f}\")\n",
        "print(f\"All accuracy values: \", np.round(accuracies, 3))\n",
        "# Use the classification reports to find the average precision, recall, and f1-score per class\n",
        "dfs = []\n",
        "for report in reports:\n",
        "  df = pd.DataFrame(report).drop(columns = [\"accuracy\",\t\"macro avg\",\t\"weighted avg\"]).drop(index = [\"support\"]).reset_index().rename({\"index\": \"metric\"}, axis = 1)\n",
        "  dfs.append(df)\n",
        "# Combine\n",
        "reportsDf = pd.concat(dfs)\n",
        "\n",
        "# CV ROC-\n",
        "cv = StratifiedKFold(n_splits=k, shuffle=True, random_state=42)\n",
        "cvScores = cross_val_score(xgb_model_embed, X_train[embeddingFeatures + metadataFeatures], y_train, cv=cv, scoring='roc_auc')\n",
        "print(f\"Average ROC-AUC: {np.mean(cvScores):.4f}\")\n",
        "\n",
        "# Group by metric and take the mean\n",
        "reportsDfEmbed = reportsDf.groupby(\"metric\").mean().reset_index()\n",
        "print(\"Folds avg. metrics:\")\n",
        "print(reportsDfEmbed)\n",
        "\n",
        "print(\"~~~~~~~~~~~~~~~~~~~~~~~~~~~~~~~~~~~~~~~~~~~~\")\n",
        "# Train on the full training set\n",
        "xgb_model_embed.fit(X_train[embeddingFeatures + metadataFeatures], y_train)\n",
        "# Evaluate model performance on the test dataset\n",
        "y_pred = xgb_model_embed.predict(X_test[embeddingFeatures + metadataFeatures])\n",
        "print(f\"Accuracy: {np.mean(accuracy_score(y_test, y_pred)):.4f}\")\n",
        "print(\"Classification Report:\\n\", classification_report(y_test, y_pred, target_names=classes))\n",
        "print(\"Confusion Matrix:\\n\", confusion_matrix(y_test, y_pred))"
      ],
      "metadata": {
        "colab": {
          "base_uri": "https://localhost:8080/"
        },
        "id": "uEKI7D2CXhII",
        "outputId": "d8b27e09-4622-4c42-8289-9c7cd86d40f9"
      },
      "execution_count": null,
      "outputs": [
        {
          "output_type": "stream",
          "name": "stdout",
          "text": [
            "Folds mean accuracy: 0.7866\n",
            "Std. Dev: 0.0203\n",
            "All accuracy values:  [0.812 0.792 0.792 0.75  0.787]\n",
            "Average ROC-AUC: 0.7655\n",
            "Folds avg. metrics:\n",
            "      metric     Gen-Z  Millenial\n",
            "0   f1-score  0.863683   0.498377\n",
            "1  precision  0.814611   0.668615\n",
            "2     recall  0.920476   0.411538\n",
            "~~~~~~~~~~~~~~~~~~~~~~~~~~~~~~~~~~~~~~~~~~~~\n",
            "Accuracy: 0.7767\n",
            "Classification Report:\n",
            "               precision    recall  f1-score   support\n",
            "\n",
            "       Gen-Z       0.84      0.89      0.86        81\n",
            "   Millenial       0.47      0.36      0.41        22\n",
            "\n",
            "    accuracy                           0.78       103\n",
            "   macro avg       0.65      0.63      0.64       103\n",
            "weighted avg       0.76      0.78      0.77       103\n",
            "\n",
            "Confusion Matrix:\n",
            " [[72  9]\n",
            " [14  8]]\n"
          ]
        }
      ]
    },
    {
      "cell_type": "code",
      "source": [
        "reportsDfEmbed.round(3)"
      ],
      "metadata": {
        "colab": {
          "base_uri": "https://localhost:8080/",
          "height": 143
        },
        "id": "20gwKpptGDbF",
        "outputId": "95684be7-2506-4ae6-aaa5-352580651311"
      },
      "execution_count": null,
      "outputs": [
        {
          "output_type": "execute_result",
          "data": {
            "text/plain": [
              "      metric  Gen-Z  Millenial\n",
              "0   f1-score  0.864      0.498\n",
              "1  precision  0.815      0.669\n",
              "2     recall  0.920      0.412"
            ],
            "text/html": [
              "\n",
              "  <div id=\"df-3e6053a9-4056-4631-b600-35a9c7433362\" class=\"colab-df-container\">\n",
              "    <div>\n",
              "<style scoped>\n",
              "    .dataframe tbody tr th:only-of-type {\n",
              "        vertical-align: middle;\n",
              "    }\n",
              "\n",
              "    .dataframe tbody tr th {\n",
              "        vertical-align: top;\n",
              "    }\n",
              "\n",
              "    .dataframe thead th {\n",
              "        text-align: right;\n",
              "    }\n",
              "</style>\n",
              "<table border=\"1\" class=\"dataframe\">\n",
              "  <thead>\n",
              "    <tr style=\"text-align: right;\">\n",
              "      <th></th>\n",
              "      <th>metric</th>\n",
              "      <th>Gen-Z</th>\n",
              "      <th>Millenial</th>\n",
              "    </tr>\n",
              "  </thead>\n",
              "  <tbody>\n",
              "    <tr>\n",
              "      <th>0</th>\n",
              "      <td>f1-score</td>\n",
              "      <td>0.864</td>\n",
              "      <td>0.498</td>\n",
              "    </tr>\n",
              "    <tr>\n",
              "      <th>1</th>\n",
              "      <td>precision</td>\n",
              "      <td>0.815</td>\n",
              "      <td>0.669</td>\n",
              "    </tr>\n",
              "    <tr>\n",
              "      <th>2</th>\n",
              "      <td>recall</td>\n",
              "      <td>0.920</td>\n",
              "      <td>0.412</td>\n",
              "    </tr>\n",
              "  </tbody>\n",
              "</table>\n",
              "</div>\n",
              "    <div class=\"colab-df-buttons\">\n",
              "\n",
              "  <div class=\"colab-df-container\">\n",
              "    <button class=\"colab-df-convert\" onclick=\"convertToInteractive('df-3e6053a9-4056-4631-b600-35a9c7433362')\"\n",
              "            title=\"Convert this dataframe to an interactive table.\"\n",
              "            style=\"display:none;\">\n",
              "\n",
              "  <svg xmlns=\"http://www.w3.org/2000/svg\" height=\"24px\" viewBox=\"0 -960 960 960\">\n",
              "    <path d=\"M120-120v-720h720v720H120Zm60-500h600v-160H180v160Zm220 220h160v-160H400v160Zm0 220h160v-160H400v160ZM180-400h160v-160H180v160Zm440 0h160v-160H620v160ZM180-180h160v-160H180v160Zm440 0h160v-160H620v160Z\"/>\n",
              "  </svg>\n",
              "    </button>\n",
              "\n",
              "  <style>\n",
              "    .colab-df-container {\n",
              "      display:flex;\n",
              "      gap: 12px;\n",
              "    }\n",
              "\n",
              "    .colab-df-convert {\n",
              "      background-color: #E8F0FE;\n",
              "      border: none;\n",
              "      border-radius: 50%;\n",
              "      cursor: pointer;\n",
              "      display: none;\n",
              "      fill: #1967D2;\n",
              "      height: 32px;\n",
              "      padding: 0 0 0 0;\n",
              "      width: 32px;\n",
              "    }\n",
              "\n",
              "    .colab-df-convert:hover {\n",
              "      background-color: #E2EBFA;\n",
              "      box-shadow: 0px 1px 2px rgba(60, 64, 67, 0.3), 0px 1px 3px 1px rgba(60, 64, 67, 0.15);\n",
              "      fill: #174EA6;\n",
              "    }\n",
              "\n",
              "    .colab-df-buttons div {\n",
              "      margin-bottom: 4px;\n",
              "    }\n",
              "\n",
              "    [theme=dark] .colab-df-convert {\n",
              "      background-color: #3B4455;\n",
              "      fill: #D2E3FC;\n",
              "    }\n",
              "\n",
              "    [theme=dark] .colab-df-convert:hover {\n",
              "      background-color: #434B5C;\n",
              "      box-shadow: 0px 1px 3px 1px rgba(0, 0, 0, 0.15);\n",
              "      filter: drop-shadow(0px 1px 2px rgba(0, 0, 0, 0.3));\n",
              "      fill: #FFFFFF;\n",
              "    }\n",
              "  </style>\n",
              "\n",
              "    <script>\n",
              "      const buttonEl =\n",
              "        document.querySelector('#df-3e6053a9-4056-4631-b600-35a9c7433362 button.colab-df-convert');\n",
              "      buttonEl.style.display =\n",
              "        google.colab.kernel.accessAllowed ? 'block' : 'none';\n",
              "\n",
              "      async function convertToInteractive(key) {\n",
              "        const element = document.querySelector('#df-3e6053a9-4056-4631-b600-35a9c7433362');\n",
              "        const dataTable =\n",
              "          await google.colab.kernel.invokeFunction('convertToInteractive',\n",
              "                                                    [key], {});\n",
              "        if (!dataTable) return;\n",
              "\n",
              "        const docLinkHtml = 'Like what you see? Visit the ' +\n",
              "          '<a target=\"_blank\" href=https://colab.research.google.com/notebooks/data_table.ipynb>data table notebook</a>'\n",
              "          + ' to learn more about interactive tables.';\n",
              "        element.innerHTML = '';\n",
              "        dataTable['output_type'] = 'display_data';\n",
              "        await google.colab.output.renderOutput(dataTable, element);\n",
              "        const docLink = document.createElement('div');\n",
              "        docLink.innerHTML = docLinkHtml;\n",
              "        element.appendChild(docLink);\n",
              "      }\n",
              "    </script>\n",
              "  </div>\n",
              "\n",
              "\n",
              "<div id=\"df-55edb686-7352-482a-96cd-8dc5a2ced8f7\">\n",
              "  <button class=\"colab-df-quickchart\" onclick=\"quickchart('df-55edb686-7352-482a-96cd-8dc5a2ced8f7')\"\n",
              "            title=\"Suggest charts\"\n",
              "            style=\"display:none;\">\n",
              "\n",
              "<svg xmlns=\"http://www.w3.org/2000/svg\" height=\"24px\"viewBox=\"0 0 24 24\"\n",
              "     width=\"24px\">\n",
              "    <g>\n",
              "        <path d=\"M19 3H5c-1.1 0-2 .9-2 2v14c0 1.1.9 2 2 2h14c1.1 0 2-.9 2-2V5c0-1.1-.9-2-2-2zM9 17H7v-7h2v7zm4 0h-2V7h2v10zm4 0h-2v-4h2v4z\"/>\n",
              "    </g>\n",
              "</svg>\n",
              "  </button>\n",
              "\n",
              "<style>\n",
              "  .colab-df-quickchart {\n",
              "      --bg-color: #E8F0FE;\n",
              "      --fill-color: #1967D2;\n",
              "      --hover-bg-color: #E2EBFA;\n",
              "      --hover-fill-color: #174EA6;\n",
              "      --disabled-fill-color: #AAA;\n",
              "      --disabled-bg-color: #DDD;\n",
              "  }\n",
              "\n",
              "  [theme=dark] .colab-df-quickchart {\n",
              "      --bg-color: #3B4455;\n",
              "      --fill-color: #D2E3FC;\n",
              "      --hover-bg-color: #434B5C;\n",
              "      --hover-fill-color: #FFFFFF;\n",
              "      --disabled-bg-color: #3B4455;\n",
              "      --disabled-fill-color: #666;\n",
              "  }\n",
              "\n",
              "  .colab-df-quickchart {\n",
              "    background-color: var(--bg-color);\n",
              "    border: none;\n",
              "    border-radius: 50%;\n",
              "    cursor: pointer;\n",
              "    display: none;\n",
              "    fill: var(--fill-color);\n",
              "    height: 32px;\n",
              "    padding: 0;\n",
              "    width: 32px;\n",
              "  }\n",
              "\n",
              "  .colab-df-quickchart:hover {\n",
              "    background-color: var(--hover-bg-color);\n",
              "    box-shadow: 0 1px 2px rgba(60, 64, 67, 0.3), 0 1px 3px 1px rgba(60, 64, 67, 0.15);\n",
              "    fill: var(--button-hover-fill-color);\n",
              "  }\n",
              "\n",
              "  .colab-df-quickchart-complete:disabled,\n",
              "  .colab-df-quickchart-complete:disabled:hover {\n",
              "    background-color: var(--disabled-bg-color);\n",
              "    fill: var(--disabled-fill-color);\n",
              "    box-shadow: none;\n",
              "  }\n",
              "\n",
              "  .colab-df-spinner {\n",
              "    border: 2px solid var(--fill-color);\n",
              "    border-color: transparent;\n",
              "    border-bottom-color: var(--fill-color);\n",
              "    animation:\n",
              "      spin 1s steps(1) infinite;\n",
              "  }\n",
              "\n",
              "  @keyframes spin {\n",
              "    0% {\n",
              "      border-color: transparent;\n",
              "      border-bottom-color: var(--fill-color);\n",
              "      border-left-color: var(--fill-color);\n",
              "    }\n",
              "    20% {\n",
              "      border-color: transparent;\n",
              "      border-left-color: var(--fill-color);\n",
              "      border-top-color: var(--fill-color);\n",
              "    }\n",
              "    30% {\n",
              "      border-color: transparent;\n",
              "      border-left-color: var(--fill-color);\n",
              "      border-top-color: var(--fill-color);\n",
              "      border-right-color: var(--fill-color);\n",
              "    }\n",
              "    40% {\n",
              "      border-color: transparent;\n",
              "      border-right-color: var(--fill-color);\n",
              "      border-top-color: var(--fill-color);\n",
              "    }\n",
              "    60% {\n",
              "      border-color: transparent;\n",
              "      border-right-color: var(--fill-color);\n",
              "    }\n",
              "    80% {\n",
              "      border-color: transparent;\n",
              "      border-right-color: var(--fill-color);\n",
              "      border-bottom-color: var(--fill-color);\n",
              "    }\n",
              "    90% {\n",
              "      border-color: transparent;\n",
              "      border-bottom-color: var(--fill-color);\n",
              "    }\n",
              "  }\n",
              "</style>\n",
              "\n",
              "  <script>\n",
              "    async function quickchart(key) {\n",
              "      const quickchartButtonEl =\n",
              "        document.querySelector('#' + key + ' button');\n",
              "      quickchartButtonEl.disabled = true;  // To prevent multiple clicks.\n",
              "      quickchartButtonEl.classList.add('colab-df-spinner');\n",
              "      try {\n",
              "        const charts = await google.colab.kernel.invokeFunction(\n",
              "            'suggestCharts', [key], {});\n",
              "      } catch (error) {\n",
              "        console.error('Error during call to suggestCharts:', error);\n",
              "      }\n",
              "      quickchartButtonEl.classList.remove('colab-df-spinner');\n",
              "      quickchartButtonEl.classList.add('colab-df-quickchart-complete');\n",
              "    }\n",
              "    (() => {\n",
              "      let quickchartButtonEl =\n",
              "        document.querySelector('#df-55edb686-7352-482a-96cd-8dc5a2ced8f7 button');\n",
              "      quickchartButtonEl.style.display =\n",
              "        google.colab.kernel.accessAllowed ? 'block' : 'none';\n",
              "    })();\n",
              "  </script>\n",
              "</div>\n",
              "\n",
              "    </div>\n",
              "  </div>\n"
            ],
            "application/vnd.google.colaboratory.intrinsic+json": {
              "type": "dataframe",
              "summary": "{\n  \"name\": \"reportsDfEmbed\",\n  \"rows\": 3,\n  \"fields\": [\n    {\n      \"column\": \"metric\",\n      \"properties\": {\n        \"dtype\": \"string\",\n        \"num_unique_values\": 3,\n        \"samples\": [\n          \"f1-score\",\n          \"precision\",\n          \"recall\"\n        ],\n        \"semantic_type\": \"\",\n        \"description\": \"\"\n      }\n    },\n    {\n      \"column\": \"Gen-Z\",\n      \"properties\": {\n        \"dtype\": \"number\",\n        \"std\": 0.052538874496255994,\n        \"min\": 0.815,\n        \"max\": 0.92,\n        \"num_unique_values\": 3,\n        \"samples\": [\n          0.864,\n          0.815,\n          0.92\n        ],\n        \"semantic_type\": \"\",\n        \"description\": \"\"\n      }\n    },\n    {\n      \"column\": \"Millenial\",\n      \"properties\": {\n        \"dtype\": \"number\",\n        \"std\": 0.1308217616963376,\n        \"min\": 0.412,\n        \"max\": 0.669,\n        \"num_unique_values\": 3,\n        \"samples\": [\n          0.498,\n          0.669,\n          0.412\n        ],\n        \"semantic_type\": \"\",\n        \"description\": \"\"\n      }\n    }\n  ]\n}"
            }
          },
          "metadata": {},
          "execution_count": 40
        }
      ]
    },
    {
      "cell_type": "markdown",
      "source": [
        "###### ROC"
      ],
      "metadata": {
        "id": "f44HQlpH1EHq"
      }
    },
    {
      "cell_type": "code",
      "source": [
        "# Prediction prob\n",
        "y_pred_prob = xgb_model_embed.predict_proba(X_test[embeddingFeatures + metadataFeatures])[:, 1]\n",
        "# Compute the ROC curve and the area under the curve (AUC)\n",
        "fpr, tpr, thresholds = roc_curve(y_test, y_pred_prob)\n",
        "roc_auc = auc(fpr, tpr)\n",
        "# Plot\n",
        "plt.figure()\n",
        "plt.plot(fpr, tpr, color='darkorange', lw=2, label=f'ROC curve (area = {roc_auc:.2f})')\n",
        "plt.plot([0, 1], [0, 1], color='navy', lw=2, linestyle='--')\n",
        "plt.xlim([0.0, 1.0])\n",
        "plt.ylim([0.0, 1.05])\n",
        "plt.xlabel('False Positive Rate')\n",
        "plt.ylabel('True Positive Rate')\n",
        "plt.title('Receiver Operating Characteristic (ROC)')\n",
        "plt.legend(loc='lower right')\n",
        "plt.show()"
      ],
      "metadata": {
        "colab": {
          "base_uri": "https://localhost:8080/",
          "height": 472
        },
        "id": "xqE5fQSmtMOw",
        "outputId": "13dd6de7-1b8b-483d-ce83-ee7d3da6c136"
      },
      "execution_count": null,
      "outputs": [
        {
          "output_type": "display_data",
          "data": {
            "text/plain": [
              "<Figure size 640x480 with 1 Axes>"
            ],
            "image/png": "[encoded data removed]"
          },
          "metadata": {}
        }
      ]
    },
    {
      "cell_type": "markdown",
      "source": [
        "#### Hyperparamter Tuning\n",
        "Grid Search"
      ],
      "metadata": {
        "id": "OSA3ncpx-aWB"
      }
    },
    {
      "cell_type": "code",
      "source": [
        "# Hyperparameter tuning\n",
        "param_grid = {\n",
        "    'max_depth': [3, 5, 7],\n",
        "    'learning_rate': [0.01, 0.1, 0.3],\n",
        "    'n_estimators': [100, 200, 300],\n",
        "    'gamma': [0, 0.1, 0.2],\n",
        "    'subsample': [0.8, 1],\n",
        "    'colsample_bytree': [0.8, 1]\n",
        "}\n",
        "\n",
        "grid_search = GridSearchCV(estimator=xgb_model_embed, param_grid=param_grid, scoring='f1_macro', cv=5, verbose=1, n_jobs=-1)\n",
        "grid_search.fit(X_train, y_train)\n",
        "\n",
        "# Best model\n",
        "best_model = grid_search.best_estimator_\n",
        "\n",
        "# Predictions\n",
        "y_pred = best_model.predict(X_test)\n",
        "\n",
        "# Evaluation\n",
        "print(classification_report(y_test, y_pred))\n",
        "print(confusion_matrix(y_test, y_pred))\n"
      ],
      "metadata": {
        "colab": {
          "base_uri": "https://localhost:8080/"
        },
        "id": "kFcOvnXC4Y0K",
        "outputId": "8724b459-9f4d-4a81-b3ae-fc34b0c86166"
      },
      "execution_count": null,
      "outputs": [
        {
          "output_type": "stream",
          "name": "stdout",
          "text": [
            "Fitting 5 folds for each of 324 candidates, totalling 1620 fits\n"
          ]
        },
        {
          "output_type": "stream",
          "name": "stderr",
          "text": [
            "/usr/local/lib/python3.10/dist-packages/joblib/externals/loky/backend/fork_exec.py:38: RuntimeWarning: os.fork() was called. os.fork() is incompatible with multithreaded code, and JAX is multithreaded, so this will likely lead to a deadlock.\n",
            "  pid = os.fork()\n",
            "/usr/local/lib/python3.10/dist-packages/joblib/externals/loky/backend/fork_exec.py:38: RuntimeWarning: os.fork() was called. os.fork() is incompatible with multithreaded code, and JAX is multithreaded, so this will likely lead to a deadlock.\n",
            "  pid = os.fork()\n"
          ]
        },
        {
          "output_type": "stream",
          "name": "stdout",
          "text": [
            "              precision    recall  f1-score   support\n",
            "\n",
            "           0       0.84      0.86      0.85        96\n",
            "           1       0.41      0.36      0.38        25\n",
            "\n",
            "    accuracy                           0.76       121\n",
            "   macro avg       0.62      0.61      0.62       121\n",
            "weighted avg       0.75      0.76      0.75       121\n",
            "\n",
            "[[83 13]\n",
            " [16  9]]\n"
          ]
        }
      ]
    },
    {
      "cell_type": "markdown",
      "source": [
        "### Prediction\n",
        "1. Use the metadata model to predict\n",
        "2. Next best: Use the XGBoost with Embeddings model to predict the missing labels"
      ],
      "metadata": {
        "id": "TBgsu1Nta0q9"
      }
    },
    {
      "cell_type": "code",
      "source": [
        "# Create a dataframe with the missing ages\n",
        "toPredictDf = authorsWithTextDf[authorsWithTextDf.age_group.isna()]\n",
        "\n",
        "\"\"\"\n",
        "# Pass the df through the PCA pipeline\n",
        "toPredictPca = pcaPipeline.transform(toPredictDf)[:, :nComponents]\n",
        "toPredictPcaDf = pd.DataFrame(toPredictPca, columns = pcaCols, index = toPredictDf.index)\n",
        "\"\"\"\n",
        "# Create GloVe embeddings for tweets\n",
        "embeds = toPredictDf[\"cleaned_text\"].apply(get_tweet_embedding)\n",
        "# Convert to dataframe\n",
        "toPredEmbedsDf = pd.DataFrame(embeds.tolist(), columns = [f\"embedding_{i}\" for i in range(gloveModel.vector_size)])\n",
        "\n",
        "# Use the preprocessor from the metadata section\n",
        "toPredictMetadataDf = pd.DataFrame(preprocessor.transform(toPredictDf), columns = preprocessor.get_feature_names_out())\n",
        "# Combine this with the metadataFeatures\n",
        "combinedDf = pd.concat([toPredEmbedsDf, toPredictMetadataDf[metadataFeatures]], axis = 1)\n",
        "\n",
        "# predict\n",
        "y_pred = xgb_model_embed.predict(combinedDf)\n",
        "# inverse the labels\n",
        "y_pred = le.inverse_transform(y_pred)\n",
        "# Assign the labels to the dataframe\n",
        "toPredictDf[\"age_group\"] = y_pred\n",
        "\n",
        "# Combine with the original authorsTestDf dataframe\n",
        "fullDf = pd.concat([authorsWithTextDf[authorsWithTextDf.age_group.notna()], toPredictDf], axis = 0, ignore_index=True)\n",
        "# Assign the majority group to the na on age_group\n",
        "print(\"Missing age_groups:\", fullDf.age_group.isna().sum())\n",
        "fullDf.age_group.fillna(fullDf.age_group.value_counts().idxmax(), inplace=True)\n",
        "\n",
        "# Check\n",
        "print(\"Final dataset shape:\", fullDf.shape)\n",
        "fullDf.age_group.value_counts()"
      ],
      "metadata": {
        "colab": {
          "base_uri": "https://localhost:8080/"
        },
        "id": "BSFwdwGUbKNQ",
        "outputId": "bb8ce463-ef65-47d9-a30b-83f7c2c586d5"
      },
      "execution_count": null,
      "outputs": [
        {
          "output_type": "stream",
          "name": "stdout",
          "text": [
            "Missing age_groups: 0\n",
            "Final dataset shape: (6536, 31)\n"
          ]
        },
        {
          "output_type": "stream",
          "name": "stderr",
          "text": [
            "<ipython-input-86-35e967737347>:24: SettingWithCopyWarning: \n",
            "A value is trying to be set on a copy of a slice from a DataFrame.\n",
            "Try using .loc[row_indexer,col_indexer] = value instead\n",
            "\n",
            "See the caveats in the documentation: https://pandas.pydata.org/pandas-docs/stable/user_guide/indexing.html#returning-a-view-versus-a-copy\n",
            "  toPredictDf[\"age_group\"] = y_pred\n"
          ]
        },
        {
          "output_type": "execute_result",
          "data": {
            "text/plain": [
              "age_group\n",
              "Gen-Z        4657\n",
              "Millenial    1879\n",
              "Name: count, dtype: int64"
            ]
          },
          "metadata": {},
          "execution_count": 86
        }
      ]
    },
    {
      "cell_type": "code",
      "source": [
        "# Create a dataframe with the missing ages\n",
        "toPredictDf = authorsWithTextDf[authorsWithTextDf.age_group.isna()]\n",
        "# Use the preprocessor from the metadata section\n",
        "toPredictMetadataDf = pd.DataFrame(preprocessor.transform(toPredictDf), columns = preprocessor.get_feature_names_out())\n",
        "# predict\n",
        "y_pred = xgb_model_meta.predict(toPredictMetadataDf)\n",
        "# inverse the labels\n",
        "y_pred = le.inverse_transform(y_pred)\n",
        "# Assign the labels to the dataframe\n",
        "toPredictDf[\"age_group\"] = y_pred\n",
        "\n",
        "# Combine with the original authorsTestDf dataframe\n",
        "fullDf = pd.concat([authorsWithTextDf[authorsWithTextDf.age_group.notna()], toPredictDf], axis = 0, ignore_index=True)\n",
        "# Assign the majority group to the na on age_group\n",
        "print(\"Missing age_groups:\", fullDf.age_group.isna().sum())\n",
        "fullDf.age_group.fillna(fullDf.age_group.value_counts().idxmax(), inplace=True)\n",
        "\n",
        "# Check\n",
        "print(\"Final dataset shape:\", fullDf.shape)\n",
        "fullDf.age_group.value_counts()"
      ],
      "metadata": {
        "colab": {
          "base_uri": "https://localhost:8080/",
          "height": 317
        },
        "id": "RT9Zxab4Kgct",
        "outputId": "7056560f-4c38-4441-e94e-79f1d08802b3"
      },
      "execution_count": null,
      "outputs": [
        {
          "output_type": "stream",
          "name": "stdout",
          "text": [
            "Missing age_groups: 0\n",
            "Final dataset shape: (5612, 31)\n"
          ]
        },
        {
          "output_type": "stream",
          "name": "stderr",
          "text": [
            "<ipython-input-42-bfcab01254bd>:10: SettingWithCopyWarning: \n",
            "A value is trying to be set on a copy of a slice from a DataFrame.\n",
            "Try using .loc[row_indexer,col_indexer] = value instead\n",
            "\n",
            "See the caveats in the documentation: https://pandas.pydata.org/pandas-docs/stable/user_guide/indexing.html#returning-a-view-versus-a-copy\n",
            "  toPredictDf[\"age_group\"] = y_pred\n"
          ]
        },
        {
          "output_type": "execute_result",
          "data": {
            "text/plain": [
              "age_group\n",
              "Gen-Z        4283\n",
              "Millenial    1329\n",
              "Name: count, dtype: int64"
            ],
            "text/html": [
              "<table border=\"1\" class=\"dataframe\">\n",
              "  <thead>\n",
              "    <tr style=\"text-align: right;\">\n",
              "      <th></th>\n",
              "      <th>count</th>\n",
              "    </tr>\n",
              "    <tr>\n",
              "      <th>age_group</th>\n",
              "      <th></th>\n",
              "    </tr>\n",
              "  </thead>\n",
              "  <tbody>\n",
              "    <tr>\n",
              "      <th>Gen-Z</th>\n",
              "      <td>4283</td>\n",
              "    </tr>\n",
              "    <tr>\n",
              "      <th>Millenial</th>\n",
              "      <td>1329</td>\n",
              "    </tr>\n",
              "  </tbody>\n",
              "</table><br><label><b>dtype:</b> int64</label>"
            ]
          },
          "metadata": {},
          "execution_count": 42
        }
      ]
    },
    {
      "cell_type": "markdown",
      "source": [
        "##### Save"
      ],
      "metadata": {
        "id": "d96aFH8dJ0kP"
      }
    },
    {
      "cell_type": "code",
      "source": [
        "# Save the output to a pickle file (remove the text to reduce the file size)\n",
        "fullDf.drop(columns = [\"cleaned_text\"]).to_pickle(os.path.join(demographicsDir, \"authorAge.pickle\"))"
      ],
      "metadata": {
        "id": "84zVeMkjhKwG"
      },
      "execution_count": null,
      "outputs": []
    },
    {
      "cell_type": "markdown",
      "source": [
        "#### Validate"
      ],
      "metadata": {
        "id": "q1spBXKTg-yP"
      }
    },
    {
      "cell_type": "code",
      "source": [
        "print(\"Final Shape:\", fullDf.shape)\n",
        "fullDf.age_group.value_counts()"
      ],
      "metadata": {
        "colab": {
          "base_uri": "https://localhost:8080/",
          "height": 195
        },
        "id": "TVZUP1UgeU84",
        "outputId": "84500b67-4010-4686-f1e1-3e450164ecd0"
      },
      "execution_count": null,
      "outputs": [
        {
          "output_type": "stream",
          "name": "stdout",
          "text": [
            "Final Shape: (5612, 31)\n"
          ]
        },
        {
          "output_type": "execute_result",
          "data": {
            "text/plain": [
              "age_group\n",
              "Gen-Z        4283\n",
              "Millenial    1329\n",
              "Name: count, dtype: int64"
            ],
            "text/html": [
              "<table border=\"1\" class=\"dataframe\">\n",
              "  <thead>\n",
              "    <tr style=\"text-align: right;\">\n",
              "      <th></th>\n",
              "      <th>count</th>\n",
              "    </tr>\n",
              "    <tr>\n",
              "      <th>age_group</th>\n",
              "      <th></th>\n",
              "    </tr>\n",
              "  </thead>\n",
              "  <tbody>\n",
              "    <tr>\n",
              "      <th>Gen-Z</th>\n",
              "      <td>4283</td>\n",
              "    </tr>\n",
              "    <tr>\n",
              "      <th>Millenial</th>\n",
              "      <td>1329</td>\n",
              "    </tr>\n",
              "  </tbody>\n",
              "</table><br><label><b>dtype:</b> int64</label>"
            ]
          },
          "metadata": {},
          "execution_count": 46
        }
      ]
    },
    {
      "cell_type": "code",
      "source": [],
      "metadata": {
        "id": "nusZwrDeiRLm"
      },
      "execution_count": null,
      "outputs": []
    }
  ]
}