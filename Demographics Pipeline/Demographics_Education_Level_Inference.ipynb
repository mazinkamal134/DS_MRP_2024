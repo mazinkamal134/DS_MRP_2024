{
  "cells": [
    {
      "cell_type": "markdown",
      "metadata": {
        "id": "view-in-github",
        "colab_type": "text"
      },
      "source": [
        "<a href=\"https://colab.research.google.com/github/mazinkamal134/DS_MRP_2024/blob/main/Demographics%20Pipeline/Demographics_Education_Level_Inference.ipynb\" target=\"_parent\"><img src=\"https://colab.research.google.com/assets/colab-badge.svg\" alt=\"Open In Colab\"/></a>"
      ]
    },
    {
      "cell_type": "code",
      "source": [
        "## More info: https://pypi.org/project/textstat/\n",
        "!pip install textstat"
      ],
      "metadata": {
        "colab": {
          "base_uri": "https://localhost:8080/"
        },
        "id": "PlT7oaSMgCul",
        "outputId": "82370634-1a47-4a25-b7bf-39e5918e0c0a"
      },
      "id": "PlT7oaSMgCul",
      "execution_count": null,
      "outputs": [
        {
          "output_type": "stream",
          "name": "stdout",
          "text": [
            "Collecting textstat\n",
            "  Downloading textstat-0.7.4-py3-none-any.whl.metadata (14 kB)\n",
            "Collecting pyphen (from textstat)\n",
            "  Downloading pyphen-0.16.0-py3-none-any.whl.metadata (3.2 kB)\n",
            "Requirement already satisfied: setuptools in /usr/local/lib/python3.10/dist-packages (from textstat) (71.0.4)\n",
            "Downloading textstat-0.7.4-py3-none-any.whl (105 kB)\n",
            "\u001b[2K   \u001b[90m━━━━━━━━━━━━━━━━━━━━━━━━━━━━━━━━━━━━━━━━\u001b[0m \u001b[32m105.1/105.1 kB\u001b[0m \u001b[31m3.3 MB/s\u001b[0m eta \u001b[36m0:00:00\u001b[0m\n",
            "\u001b[?25hDownloading pyphen-0.16.0-py3-none-any.whl (2.1 MB)\n",
            "\u001b[2K   \u001b[90m━━━━━━━━━━━━━━━━━━━━━━━━━━━━━━━━━━━━━━━━\u001b[0m \u001b[32m2.1/2.1 MB\u001b[0m \u001b[31m49.2 MB/s\u001b[0m eta \u001b[36m0:00:00\u001b[0m\n",
            "\u001b[?25hInstalling collected packages: pyphen, textstat\n",
            "Successfully installed pyphen-0.16.0 textstat-0.7.4\n"
          ]
        }
      ]
    },
    {
      "cell_type": "code",
      "execution_count": null,
      "id": "c207e292",
      "metadata": {
        "id": "c207e292"
      },
      "outputs": [],
      "source": [
        "import os\n",
        "import pandas as pd\n",
        "import numpy as np\n",
        "import re\n",
        "import html\n",
        "import time\n",
        "import pickle\n",
        "\n",
        "import textstat\n",
        "import matplotlib.pyplot as plt\n",
        "import seaborn as sns\n",
        "from scipy import stats\n",
        "from scipy.stats import spearmanr"
      ]
    },
    {
      "cell_type": "code",
      "source": [
        "authorsDir = \"/content/drive/MyDrive/Master-2024/MRP/Data/Authors\"\n",
        "tweetsDir = \"/content/drive/MyDrive/Master-2024/MRP/Data/Tweets\"\n",
        "demographicsDir = \"/content/drive/MyDrive/Master-2024/MRP/Data/Demographics\""
      ],
      "metadata": {
        "id": "i_NBc38og3Ui"
      },
      "id": "i_NBc38og3Ui",
      "execution_count": null,
      "outputs": []
    },
    {
      "cell_type": "code",
      "source": [
        "# Mount Google drive\n",
        "from google.colab import drive\n",
        "drive.mount('/content/drive')"
      ],
      "metadata": {
        "colab": {
          "base_uri": "https://localhost:8080/"
        },
        "id": "Fgrd6K26jxWR",
        "outputId": "8be6094a-7f9a-400b-cdfa-dd0414ce9b09"
      },
      "id": "Fgrd6K26jxWR",
      "execution_count": null,
      "outputs": [
        {
          "output_type": "stream",
          "name": "stdout",
          "text": [
            "Mounted at /content/drive\n"
          ]
        }
      ]
    },
    {
      "cell_type": "markdown",
      "source": [
        "### Text Preprocessing"
      ],
      "metadata": {
        "id": "WlwyBeVArSlh"
      },
      "id": "WlwyBeVArSlh"
    },
    {
      "cell_type": "code",
      "execution_count": null,
      "id": "9cf90d07",
      "metadata": {
        "id": "9cf90d07"
      },
      "outputs": [],
      "source": [
        "# Function to preprocess the text\n",
        "def clean_text(text):\n",
        "    if text is None: # Check if text is None\n",
        "      return \"\" # Return empty string if None\n",
        "\n",
        "    # regex\n",
        "    JUST_WORDS = re.compile(r\"\\W+\")\n",
        "    #SLASHES = re.compile(r\"[\\\\/]\")\n",
        "    #PERCENT = re.compile(r\"[%]\")\n",
        "    URLs = re.compile(r\"http\\S+|www\\S+|https\\S+\")\n",
        "    HASHTAG = re.compile(r\"#\\w+\")\n",
        "    EMOJIS = re.compile(\n",
        "        \"[\"\n",
        "        \"\\U0001F600-\\U0001F64F\"  # Emoticons\n",
        "        \"\\U0001F300-\\U0001F5FF\"  # Symbols & Pictographs\n",
        "        \"\\U0001F680-\\U0001F6FF\"  # Transport & Map Symbols\n",
        "        \"\\U0001F1E0-\\U0001F1FF\"  # Flags (iOS)\n",
        "        \"\\U00002700-\\U000027BF\"  # Dingbats\n",
        "        \"\\U0001F900-\\U0001F9FF\"  # Supplemental Symbols and Pictographs\n",
        "        \"\\U0001FA70-\\U0001FAFF\"  # Symbols and Pictographs Extended-A\n",
        "        \"\\U00002600-\\U000026FF\"  # Miscellaneous Symbols\n",
        "        \"\\U00002500-\\U00002BEF\"  # Other symbols\n",
        "        \"\\U0001F004\"             # Mahjong Tile Red Dragon\n",
        "        \"\\U0001F0CF\"             # Playing Card Black Joker\n",
        "        \"\\U0001F018-\\U0001F270\"  # Various Asian characters\n",
        "        \"\\U0001F201-\\U0001F251\"  # Enclosed characters\n",
        "        \"\\U0001F926-\\U0001F937\"  # Additional emoji\n",
        "        \"\\U0001F97C-\\U0001F9FF\"  # Additional emoji\n",
        "        \"\\U0001F9E0-\\U0001F9E6\"  # Additional emoji\n",
        "        \"\\U0001F680-\\U0001F6C5\"  # Transport and map symbols\n",
        "        \"\\U0001F6F4-\\U0001F6F8\"  # Additional transport and map symbols\n",
        "        \"\\U0001F7E0-\\U0001F7EB\"  # Additional symbols\n",
        "        \"\\U0001F90D-\\U0001F93A\"  # Additional emoji\n",
        "        \"\\U0001F93C-\\U0001F945\"  # Additional emoji\n",
        "        \"\\U0001F947-\\U0001F978\"  # Additional emoji\n",
        "        \"\\U0001F97A-\\U0001F9CB\"  # Additional emoji\n",
        "        \"\\U0001F9CD-\\U0001FA6D\"  # Additional emoji\n",
        "        \"\\U0001FA60-\\U0001FA6D\"  # Additional emoji\n",
        "        \"\\U0001FA70-\\U0001FA74\"  # Additional emoji\n",
        "        \"\\U0001FA78-\\U0001FA7A\"  # Additional emoji\n",
        "        \"\\U0001FA80-\\U0001FA86\"  # Additional emoji\n",
        "        \"\\U0001FA90-\\U0001FAA8\"  # Additional emoji\n",
        "        \"\\U0001FAB0-\\U0001FAB6\"  # Additional emoji\n",
        "        \"\\U0001FAC0-\\U0001FAC2\"  # Additional emoji\n",
        "        \"\\U0001FAD0-\\U0001FAD6\"  # Additional emoji\n",
        "        \"\\u200d\"                 # Zero Width Joiner\n",
        "        \"\\u2640-\\u2642\"          # Gender symbols\n",
        "        \"\\u2600-\\u2B55\"          # Miscellaneous symbols and dingbats\n",
        "        \"\\u23cf\"                 # Eject symbol\n",
        "        \"\\u23e9\"                 # Fast forward\n",
        "        \"\\u231a\"                 # Watch\n",
        "        \"\\ufe0f\"                 # Dingbats\n",
        "        \"\\u3030\"                 # Wavy dash\n",
        "        \"\\u00a9\"                 # Copyright\n",
        "        \"\\u00ae\"                 # Registered\n",
        "        \"\\u2122\"                 # Trademark\n",
        "        \"]+\", flags = re.UNICODE)\n",
        "\n",
        "    # remove html related\n",
        "    text = html.unescape(text)\n",
        "    # remove the line feeds\n",
        "    text = re.sub(r\"\\n\", \" \", text)\n",
        "    # lowercase text\n",
        "    text = text.lower()\n",
        "    # Remove emojis from the text using the pattern\n",
        "    text = EMOJIS.sub(\" \", text)\n",
        "    # Substitute the matched string in URLs with space.\n",
        "    text = URLs.sub(\" \", text)\n",
        "    # Substitute the matched string in HASHTAG with space.\n",
        "    text = HASHTAG.sub(\" \", text)\n",
        "    # Remove what's left\n",
        "    text = JUST_WORDS.sub(\" \", text)\n",
        "    # Trim the text\n",
        "    text = text.strip()\n",
        "    # Add . to the end of the text\n",
        "    if not text.endswith(\".\"):\n",
        "        text += \".\"\n",
        "\n",
        "    return text"
      ]
    },
    {
      "cell_type": "markdown",
      "id": "ea951dfc",
      "metadata": {
        "id": "ea951dfc"
      },
      "source": [
        "### Import Users"
      ]
    },
    {
      "cell_type": "code",
      "source": [
        "# Read from parquet\n",
        "usersDf = pd.read_parquet(os.path.join(authorsDir, \"Authors.parquet\"))\n",
        "# Check\n",
        "print(\"Full dataset shape:\", usersDf.shape)"
      ],
      "metadata": {
        "colab": {
          "base_uri": "https://localhost:8080/"
        },
        "id": "64p9z1JGrKbG",
        "outputId": "5826c3bf-8325-446f-8ac3-21280f4a1099"
      },
      "id": "64p9z1JGrKbG",
      "execution_count": null,
      "outputs": [
        {
          "output_type": "stream",
          "name": "stdout",
          "text": [
            "Full dataset shape: (5612, 13)\n"
          ]
        }
      ]
    },
    {
      "cell_type": "markdown",
      "source": [
        "### Import Tweets"
      ],
      "metadata": {
        "id": "LbbXK7UOrZqJ"
      },
      "id": "LbbXK7UOrZqJ"
    },
    {
      "cell_type": "code",
      "execution_count": null,
      "id": "39047dff",
      "metadata": {
        "colab": {
          "base_uri": "https://localhost:8080/"
        },
        "id": "39047dff",
        "outputId": "7f5a46a5-3257-41d8-974e-850adbf51e3f"
      },
      "outputs": [
        {
          "output_type": "stream",
          "name": "stdout",
          "text": [
            "Filtered tweets shape: (8025384, 28)\n",
            "Elapsed time: 119.59 Minutes\n"
          ]
        }
      ],
      "source": [
        "start = time.time()\n",
        "# Load the tweets parquet file\n",
        "tweetsDf = pd.read_parquet(os.path.join(tweetsDir, \"processedTweets.parquet\"))\n",
        "print(\"Original tweets shape:\", tweetsDf.shape)\n",
        "# Remove other languages + remove the missing text, and only focus on timeline tweets\n",
        "# Part of the code is commented since some control users have no\n",
        "tweetsDf = tweetsDf[(tweetsDf.cleaned_text.notna())]# & (tweetsDf.tweet_type == \"timeline\") & (tweetsDf.lang == \"en\")]\n",
        "# Join with the users\n",
        "tweetsDf = tweetsDf.merge(usersDf[[\"author_id\"]], on = \"author_id\", how = \"inner\")\n",
        "print(\"Filtered tweets shape:\", tweetsDf.shape)\n",
        "\n",
        "# Sort for further processing\n",
        "tweetsDf = tweetsDf.sort_values(by = [\"author_id\", \"created_at\"], ascending = [True, False]).reset_index(drop = True)\n",
        "\n",
        "# Clean the text\n",
        "tweetsDf[\"cleaned_text\"] = tweetsDf.cleaned_text.apply(clean_text)\n",
        "\n",
        "# Instrumentation\n",
        "end = time.time()\n",
        "print(\"Elapsed time:\", round((end - start)/60.0, 2), \"Minutes\")"
      ]
    },
    {
      "cell_type": "markdown",
      "source": [
        "#### Validate"
      ],
      "metadata": {
        "id": "zfwW6yr4u-8S"
      },
      "id": "zfwW6yr4u-8S"
    },
    {
      "cell_type": "code",
      "source": [
        "usersFromTweets = tweetsDf.author_id.unique()\n",
        "print(\"Number of users from tweets:\", len(usersFromTweets))\n",
        "difference = set(usersDf.author_id.unique()) - set(usersFromTweets)\n",
        "print(\"Number of users not in tweets:\", len(difference))"
      ],
      "metadata": {
        "colab": {
          "base_uri": "https://localhost:8080/"
        },
        "id": "cjd-eCTbl65m",
        "outputId": "332933be-dc4c-4cda-d339-3c763f978652"
      },
      "id": "cjd-eCTbl65m",
      "execution_count": null,
      "outputs": [
        {
          "output_type": "stream",
          "name": "stdout",
          "text": [
            "Number of users from tweets: 5612\n",
            "Number of users not in tweets: 0\n"
          ]
        }
      ]
    },
    {
      "cell_type": "markdown",
      "source": [
        "#### Aggregate the tweets"
      ],
      "metadata": {
        "id": "4w8laoywr9ew"
      },
      "id": "4w8laoywr9ew"
    },
    {
      "cell_type": "code",
      "source": [
        "# Aggregate tweets by user\n",
        "start = time.time()\n",
        "\n",
        "# Get only the last n tweets of each user based on created_at\n",
        "n = 200\n",
        "recentTweetsDf = tweetsDf.groupby(\"author_id\").head(n).reset_index()\n",
        "print(\"Shape of the recent tweets df:\", recentTweetsDf.shape)\n",
        "\n",
        "# Aggregate the tweets\n",
        "aggTweetsDf = recentTweetsDf.groupby(\"author_id\")[\"cleaned_text\"].apply(lambda x: \". \".join(x)).reset_index()\n",
        "print(\"Shape of the aggregate df:\", aggTweetsDf.shape)\n",
        "\n",
        "# Calculate ARI scores\n",
        "aggTweetsDf[\"ari_score\"] = aggTweetsDf[\"cleaned_text\"].apply(textstat.automated_readability_index)\n",
        "# Set the maximum grade at 15 for ARI\n",
        "aggTweetsDf.loc[aggTweetsDf.ari_score > 15, \"ari_score\"] = 15\n",
        "aggTweetsDf.loc[aggTweetsDf.ari_score < 1, \"ari_score\"] = 1\n",
        "\n",
        "# Calculate Flesch-Kincaid Grade Level scores\n",
        "aggTweetsDf[\"flesch_kincaid_grade\"] = aggTweetsDf[\"cleaned_text\"].apply(textstat.flesch_kincaid_grade)\n",
        "aggTweetsDf.loc[aggTweetsDf.flesch_kincaid_grade > 15, \"flesch_kincaid_grade\"] = 15\n",
        "aggTweetsDf.loc[aggTweetsDf.flesch_kincaid_grade < 1, \"flesch_kincaid_grade\"] = 1\n",
        "\n",
        "# drop the text columns\n",
        "aggTweetsDf.drop(\"cleaned_text\", axis = 1, inplace = True)\n",
        "\n",
        "# Instrumentation\n",
        "end = time.time()\n",
        "print(\"Elapsed time:\", round((end - start)/60.0, 2), \"Minutes\")"
      ],
      "metadata": {
        "colab": {
          "base_uri": "https://localhost:8080/"
        },
        "id": "dZYzyfRPjV7K",
        "outputId": "2d3372b4-12e7-4973-937e-67fb1a7dddc6"
      },
      "id": "dZYzyfRPjV7K",
      "execution_count": null,
      "outputs": [
        {
          "output_type": "stream",
          "name": "stdout",
          "text": [
            "Shape of the recent tweets df: (972981, 29)\n",
            "Shape of the aggregate df: (5612, 2)\n",
            "Elapsed time: 0.54 Minutes\n"
          ]
        }
      ]
    },
    {
      "cell_type": "markdown",
      "source": [
        "#### Assign the grade level"
      ],
      "metadata": {
        "id": "wO-FnF-Iu9Hj"
      },
      "id": "wO-FnF-Iu9Hj"
    },
    {
      "cell_type": "code",
      "source": [
        "# Add group to the aggTweetsDf by joining the usersDf\n",
        "aggTweetsDf = aggTweetsDf.merge(usersDf[[\"author_id\", \"group\"]], on = \"author_id\", how = \"inner\")\n",
        "# Map\n",
        "aggTweetsDf[\"group\"] = aggTweetsDf[\"group\"].map({0: \"Control\", 1: \"Treatment\"})\n",
        "print(\"Shape of the aggTweetsDf:\", aggTweetsDf.shape)"
      ],
      "metadata": {
        "colab": {
          "base_uri": "https://localhost:8080/"
        },
        "id": "JE0xMdVnHde0",
        "outputId": "aa42296c-caa4-4adf-838e-8e559c196963"
      },
      "id": "JE0xMdVnHde0",
      "execution_count": null,
      "outputs": [
        {
          "output_type": "stream",
          "name": "stdout",
          "text": [
            "Shape of the aggTweetsDf: (5612, 4)\n"
          ]
        }
      ]
    },
    {
      "cell_type": "code",
      "source": [
        "# Define grade level categories (adjust as needed)\n",
        "def categorize_grade(grade):\n",
        "    if grade < 9:\n",
        "        return \"Middle/Elemntary School\"\n",
        "    else:\n",
        "        return \"High School & College\"\n",
        "\n",
        "# Apply\n",
        "aggTweetsDf[\"ari_grade\"] = aggTweetsDf[\"ari_score\"].apply(categorize_grade)\n",
        "aggTweetsDf[\"fk_grade\"] = aggTweetsDf[\"flesch_kincaid_grade\"].apply(categorize_grade)\n",
        "\n",
        "# Sample\n",
        "aggTweetsDf.sample(3)"
      ],
      "metadata": {
        "colab": {
          "base_uri": "https://localhost:8080/",
          "height": 143
        },
        "id": "HP9V7EpLnO6s",
        "outputId": "5279b66f-a11c-435b-fbb8-8b25283cbc2e"
      },
      "id": "HP9V7EpLnO6s",
      "execution_count": null,
      "outputs": [
        {
          "output_type": "execute_result",
          "data": {
            "text/plain": [
              "                author_id  ari_score  flesch_kincaid_grade      group  \\\n",
              "4970   818184079300579332       11.3                   9.3    Control   \n",
              "2235  1343362378189123585        9.2                   8.2  Treatment   \n",
              "4842   776534197829832704        7.5                   6.3    Control   \n",
              "\n",
              "                    ari_grade                 fk_grade  \n",
              "4970    High School & College    High School & College  \n",
              "2235    High School & College  Middle/Elemntary School  \n",
              "4842  Middle/Elemntary School  Middle/Elemntary School  "
            ],
            "text/html": [
              "\n",
              "  <div id=\"df-83448aac-2167-4150-802f-5cc6ab329ab0\" class=\"colab-df-container\">\n",
              "    <div>\n",
              "<style scoped>\n",
              "    .dataframe tbody tr th:only-of-type {\n",
              "        vertical-align: middle;\n",
              "    }\n",
              "\n",
              "    .dataframe tbody tr th {\n",
              "        vertical-align: top;\n",
              "    }\n",
              "\n",
              "    .dataframe thead th {\n",
              "        text-align: right;\n",
              "    }\n",
              "</style>\n",
              "<table border=\"1\" class=\"dataframe\">\n",
              "  <thead>\n",
              "    <tr style=\"text-align: right;\">\n",
              "      <th></th>\n",
              "      <th>author_id</th>\n",
              "      <th>ari_score</th>\n",
              "      <th>flesch_kincaid_grade</th>\n",
              "      <th>group</th>\n",
              "      <th>ari_grade</th>\n",
              "      <th>fk_grade</th>\n",
              "    </tr>\n",
              "  </thead>\n",
              "  <tbody>\n",
              "    <tr>\n",
              "      <th>4970</th>\n",
              "      <td>818184079300579332</td>\n",
              "      <td>11.3</td>\n",
              "      <td>9.3</td>\n",
              "      <td>Control</td>\n",
              "      <td>High School &amp; College</td>\n",
              "      <td>High School &amp; College</td>\n",
              "    </tr>\n",
              "    <tr>\n",
              "      <th>2235</th>\n",
              "      <td>1343362378189123585</td>\n",
              "      <td>9.2</td>\n",
              "      <td>8.2</td>\n",
              "      <td>Treatment</td>\n",
              "      <td>High School &amp; College</td>\n",
              "      <td>Middle/Elemntary School</td>\n",
              "    </tr>\n",
              "    <tr>\n",
              "      <th>4842</th>\n",
              "      <td>776534197829832704</td>\n",
              "      <td>7.5</td>\n",
              "      <td>6.3</td>\n",
              "      <td>Control</td>\n",
              "      <td>Middle/Elemntary School</td>\n",
              "      <td>Middle/Elemntary School</td>\n",
              "    </tr>\n",
              "  </tbody>\n",
              "</table>\n",
              "</div>\n",
              "    <div class=\"colab-df-buttons\">\n",
              "\n",
              "  <div class=\"colab-df-container\">\n",
              "    <button class=\"colab-df-convert\" onclick=\"convertToInteractive('df-83448aac-2167-4150-802f-5cc6ab329ab0')\"\n",
              "            title=\"Convert this dataframe to an interactive table.\"\n",
              "            style=\"display:none;\">\n",
              "\n",
              "  <svg xmlns=\"http://www.w3.org/2000/svg\" height=\"24px\" viewBox=\"0 -960 960 960\">\n",
              "    <path d=\"M120-120v-720h720v720H120Zm60-500h600v-160H180v160Zm220 220h160v-160H400v160Zm0 220h160v-160H400v160ZM180-400h160v-160H180v160Zm440 0h160v-160H620v160ZM180-180h160v-160H180v160Zm440 0h160v-160H620v160Z\"/>\n",
              "  </svg>\n",
              "    </button>\n",
              "\n",
              "  <style>\n",
              "    .colab-df-container {\n",
              "      display:flex;\n",
              "      gap: 12px;\n",
              "    }\n",
              "\n",
              "    .colab-df-convert {\n",
              "      background-color: #E8F0FE;\n",
              "      border: none;\n",
              "      border-radius: 50%;\n",
              "      cursor: pointer;\n",
              "      display: none;\n",
              "      fill: #1967D2;\n",
              "      height: 32px;\n",
              "      padding: 0 0 0 0;\n",
              "      width: 32px;\n",
              "    }\n",
              "\n",
              "    .colab-df-convert:hover {\n",
              "      background-color: #E2EBFA;\n",
              "      box-shadow: 0px 1px 2px rgba(60, 64, 67, 0.3), 0px 1px 3px 1px rgba(60, 64, 67, 0.15);\n",
              "      fill: #174EA6;\n",
              "    }\n",
              "\n",
              "    .colab-df-buttons div {\n",
              "      margin-bottom: 4px;\n",
              "    }\n",
              "\n",
              "    [theme=dark] .colab-df-convert {\n",
              "      background-color: #3B4455;\n",
              "      fill: #D2E3FC;\n",
              "    }\n",
              "\n",
              "    [theme=dark] .colab-df-convert:hover {\n",
              "      background-color: #434B5C;\n",
              "      box-shadow: 0px 1px 3px 1px rgba(0, 0, 0, 0.15);\n",
              "      filter: drop-shadow(0px 1px 2px rgba(0, 0, 0, 0.3));\n",
              "      fill: #FFFFFF;\n",
              "    }\n",
              "  </style>\n",
              "\n",
              "    <script>\n",
              "      const buttonEl =\n",
              "        document.querySelector('#df-83448aac-2167-4150-802f-5cc6ab329ab0 button.colab-df-convert');\n",
              "      buttonEl.style.display =\n",
              "        google.colab.kernel.accessAllowed ? 'block' : 'none';\n",
              "\n",
              "      async function convertToInteractive(key) {\n",
              "        const element = document.querySelector('#df-83448aac-2167-4150-802f-5cc6ab329ab0');\n",
              "        const dataTable =\n",
              "          await google.colab.kernel.invokeFunction('convertToInteractive',\n",
              "                                                    [key], {});\n",
              "        if (!dataTable) return;\n",
              "\n",
              "        const docLinkHtml = 'Like what you see? Visit the ' +\n",
              "          '<a target=\"_blank\" href=https://colab.research.google.com/notebooks/data_table.ipynb>data table notebook</a>'\n",
              "          + ' to learn more about interactive tables.';\n",
              "        element.innerHTML = '';\n",
              "        dataTable['output_type'] = 'display_data';\n",
              "        await google.colab.output.renderOutput(dataTable, element);\n",
              "        const docLink = document.createElement('div');\n",
              "        docLink.innerHTML = docLinkHtml;\n",
              "        element.appendChild(docLink);\n",
              "      }\n",
              "    </script>\n",
              "  </div>\n",
              "\n",
              "\n",
              "<div id=\"df-68b780f0-3835-4f11-b375-4c86eaaf4f48\">\n",
              "  <button class=\"colab-df-quickchart\" onclick=\"quickchart('df-68b780f0-3835-4f11-b375-4c86eaaf4f48')\"\n",
              "            title=\"Suggest charts\"\n",
              "            style=\"display:none;\">\n",
              "\n",
              "<svg xmlns=\"http://www.w3.org/2000/svg\" height=\"24px\"viewBox=\"0 0 24 24\"\n",
              "     width=\"24px\">\n",
              "    <g>\n",
              "        <path d=\"M19 3H5c-1.1 0-2 .9-2 2v14c0 1.1.9 2 2 2h14c1.1 0 2-.9 2-2V5c0-1.1-.9-2-2-2zM9 17H7v-7h2v7zm4 0h-2V7h2v10zm4 0h-2v-4h2v4z\"/>\n",
              "    </g>\n",
              "</svg>\n",
              "  </button>\n",
              "\n",
              "<style>\n",
              "  .colab-df-quickchart {\n",
              "      --bg-color: #E8F0FE;\n",
              "      --fill-color: #1967D2;\n",
              "      --hover-bg-color: #E2EBFA;\n",
              "      --hover-fill-color: #174EA6;\n",
              "      --disabled-fill-color: #AAA;\n",
              "      --disabled-bg-color: #DDD;\n",
              "  }\n",
              "\n",
              "  [theme=dark] .colab-df-quickchart {\n",
              "      --bg-color: #3B4455;\n",
              "      --fill-color: #D2E3FC;\n",
              "      --hover-bg-color: #434B5C;\n",
              "      --hover-fill-color: #FFFFFF;\n",
              "      --disabled-bg-color: #3B4455;\n",
              "      --disabled-fill-color: #666;\n",
              "  }\n",
              "\n",
              "  .colab-df-quickchart {\n",
              "    background-color: var(--bg-color);\n",
              "    border: none;\n",
              "    border-radius: 50%;\n",
              "    cursor: pointer;\n",
              "    display: none;\n",
              "    fill: var(--fill-color);\n",
              "    height: 32px;\n",
              "    padding: 0;\n",
              "    width: 32px;\n",
              "  }\n",
              "\n",
              "  .colab-df-quickchart:hover {\n",
              "    background-color: var(--hover-bg-color);\n",
              "    box-shadow: 0 1px 2px rgba(60, 64, 67, 0.3), 0 1px 3px 1px rgba(60, 64, 67, 0.15);\n",
              "    fill: var(--button-hover-fill-color);\n",
              "  }\n",
              "\n",
              "  .colab-df-quickchart-complete:disabled,\n",
              "  .colab-df-quickchart-complete:disabled:hover {\n",
              "    background-color: var(--disabled-bg-color);\n",
              "    fill: var(--disabled-fill-color);\n",
              "    box-shadow: none;\n",
              "  }\n",
              "\n",
              "  .colab-df-spinner {\n",
              "    border: 2px solid var(--fill-color);\n",
              "    border-color: transparent;\n",
              "    border-bottom-color: var(--fill-color);\n",
              "    animation:\n",
              "      spin 1s steps(1) infinite;\n",
              "  }\n",
              "\n",
              "  @keyframes spin {\n",
              "    0% {\n",
              "      border-color: transparent;\n",
              "      border-bottom-color: var(--fill-color);\n",
              "      border-left-color: var(--fill-color);\n",
              "    }\n",
              "    20% {\n",
              "      border-color: transparent;\n",
              "      border-left-color: var(--fill-color);\n",
              "      border-top-color: var(--fill-color);\n",
              "    }\n",
              "    30% {\n",
              "      border-color: transparent;\n",
              "      border-left-color: var(--fill-color);\n",
              "      border-top-color: var(--fill-color);\n",
              "      border-right-color: var(--fill-color);\n",
              "    }\n",
              "    40% {\n",
              "      border-color: transparent;\n",
              "      border-right-color: var(--fill-color);\n",
              "      border-top-color: var(--fill-color);\n",
              "    }\n",
              "    60% {\n",
              "      border-color: transparent;\n",
              "      border-right-color: var(--fill-color);\n",
              "    }\n",
              "    80% {\n",
              "      border-color: transparent;\n",
              "      border-right-color: var(--fill-color);\n",
              "      border-bottom-color: var(--fill-color);\n",
              "    }\n",
              "    90% {\n",
              "      border-color: transparent;\n",
              "      border-bottom-color: var(--fill-color);\n",
              "    }\n",
              "  }\n",
              "</style>\n",
              "\n",
              "  <script>\n",
              "    async function quickchart(key) {\n",
              "      const quickchartButtonEl =\n",
              "        document.querySelector('#' + key + ' button');\n",
              "      quickchartButtonEl.disabled = true;  // To prevent multiple clicks.\n",
              "      quickchartButtonEl.classList.add('colab-df-spinner');\n",
              "      try {\n",
              "        const charts = await google.colab.kernel.invokeFunction(\n",
              "            'suggestCharts', [key], {});\n",
              "      } catch (error) {\n",
              "        console.error('Error during call to suggestCharts:', error);\n",
              "      }\n",
              "      quickchartButtonEl.classList.remove('colab-df-spinner');\n",
              "      quickchartButtonEl.classList.add('colab-df-quickchart-complete');\n",
              "    }\n",
              "    (() => {\n",
              "      let quickchartButtonEl =\n",
              "        document.querySelector('#df-68b780f0-3835-4f11-b375-4c86eaaf4f48 button');\n",
              "      quickchartButtonEl.style.display =\n",
              "        google.colab.kernel.accessAllowed ? 'block' : 'none';\n",
              "    })();\n",
              "  </script>\n",
              "</div>\n",
              "\n",
              "    </div>\n",
              "  </div>\n"
            ],
            "application/vnd.google.colaboratory.intrinsic+json": {
              "type": "dataframe",
              "summary": "{\n  \"name\": \"aggTweetsDf\",\n  \"rows\": 3,\n  \"fields\": [\n    {\n      \"column\": \"author_id\",\n      \"properties\": {\n        \"dtype\": \"string\",\n        \"num_unique_values\": 3,\n        \"samples\": [\n          \"818184079300579332\",\n          \"1343362378189123585\",\n          \"776534197829832704\"\n        ],\n        \"semantic_type\": \"\",\n        \"description\": \"\"\n      }\n    },\n    {\n      \"column\": \"ari_score\",\n      \"properties\": {\n        \"dtype\": \"number\",\n        \"std\": 1.9035055380358983,\n        \"min\": 7.5,\n        \"max\": 11.3,\n        \"num_unique_values\": 3,\n        \"samples\": [\n          11.3,\n          9.2,\n          7.5\n        ],\n        \"semantic_type\": \"\",\n        \"description\": \"\"\n      }\n    },\n    {\n      \"column\": \"flesch_kincaid_grade\",\n      \"properties\": {\n        \"dtype\": \"number\",\n        \"std\": 1.5176736583776285,\n        \"min\": 6.3,\n        \"max\": 9.3,\n        \"num_unique_values\": 3,\n        \"samples\": [\n          9.3,\n          8.2,\n          6.3\n        ],\n        \"semantic_type\": \"\",\n        \"description\": \"\"\n      }\n    },\n    {\n      \"column\": \"group\",\n      \"properties\": {\n        \"dtype\": \"string\",\n        \"num_unique_values\": 2,\n        \"samples\": [\n          \"Treatment\",\n          \"Control\"\n        ],\n        \"semantic_type\": \"\",\n        \"description\": \"\"\n      }\n    },\n    {\n      \"column\": \"ari_grade\",\n      \"properties\": {\n        \"dtype\": \"string\",\n        \"num_unique_values\": 2,\n        \"samples\": [\n          \"Middle/Elemntary School\",\n          \"High School & College\"\n        ],\n        \"semantic_type\": \"\",\n        \"description\": \"\"\n      }\n    },\n    {\n      \"column\": \"fk_grade\",\n      \"properties\": {\n        \"dtype\": \"string\",\n        \"num_unique_values\": 2,\n        \"samples\": [\n          \"Middle/Elemntary School\",\n          \"High School & College\"\n        ],\n        \"semantic_type\": \"\",\n        \"description\": \"\"\n      }\n    }\n  ]\n}"
            }
          },
          "metadata": {},
          "execution_count": 52
        }
      ]
    },
    {
      "cell_type": "markdown",
      "source": [
        "### Validation"
      ],
      "metadata": {
        "id": "G1LjaHegA5OH"
      },
      "id": "G1LjaHegA5OH"
    },
    {
      "cell_type": "code",
      "execution_count": null,
      "id": "ee13d9ae",
      "metadata": {
        "colab": {
          "base_uri": "https://localhost:8080/"
        },
        "id": "ee13d9ae",
        "outputId": "24cab92d-df64-4910-876d-e045267518e9"
      },
      "outputs": [
        {
          "output_type": "stream",
          "name": "stdout",
          "text": [
            "Pearson Correlation Coefficient: 0.98\n",
            "Spearman Correlation Coefficient: 0.97 , p-value:  0.0\n",
            "There is a statistically significant correlation between ARI and Flesch-Kincaid scores.\n"
          ]
        }
      ],
      "source": [
        "# Find correlation between ARI and KFG for all metrics\n",
        "correlation = aggTweetsDf[\"ari_score\"].corr(aggTweetsDf[\"flesch_kincaid_grade\"])\n",
        "print(f\"Pearson Correlation Coefficient:\", round(correlation, 2))\n",
        "correlation, p_value = spearmanr(aggTweetsDf[\"ari_score\"], aggTweetsDf[\"flesch_kincaid_grade\"])\n",
        "print(f\"Spearman Correlation Coefficient:\", round(correlation, 2), \", p-value: \", p_value)\n",
        "# Interpretation\n",
        "alpha = 0.05  # Significance level\n",
        "if p_value < alpha:\n",
        "    print(\"There is a statistically significant correlation between ARI and Flesch-Kincaid scores.\")\n",
        "else:\n",
        "    print(\"There is no statistically significant correlation between ARI and Flesch-Kincaid scores.\")"
      ]
    },
    {
      "cell_type": "code",
      "source": [
        "# Plot scatter plot\n",
        "sns.scatterplot(data=aggTweetsDf, x='ari_score', y='flesch_kincaid_grade', hue='group', palette=\"Set2\")\n",
        "#plt.scatter(aggTweetsDf[\"ari_score\"], aggTweetsDf[\"flesch_kincaid_grade\"])\n",
        "plt.xlabel('ARI Score')\n",
        "plt.ylabel('Flesch-Kincaid Score')\n",
        "plt.title('ARI vs. Flesch-Kincaid Scores')\n",
        "plt.show()"
      ],
      "metadata": {
        "colab": {
          "base_uri": "https://localhost:8080/",
          "height": 472
        },
        "id": "dFUqSHXPe0aa",
        "outputId": "f35d4878-df25-4b2f-9d77-b7cb2983727f"
      },
      "id": "dFUqSHXPe0aa",
      "execution_count": null,
      "outputs": [
        {
          "output_type": "display_data",
          "data": {
            "text/plain": [
              "<Figure size 640x480 with 1 Axes>"
            ],
            "image/png": "[encoded data removed]"
          },
          "metadata": {}
        }
      ]
    },
    {
      "cell_type": "code",
      "source": [
        "# ANNOVA\n",
        "from scipy.stats import f_oneway\n",
        "\n",
        "# treatment vs. control\n",
        "control = aggTweetsDf[(aggTweetsDf.group == 0) & (aggTweetsDf.ari_score < 15)][\"ari_score\"].values\n",
        "treatment = aggTweetsDf[(aggTweetsDf.group == 1) & (aggTweetsDf.ari_score < 15)][\"ari_score\"].values\n",
        "\n",
        "# Perform ANOVA\n",
        "f_statistic, p_value = f_oneway(control, treatment)\n",
        "\n",
        "# Print the results\n",
        "print(f\"F-statistic: {f_statistic:.4f}\")\n",
        "print(f\"p-value: {p_value:.4f}\")\n",
        "\n",
        "# Interpretation (assuming a significance level of 0.05)\n",
        "if p_value < 0.05:\n",
        "    print(\"There is a significant difference in ARI scores between control and treatment groups.\")\n",
        "else:\n",
        "    print(\"There is no significant difference in ARI scores between control and treatment groups.\")"
      ],
      "metadata": {
        "colab": {
          "base_uri": "https://localhost:8080/"
        },
        "id": "KZrYWLwPEKhu",
        "outputId": "0e31de23-f076-4ff1-c545-3be59c7c9ab6"
      },
      "id": "KZrYWLwPEKhu",
      "execution_count": null,
      "outputs": [
        {
          "output_type": "stream",
          "name": "stdout",
          "text": [
            "F-statistic: nan\n",
            "p-value: nan\n",
            "There is no significant difference in ARI scores between control and treatment groups.\n"
          ]
        },
        {
          "output_type": "stream",
          "name": "stderr",
          "text": [
            "/usr/local/lib/python3.10/dist-packages/scipy/stats/_stats_py.py:4102: DegenerateDataWarning: at least one input has length 0\n",
            "  if _f_oneway_is_too_small(samples):\n"
          ]
        }
      ]
    },
    {
      "cell_type": "code",
      "source": [
        "# Kruskal-Wallis\n",
        "from scipy.stats import kruskal\n",
        "\n",
        "# Perform the Kruskal-Wallis test\n",
        "h_statistic, p_value = kruskal(control, treatment)\n",
        "\n",
        "# Print the results\n",
        "print(f\"Kruskal-Wallis H-statistic: {h_statistic:.4f}\")\n",
        "print(f\"p-value: {p_value:.4f}\")\n",
        "\n",
        "# Interpretation (assuming a significance level of 0.05)\n",
        "alpha = 0.05\n",
        "if p_value < alpha:\n",
        "    print(\"There is a significant difference in ARI scores between the groups.\")\n",
        "else:\n",
        "    print(\"There is no significant difference in ARI scores between the groups.\")"
      ],
      "metadata": {
        "colab": {
          "base_uri": "https://localhost:8080/"
        },
        "id": "74DKLROqGp0G",
        "outputId": "92de188e-570b-4781-f5d8-4089c1f74972"
      },
      "id": "74DKLROqGp0G",
      "execution_count": null,
      "outputs": [
        {
          "output_type": "stream",
          "name": "stdout",
          "text": [
            "Kruskal-Wallis H-statistic: nan\n",
            "p-value: nan\n",
            "There is no significant difference in ARI scores between the groups.\n"
          ]
        }
      ]
    },
    {
      "cell_type": "code",
      "source": [
        "# Plot a histogram for ari_score and flesch_kincaid_grade\n",
        "ariDf = aggTweetsDf[[\"author_id\", \"ari_score\"]].rename(columns = {\"ari_score\":\"value\"}).reset_index(drop = True)\n",
        "fkDf = aggTweetsDf[[\"author_id\", \"flesch_kincaid_grade\"]].rename(columns = {\"flesch_kincaid_grade\":\"value\"}).reset_index(drop = True)\n",
        "ariDf[\"Score\"] = \"ARI\"\n",
        "fkDf[\"Score\"] = \"FKG\"\n",
        "plotingDf = pd.concat([ariDf, fkDf])\n",
        "\n",
        "sns.histplot(data=plotingDf, x='value', hue='Score', element='step', palette=\"Set2\", kde=True, legend=True)\n",
        "plt.xlabel(\"Readability Score\")\n",
        "plt.ylabel(\"Frequency\")\n",
        "plt.title(f\"Distribution of Readability Scores\")\n",
        "plt.show()"
      ],
      "metadata": {
        "colab": {
          "base_uri": "https://localhost:8080/",
          "height": 472
        },
        "id": "TXkJuN1AvR0K",
        "outputId": "9e39b427-140b-4eed-ca89-36b49051a645"
      },
      "id": "TXkJuN1AvR0K",
      "execution_count": null,
      "outputs": [
        {
          "output_type": "display_data",
          "data": {
            "text/plain": [
              "<Figure size 640x480 with 1 Axes>"
            ],
            "image/png": "[encoded data removed]"
          },
          "metadata": {}
        }
      ]
    },
    {
      "cell_type": "code",
      "source": [
        "aggTweetsDf.groupby(\"ari_grade\")[\"author_id\"].count().reset_index().rename({\"author_id\":\"count\"}, axis = 1)"
      ],
      "metadata": {
        "colab": {
          "base_uri": "https://localhost:8080/",
          "height": 112
        },
        "id": "xgwAEp7nuKNh",
        "outputId": "482af16b-1b42-4112-c0d5-96c434ab2e37"
      },
      "id": "xgwAEp7nuKNh",
      "execution_count": null,
      "outputs": [
        {
          "output_type": "execute_result",
          "data": {
            "text/plain": [
              "                 ari_grade  count\n",
              "0    High School & College   1190\n",
              "1  Middle/Elemntary School   4422"
            ],
            "text/html": [
              "\n",
              "  <div id=\"df-ec619471-4c02-43cf-b514-b6fa1dd2a0ba\" class=\"colab-df-container\">\n",
              "    <div>\n",
              "<style scoped>\n",
              "    .dataframe tbody tr th:only-of-type {\n",
              "        vertical-align: middle;\n",
              "    }\n",
              "\n",
              "    .dataframe tbody tr th {\n",
              "        vertical-align: top;\n",
              "    }\n",
              "\n",
              "    .dataframe thead th {\n",
              "        text-align: right;\n",
              "    }\n",
              "</style>\n",
              "<table border=\"1\" class=\"dataframe\">\n",
              "  <thead>\n",
              "    <tr style=\"text-align: right;\">\n",
              "      <th></th>\n",
              "      <th>ari_grade</th>\n",
              "      <th>count</th>\n",
              "    </tr>\n",
              "  </thead>\n",
              "  <tbody>\n",
              "    <tr>\n",
              "      <th>0</th>\n",
              "      <td>High School &amp; College</td>\n",
              "      <td>1190</td>\n",
              "    </tr>\n",
              "    <tr>\n",
              "      <th>1</th>\n",
              "      <td>Middle/Elemntary School</td>\n",
              "      <td>4422</td>\n",
              "    </tr>\n",
              "  </tbody>\n",
              "</table>\n",
              "</div>\n",
              "    <div class=\"colab-df-buttons\">\n",
              "\n",
              "  <div class=\"colab-df-container\">\n",
              "    <button class=\"colab-df-convert\" onclick=\"convertToInteractive('df-ec619471-4c02-43cf-b514-b6fa1dd2a0ba')\"\n",
              "            title=\"Convert this dataframe to an interactive table.\"\n",
              "            style=\"display:none;\">\n",
              "\n",
              "  <svg xmlns=\"http://www.w3.org/2000/svg\" height=\"24px\" viewBox=\"0 -960 960 960\">\n",
              "    <path d=\"M120-120v-720h720v720H120Zm60-500h600v-160H180v160Zm220 220h160v-160H400v160Zm0 220h160v-160H400v160ZM180-400h160v-160H180v160Zm440 0h160v-160H620v160ZM180-180h160v-160H180v160Zm440 0h160v-160H620v160Z\"/>\n",
              "  </svg>\n",
              "    </button>\n",
              "\n",
              "  <style>\n",
              "    .colab-df-container {\n",
              "      display:flex;\n",
              "      gap: 12px;\n",
              "    }\n",
              "\n",
              "    .colab-df-convert {\n",
              "      background-color: #E8F0FE;\n",
              "      border: none;\n",
              "      border-radius: 50%;\n",
              "      cursor: pointer;\n",
              "      display: none;\n",
              "      fill: #1967D2;\n",
              "      height: 32px;\n",
              "      padding: 0 0 0 0;\n",
              "      width: 32px;\n",
              "    }\n",
              "\n",
              "    .colab-df-convert:hover {\n",
              "      background-color: #E2EBFA;\n",
              "      box-shadow: 0px 1px 2px rgba(60, 64, 67, 0.3), 0px 1px 3px 1px rgba(60, 64, 67, 0.15);\n",
              "      fill: #174EA6;\n",
              "    }\n",
              "\n",
              "    .colab-df-buttons div {\n",
              "      margin-bottom: 4px;\n",
              "    }\n",
              "\n",
              "    [theme=dark] .colab-df-convert {\n",
              "      background-color: #3B4455;\n",
              "      fill: #D2E3FC;\n",
              "    }\n",
              "\n",
              "    [theme=dark] .colab-df-convert:hover {\n",
              "      background-color: #434B5C;\n",
              "      box-shadow: 0px 1px 3px 1px rgba(0, 0, 0, 0.15);\n",
              "      filter: drop-shadow(0px 1px 2px rgba(0, 0, 0, 0.3));\n",
              "      fill: #FFFFFF;\n",
              "    }\n",
              "  </style>\n",
              "\n",
              "    <script>\n",
              "      const buttonEl =\n",
              "        document.querySelector('#df-ec619471-4c02-43cf-b514-b6fa1dd2a0ba button.colab-df-convert');\n",
              "      buttonEl.style.display =\n",
              "        google.colab.kernel.accessAllowed ? 'block' : 'none';\n",
              "\n",
              "      async function convertToInteractive(key) {\n",
              "        const element = document.querySelector('#df-ec619471-4c02-43cf-b514-b6fa1dd2a0ba');\n",
              "        const dataTable =\n",
              "          await google.colab.kernel.invokeFunction('convertToInteractive',\n",
              "                                                    [key], {});\n",
              "        if (!dataTable) return;\n",
              "\n",
              "        const docLinkHtml = 'Like what you see? Visit the ' +\n",
              "          '<a target=\"_blank\" href=https://colab.research.google.com/notebooks/data_table.ipynb>data table notebook</a>'\n",
              "          + ' to learn more about interactive tables.';\n",
              "        element.innerHTML = '';\n",
              "        dataTable['output_type'] = 'display_data';\n",
              "        await google.colab.output.renderOutput(dataTable, element);\n",
              "        const docLink = document.createElement('div');\n",
              "        docLink.innerHTML = docLinkHtml;\n",
              "        element.appendChild(docLink);\n",
              "      }\n",
              "    </script>\n",
              "  </div>\n",
              "\n",
              "\n",
              "<div id=\"df-377614e0-0389-4763-ba8e-43b80ff25d64\">\n",
              "  <button class=\"colab-df-quickchart\" onclick=\"quickchart('df-377614e0-0389-4763-ba8e-43b80ff25d64')\"\n",
              "            title=\"Suggest charts\"\n",
              "            style=\"display:none;\">\n",
              "\n",
              "<svg xmlns=\"http://www.w3.org/2000/svg\" height=\"24px\"viewBox=\"0 0 24 24\"\n",
              "     width=\"24px\">\n",
              "    <g>\n",
              "        <path d=\"M19 3H5c-1.1 0-2 .9-2 2v14c0 1.1.9 2 2 2h14c1.1 0 2-.9 2-2V5c0-1.1-.9-2-2-2zM9 17H7v-7h2v7zm4 0h-2V7h2v10zm4 0h-2v-4h2v4z\"/>\n",
              "    </g>\n",
              "</svg>\n",
              "  </button>\n",
              "\n",
              "<style>\n",
              "  .colab-df-quickchart {\n",
              "      --bg-color: #E8F0FE;\n",
              "      --fill-color: #1967D2;\n",
              "      --hover-bg-color: #E2EBFA;\n",
              "      --hover-fill-color: #174EA6;\n",
              "      --disabled-fill-color: #AAA;\n",
              "      --disabled-bg-color: #DDD;\n",
              "  }\n",
              "\n",
              "  [theme=dark] .colab-df-quickchart {\n",
              "      --bg-color: #3B4455;\n",
              "      --fill-color: #D2E3FC;\n",
              "      --hover-bg-color: #434B5C;\n",
              "      --hover-fill-color: #FFFFFF;\n",
              "      --disabled-bg-color: #3B4455;\n",
              "      --disabled-fill-color: #666;\n",
              "  }\n",
              "\n",
              "  .colab-df-quickchart {\n",
              "    background-color: var(--bg-color);\n",
              "    border: none;\n",
              "    border-radius: 50%;\n",
              "    cursor: pointer;\n",
              "    display: none;\n",
              "    fill: var(--fill-color);\n",
              "    height: 32px;\n",
              "    padding: 0;\n",
              "    width: 32px;\n",
              "  }\n",
              "\n",
              "  .colab-df-quickchart:hover {\n",
              "    background-color: var(--hover-bg-color);\n",
              "    box-shadow: 0 1px 2px rgba(60, 64, 67, 0.3), 0 1px 3px 1px rgba(60, 64, 67, 0.15);\n",
              "    fill: var(--button-hover-fill-color);\n",
              "  }\n",
              "\n",
              "  .colab-df-quickchart-complete:disabled,\n",
              "  .colab-df-quickchart-complete:disabled:hover {\n",
              "    background-color: var(--disabled-bg-color);\n",
              "    fill: var(--disabled-fill-color);\n",
              "    box-shadow: none;\n",
              "  }\n",
              "\n",
              "  .colab-df-spinner {\n",
              "    border: 2px solid var(--fill-color);\n",
              "    border-color: transparent;\n",
              "    border-bottom-color: var(--fill-color);\n",
              "    animation:\n",
              "      spin 1s steps(1) infinite;\n",
              "  }\n",
              "\n",
              "  @keyframes spin {\n",
              "    0% {\n",
              "      border-color: transparent;\n",
              "      border-bottom-color: var(--fill-color);\n",
              "      border-left-color: var(--fill-color);\n",
              "    }\n",
              "    20% {\n",
              "      border-color: transparent;\n",
              "      border-left-color: var(--fill-color);\n",
              "      border-top-color: var(--fill-color);\n",
              "    }\n",
              "    30% {\n",
              "      border-color: transparent;\n",
              "      border-left-color: var(--fill-color);\n",
              "      border-top-color: var(--fill-color);\n",
              "      border-right-color: var(--fill-color);\n",
              "    }\n",
              "    40% {\n",
              "      border-color: transparent;\n",
              "      border-right-color: var(--fill-color);\n",
              "      border-top-color: var(--fill-color);\n",
              "    }\n",
              "    60% {\n",
              "      border-color: transparent;\n",
              "      border-right-color: var(--fill-color);\n",
              "    }\n",
              "    80% {\n",
              "      border-color: transparent;\n",
              "      border-right-color: var(--fill-color);\n",
              "      border-bottom-color: var(--fill-color);\n",
              "    }\n",
              "    90% {\n",
              "      border-color: transparent;\n",
              "      border-bottom-color: var(--fill-color);\n",
              "    }\n",
              "  }\n",
              "</style>\n",
              "\n",
              "  <script>\n",
              "    async function quickchart(key) {\n",
              "      const quickchartButtonEl =\n",
              "        document.querySelector('#' + key + ' button');\n",
              "      quickchartButtonEl.disabled = true;  // To prevent multiple clicks.\n",
              "      quickchartButtonEl.classList.add('colab-df-spinner');\n",
              "      try {\n",
              "        const charts = await google.colab.kernel.invokeFunction(\n",
              "            'suggestCharts', [key], {});\n",
              "      } catch (error) {\n",
              "        console.error('Error during call to suggestCharts:', error);\n",
              "      }\n",
              "      quickchartButtonEl.classList.remove('colab-df-spinner');\n",
              "      quickchartButtonEl.classList.add('colab-df-quickchart-complete');\n",
              "    }\n",
              "    (() => {\n",
              "      let quickchartButtonEl =\n",
              "        document.querySelector('#df-377614e0-0389-4763-ba8e-43b80ff25d64 button');\n",
              "      quickchartButtonEl.style.display =\n",
              "        google.colab.kernel.accessAllowed ? 'block' : 'none';\n",
              "    })();\n",
              "  </script>\n",
              "</div>\n",
              "\n",
              "    </div>\n",
              "  </div>\n"
            ],
            "application/vnd.google.colaboratory.intrinsic+json": {
              "type": "dataframe",
              "summary": "{\n  \"name\": \"aggTweetsDf\",\n  \"rows\": 2,\n  \"fields\": [\n    {\n      \"column\": \"ari_grade\",\n      \"properties\": {\n        \"dtype\": \"string\",\n        \"num_unique_values\": 2,\n        \"samples\": [\n          \"Middle/Elemntary School\",\n          \"High School & College\"\n        ],\n        \"semantic_type\": \"\",\n        \"description\": \"\"\n      }\n    },\n    {\n      \"column\": \"count\",\n      \"properties\": {\n        \"dtype\": \"number\",\n        \"std\": 2285,\n        \"min\": 1190,\n        \"max\": 4422,\n        \"num_unique_values\": 2,\n        \"samples\": [\n          4422,\n          1190\n        ],\n        \"semantic_type\": \"\",\n        \"description\": \"\"\n      }\n    }\n  ]\n}"
            }
          },
          "metadata": {},
          "execution_count": 56
        }
      ]
    },
    {
      "cell_type": "code",
      "source": [
        "aggTweetsDf.groupby(\"fk_grade\")[\"author_id\"].count().reset_index().rename({\"author_id\":\"count\"}, axis = 1)"
      ],
      "metadata": {
        "colab": {
          "base_uri": "https://localhost:8080/",
          "height": 112
        },
        "id": "3ChFDTpPwCsf",
        "outputId": "4c03c0d9-3fda-4d82-dcb5-309b086ccdd5"
      },
      "id": "3ChFDTpPwCsf",
      "execution_count": null,
      "outputs": [
        {
          "output_type": "execute_result",
          "data": {
            "text/plain": [
              "                  fk_grade  count\n",
              "0    High School & College    891\n",
              "1  Middle/Elemntary School   4721"
            ],
            "text/html": [
              "\n",
              "  <div id=\"df-9c213e7f-c399-41b0-9828-2a105d300685\" class=\"colab-df-container\">\n",
              "    <div>\n",
              "<style scoped>\n",
              "    .dataframe tbody tr th:only-of-type {\n",
              "        vertical-align: middle;\n",
              "    }\n",
              "\n",
              "    .dataframe tbody tr th {\n",
              "        vertical-align: top;\n",
              "    }\n",
              "\n",
              "    .dataframe thead th {\n",
              "        text-align: right;\n",
              "    }\n",
              "</style>\n",
              "<table border=\"1\" class=\"dataframe\">\n",
              "  <thead>\n",
              "    <tr style=\"text-align: right;\">\n",
              "      <th></th>\n",
              "      <th>fk_grade</th>\n",
              "      <th>count</th>\n",
              "    </tr>\n",
              "  </thead>\n",
              "  <tbody>\n",
              "    <tr>\n",
              "      <th>0</th>\n",
              "      <td>High School &amp; College</td>\n",
              "      <td>891</td>\n",
              "    </tr>\n",
              "    <tr>\n",
              "      <th>1</th>\n",
              "      <td>Middle/Elemntary School</td>\n",
              "      <td>4721</td>\n",
              "    </tr>\n",
              "  </tbody>\n",
              "</table>\n",
              "</div>\n",
              "    <div class=\"colab-df-buttons\">\n",
              "\n",
              "  <div class=\"colab-df-container\">\n",
              "    <button class=\"colab-df-convert\" onclick=\"convertToInteractive('df-9c213e7f-c399-41b0-9828-2a105d300685')\"\n",
              "            title=\"Convert this dataframe to an interactive table.\"\n",
              "            style=\"display:none;\">\n",
              "\n",
              "  <svg xmlns=\"http://www.w3.org/2000/svg\" height=\"24px\" viewBox=\"0 -960 960 960\">\n",
              "    <path d=\"M120-120v-720h720v720H120Zm60-500h600v-160H180v160Zm220 220h160v-160H400v160Zm0 220h160v-160H400v160ZM180-400h160v-160H180v160Zm440 0h160v-160H620v160ZM180-180h160v-160H180v160Zm440 0h160v-160H620v160Z\"/>\n",
              "  </svg>\n",
              "    </button>\n",
              "\n",
              "  <style>\n",
              "    .colab-df-container {\n",
              "      display:flex;\n",
              "      gap: 12px;\n",
              "    }\n",
              "\n",
              "    .colab-df-convert {\n",
              "      background-color: #E8F0FE;\n",
              "      border: none;\n",
              "      border-radius: 50%;\n",
              "      cursor: pointer;\n",
              "      display: none;\n",
              "      fill: #1967D2;\n",
              "      height: 32px;\n",
              "      padding: 0 0 0 0;\n",
              "      width: 32px;\n",
              "    }\n",
              "\n",
              "    .colab-df-convert:hover {\n",
              "      background-color: #E2EBFA;\n",
              "      box-shadow: 0px 1px 2px rgba(60, 64, 67, 0.3), 0px 1px 3px 1px rgba(60, 64, 67, 0.15);\n",
              "      fill: #174EA6;\n",
              "    }\n",
              "\n",
              "    .colab-df-buttons div {\n",
              "      margin-bottom: 4px;\n",
              "    }\n",
              "\n",
              "    [theme=dark] .colab-df-convert {\n",
              "      background-color: #3B4455;\n",
              "      fill: #D2E3FC;\n",
              "    }\n",
              "\n",
              "    [theme=dark] .colab-df-convert:hover {\n",
              "      background-color: #434B5C;\n",
              "      box-shadow: 0px 1px 3px 1px rgba(0, 0, 0, 0.15);\n",
              "      filter: drop-shadow(0px 1px 2px rgba(0, 0, 0, 0.3));\n",
              "      fill: #FFFFFF;\n",
              "    }\n",
              "  </style>\n",
              "\n",
              "    <script>\n",
              "      const buttonEl =\n",
              "        document.querySelector('#df-9c213e7f-c399-41b0-9828-2a105d300685 button.colab-df-convert');\n",
              "      buttonEl.style.display =\n",
              "        google.colab.kernel.accessAllowed ? 'block' : 'none';\n",
              "\n",
              "      async function convertToInteractive(key) {\n",
              "        const element = document.querySelector('#df-9c213e7f-c399-41b0-9828-2a105d300685');\n",
              "        const dataTable =\n",
              "          await google.colab.kernel.invokeFunction('convertToInteractive',\n",
              "                                                    [key], {});\n",
              "        if (!dataTable) return;\n",
              "\n",
              "        const docLinkHtml = 'Like what you see? Visit the ' +\n",
              "          '<a target=\"_blank\" href=https://colab.research.google.com/notebooks/data_table.ipynb>data table notebook</a>'\n",
              "          + ' to learn more about interactive tables.';\n",
              "        element.innerHTML = '';\n",
              "        dataTable['output_type'] = 'display_data';\n",
              "        await google.colab.output.renderOutput(dataTable, element);\n",
              "        const docLink = document.createElement('div');\n",
              "        docLink.innerHTML = docLinkHtml;\n",
              "        element.appendChild(docLink);\n",
              "      }\n",
              "    </script>\n",
              "  </div>\n",
              "\n",
              "\n",
              "<div id=\"df-401d6c0d-f062-4c37-a8c6-71271f4d6c0e\">\n",
              "  <button class=\"colab-df-quickchart\" onclick=\"quickchart('df-401d6c0d-f062-4c37-a8c6-71271f4d6c0e')\"\n",
              "            title=\"Suggest charts\"\n",
              "            style=\"display:none;\">\n",
              "\n",
              "<svg xmlns=\"http://www.w3.org/2000/svg\" height=\"24px\"viewBox=\"0 0 24 24\"\n",
              "     width=\"24px\">\n",
              "    <g>\n",
              "        <path d=\"M19 3H5c-1.1 0-2 .9-2 2v14c0 1.1.9 2 2 2h14c1.1 0 2-.9 2-2V5c0-1.1-.9-2-2-2zM9 17H7v-7h2v7zm4 0h-2V7h2v10zm4 0h-2v-4h2v4z\"/>\n",
              "    </g>\n",
              "</svg>\n",
              "  </button>\n",
              "\n",
              "<style>\n",
              "  .colab-df-quickchart {\n",
              "      --bg-color: #E8F0FE;\n",
              "      --fill-color: #1967D2;\n",
              "      --hover-bg-color: #E2EBFA;\n",
              "      --hover-fill-color: #174EA6;\n",
              "      --disabled-fill-color: #AAA;\n",
              "      --disabled-bg-color: #DDD;\n",
              "  }\n",
              "\n",
              "  [theme=dark] .colab-df-quickchart {\n",
              "      --bg-color: #3B4455;\n",
              "      --fill-color: #D2E3FC;\n",
              "      --hover-bg-color: #434B5C;\n",
              "      --hover-fill-color: #FFFFFF;\n",
              "      --disabled-bg-color: #3B4455;\n",
              "      --disabled-fill-color: #666;\n",
              "  }\n",
              "\n",
              "  .colab-df-quickchart {\n",
              "    background-color: var(--bg-color);\n",
              "    border: none;\n",
              "    border-radius: 50%;\n",
              "    cursor: pointer;\n",
              "    display: none;\n",
              "    fill: var(--fill-color);\n",
              "    height: 32px;\n",
              "    padding: 0;\n",
              "    width: 32px;\n",
              "  }\n",
              "\n",
              "  .colab-df-quickchart:hover {\n",
              "    background-color: var(--hover-bg-color);\n",
              "    box-shadow: 0 1px 2px rgba(60, 64, 67, 0.3), 0 1px 3px 1px rgba(60, 64, 67, 0.15);\n",
              "    fill: var(--button-hover-fill-color);\n",
              "  }\n",
              "\n",
              "  .colab-df-quickchart-complete:disabled,\n",
              "  .colab-df-quickchart-complete:disabled:hover {\n",
              "    background-color: var(--disabled-bg-color);\n",
              "    fill: var(--disabled-fill-color);\n",
              "    box-shadow: none;\n",
              "  }\n",
              "\n",
              "  .colab-df-spinner {\n",
              "    border: 2px solid var(--fill-color);\n",
              "    border-color: transparent;\n",
              "    border-bottom-color: var(--fill-color);\n",
              "    animation:\n",
              "      spin 1s steps(1) infinite;\n",
              "  }\n",
              "\n",
              "  @keyframes spin {\n",
              "    0% {\n",
              "      border-color: transparent;\n",
              "      border-bottom-color: var(--fill-color);\n",
              "      border-left-color: var(--fill-color);\n",
              "    }\n",
              "    20% {\n",
              "      border-color: transparent;\n",
              "      border-left-color: var(--fill-color);\n",
              "      border-top-color: var(--fill-color);\n",
              "    }\n",
              "    30% {\n",
              "      border-color: transparent;\n",
              "      border-left-color: var(--fill-color);\n",
              "      border-top-color: var(--fill-color);\n",
              "      border-right-color: var(--fill-color);\n",
              "    }\n",
              "    40% {\n",
              "      border-color: transparent;\n",
              "      border-right-color: var(--fill-color);\n",
              "      border-top-color: var(--fill-color);\n",
              "    }\n",
              "    60% {\n",
              "      border-color: transparent;\n",
              "      border-right-color: var(--fill-color);\n",
              "    }\n",
              "    80% {\n",
              "      border-color: transparent;\n",
              "      border-right-color: var(--fill-color);\n",
              "      border-bottom-color: var(--fill-color);\n",
              "    }\n",
              "    90% {\n",
              "      border-color: transparent;\n",
              "      border-bottom-color: var(--fill-color);\n",
              "    }\n",
              "  }\n",
              "</style>\n",
              "\n",
              "  <script>\n",
              "    async function quickchart(key) {\n",
              "      const quickchartButtonEl =\n",
              "        document.querySelector('#' + key + ' button');\n",
              "      quickchartButtonEl.disabled = true;  // To prevent multiple clicks.\n",
              "      quickchartButtonEl.classList.add('colab-df-spinner');\n",
              "      try {\n",
              "        const charts = await google.colab.kernel.invokeFunction(\n",
              "            'suggestCharts', [key], {});\n",
              "      } catch (error) {\n",
              "        console.error('Error during call to suggestCharts:', error);\n",
              "      }\n",
              "      quickchartButtonEl.classList.remove('colab-df-spinner');\n",
              "      quickchartButtonEl.classList.add('colab-df-quickchart-complete');\n",
              "    }\n",
              "    (() => {\n",
              "      let quickchartButtonEl =\n",
              "        document.querySelector('#df-401d6c0d-f062-4c37-a8c6-71271f4d6c0e button');\n",
              "      quickchartButtonEl.style.display =\n",
              "        google.colab.kernel.accessAllowed ? 'block' : 'none';\n",
              "    })();\n",
              "  </script>\n",
              "</div>\n",
              "\n",
              "    </div>\n",
              "  </div>\n"
            ],
            "application/vnd.google.colaboratory.intrinsic+json": {
              "type": "dataframe",
              "summary": "{\n  \"name\": \"aggTweetsDf\",\n  \"rows\": 2,\n  \"fields\": [\n    {\n      \"column\": \"fk_grade\",\n      \"properties\": {\n        \"dtype\": \"string\",\n        \"num_unique_values\": 2,\n        \"samples\": [\n          \"Middle/Elemntary School\",\n          \"High School & College\"\n        ],\n        \"semantic_type\": \"\",\n        \"description\": \"\"\n      }\n    },\n    {\n      \"column\": \"count\",\n      \"properties\": {\n        \"dtype\": \"number\",\n        \"std\": 2708,\n        \"min\": 891,\n        \"max\": 4721,\n        \"num_unique_values\": 2,\n        \"samples\": [\n          4721,\n          891\n        ],\n        \"semantic_type\": \"\",\n        \"description\": \"\"\n      }\n    }\n  ]\n}"
            }
          },
          "metadata": {},
          "execution_count": 57
        }
      ]
    },
    {
      "cell_type": "markdown",
      "source": [
        "### Save"
      ],
      "metadata": {
        "id": "Wr-Umc-2XOK-"
      },
      "id": "Wr-Umc-2XOK-"
    },
    {
      "cell_type": "code",
      "source": [
        "# Save the result to pickle\n",
        "with open(os.path.join(demographicsDir, \"authorEducationLevel.pickle\"), \"wb\") as f:\n",
        "    pickle.dump(aggTweetsDf, f)"
      ],
      "metadata": {
        "id": "ib49d57lxz1w"
      },
      "id": "ib49d57lxz1w",
      "execution_count": null,
      "outputs": []
    },
    {
      "cell_type": "code",
      "source": [],
      "metadata": {
        "id": "iZ8P2RZ2ObuL"
      },
      "id": "iZ8P2RZ2ObuL",
      "execution_count": null,
      "outputs": []
    }
  ],
  "metadata": {
    "kernelspec": {
      "display_name": "Python 3",
      "name": "python3"
    },
    "language_info": {
      "codemirror_mode": {
        "name": "ipython",
        "version": 3
      },
      "file_extension": ".py",
      "mimetype": "text/x-python",
      "name": "python",
      "nbconvert_exporter": "python",
      "pygments_lexer": "ipython3",
      "version": "3.11.4"
    },
    "colab": {
      "provenance": [],
      "machine_shape": "hm",
      "include_colab_link": true
    }
  },
  "nbformat": 4,
  "nbformat_minor": 5
}