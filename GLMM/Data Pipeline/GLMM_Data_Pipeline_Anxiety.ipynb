{
  "nbformat": 4,
  "nbformat_minor": 0,
  "metadata": {
    "colab": {
      "provenance": [],
      "machine_shape": "hm",
      "gpuType": "T4",
      "include_colab_link": true
    },
    "kernelspec": {
      "name": "python3",
      "display_name": "Python 3"
    },
    "language_info": {
      "name": "python"
    },
    "accelerator": "GPU"
  },
  "cells": [
    {
      "cell_type": "markdown",
      "metadata": {
        "id": "view-in-github",
        "colab_type": "text"
      },
      "source": [
        "<a href=\"https://colab.research.google.com/github/mazinkamal134/DS_MRP_2024/blob/main/GLMM/Data%20Pipeline/GLMM_Data_Pipeline_Anxiety.ipynb\" target=\"_parent\"><img src=\"https://colab.research.google.com/assets/colab-badge.svg\" alt=\"Open In Colab\"/></a>"
      ]
    },
    {
      "cell_type": "markdown",
      "source": [
        "Note: Stress score majority voting will not be used in establishing the relationship between listening to music and alleviating symptoms. It's kept here for reference only ..."
      ],
      "metadata": {
        "id": "06wRATZaqmQZ"
      }
    },
    {
      "cell_type": "code",
      "execution_count": null,
      "metadata": {
        "id": "8XHaWW3wA_gO"
      },
      "outputs": [],
      "source": [
        "import os\n",
        "import pandas as pd\n",
        "import numpy as np\n",
        "from tqdm import tqdm\n",
        "import pickle\n",
        "import matplotlib.pyplot as plt\n",
        "import seaborn as sns\n",
        "import statsmodels.api as sm\n",
        "import statsmodels.formula.api as smf\n",
        "import scipy.stats as stats"
      ]
    },
    {
      "cell_type": "code",
      "source": [
        "# Mount Google Drive\n",
        "from google.colab import drive\n",
        "drive.mount('/content/drive')"
      ],
      "metadata": {
        "colab": {
          "base_uri": "https://localhost:8080/"
        },
        "id": "MH7qz3N_BVOi",
        "outputId": "5ab1651f-234b-44a3-87b6-f2a1753ff576"
      },
      "execution_count": null,
      "outputs": [
        {
          "output_type": "stream",
          "name": "stdout",
          "text": [
            "Mounted at /content/drive\n"
          ]
        }
      ]
    },
    {
      "cell_type": "markdown",
      "source": [
        "### Global Params"
      ],
      "metadata": {
        "id": "pTwVz0RLNXTv"
      }
    },
    {
      "cell_type": "code",
      "source": [
        "# directories\n",
        "tensiDir = r\"/content/drive/MyDrive/Master-2024/MRP/Data/Tweets\"\n",
        "tweetsDir = r\"/content/drive/MyDrive/MRP/Mazin_Works/Project Docs/Data/Tweets\"\n",
        "demographicDir = r\"/content/drive/MyDrive/Master-2024/MRP/Data/Demographics\""
      ],
      "metadata": {
        "id": "OZo8w46AtBEr"
      },
      "execution_count": null,
      "outputs": []
    },
    {
      "cell_type": "markdown",
      "source": [
        "### Ingest & Process the data"
      ],
      "metadata": {
        "id": "aynBULP4DCO6"
      }
    },
    {
      "cell_type": "code",
      "source": [
        "tweetsDf = pd.read_pickle(os.path.join(tensiDir, \"anxietyFullWithTensiScore.pickle\"))\n",
        "print(\"Ingested file shape:\", tweetsDf.shape)"
      ],
      "metadata": {
        "colab": {
          "base_uri": "https://localhost:8080/"
        },
        "id": "vQKFyZKGs-4s",
        "outputId": "06ca8454-0e1e-4b85-ad8f-bc284a386540"
      },
      "execution_count": null,
      "outputs": [
        {
          "output_type": "stream",
          "name": "stdout",
          "text": [
            "Ingested file shape: (3346488, 28)\n"
          ]
        }
      ]
    },
    {
      "cell_type": "code",
      "source": [
        "# Create the pool of music sessions\n",
        "musicPoolDf = tweetsDf[tweetsDf.music_id > 0].sort_values(by = [\"author_id\", \"created_at\"]).reset_index()\n",
        "print(\"Music pool shape:\", musicPoolDf.shape)"
      ],
      "metadata": {
        "colab": {
          "base_uri": "https://localhost:8080/"
        },
        "id": "66TrLA1XCsj2",
        "outputId": "86923078-ec37-4066-e6bd-f5f465ceaf81"
      },
      "execution_count": null,
      "outputs": [
        {
          "output_type": "stream",
          "name": "stdout",
          "text": [
            "Music pool shape: (9777, 29)\n"
          ]
        }
      ]
    },
    {
      "cell_type": "code",
      "source": [
        "# Remove the treatment/diagnosis tweets and any tweet without tensi score\n",
        "tweetsDf = tweetsDf[#(tweetsDf.tweet_type == \"timeline\") &\n",
        "                    (tweetsDf.stress_score.notna()) &\n",
        "                    (tweetsDf.lang == \"en\") &\n",
        "                    (tweetsDf.cleaned_text.notna()) &\n",
        "                    (tweetsDf.author_since.notna())]\n",
        "print(\"Filtered file shape:\", tweetsDf.shape)\n",
        "# Group by group and find the unique authors per each group\n",
        "tweetsDf.groupby(\"group\")[\"author_id\"].nunique().reset_index()"
      ],
      "metadata": {
        "colab": {
          "base_uri": "https://localhost:8080/",
          "height": 129
        },
        "id": "cXsHhkGftutK",
        "outputId": "87a15a07-fc9b-4850-d68b-6012b6860b44"
      },
      "execution_count": null,
      "outputs": [
        {
          "output_type": "stream",
          "name": "stdout",
          "text": [
            "Filtered file shape: (2007548, 28)\n"
          ]
        },
        {
          "output_type": "execute_result",
          "data": {
            "text/plain": [
              "   group  author_id\n",
              "0      0        966\n",
              "1      1        468"
            ],
            "text/html": [
              "\n",
              "  <div id=\"df-d949e184-4d0e-4484-9393-4f24c9cb4615\" class=\"colab-df-container\">\n",
              "    <div>\n",
              "<style scoped>\n",
              "    .dataframe tbody tr th:only-of-type {\n",
              "        vertical-align: middle;\n",
              "    }\n",
              "\n",
              "    .dataframe tbody tr th {\n",
              "        vertical-align: top;\n",
              "    }\n",
              "\n",
              "    .dataframe thead th {\n",
              "        text-align: right;\n",
              "    }\n",
              "</style>\n",
              "<table border=\"1\" class=\"dataframe\">\n",
              "  <thead>\n",
              "    <tr style=\"text-align: right;\">\n",
              "      <th></th>\n",
              "      <th>group</th>\n",
              "      <th>author_id</th>\n",
              "    </tr>\n",
              "  </thead>\n",
              "  <tbody>\n",
              "    <tr>\n",
              "      <th>0</th>\n",
              "      <td>0</td>\n",
              "      <td>966</td>\n",
              "    </tr>\n",
              "    <tr>\n",
              "      <th>1</th>\n",
              "      <td>1</td>\n",
              "      <td>468</td>\n",
              "    </tr>\n",
              "  </tbody>\n",
              "</table>\n",
              "</div>\n",
              "    <div class=\"colab-df-buttons\">\n",
              "\n",
              "  <div class=\"colab-df-container\">\n",
              "    <button class=\"colab-df-convert\" onclick=\"convertToInteractive('df-d949e184-4d0e-4484-9393-4f24c9cb4615')\"\n",
              "            title=\"Convert this dataframe to an interactive table.\"\n",
              "            style=\"display:none;\">\n",
              "\n",
              "  <svg xmlns=\"http://www.w3.org/2000/svg\" height=\"24px\" viewBox=\"0 -960 960 960\">\n",
              "    <path d=\"M120-120v-720h720v720H120Zm60-500h600v-160H180v160Zm220 220h160v-160H400v160Zm0 220h160v-160H400v160ZM180-400h160v-160H180v160Zm440 0h160v-160H620v160ZM180-180h160v-160H180v160Zm440 0h160v-160H620v160Z\"/>\n",
              "  </svg>\n",
              "    </button>\n",
              "\n",
              "  <style>\n",
              "    .colab-df-container {\n",
              "      display:flex;\n",
              "      gap: 12px;\n",
              "    }\n",
              "\n",
              "    .colab-df-convert {\n",
              "      background-color: #E8F0FE;\n",
              "      border: none;\n",
              "      border-radius: 50%;\n",
              "      cursor: pointer;\n",
              "      display: none;\n",
              "      fill: #1967D2;\n",
              "      height: 32px;\n",
              "      padding: 0 0 0 0;\n",
              "      width: 32px;\n",
              "    }\n",
              "\n",
              "    .colab-df-convert:hover {\n",
              "      background-color: #E2EBFA;\n",
              "      box-shadow: 0px 1px 2px rgba(60, 64, 67, 0.3), 0px 1px 3px 1px rgba(60, 64, 67, 0.15);\n",
              "      fill: #174EA6;\n",
              "    }\n",
              "\n",
              "    .colab-df-buttons div {\n",
              "      margin-bottom: 4px;\n",
              "    }\n",
              "\n",
              "    [theme=dark] .colab-df-convert {\n",
              "      background-color: #3B4455;\n",
              "      fill: #D2E3FC;\n",
              "    }\n",
              "\n",
              "    [theme=dark] .colab-df-convert:hover {\n",
              "      background-color: #434B5C;\n",
              "      box-shadow: 0px 1px 3px 1px rgba(0, 0, 0, 0.15);\n",
              "      filter: drop-shadow(0px 1px 2px rgba(0, 0, 0, 0.3));\n",
              "      fill: #FFFFFF;\n",
              "    }\n",
              "  </style>\n",
              "\n",
              "    <script>\n",
              "      const buttonEl =\n",
              "        document.querySelector('#df-d949e184-4d0e-4484-9393-4f24c9cb4615 button.colab-df-convert');\n",
              "      buttonEl.style.display =\n",
              "        google.colab.kernel.accessAllowed ? 'block' : 'none';\n",
              "\n",
              "      async function convertToInteractive(key) {\n",
              "        const element = document.querySelector('#df-d949e184-4d0e-4484-9393-4f24c9cb4615');\n",
              "        const dataTable =\n",
              "          await google.colab.kernel.invokeFunction('convertToInteractive',\n",
              "                                                    [key], {});\n",
              "        if (!dataTable) return;\n",
              "\n",
              "        const docLinkHtml = 'Like what you see? Visit the ' +\n",
              "          '<a target=\"_blank\" href=https://colab.research.google.com/notebooks/data_table.ipynb>data table notebook</a>'\n",
              "          + ' to learn more about interactive tables.';\n",
              "        element.innerHTML = '';\n",
              "        dataTable['output_type'] = 'display_data';\n",
              "        await google.colab.output.renderOutput(dataTable, element);\n",
              "        const docLink = document.createElement('div');\n",
              "        docLink.innerHTML = docLinkHtml;\n",
              "        element.appendChild(docLink);\n",
              "      }\n",
              "    </script>\n",
              "  </div>\n",
              "\n",
              "\n",
              "<div id=\"df-66bb157f-cd23-432a-a504-2bd222d878d1\">\n",
              "  <button class=\"colab-df-quickchart\" onclick=\"quickchart('df-66bb157f-cd23-432a-a504-2bd222d878d1')\"\n",
              "            title=\"Suggest charts\"\n",
              "            style=\"display:none;\">\n",
              "\n",
              "<svg xmlns=\"http://www.w3.org/2000/svg\" height=\"24px\"viewBox=\"0 0 24 24\"\n",
              "     width=\"24px\">\n",
              "    <g>\n",
              "        <path d=\"M19 3H5c-1.1 0-2 .9-2 2v14c0 1.1.9 2 2 2h14c1.1 0 2-.9 2-2V5c0-1.1-.9-2-2-2zM9 17H7v-7h2v7zm4 0h-2V7h2v10zm4 0h-2v-4h2v4z\"/>\n",
              "    </g>\n",
              "</svg>\n",
              "  </button>\n",
              "\n",
              "<style>\n",
              "  .colab-df-quickchart {\n",
              "      --bg-color: #E8F0FE;\n",
              "      --fill-color: #1967D2;\n",
              "      --hover-bg-color: #E2EBFA;\n",
              "      --hover-fill-color: #174EA6;\n",
              "      --disabled-fill-color: #AAA;\n",
              "      --disabled-bg-color: #DDD;\n",
              "  }\n",
              "\n",
              "  [theme=dark] .colab-df-quickchart {\n",
              "      --bg-color: #3B4455;\n",
              "      --fill-color: #D2E3FC;\n",
              "      --hover-bg-color: #434B5C;\n",
              "      --hover-fill-color: #FFFFFF;\n",
              "      --disabled-bg-color: #3B4455;\n",
              "      --disabled-fill-color: #666;\n",
              "  }\n",
              "\n",
              "  .colab-df-quickchart {\n",
              "    background-color: var(--bg-color);\n",
              "    border: none;\n",
              "    border-radius: 50%;\n",
              "    cursor: pointer;\n",
              "    display: none;\n",
              "    fill: var(--fill-color);\n",
              "    height: 32px;\n",
              "    padding: 0;\n",
              "    width: 32px;\n",
              "  }\n",
              "\n",
              "  .colab-df-quickchart:hover {\n",
              "    background-color: var(--hover-bg-color);\n",
              "    box-shadow: 0 1px 2px rgba(60, 64, 67, 0.3), 0 1px 3px 1px rgba(60, 64, 67, 0.15);\n",
              "    fill: var(--button-hover-fill-color);\n",
              "  }\n",
              "\n",
              "  .colab-df-quickchart-complete:disabled,\n",
              "  .colab-df-quickchart-complete:disabled:hover {\n",
              "    background-color: var(--disabled-bg-color);\n",
              "    fill: var(--disabled-fill-color);\n",
              "    box-shadow: none;\n",
              "  }\n",
              "\n",
              "  .colab-df-spinner {\n",
              "    border: 2px solid var(--fill-color);\n",
              "    border-color: transparent;\n",
              "    border-bottom-color: var(--fill-color);\n",
              "    animation:\n",
              "      spin 1s steps(1) infinite;\n",
              "  }\n",
              "\n",
              "  @keyframes spin {\n",
              "    0% {\n",
              "      border-color: transparent;\n",
              "      border-bottom-color: var(--fill-color);\n",
              "      border-left-color: var(--fill-color);\n",
              "    }\n",
              "    20% {\n",
              "      border-color: transparent;\n",
              "      border-left-color: var(--fill-color);\n",
              "      border-top-color: var(--fill-color);\n",
              "    }\n",
              "    30% {\n",
              "      border-color: transparent;\n",
              "      border-left-color: var(--fill-color);\n",
              "      border-top-color: var(--fill-color);\n",
              "      border-right-color: var(--fill-color);\n",
              "    }\n",
              "    40% {\n",
              "      border-color: transparent;\n",
              "      border-right-color: var(--fill-color);\n",
              "      border-top-color: var(--fill-color);\n",
              "    }\n",
              "    60% {\n",
              "      border-color: transparent;\n",
              "      border-right-color: var(--fill-color);\n",
              "    }\n",
              "    80% {\n",
              "      border-color: transparent;\n",
              "      border-right-color: var(--fill-color);\n",
              "      border-bottom-color: var(--fill-color);\n",
              "    }\n",
              "    90% {\n",
              "      border-color: transparent;\n",
              "      border-bottom-color: var(--fill-color);\n",
              "    }\n",
              "  }\n",
              "</style>\n",
              "\n",
              "  <script>\n",
              "    async function quickchart(key) {\n",
              "      const quickchartButtonEl =\n",
              "        document.querySelector('#' + key + ' button');\n",
              "      quickchartButtonEl.disabled = true;  // To prevent multiple clicks.\n",
              "      quickchartButtonEl.classList.add('colab-df-spinner');\n",
              "      try {\n",
              "        const charts = await google.colab.kernel.invokeFunction(\n",
              "            'suggestCharts', [key], {});\n",
              "      } catch (error) {\n",
              "        console.error('Error during call to suggestCharts:', error);\n",
              "      }\n",
              "      quickchartButtonEl.classList.remove('colab-df-spinner');\n",
              "      quickchartButtonEl.classList.add('colab-df-quickchart-complete');\n",
              "    }\n",
              "    (() => {\n",
              "      let quickchartButtonEl =\n",
              "        document.querySelector('#df-66bb157f-cd23-432a-a504-2bd222d878d1 button');\n",
              "      quickchartButtonEl.style.display =\n",
              "        google.colab.kernel.accessAllowed ? 'block' : 'none';\n",
              "    })();\n",
              "  </script>\n",
              "</div>\n",
              "\n",
              "    </div>\n",
              "  </div>\n"
            ],
            "application/vnd.google.colaboratory.intrinsic+json": {
              "type": "dataframe",
              "summary": "{\n  \"name\": \"tweetsDf\",\n  \"rows\": 2,\n  \"fields\": [\n    {\n      \"column\": \"group\",\n      \"properties\": {\n        \"dtype\": \"number\",\n        \"std\": 0,\n        \"min\": 0,\n        \"max\": 1,\n        \"num_unique_values\": 2,\n        \"samples\": [\n          1,\n          0\n        ],\n        \"semantic_type\": \"\",\n        \"description\": \"\"\n      }\n    },\n    {\n      \"column\": \"author_id\",\n      \"properties\": {\n        \"dtype\": \"number\",\n        \"std\": 352,\n        \"min\": 468,\n        \"max\": 966,\n        \"num_unique_values\": 2,\n        \"samples\": [\n          468,\n          966\n        ],\n        \"semantic_type\": \"\",\n        \"description\": \"\"\n      }\n    }\n  ]\n}"
            }
          },
          "metadata": {},
          "execution_count": 18
        }
      ]
    },
    {
      "cell_type": "markdown",
      "source": [
        "### Create the Tweets Pool\n",
        "- Run when necessary only. This pool was already created"
      ],
      "metadata": {
        "id": "HvtOWHE_DGeC"
      }
    },
    {
      "cell_type": "code",
      "source": [
        "# Create an empty DataFrame with the same schema as anxietyTweetsDf\n",
        "containerDf = tweetsDf.iloc[0: 0].copy()\n",
        "\n",
        "# Exclusion list for control users/authors\n",
        "controlTweets = set()\n",
        "\n",
        "# Loop through the music sessions and capture the eligible tweets\n",
        "for index, row in tqdm(musicPoolDf.iterrows(), total = musicPoolDf.shape[0]):\n",
        "#for index, row in musicPoolDf.iterrows():\n",
        "    # Get the search parameters\n",
        "    musicId = row[\"music_id\"]\n",
        "    authorId = row[\"author_id\"]\n",
        "    # Start date for search\n",
        "    treatmentDate = row[\"created_at\"]\n",
        "    # Upper bound for search - 24 hour window\n",
        "    upperDateBound = treatmentDate + pd.Timedelta(days = 1)\n",
        "    # A slack variable, where the window will be extended to 48 hours if no tweets were found in the 24 hours window\n",
        "    upperDateBoundSlack = treatmentDate + pd.Timedelta(days = 2)\n",
        "\n",
        "    # Find all records 24 hours after music session (treatment)\n",
        "    treatmentDf = tweetsDf[\n",
        "        (tweetsDf.author_id == authorId) &\n",
        "        (tweetsDf.created_at > treatmentDate) &\n",
        "        (tweetsDf.created_at <= upperDateBound)\n",
        "    ]\n",
        "\n",
        "    if treatmentDf.empty:\n",
        "        #print(f\"No tweets found for treatment user {authorId} with music id {musicId} between {treatmentDate} and {upperDateBound}\")\n",
        "        continue\n",
        "\n",
        "    treatmentDf.loc[treatmentDf.index, \"music_id\"] = musicId\n",
        "    #print(f\"Treatment user {authorId}, with music Id: {musicId}, and total {treatmentDf.shape[0]} tweets.\")\n",
        "\n",
        "    # Find a corresponding control user within 24 hours\n",
        "    controlDf = tweetsDf[\n",
        "        (tweetsDf.group == 0) &\n",
        "        (tweetsDf.created_at > treatmentDate) &\n",
        "        (tweetsDf.created_at <= upperDateBound) &\n",
        "        (tweetsDf.cleaned_text.notna()) &\n",
        "        (~tweetsDf.id.isin(controlTweets))\n",
        "    ].groupby(\"author_id\")[\"id\"].count().reset_index()\n",
        "\n",
        "    # If no control tweets are found, extend to 48 hours\n",
        "    if controlDf.empty:\n",
        "        #print(\"No matching control user in the 24 hours window was found, using the 48 hours window ...\")\n",
        "        controlDf = tweetsDf[\n",
        "            (tweetsDf.group == 0) &\n",
        "            (tweetsDf.created_at > treatmentDate) &\n",
        "            (tweetsDf.created_at <= upperDateBoundSlack) &\n",
        "            (tweetsDf.cleaned_text.notna()) &\n",
        "            (~tweetsDf.id.isin(controlTweets))\n",
        "        ].groupby(\"author_id\")[\"id\"].count().reset_index()\n",
        "\n",
        "    if controlDf.empty:\n",
        "        #print(\"No matching control user was found, skipping both ...\")\n",
        "        continue\n",
        "\n",
        "    # Select the control user with the max tweets\n",
        "    # controlUser = controlDf.sort_values(by = \"id\", ascending=False).iloc[0][\"author_id\"]\n",
        "    # To avoid the selection bias, let's choose randomally\n",
        "    controlUser = controlDf.sample(1)[\"author_id\"].item()\n",
        "\n",
        "\n",
        "    # Get the tweets for the selected control user\n",
        "    controlTweetsDf = tweetsDf[\n",
        "        (tweetsDf.author_id == controlUser) &\n",
        "        (tweetsDf.created_at > treatmentDate) &\n",
        "        (tweetsDf.created_at <= upperDateBoundSlack) &\n",
        "        (tweetsDf.cleaned_text.notna())\n",
        "    ]\n",
        "    # Add the user control tweets to the exclusion list\n",
        "    controlTweets.update(controlTweetsDf.id.values)\n",
        "    # Add the music ids to link to the treatment tweets\n",
        "    controlTweetsDf.loc[controlTweetsDf.index, \"music_id\"] = musicId\n",
        "\n",
        "    #print(f\"Control user {controlUser}, with music Id: {musicId}, and total {controlTweetsDf.shape[0]} tweets.\")\n",
        "\n",
        "    # Combine all dataframes into one\n",
        "    containerDf = pd.concat([containerDf, treatmentDf, controlTweetsDf], ignore_index = True)"
      ],
      "metadata": {
        "colab": {
          "base_uri": "https://localhost:8080/"
        },
        "id": "bI0wfOUFCvOX",
        "outputId": "a916609a-2627-4cc8-aa76-83c86d3de568"
      },
      "execution_count": null,
      "outputs": [
        {
          "output_type": "stream",
          "name": "stderr",
          "text": [
            "100%|██████████| 9777/9777 [1:42:49<00:00,  1.58it/s]\n"
          ]
        }
      ]
    },
    {
      "cell_type": "code",
      "source": [
        "# Pickle the file\n",
        "print(\"Shape of the pool data:\", containerDf.shape)\n",
        "filePath = os.path.join(tweetsDir, \"anxietyTweetsPoolDf.pickle\")\n",
        "with open(filePath, 'wb') as f:\n",
        "    pickle.dump(containerDf, f)"
      ],
      "metadata": {
        "id": "jaj22ImMC0Qd",
        "colab": {
          "base_uri": "https://localhost:8080/"
        },
        "outputId": "acc64183-0536-4e9a-d581-3af7a19eac04"
      },
      "execution_count": null,
      "outputs": [
        {
          "output_type": "stream",
          "name": "stdout",
          "text": [
            "Shape of the pool data: (306472, 28)\n"
          ]
        }
      ]
    },
    {
      "cell_type": "code",
      "source": [
        "# # Read the pickle - whenever needed\n",
        "# filePath = os.path.join(tweetsDir, \"anxietyTweetsPoolDf.pickle\")\n",
        "# containerDf = pd.read_pickle(filePath)\n",
        "# print(\"Shape:\", containerDf.shape)"
      ],
      "metadata": {
        "id": "8PxbN0QrC1op"
      },
      "execution_count": null,
      "outputs": []
    },
    {
      "cell_type": "code",
      "source": [
        "# Fill NA on stress_Score\n",
        "containerDf[\"stress_score\"] = containerDf[\"stress_score\"].fillna(0)\n",
        "# Introduce a new binary score\n",
        "containerDf[\"stress_score_binary\"] = containerDf[\"stress_score\"].apply(lambda x: 1 if x > 0 else 0)"
      ],
      "metadata": {
        "id": "87oMtm0vC4vA"
      },
      "execution_count": null,
      "outputs": []
    },
    {
      "cell_type": "code",
      "source": [
        "containerDf.dropna(inplace = True)\n",
        "containerDf.shape"
      ],
      "metadata": {
        "colab": {
          "base_uri": "https://localhost:8080/"
        },
        "id": "Cd0l0gWqbNFB",
        "outputId": "275424de-8e99-416a-fdf8-c1c804b64076"
      },
      "execution_count": null,
      "outputs": [
        {
          "output_type": "execute_result",
          "data": {
            "text/plain": [
              "(306472, 29)"
            ]
          },
          "metadata": {},
          "execution_count": 23
        }
      ]
    },
    {
      "cell_type": "code",
      "source": [
        "# Majority voting\n",
        "def majority_vote_with_tie_breaker(group):\n",
        "    modeResult = group.mode()\n",
        "    if len(modeResult) > 1:  # Tie exists\n",
        "        return 1\n",
        "    else:\n",
        "        return modeResult[0]\n",
        "\n",
        "# Customize the original dataframe\n",
        "majorityVotingDf = containerDf[[\"author_id\", \"music_id\", \"group\", \"stress_score_binary\"]]\n",
        "\n",
        "# Group and apply the function\n",
        "majorityVotingDf = majorityVotingDf.groupby([\"author_id\", \"music_id\", \"group\"]).agg(\n",
        "    stress_score = (\"stress_score_binary\", majority_vote_with_tie_breaker)\n",
        ").reset_index().sort_values(by = [\"author_id\", \"music_id\"])\n",
        "\n",
        "# Add surrogate key\n",
        "majorityVotingDf[\"author_music_id\"] = majorityVotingDf[\"author_id\"] + '_' + majorityVotingDf[\"music_id\"].astype(str)\n",
        "# Finalize the dataframe\n",
        "majorityVotingDf = majorityVotingDf[[\"author_id\", \"music_id\", \"author_music_id\", \"group\", \"stress_score\"]]\n",
        "\n",
        "# Check\n",
        "print(\"Shape:\", majorityVotingDf.shape)\n",
        "majorityVotingDf.sample(5)"
      ],
      "metadata": {
        "colab": {
          "base_uri": "https://localhost:8080/",
          "height": 223
        },
        "id": "7VyIDUDTC7C6",
        "outputId": "f2c1173b-7f40-4408-cf5e-ef286ca6643e"
      },
      "execution_count": null,
      "outputs": [
        {
          "output_type": "stream",
          "name": "stdout",
          "text": [
            "Shape: (17426, 5)\n"
          ]
        },
        {
          "output_type": "execute_result",
          "data": {
            "text/plain": [
              "                 author_id  music_id              author_music_id  group  \\\n",
              "15291   843850790204772356   28877.0   843850790204772356_28877.0      0   \n",
              "5291   1285280184304836608   28146.0  1285280184304836608_28146.0      0   \n",
              "3731   1195574926096384000   25056.0  1195574926096384000_25056.0      1   \n",
              "4579            1252781082   29892.0           1252781082_29892.0      0   \n",
              "7468             141931511   29325.0            141931511_29325.0      0   \n",
              "\n",
              "       stress_score  \n",
              "15291             0  \n",
              "5291              0  \n",
              "3731              1  \n",
              "4579              1  \n",
              "7468              0  "
            ],
            "text/html": [
              "\n",
              "  <div id=\"df-23cd05ff-3451-4e3a-9fd9-bba04ff28b60\" class=\"colab-df-container\">\n",
              "    <div>\n",
              "<style scoped>\n",
              "    .dataframe tbody tr th:only-of-type {\n",
              "        vertical-align: middle;\n",
              "    }\n",
              "\n",
              "    .dataframe tbody tr th {\n",
              "        vertical-align: top;\n",
              "    }\n",
              "\n",
              "    .dataframe thead th {\n",
              "        text-align: right;\n",
              "    }\n",
              "</style>\n",
              "<table border=\"1\" class=\"dataframe\">\n",
              "  <thead>\n",
              "    <tr style=\"text-align: right;\">\n",
              "      <th></th>\n",
              "      <th>author_id</th>\n",
              "      <th>music_id</th>\n",
              "      <th>author_music_id</th>\n",
              "      <th>group</th>\n",
              "      <th>stress_score</th>\n",
              "    </tr>\n",
              "  </thead>\n",
              "  <tbody>\n",
              "    <tr>\n",
              "      <th>15291</th>\n",
              "      <td>843850790204772356</td>\n",
              "      <td>28877.0</td>\n",
              "      <td>843850790204772356_28877.0</td>\n",
              "      <td>0</td>\n",
              "      <td>0</td>\n",
              "    </tr>\n",
              "    <tr>\n",
              "      <th>5291</th>\n",
              "      <td>1285280184304836608</td>\n",
              "      <td>28146.0</td>\n",
              "      <td>1285280184304836608_28146.0</td>\n",
              "      <td>0</td>\n",
              "      <td>0</td>\n",
              "    </tr>\n",
              "    <tr>\n",
              "      <th>3731</th>\n",
              "      <td>1195574926096384000</td>\n",
              "      <td>25056.0</td>\n",
              "      <td>1195574926096384000_25056.0</td>\n",
              "      <td>1</td>\n",
              "      <td>1</td>\n",
              "    </tr>\n",
              "    <tr>\n",
              "      <th>4579</th>\n",
              "      <td>1252781082</td>\n",
              "      <td>29892.0</td>\n",
              "      <td>1252781082_29892.0</td>\n",
              "      <td>0</td>\n",
              "      <td>1</td>\n",
              "    </tr>\n",
              "    <tr>\n",
              "      <th>7468</th>\n",
              "      <td>141931511</td>\n",
              "      <td>29325.0</td>\n",
              "      <td>141931511_29325.0</td>\n",
              "      <td>0</td>\n",
              "      <td>0</td>\n",
              "    </tr>\n",
              "  </tbody>\n",
              "</table>\n",
              "</div>\n",
              "    <div class=\"colab-df-buttons\">\n",
              "\n",
              "  <div class=\"colab-df-container\">\n",
              "    <button class=\"colab-df-convert\" onclick=\"convertToInteractive('df-23cd05ff-3451-4e3a-9fd9-bba04ff28b60')\"\n",
              "            title=\"Convert this dataframe to an interactive table.\"\n",
              "            style=\"display:none;\">\n",
              "\n",
              "  <svg xmlns=\"http://www.w3.org/2000/svg\" height=\"24px\" viewBox=\"0 -960 960 960\">\n",
              "    <path d=\"M120-120v-720h720v720H120Zm60-500h600v-160H180v160Zm220 220h160v-160H400v160Zm0 220h160v-160H400v160ZM180-400h160v-160H180v160Zm440 0h160v-160H620v160ZM180-180h160v-160H180v160Zm440 0h160v-160H620v160Z\"/>\n",
              "  </svg>\n",
              "    </button>\n",
              "\n",
              "  <style>\n",
              "    .colab-df-container {\n",
              "      display:flex;\n",
              "      gap: 12px;\n",
              "    }\n",
              "\n",
              "    .colab-df-convert {\n",
              "      background-color: #E8F0FE;\n",
              "      border: none;\n",
              "      border-radius: 50%;\n",
              "      cursor: pointer;\n",
              "      display: none;\n",
              "      fill: #1967D2;\n",
              "      height: 32px;\n",
              "      padding: 0 0 0 0;\n",
              "      width: 32px;\n",
              "    }\n",
              "\n",
              "    .colab-df-convert:hover {\n",
              "      background-color: #E2EBFA;\n",
              "      box-shadow: 0px 1px 2px rgba(60, 64, 67, 0.3), 0px 1px 3px 1px rgba(60, 64, 67, 0.15);\n",
              "      fill: #174EA6;\n",
              "    }\n",
              "\n",
              "    .colab-df-buttons div {\n",
              "      margin-bottom: 4px;\n",
              "    }\n",
              "\n",
              "    [theme=dark] .colab-df-convert {\n",
              "      background-color: #3B4455;\n",
              "      fill: #D2E3FC;\n",
              "    }\n",
              "\n",
              "    [theme=dark] .colab-df-convert:hover {\n",
              "      background-color: #434B5C;\n",
              "      box-shadow: 0px 1px 3px 1px rgba(0, 0, 0, 0.15);\n",
              "      filter: drop-shadow(0px 1px 2px rgba(0, 0, 0, 0.3));\n",
              "      fill: #FFFFFF;\n",
              "    }\n",
              "  </style>\n",
              "\n",
              "    <script>\n",
              "      const buttonEl =\n",
              "        document.querySelector('#df-23cd05ff-3451-4e3a-9fd9-bba04ff28b60 button.colab-df-convert');\n",
              "      buttonEl.style.display =\n",
              "        google.colab.kernel.accessAllowed ? 'block' : 'none';\n",
              "\n",
              "      async function convertToInteractive(key) {\n",
              "        const element = document.querySelector('#df-23cd05ff-3451-4e3a-9fd9-bba04ff28b60');\n",
              "        const dataTable =\n",
              "          await google.colab.kernel.invokeFunction('convertToInteractive',\n",
              "                                                    [key], {});\n",
              "        if (!dataTable) return;\n",
              "\n",
              "        const docLinkHtml = 'Like what you see? Visit the ' +\n",
              "          '<a target=\"_blank\" href=https://colab.research.google.com/notebooks/data_table.ipynb>data table notebook</a>'\n",
              "          + ' to learn more about interactive tables.';\n",
              "        element.innerHTML = '';\n",
              "        dataTable['output_type'] = 'display_data';\n",
              "        await google.colab.output.renderOutput(dataTable, element);\n",
              "        const docLink = document.createElement('div');\n",
              "        docLink.innerHTML = docLinkHtml;\n",
              "        element.appendChild(docLink);\n",
              "      }\n",
              "    </script>\n",
              "  </div>\n",
              "\n",
              "\n",
              "<div id=\"df-5b9b0c1e-f472-419a-9248-03a388a12d43\">\n",
              "  <button class=\"colab-df-quickchart\" onclick=\"quickchart('df-5b9b0c1e-f472-419a-9248-03a388a12d43')\"\n",
              "            title=\"Suggest charts\"\n",
              "            style=\"display:none;\">\n",
              "\n",
              "<svg xmlns=\"http://www.w3.org/2000/svg\" height=\"24px\"viewBox=\"0 0 24 24\"\n",
              "     width=\"24px\">\n",
              "    <g>\n",
              "        <path d=\"M19 3H5c-1.1 0-2 .9-2 2v14c0 1.1.9 2 2 2h14c1.1 0 2-.9 2-2V5c0-1.1-.9-2-2-2zM9 17H7v-7h2v7zm4 0h-2V7h2v10zm4 0h-2v-4h2v4z\"/>\n",
              "    </g>\n",
              "</svg>\n",
              "  </button>\n",
              "\n",
              "<style>\n",
              "  .colab-df-quickchart {\n",
              "      --bg-color: #E8F0FE;\n",
              "      --fill-color: #1967D2;\n",
              "      --hover-bg-color: #E2EBFA;\n",
              "      --hover-fill-color: #174EA6;\n",
              "      --disabled-fill-color: #AAA;\n",
              "      --disabled-bg-color: #DDD;\n",
              "  }\n",
              "\n",
              "  [theme=dark] .colab-df-quickchart {\n",
              "      --bg-color: #3B4455;\n",
              "      --fill-color: #D2E3FC;\n",
              "      --hover-bg-color: #434B5C;\n",
              "      --hover-fill-color: #FFFFFF;\n",
              "      --disabled-bg-color: #3B4455;\n",
              "      --disabled-fill-color: #666;\n",
              "  }\n",
              "\n",
              "  .colab-df-quickchart {\n",
              "    background-color: var(--bg-color);\n",
              "    border: none;\n",
              "    border-radius: 50%;\n",
              "    cursor: pointer;\n",
              "    display: none;\n",
              "    fill: var(--fill-color);\n",
              "    height: 32px;\n",
              "    padding: 0;\n",
              "    width: 32px;\n",
              "  }\n",
              "\n",
              "  .colab-df-quickchart:hover {\n",
              "    background-color: var(--hover-bg-color);\n",
              "    box-shadow: 0 1px 2px rgba(60, 64, 67, 0.3), 0 1px 3px 1px rgba(60, 64, 67, 0.15);\n",
              "    fill: var(--button-hover-fill-color);\n",
              "  }\n",
              "\n",
              "  .colab-df-quickchart-complete:disabled,\n",
              "  .colab-df-quickchart-complete:disabled:hover {\n",
              "    background-color: var(--disabled-bg-color);\n",
              "    fill: var(--disabled-fill-color);\n",
              "    box-shadow: none;\n",
              "  }\n",
              "\n",
              "  .colab-df-spinner {\n",
              "    border: 2px solid var(--fill-color);\n",
              "    border-color: transparent;\n",
              "    border-bottom-color: var(--fill-color);\n",
              "    animation:\n",
              "      spin 1s steps(1) infinite;\n",
              "  }\n",
              "\n",
              "  @keyframes spin {\n",
              "    0% {\n",
              "      border-color: transparent;\n",
              "      border-bottom-color: var(--fill-color);\n",
              "      border-left-color: var(--fill-color);\n",
              "    }\n",
              "    20% {\n",
              "      border-color: transparent;\n",
              "      border-left-color: var(--fill-color);\n",
              "      border-top-color: var(--fill-color);\n",
              "    }\n",
              "    30% {\n",
              "      border-color: transparent;\n",
              "      border-left-color: var(--fill-color);\n",
              "      border-top-color: var(--fill-color);\n",
              "      border-right-color: var(--fill-color);\n",
              "    }\n",
              "    40% {\n",
              "      border-color: transparent;\n",
              "      border-right-color: var(--fill-color);\n",
              "      border-top-color: var(--fill-color);\n",
              "    }\n",
              "    60% {\n",
              "      border-color: transparent;\n",
              "      border-right-color: var(--fill-color);\n",
              "    }\n",
              "    80% {\n",
              "      border-color: transparent;\n",
              "      border-right-color: var(--fill-color);\n",
              "      border-bottom-color: var(--fill-color);\n",
              "    }\n",
              "    90% {\n",
              "      border-color: transparent;\n",
              "      border-bottom-color: var(--fill-color);\n",
              "    }\n",
              "  }\n",
              "</style>\n",
              "\n",
              "  <script>\n",
              "    async function quickchart(key) {\n",
              "      const quickchartButtonEl =\n",
              "        document.querySelector('#' + key + ' button');\n",
              "      quickchartButtonEl.disabled = true;  // To prevent multiple clicks.\n",
              "      quickchartButtonEl.classList.add('colab-df-spinner');\n",
              "      try {\n",
              "        const charts = await google.colab.kernel.invokeFunction(\n",
              "            'suggestCharts', [key], {});\n",
              "      } catch (error) {\n",
              "        console.error('Error during call to suggestCharts:', error);\n",
              "      }\n",
              "      quickchartButtonEl.classList.remove('colab-df-spinner');\n",
              "      quickchartButtonEl.classList.add('colab-df-quickchart-complete');\n",
              "    }\n",
              "    (() => {\n",
              "      let quickchartButtonEl =\n",
              "        document.querySelector('#df-5b9b0c1e-f472-419a-9248-03a388a12d43 button');\n",
              "      quickchartButtonEl.style.display =\n",
              "        google.colab.kernel.accessAllowed ? 'block' : 'none';\n",
              "    })();\n",
              "  </script>\n",
              "</div>\n",
              "\n",
              "    </div>\n",
              "  </div>\n"
            ],
            "application/vnd.google.colaboratory.intrinsic+json": {
              "type": "dataframe",
              "summary": "{\n  \"name\": \"majorityVotingDf\",\n  \"rows\": 5,\n  \"fields\": [\n    {\n      \"column\": \"author_id\",\n      \"properties\": {\n        \"dtype\": \"string\",\n        \"num_unique_values\": 5,\n        \"samples\": [\n          \"1285280184304836608\",\n          \"141931511\",\n          \"1195574926096384000\"\n        ],\n        \"semantic_type\": \"\",\n        \"description\": \"\"\n      }\n    },\n    {\n      \"column\": \"music_id\",\n      \"properties\": {\n        \"dtype\": \"number\",\n        \"std\": 1901.1145941262985,\n        \"min\": 25056.0,\n        \"max\": 29892.0,\n        \"num_unique_values\": 5,\n        \"samples\": [\n          28146.0,\n          29325.0,\n          25056.0\n        ],\n        \"semantic_type\": \"\",\n        \"description\": \"\"\n      }\n    },\n    {\n      \"column\": \"author_music_id\",\n      \"properties\": {\n        \"dtype\": \"string\",\n        \"num_unique_values\": 5,\n        \"samples\": [\n          \"1285280184304836608_28146.0\",\n          \"141931511_29325.0\",\n          \"1195574926096384000_25056.0\"\n        ],\n        \"semantic_type\": \"\",\n        \"description\": \"\"\n      }\n    },\n    {\n      \"column\": \"group\",\n      \"properties\": {\n        \"dtype\": \"number\",\n        \"std\": 0,\n        \"min\": 0,\n        \"max\": 1,\n        \"num_unique_values\": 2,\n        \"samples\": [\n          1,\n          0\n        ],\n        \"semantic_type\": \"\",\n        \"description\": \"\"\n      }\n    },\n    {\n      \"column\": \"stress_score\",\n      \"properties\": {\n        \"dtype\": \"number\",\n        \"std\": 0,\n        \"min\": 0,\n        \"max\": 1,\n        \"num_unique_values\": 2,\n        \"samples\": [\n          1,\n          0\n        ],\n        \"semantic_type\": \"\",\n        \"description\": \"\"\n      }\n    }\n  ]\n}"
            }
          },
          "metadata": {},
          "execution_count": 24
        }
      ]
    },
    {
      "cell_type": "code",
      "source": [
        "# Save to parquet\n",
        "filePath = os.path.join(tweetsDir, \"anxietyTweetsPoolDf_majorityVoting.parquet\")\n",
        "majorityVotingDf.to_parquet(filePath)"
      ],
      "metadata": {
        "id": "oItszbMrm-Ot"
      },
      "execution_count": null,
      "outputs": []
    },
    {
      "cell_type": "markdown",
      "source": [
        "### Distributions"
      ],
      "metadata": {
        "id": "Lvo0owJHC_kH"
      }
    },
    {
      "cell_type": "markdown",
      "source": [
        "##### Majority Voting"
      ],
      "metadata": {
        "id": "SR-0MPCgDPOm"
      }
    },
    {
      "cell_type": "code",
      "source": [
        "# Plotting the distribution\n",
        "plt.figure(figsize = (8, 6))  # Adjust figure size as needed\n",
        "majorityVotingDf[\"stress_score\"].value_counts().plot(kind = \"bar\")\n",
        "plt.title(\"Distribution of Stress Scores - Majority Voting\")\n",
        "plt.xlabel(\"Stress Score\")\n",
        "plt.ylabel(\"Count\")\n",
        "plt.xticks([0, 1], [\"Relaxed (0)\", \"Stressed (1)\"], rotation = 0)\n",
        "plt.show()"
      ],
      "metadata": {
        "colab": {
          "base_uri": "https://localhost:8080/",
          "height": 564
        },
        "id": "Bw535jlqC9uL",
        "outputId": "c9e717ad-66f5-4f06-f5c6-6bec2685723d"
      },
      "execution_count": null,
      "outputs": [
        {
          "output_type": "display_data",
          "data": {
            "text/plain": [
              "<Figure size 800x600 with 1 Axes>"
            ],
            "image/png": "[encoded data removed]"
          },
          "metadata": {}
        }
      ]
    },
    {
      "cell_type": "code",
      "source": [
        "# Calculate the probability of success\n",
        "p = majorityVotingDf[\"stress_score\"].mean()  # probability of success\n",
        "# Use bionomial test to check the goodness of fit\n",
        "result = stats.binomtest(sum(majorityVotingDf[\"stress_score\"]), len(majorityVotingDf[\"stress_score\"]), p)\n",
        "# Output the result\n",
        "\n",
        "print(f\"Binomial test statistic: {result.statistic}\")\n",
        "print(f\"P-value: {result.pvalue}\")\n",
        "\n",
        "# Interpret the result\n",
        "if result.pvalue > 0.05:\n",
        "    print(\"Fail to reject the null hypothesis: The distribution is Bernoulli.\")\n",
        "else:\n",
        "    print(\"Reject the null hypothesis: The distribution is not Bernoulli.\")"
      ],
      "metadata": {
        "colab": {
          "base_uri": "https://localhost:8080/"
        },
        "id": "9x4ECJS9D59B",
        "outputId": "0e36daa0-d18b-4b1d-bc45-bc6d0cad410b"
      },
      "execution_count": null,
      "outputs": [
        {
          "output_type": "stream",
          "name": "stdout",
          "text": [
            "Binomial test statistic: 0.2977734419832434\n",
            "P-value: 1.0\n",
            "Fail to reject the null hypothesis: The distribution is Bernoulli.\n"
          ]
        }
      ]
    },
    {
      "cell_type": "code",
      "source": [
        "# Calculate the probability of success\n",
        "p = majorityVotingDf[\"stress_score\"].mean()\n",
        "print(f\"probability of success: {p}\")\n",
        "\n",
        "# Observed frequencies\n",
        "observedCounts = np.bincount(majorityVotingDf[\"stress_score\"])\n",
        "observedFreq = observedCounts / len(majorityVotingDf[\"stress_score\"])\n",
        "\n",
        "# Expected frequencies\n",
        "expectedFreq = np.array([1 - p, p])\n",
        "\n",
        "# chi-squared test\n",
        "chi2Stat, pValue = stats.chisquare(observedFreq, expectedFreq)\n",
        "\n",
        "print(f\"Chi-squared statistic: {chi2Stat}\")\n",
        "print(f\"P-value: {pValue}\")\n",
        "\n",
        "# Interpret the result\n",
        "if pValue > 0.05:\n",
        "    print(\"Fail to reject the null hypothesis: The distribution is Bernoulli.\")\n",
        "else:\n",
        "    print(\"Reject the null hypothesis: The distribution is not Bernoulli.\")"
      ],
      "metadata": {
        "colab": {
          "base_uri": "https://localhost:8080/"
        },
        "id": "kl2dV2_HHU5P",
        "outputId": "375b6f1c-e32a-46bd-8451-e367f5c9ccbd"
      },
      "execution_count": null,
      "outputs": [
        {
          "output_type": "stream",
          "name": "stdout",
          "text": [
            "probability of success: 0.2977734419832434\n",
            "Chi-squared statistic: 0.0\n",
            "P-value: 1.0\n",
            "Fail to reject the null hypothesis: The distribution is Bernoulli.\n"
          ]
        }
      ]
    },
    {
      "cell_type": "markdown",
      "source": [
        "##### Average Score"
      ],
      "metadata": {
        "id": "ikOJCAARDRrM"
      }
    },
    {
      "cell_type": "code",
      "source": [
        "# read the pooling dataset\n",
        "containerDf = pd.read_pickle(os.path.join(tweetsDir, \"anxietyTweetsPoolDf.pickle\"))\n",
        "containerDf.dropna(inplace = True)\n",
        "print(\"Ingested file shape:\", containerDf.shape)"
      ],
      "metadata": {
        "colab": {
          "base_uri": "https://localhost:8080/"
        },
        "id": "S6FXV3epD8Lm",
        "outputId": "b744e515-7dfc-48ae-f73e-7283a425b917"
      },
      "execution_count": null,
      "outputs": [
        {
          "output_type": "stream",
          "name": "stdout",
          "text": [
            "Ingested file shape: (306472, 28)\n"
          ]
        }
      ]
    },
    {
      "cell_type": "code",
      "source": [
        "# Customize the original dataframe\n",
        "avgScoreDf = containerDf[[\"author_id\", \"music_id\", \"group\", \"stress_score\"]]\n",
        "\n",
        "# Group by and apply the mean function\n",
        "avgScoreDf = avgScoreDf.groupby([\"author_id\", \"music_id\", \"group\"])[\"stress_score\"].mean().reset_index().sort_values(by = [\"author_id\", \"music_id\"])\n",
        "\n",
        "# Add surrogate key\n",
        "avgScoreDf[\"author_music_id\"] = avgScoreDf[\"author_id\"] + '_' + avgScoreDf[\"music_id\"].astype(str)\n",
        "avgScoreDf = avgScoreDf[[\"author_id\", \"music_id\", \"author_music_id\", \"group\", \"stress_score\"]]\n",
        "\n",
        "# Check\n",
        "print(\"Shape:\", avgScoreDf.shape)\n",
        "avgScoreDf.sample(5)"
      ],
      "metadata": {
        "colab": {
          "base_uri": "https://localhost:8080/",
          "height": 223
        },
        "id": "98kuG3lzDMyV",
        "outputId": "43eb76d2-70dc-4093-f1f3-85fba17611ea"
      },
      "execution_count": null,
      "outputs": [
        {
          "output_type": "stream",
          "name": "stdout",
          "text": [
            "Shape: (17426, 5)\n"
          ]
        },
        {
          "output_type": "execute_result",
          "data": {
            "text/plain": [
              "                 author_id  music_id              author_music_id  group  \\\n",
              "996    1029965043495038976   26998.0  1029965043495038976_26998.0      1   \n",
              "2530   1095410398348615683   28481.0  1095410398348615683_28481.0      0   \n",
              "3308   1154136258144342016   26088.0  1154136258144342016_26088.0      0   \n",
              "739    1029965043495038976   26741.0  1029965043495038976_26741.0      1   \n",
              "16013   887648194603212800   25555.0   887648194603212800_25555.0      1   \n",
              "\n",
              "       stress_score  \n",
              "996        0.542857  \n",
              "2530       1.000000  \n",
              "3308       1.055556  \n",
              "739        0.600000  \n",
              "16013      0.500000  "
            ],
            "text/html": [
              "\n",
              "  <div id=\"df-7307d187-8b03-46dc-a742-249600138499\" class=\"colab-df-container\">\n",
              "    <div>\n",
              "<style scoped>\n",
              "    .dataframe tbody tr th:only-of-type {\n",
              "        vertical-align: middle;\n",
              "    }\n",
              "\n",
              "    .dataframe tbody tr th {\n",
              "        vertical-align: top;\n",
              "    }\n",
              "\n",
              "    .dataframe thead th {\n",
              "        text-align: right;\n",
              "    }\n",
              "</style>\n",
              "<table border=\"1\" class=\"dataframe\">\n",
              "  <thead>\n",
              "    <tr style=\"text-align: right;\">\n",
              "      <th></th>\n",
              "      <th>author_id</th>\n",
              "      <th>music_id</th>\n",
              "      <th>author_music_id</th>\n",
              "      <th>group</th>\n",
              "      <th>stress_score</th>\n",
              "    </tr>\n",
              "  </thead>\n",
              "  <tbody>\n",
              "    <tr>\n",
              "      <th>996</th>\n",
              "      <td>1029965043495038976</td>\n",
              "      <td>26998.0</td>\n",
              "      <td>1029965043495038976_26998.0</td>\n",
              "      <td>1</td>\n",
              "      <td>0.542857</td>\n",
              "    </tr>\n",
              "    <tr>\n",
              "      <th>2530</th>\n",
              "      <td>1095410398348615683</td>\n",
              "      <td>28481.0</td>\n",
              "      <td>1095410398348615683_28481.0</td>\n",
              "      <td>0</td>\n",
              "      <td>1.000000</td>\n",
              "    </tr>\n",
              "    <tr>\n",
              "      <th>3308</th>\n",
              "      <td>1154136258144342016</td>\n",
              "      <td>26088.0</td>\n",
              "      <td>1154136258144342016_26088.0</td>\n",
              "      <td>0</td>\n",
              "      <td>1.055556</td>\n",
              "    </tr>\n",
              "    <tr>\n",
              "      <th>739</th>\n",
              "      <td>1029965043495038976</td>\n",
              "      <td>26741.0</td>\n",
              "      <td>1029965043495038976_26741.0</td>\n",
              "      <td>1</td>\n",
              "      <td>0.600000</td>\n",
              "    </tr>\n",
              "    <tr>\n",
              "      <th>16013</th>\n",
              "      <td>887648194603212800</td>\n",
              "      <td>25555.0</td>\n",
              "      <td>887648194603212800_25555.0</td>\n",
              "      <td>1</td>\n",
              "      <td>0.500000</td>\n",
              "    </tr>\n",
              "  </tbody>\n",
              "</table>\n",
              "</div>\n",
              "    <div class=\"colab-df-buttons\">\n",
              "\n",
              "  <div class=\"colab-df-container\">\n",
              "    <button class=\"colab-df-convert\" onclick=\"convertToInteractive('df-7307d187-8b03-46dc-a742-249600138499')\"\n",
              "            title=\"Convert this dataframe to an interactive table.\"\n",
              "            style=\"display:none;\">\n",
              "\n",
              "  <svg xmlns=\"http://www.w3.org/2000/svg\" height=\"24px\" viewBox=\"0 -960 960 960\">\n",
              "    <path d=\"M120-120v-720h720v720H120Zm60-500h600v-160H180v160Zm220 220h160v-160H400v160Zm0 220h160v-160H400v160ZM180-400h160v-160H180v160Zm440 0h160v-160H620v160ZM180-180h160v-160H180v160Zm440 0h160v-160H620v160Z\"/>\n",
              "  </svg>\n",
              "    </button>\n",
              "\n",
              "  <style>\n",
              "    .colab-df-container {\n",
              "      display:flex;\n",
              "      gap: 12px;\n",
              "    }\n",
              "\n",
              "    .colab-df-convert {\n",
              "      background-color: #E8F0FE;\n",
              "      border: none;\n",
              "      border-radius: 50%;\n",
              "      cursor: pointer;\n",
              "      display: none;\n",
              "      fill: #1967D2;\n",
              "      height: 32px;\n",
              "      padding: 0 0 0 0;\n",
              "      width: 32px;\n",
              "    }\n",
              "\n",
              "    .colab-df-convert:hover {\n",
              "      background-color: #E2EBFA;\n",
              "      box-shadow: 0px 1px 2px rgba(60, 64, 67, 0.3), 0px 1px 3px 1px rgba(60, 64, 67, 0.15);\n",
              "      fill: #174EA6;\n",
              "    }\n",
              "\n",
              "    .colab-df-buttons div {\n",
              "      margin-bottom: 4px;\n",
              "    }\n",
              "\n",
              "    [theme=dark] .colab-df-convert {\n",
              "      background-color: #3B4455;\n",
              "      fill: #D2E3FC;\n",
              "    }\n",
              "\n",
              "    [theme=dark] .colab-df-convert:hover {\n",
              "      background-color: #434B5C;\n",
              "      box-shadow: 0px 1px 3px 1px rgba(0, 0, 0, 0.15);\n",
              "      filter: drop-shadow(0px 1px 2px rgba(0, 0, 0, 0.3));\n",
              "      fill: #FFFFFF;\n",
              "    }\n",
              "  </style>\n",
              "\n",
              "    <script>\n",
              "      const buttonEl =\n",
              "        document.querySelector('#df-7307d187-8b03-46dc-a742-249600138499 button.colab-df-convert');\n",
              "      buttonEl.style.display =\n",
              "        google.colab.kernel.accessAllowed ? 'block' : 'none';\n",
              "\n",
              "      async function convertToInteractive(key) {\n",
              "        const element = document.querySelector('#df-7307d187-8b03-46dc-a742-249600138499');\n",
              "        const dataTable =\n",
              "          await google.colab.kernel.invokeFunction('convertToInteractive',\n",
              "                                                    [key], {});\n",
              "        if (!dataTable) return;\n",
              "\n",
              "        const docLinkHtml = 'Like what you see? Visit the ' +\n",
              "          '<a target=\"_blank\" href=https://colab.research.google.com/notebooks/data_table.ipynb>data table notebook</a>'\n",
              "          + ' to learn more about interactive tables.';\n",
              "        element.innerHTML = '';\n",
              "        dataTable['output_type'] = 'display_data';\n",
              "        await google.colab.output.renderOutput(dataTable, element);\n",
              "        const docLink = document.createElement('div');\n",
              "        docLink.innerHTML = docLinkHtml;\n",
              "        element.appendChild(docLink);\n",
              "      }\n",
              "    </script>\n",
              "  </div>\n",
              "\n",
              "\n",
              "<div id=\"df-8311e76f-74d9-4d31-927c-54a9ec983d38\">\n",
              "  <button class=\"colab-df-quickchart\" onclick=\"quickchart('df-8311e76f-74d9-4d31-927c-54a9ec983d38')\"\n",
              "            title=\"Suggest charts\"\n",
              "            style=\"display:none;\">\n",
              "\n",
              "<svg xmlns=\"http://www.w3.org/2000/svg\" height=\"24px\"viewBox=\"0 0 24 24\"\n",
              "     width=\"24px\">\n",
              "    <g>\n",
              "        <path d=\"M19 3H5c-1.1 0-2 .9-2 2v14c0 1.1.9 2 2 2h14c1.1 0 2-.9 2-2V5c0-1.1-.9-2-2-2zM9 17H7v-7h2v7zm4 0h-2V7h2v10zm4 0h-2v-4h2v4z\"/>\n",
              "    </g>\n",
              "</svg>\n",
              "  </button>\n",
              "\n",
              "<style>\n",
              "  .colab-df-quickchart {\n",
              "      --bg-color: #E8F0FE;\n",
              "      --fill-color: #1967D2;\n",
              "      --hover-bg-color: #E2EBFA;\n",
              "      --hover-fill-color: #174EA6;\n",
              "      --disabled-fill-color: #AAA;\n",
              "      --disabled-bg-color: #DDD;\n",
              "  }\n",
              "\n",
              "  [theme=dark] .colab-df-quickchart {\n",
              "      --bg-color: #3B4455;\n",
              "      --fill-color: #D2E3FC;\n",
              "      --hover-bg-color: #434B5C;\n",
              "      --hover-fill-color: #FFFFFF;\n",
              "      --disabled-bg-color: #3B4455;\n",
              "      --disabled-fill-color: #666;\n",
              "  }\n",
              "\n",
              "  .colab-df-quickchart {\n",
              "    background-color: var(--bg-color);\n",
              "    border: none;\n",
              "    border-radius: 50%;\n",
              "    cursor: pointer;\n",
              "    display: none;\n",
              "    fill: var(--fill-color);\n",
              "    height: 32px;\n",
              "    padding: 0;\n",
              "    width: 32px;\n",
              "  }\n",
              "\n",
              "  .colab-df-quickchart:hover {\n",
              "    background-color: var(--hover-bg-color);\n",
              "    box-shadow: 0 1px 2px rgba(60, 64, 67, 0.3), 0 1px 3px 1px rgba(60, 64, 67, 0.15);\n",
              "    fill: var(--button-hover-fill-color);\n",
              "  }\n",
              "\n",
              "  .colab-df-quickchart-complete:disabled,\n",
              "  .colab-df-quickchart-complete:disabled:hover {\n",
              "    background-color: var(--disabled-bg-color);\n",
              "    fill: var(--disabled-fill-color);\n",
              "    box-shadow: none;\n",
              "  }\n",
              "\n",
              "  .colab-df-spinner {\n",
              "    border: 2px solid var(--fill-color);\n",
              "    border-color: transparent;\n",
              "    border-bottom-color: var(--fill-color);\n",
              "    animation:\n",
              "      spin 1s steps(1) infinite;\n",
              "  }\n",
              "\n",
              "  @keyframes spin {\n",
              "    0% {\n",
              "      border-color: transparent;\n",
              "      border-bottom-color: var(--fill-color);\n",
              "      border-left-color: var(--fill-color);\n",
              "    }\n",
              "    20% {\n",
              "      border-color: transparent;\n",
              "      border-left-color: var(--fill-color);\n",
              "      border-top-color: var(--fill-color);\n",
              "    }\n",
              "    30% {\n",
              "      border-color: transparent;\n",
              "      border-left-color: var(--fill-color);\n",
              "      border-top-color: var(--fill-color);\n",
              "      border-right-color: var(--fill-color);\n",
              "    }\n",
              "    40% {\n",
              "      border-color: transparent;\n",
              "      border-right-color: var(--fill-color);\n",
              "      border-top-color: var(--fill-color);\n",
              "    }\n",
              "    60% {\n",
              "      border-color: transparent;\n",
              "      border-right-color: var(--fill-color);\n",
              "    }\n",
              "    80% {\n",
              "      border-color: transparent;\n",
              "      border-right-color: var(--fill-color);\n",
              "      border-bottom-color: var(--fill-color);\n",
              "    }\n",
              "    90% {\n",
              "      border-color: transparent;\n",
              "      border-bottom-color: var(--fill-color);\n",
              "    }\n",
              "  }\n",
              "</style>\n",
              "\n",
              "  <script>\n",
              "    async function quickchart(key) {\n",
              "      const quickchartButtonEl =\n",
              "        document.querySelector('#' + key + ' button');\n",
              "      quickchartButtonEl.disabled = true;  // To prevent multiple clicks.\n",
              "      quickchartButtonEl.classList.add('colab-df-spinner');\n",
              "      try {\n",
              "        const charts = await google.colab.kernel.invokeFunction(\n",
              "            'suggestCharts', [key], {});\n",
              "      } catch (error) {\n",
              "        console.error('Error during call to suggestCharts:', error);\n",
              "      }\n",
              "      quickchartButtonEl.classList.remove('colab-df-spinner');\n",
              "      quickchartButtonEl.classList.add('colab-df-quickchart-complete');\n",
              "    }\n",
              "    (() => {\n",
              "      let quickchartButtonEl =\n",
              "        document.querySelector('#df-8311e76f-74d9-4d31-927c-54a9ec983d38 button');\n",
              "      quickchartButtonEl.style.display =\n",
              "        google.colab.kernel.accessAllowed ? 'block' : 'none';\n",
              "    })();\n",
              "  </script>\n",
              "</div>\n",
              "\n",
              "    </div>\n",
              "  </div>\n"
            ],
            "application/vnd.google.colaboratory.intrinsic+json": {
              "type": "dataframe",
              "summary": "{\n  \"name\": \"avgScoreDf\",\n  \"rows\": 5,\n  \"fields\": [\n    {\n      \"column\": \"author_id\",\n      \"properties\": {\n        \"dtype\": \"string\",\n        \"num_unique_values\": 4,\n        \"samples\": [\n          \"1095410398348615683\",\n          \"887648194603212800\",\n          \"1029965043495038976\"\n        ],\n        \"semantic_type\": \"\",\n        \"description\": \"\"\n      }\n    },\n    {\n      \"column\": \"music_id\",\n      \"properties\": {\n        \"dtype\": \"number\",\n        \"std\": 1109.2408665389137,\n        \"min\": 25555.0,\n        \"max\": 28481.0,\n        \"num_unique_values\": 5,\n        \"samples\": [\n          28481.0,\n          25555.0,\n          26088.0\n        ],\n        \"semantic_type\": \"\",\n        \"description\": \"\"\n      }\n    },\n    {\n      \"column\": \"author_music_id\",\n      \"properties\": {\n        \"dtype\": \"string\",\n        \"num_unique_values\": 5,\n        \"samples\": [\n          \"1095410398348615683_28481.0\",\n          \"887648194603212800_25555.0\",\n          \"1154136258144342016_26088.0\"\n        ],\n        \"semantic_type\": \"\",\n        \"description\": \"\"\n      }\n    },\n    {\n      \"column\": \"group\",\n      \"properties\": {\n        \"dtype\": \"number\",\n        \"std\": 0,\n        \"min\": 0,\n        \"max\": 1,\n        \"num_unique_values\": 2,\n        \"samples\": [\n          0,\n          1\n        ],\n        \"semantic_type\": \"\",\n        \"description\": \"\"\n      }\n    },\n    {\n      \"column\": \"stress_score\",\n      \"properties\": {\n        \"dtype\": \"number\",\n        \"std\": 0.26610153647581525,\n        \"min\": 0.5,\n        \"max\": 1.0555555555555556,\n        \"num_unique_values\": 5,\n        \"samples\": [\n          1.0,\n          0.5\n        ],\n        \"semantic_type\": \"\",\n        \"description\": \"\"\n      }\n    }\n  ]\n}"
            }
          },
          "metadata": {},
          "execution_count": 30
        }
      ]
    },
    {
      "cell_type": "code",
      "source": [
        "# Save to parquet\n",
        "filePath = os.path.join(tweetsDir, \"anxietyTweetsPoolDf_avgScore.parquet\")\n",
        "avgScoreDf.to_parquet(filePath)"
      ],
      "metadata": {
        "id": "OXQi4Kj-nX3O"
      },
      "execution_count": null,
      "outputs": []
    },
    {
      "cell_type": "code",
      "source": [
        "# Visual inspection of the distribution (all)\n",
        "plt.hist(avgScoreDf[\"stress_score\"], bins = 25, color = \"gray\", alpha = 0.6, label = \"avg. Stress Score\")\n",
        "#sns.histplot(data=avgScoreDf, x='stress_score', element='step', bins=25, palette=\"Set2\", kde=True, legend=True, color=\"gray\")\n",
        "plt.title(\"Distribution of Stress Scores - Average Score\", size = 12)\n",
        "plt.xlabel(\"Average Stress Score\", size = 9)\n",
        "plt.ylabel(\"Frequency\", size = 9)\n",
        "plt.show()"
      ],
      "metadata": {
        "colab": {
          "base_uri": "https://localhost:8080/",
          "height": 471
        },
        "id": "AodNmxuuJz7U",
        "outputId": "9de715f8-380f-4107-fc76-776824d23700"
      },
      "execution_count": null,
      "outputs": [
        {
          "output_type": "display_data",
          "data": {
            "text/plain": [
              "<Figure size 640x480 with 1 Axes>"
            ],
            "image/png": "[encoded data removed]"
          },
          "metadata": {}
        }
      ]
    },
    {
      "cell_type": "code",
      "source": [
        "# Visual inspection of the distribution (remove 0's)\n",
        "#plt.hist([x for x in avgScoreDf[\"stress_score\"].values if x != 0], bins = 25, alpha = 0.6, label = \"avg. Stress Score\")\n",
        "sns.histplot(data=[x for x in avgScoreDf[\"stress_score\"].values if x != 0], element='step', bins = 25, palette=\"Set2\", kde=True, legend=True)\n",
        "plt.title(\"Distribution of Stress Scores - Average Score with no zero's\", size = 12)\n",
        "plt.xlabel(\"Average Stress Score\", size = 9)\n",
        "plt.ylabel(\"Frequency\", size = 9)\n",
        "plt.show()"
      ],
      "metadata": {
        "colab": {
          "base_uri": "https://localhost:8080/",
          "height": 506
        },
        "id": "eHBKlEh5Leew",
        "outputId": "5f9624e3-04cd-459a-8ccf-e5fbde0acd95"
      },
      "execution_count": null,
      "outputs": [
        {
          "output_type": "stream",
          "name": "stderr",
          "text": [
            "<ipython-input-33-088ae25a066b>:3: UserWarning: Ignoring `palette` because no `hue` variable has been assigned.\n",
            "  sns.histplot(data=[x for x in avgScoreDf[\"stress_score\"].values if x != 0], element='step', bins = 25, palette=\"Set2\", kde=True, legend=True)\n"
          ]
        },
        {
          "output_type": "display_data",
          "data": {
            "text/plain": [
              "<Figure size 640x480 with 1 Axes>"
            ],
            "image/png": "[encoded data removed]"
          },
          "metadata": {}
        }
      ]
    },
    {
      "cell_type": "markdown",
      "source": [
        "##### Gamma"
      ],
      "metadata": {
        "id": "i3LQcw2GQAIF"
      }
    },
    {
      "cell_type": "code",
      "source": [
        "# Data\n",
        "data = avgScoreDf[\"stress_score\"].values\n",
        "\n",
        "# Separate zeros and non-zeros\n",
        "zeros = [x for x in data if x == 0]\n",
        "nonZeros = [x for x in data if x != 0]\n",
        "\n",
        "# Estimate Gamma parameters (for non-zero values)\n",
        "shape, loc, scale = stats.gamma.fit(nonZeros)\n",
        "\n",
        "# Perform Kolmogorov-Smirnov test on non-zero values\n",
        "statistic, pValue = stats.kstest(nonZeros, 'gamma', args=(shape, loc, scale))\n",
        "\n",
        "# Plot histogram and PDF\n",
        "plt.hist(nonZeros, bins=25, color=\"gray\", density=True, alpha = 0.6, label = \"avg. Stress Score\")\n",
        "x = np.linspace(min(nonZeros), max(nonZeros), 100)\n",
        "plt.plot(x, stats.gamma.pdf(x, shape, loc, scale), \"r-\", lw = 2, label = 'Gamma PDF')\n",
        "plt.title(\"Distribution of Stress Scores - Average Score with no zero's\", size = 12)\n",
        "plt.xlabel(\"Average Stress Score\", size = 9)\n",
        "plt.ylabel(\"Frequency\", size = 9)\n",
        "plt.legend()\n",
        "plt.show()\n",
        "\n",
        "# Print results (example interpretation)\n",
        "print(f\"Proportion of zeros: {len(zeros) / len(data)}\")\n",
        "print(f\"Gamma fit for non-zeros (p-value): {pValue}\")\n",
        "print(f\"KS-statistic: {statistic}\")\n",
        "\n",
        "# Interpret the result\n",
        "if pValue > 0.05:\n",
        "    print(\"Fail to reject the null hypothesis: The distribution is Gamma.\")\n",
        "else:\n",
        "    print(\"Reject the null hypothesis: The distribution is not Gamma.\")"
      ],
      "metadata": {
        "colab": {
          "base_uri": "https://localhost:8080/",
          "height": 540
        },
        "id": "6TbCf5h9J5P8",
        "outputId": "484799c5-39da-4273-bb04-f897e6de997b"
      },
      "execution_count": null,
      "outputs": [
        {
          "output_type": "display_data",
          "data": {
            "text/plain": [
              "<Figure size 640x480 with 1 Axes>"
            ],
            "image/png": "[encoded data removed]"
          },
          "metadata": {}
        },
        {
          "output_type": "stream",
          "name": "stdout",
          "text": [
            "Proportion of zeros: 0.17152530701251004\n",
            "Gamma fit for non-zeros (p-value): 1.0177429051710696e-64\n",
            "KS-statistic: 0.07155223501250618\n",
            "Reject the null hypothesis: The distribution is not Gamma.\n"
          ]
        }
      ]
    },
    {
      "cell_type": "markdown",
      "source": [
        "##### Log-normal"
      ],
      "metadata": {
        "id": "VHwZKBWvP7h1"
      }
    },
    {
      "cell_type": "code",
      "source": [
        "# Estimate Gamma parameters (for non-zero values)\n",
        "shape, loc, scale = stats.lognorm.fit(nonZeros)\n",
        "\n",
        "# Perform Kolmogorov-Smirnov test on non-zero values\n",
        "statistic, pValue = stats.kstest(nonZeros, 'lognorm', args=(shape, loc, scale))\n",
        "\n",
        "# Plot histogram and PDF\n",
        "plt.hist(nonZeros, bins=20, density=True, alpha = 0.6, label = \"avg. Stress Score\")\n",
        "x = np.linspace(min(nonZeros), max(nonZeros), 100)\n",
        "plt.plot(x, stats.lognorm.pdf(x, shape, loc, scale), \"r-\", lw = 2, label = 'Log-Normal PDF')\n",
        "plt.legend()\n",
        "plt.show()\n",
        "\n",
        "# Print results (example interpretation)\n",
        "print(f\"Proportion of zeros: {len(zeros) / len(data)}\")\n",
        "print(f\"Log-Normal fit for non-zeros (p-value): {pValue}\")\n",
        "print(f\"KS-statistic: {statistic}\")\n",
        "\n",
        "# Interpret the result\n",
        "if pValue > 0.05:\n",
        "    print(\"Fail to reject the null hypothesis: The distribution is Log-Normal.\")\n",
        "else:\n",
        "    print(\"Reject the null hypothesis: The distribution is not Log-Normal.\")"
      ],
      "metadata": {
        "colab": {
          "base_uri": "https://localhost:8080/",
          "height": 499
        },
        "id": "lVO2rS54MuLn",
        "outputId": "51be64cd-5644-4e4a-a1e2-59915e287f4e"
      },
      "execution_count": null,
      "outputs": [
        {
          "output_type": "display_data",
          "data": {
            "text/plain": [
              "<Figure size 640x480 with 1 Axes>"
            ],
            "image/png": "[encoded data removed]"
          },
          "metadata": {}
        },
        {
          "output_type": "stream",
          "name": "stdout",
          "text": [
            "Proportion of zeros: 0.17152530701251004\n",
            "Log-Normal fit for non-zeros (p-value): 2.639344919963528e-41\n",
            "KS-statistic: 0.05706442685593216\n",
            "Reject the null hypothesis: The distribution is not Log-Normal.\n"
          ]
        }
      ]
    },
    {
      "cell_type": "markdown",
      "source": [
        "##### Exponential"
      ],
      "metadata": {
        "id": "pj9tOYfyP1r0"
      }
    },
    {
      "cell_type": "code",
      "source": [
        "# Estimate Gamma parameters (for non-zero values)\n",
        "loc, scale = stats.expon.fit(nonZeros)\n",
        "\n",
        "# Perform Kolmogorov-Smirnov test on non-zero values\n",
        "statistic, pValue = stats.kstest(nonZeros, 'expon', args=(loc, scale))\n",
        "\n",
        "# Plot histogram and PDF\n",
        "plt.hist(nonZeros, bins=20, density=True, alpha = 0.6, label = \"avg. Stress Score\")\n",
        "x = np.linspace(min(nonZeros), max(nonZeros), 100)\n",
        "plt.plot(x, stats.expon.pdf(x, loc, scale), \"r-\", lw = 2, label = 'Exponential PDF')\n",
        "plt.legend()\n",
        "plt.show()\n",
        "\n",
        "# Print results (example interpretation)\n",
        "print(f\"Proportion of zeros: {len(zeros) / len(data)}\")\n",
        "print(f\"Exponential fit for non-zeros (p-value): {pValue}\")\n",
        "print(f\"KS-statistic: {statistic}\")\n",
        "\n",
        "# Interpret the result\n",
        "if pValue > 0.05:\n",
        "    print(\"Fail to reject the null hypothesis: The distribution is Exponential.\")\n",
        "else:\n",
        "    print(\"Reject the null hypothesis: The distribution is not Exponential.\")"
      ],
      "metadata": {
        "colab": {
          "base_uri": "https://localhost:8080/",
          "height": 499
        },
        "id": "y2s6C3H1PIY3",
        "outputId": "c21f5090-b390-45af-aed3-9ad1b6459cf6"
      },
      "execution_count": null,
      "outputs": [
        {
          "output_type": "display_data",
          "data": {
            "text/plain": [
              "<Figure size 640x480 with 1 Axes>"
            ],
            "image/png": "[encoded data removed]"
          },
          "metadata": {}
        },
        {
          "output_type": "stream",
          "name": "stdout",
          "text": [
            "Proportion of zeros: 0.17152530701251004\n",
            "Exponential fit for non-zeros (p-value): 0.0\n",
            "KS-statistic: 0.20908414895221678\n",
            "Reject the null hypothesis: The distribution is not Exponential.\n"
          ]
        }
      ]
    },
    {
      "cell_type": "markdown",
      "source": [
        "### Add the demographic data"
      ],
      "metadata": {
        "id": "oQUDAfDCSAu8"
      }
    },
    {
      "cell_type": "markdown",
      "source": [
        "#### Read"
      ],
      "metadata": {
        "id": "a-SndH2wH8T_"
      }
    },
    {
      "cell_type": "code",
      "source": [
        "# Read the demographics datasets\n",
        "ageDf = pd.read_pickle(os.path.join(demographicDir, \"authorAge.pickle\"))\n",
        "genderDf = pd.read_pickle(os.path.join(demographicDir, \"authorGender.pickle\"))\n",
        "eduLvlDf = pd.read_pickle(os.path.join(demographicDir, \"authorEducationLevel.pickle\"))\n",
        "# Check\n",
        "print(\"Age df shape:\", ageDf.shape)\n",
        "print(\"Gender df shape:\", genderDf.shape)\n",
        "print(\"ARI df shape:\", eduLvlDf.shape)\n",
        "\n",
        "# Combine\n",
        "demographicsDf = ageDf.merge(genderDf[[\"author_id\", \"gender\"]], on = \"author_id\", how = \"left\")\n",
        "demographicsDf = demographicsDf.merge(eduLvlDf[[\"author_id\", \"ari_grade\"]], on = \"author_id\", how = \"left\")\n",
        "# Remove unnecessary columns\n",
        "demographicsDf = demographicsDf[[\"author_id\", \"age_group\", \"gender\", \"ari_grade\"]]\n",
        "# Rename ari_grade_binary to edu_level\n",
        "demographicsDf.rename(columns = {\"ari_grade\": \"edu_level\"}, inplace = True)\n",
        "# Check\n",
        "print(\"Demographics df shape:\", demographicsDf.shape)\n",
        "demographicsDf.sample()"
      ],
      "metadata": {
        "colab": {
          "base_uri": "https://localhost:8080/",
          "height": 150
        },
        "id": "WYsX6I8rH90n",
        "outputId": "8cebbc53-a39e-499f-9df2-9a1a00a917ad"
      },
      "execution_count": null,
      "outputs": [
        {
          "output_type": "stream",
          "name": "stdout",
          "text": [
            "Age df shape: (5612, 30)\n",
            "Gender df shape: (5612, 29)\n",
            "ARI df shape: (5612, 6)\n",
            "Demographics df shape: (5612, 4)\n"
          ]
        },
        {
          "output_type": "execute_result",
          "data": {
            "text/plain": [
              "               author_id age_group gender                edu_level\n",
              "5118  847704348339470338     Gen-Z   Male  Middle/Elemntary School"
            ],
            "text/html": [
              "\n",
              "  <div id=\"df-ca8e3e8c-0b30-4664-8f36-3b81221b32d8\" class=\"colab-df-container\">\n",
              "    <div>\n",
              "<style scoped>\n",
              "    .dataframe tbody tr th:only-of-type {\n",
              "        vertical-align: middle;\n",
              "    }\n",
              "\n",
              "    .dataframe tbody tr th {\n",
              "        vertical-align: top;\n",
              "    }\n",
              "\n",
              "    .dataframe thead th {\n",
              "        text-align: right;\n",
              "    }\n",
              "</style>\n",
              "<table border=\"1\" class=\"dataframe\">\n",
              "  <thead>\n",
              "    <tr style=\"text-align: right;\">\n",
              "      <th></th>\n",
              "      <th>author_id</th>\n",
              "      <th>age_group</th>\n",
              "      <th>gender</th>\n",
              "      <th>edu_level</th>\n",
              "    </tr>\n",
              "  </thead>\n",
              "  <tbody>\n",
              "    <tr>\n",
              "      <th>5118</th>\n",
              "      <td>847704348339470338</td>\n",
              "      <td>Gen-Z</td>\n",
              "      <td>Male</td>\n",
              "      <td>Middle/Elemntary School</td>\n",
              "    </tr>\n",
              "  </tbody>\n",
              "</table>\n",
              "</div>\n",
              "    <div class=\"colab-df-buttons\">\n",
              "\n",
              "  <div class=\"colab-df-container\">\n",
              "    <button class=\"colab-df-convert\" onclick=\"convertToInteractive('df-ca8e3e8c-0b30-4664-8f36-3b81221b32d8')\"\n",
              "            title=\"Convert this dataframe to an interactive table.\"\n",
              "            style=\"display:none;\">\n",
              "\n",
              "  <svg xmlns=\"http://www.w3.org/2000/svg\" height=\"24px\" viewBox=\"0 -960 960 960\">\n",
              "    <path d=\"M120-120v-720h720v720H120Zm60-500h600v-160H180v160Zm220 220h160v-160H400v160Zm0 220h160v-160H400v160ZM180-400h160v-160H180v160Zm440 0h160v-160H620v160ZM180-180h160v-160H180v160Zm440 0h160v-160H620v160Z\"/>\n",
              "  </svg>\n",
              "    </button>\n",
              "\n",
              "  <style>\n",
              "    .colab-df-container {\n",
              "      display:flex;\n",
              "      gap: 12px;\n",
              "    }\n",
              "\n",
              "    .colab-df-convert {\n",
              "      background-color: #E8F0FE;\n",
              "      border: none;\n",
              "      border-radius: 50%;\n",
              "      cursor: pointer;\n",
              "      display: none;\n",
              "      fill: #1967D2;\n",
              "      height: 32px;\n",
              "      padding: 0 0 0 0;\n",
              "      width: 32px;\n",
              "    }\n",
              "\n",
              "    .colab-df-convert:hover {\n",
              "      background-color: #E2EBFA;\n",
              "      box-shadow: 0px 1px 2px rgba(60, 64, 67, 0.3), 0px 1px 3px 1px rgba(60, 64, 67, 0.15);\n",
              "      fill: #174EA6;\n",
              "    }\n",
              "\n",
              "    .colab-df-buttons div {\n",
              "      margin-bottom: 4px;\n",
              "    }\n",
              "\n",
              "    [theme=dark] .colab-df-convert {\n",
              "      background-color: #3B4455;\n",
              "      fill: #D2E3FC;\n",
              "    }\n",
              "\n",
              "    [theme=dark] .colab-df-convert:hover {\n",
              "      background-color: #434B5C;\n",
              "      box-shadow: 0px 1px 3px 1px rgba(0, 0, 0, 0.15);\n",
              "      filter: drop-shadow(0px 1px 2px rgba(0, 0, 0, 0.3));\n",
              "      fill: #FFFFFF;\n",
              "    }\n",
              "  </style>\n",
              "\n",
              "    <script>\n",
              "      const buttonEl =\n",
              "        document.querySelector('#df-ca8e3e8c-0b30-4664-8f36-3b81221b32d8 button.colab-df-convert');\n",
              "      buttonEl.style.display =\n",
              "        google.colab.kernel.accessAllowed ? 'block' : 'none';\n",
              "\n",
              "      async function convertToInteractive(key) {\n",
              "        const element = document.querySelector('#df-ca8e3e8c-0b30-4664-8f36-3b81221b32d8');\n",
              "        const dataTable =\n",
              "          await google.colab.kernel.invokeFunction('convertToInteractive',\n",
              "                                                    [key], {});\n",
              "        if (!dataTable) return;\n",
              "\n",
              "        const docLinkHtml = 'Like what you see? Visit the ' +\n",
              "          '<a target=\"_blank\" href=https://colab.research.google.com/notebooks/data_table.ipynb>data table notebook</a>'\n",
              "          + ' to learn more about interactive tables.';\n",
              "        element.innerHTML = '';\n",
              "        dataTable['output_type'] = 'display_data';\n",
              "        await google.colab.output.renderOutput(dataTable, element);\n",
              "        const docLink = document.createElement('div');\n",
              "        docLink.innerHTML = docLinkHtml;\n",
              "        element.appendChild(docLink);\n",
              "      }\n",
              "    </script>\n",
              "  </div>\n",
              "\n",
              "\n",
              "    </div>\n",
              "  </div>\n"
            ],
            "application/vnd.google.colaboratory.intrinsic+json": {
              "type": "dataframe",
              "summary": "{\n  \"name\": \"demographicsDf\",\n  \"rows\": 1,\n  \"fields\": [\n    {\n      \"column\": \"author_id\",\n      \"properties\": {\n        \"dtype\": \"string\",\n        \"num_unique_values\": 1,\n        \"samples\": [\n          \"847704348339470338\"\n        ],\n        \"semantic_type\": \"\",\n        \"description\": \"\"\n      }\n    },\n    {\n      \"column\": \"age_group\",\n      \"properties\": {\n        \"dtype\": \"string\",\n        \"num_unique_values\": 1,\n        \"samples\": [\n          \"Gen-Z\"\n        ],\n        \"semantic_type\": \"\",\n        \"description\": \"\"\n      }\n    },\n    {\n      \"column\": \"gender\",\n      \"properties\": {\n        \"dtype\": \"string\",\n        \"num_unique_values\": 1,\n        \"samples\": [\n          \"Male\"\n        ],\n        \"semantic_type\": \"\",\n        \"description\": \"\"\n      }\n    },\n    {\n      \"column\": \"edu_level\",\n      \"properties\": {\n        \"dtype\": \"string\",\n        \"num_unique_values\": 1,\n        \"samples\": [\n          \"Middle/Elemntary School\"\n        ],\n        \"semantic_type\": \"\",\n        \"description\": \"\"\n      }\n    }\n  ]\n}"
            }
          },
          "metadata": {},
          "execution_count": 37
        }
      ]
    },
    {
      "cell_type": "markdown",
      "source": [
        "#### Majority voting"
      ],
      "metadata": {
        "id": "mw17lUFYZOcl"
      }
    },
    {
      "cell_type": "code",
      "source": [
        "# Read\n",
        "majorityVotingDf = pd.read_parquet(os.path.join(tweetsDir, \"anxietyTweetsPoolDf_majorityVoting.parquet\"))\n",
        "print(\"Shape:\", majorityVotingDf.shape)\n",
        "majorityVotingDf.sample()"
      ],
      "metadata": {
        "id": "ZBSvs_hBmRs1",
        "colab": {
          "base_uri": "https://localhost:8080/",
          "height": 98
        },
        "outputId": "cc20968d-83c5-4f5e-eb94-fc311d2fdab3"
      },
      "execution_count": null,
      "outputs": [
        {
          "output_type": "stream",
          "name": "stdout",
          "text": [
            "Shape: (17426, 5)\n"
          ]
        },
        {
          "output_type": "execute_result",
          "data": {
            "text/plain": [
              "      author_id  music_id    author_music_id  group  stress_score\n",
              "9796  254181539   26082.0  254181539_26082.0      1             0"
            ],
            "text/html": [
              "\n",
              "  <div id=\"df-2aed198a-b8c8-4307-b262-d75ac2dd358a\" class=\"colab-df-container\">\n",
              "    <div>\n",
              "<style scoped>\n",
              "    .dataframe tbody tr th:only-of-type {\n",
              "        vertical-align: middle;\n",
              "    }\n",
              "\n",
              "    .dataframe tbody tr th {\n",
              "        vertical-align: top;\n",
              "    }\n",
              "\n",
              "    .dataframe thead th {\n",
              "        text-align: right;\n",
              "    }\n",
              "</style>\n",
              "<table border=\"1\" class=\"dataframe\">\n",
              "  <thead>\n",
              "    <tr style=\"text-align: right;\">\n",
              "      <th></th>\n",
              "      <th>author_id</th>\n",
              "      <th>music_id</th>\n",
              "      <th>author_music_id</th>\n",
              "      <th>group</th>\n",
              "      <th>stress_score</th>\n",
              "    </tr>\n",
              "  </thead>\n",
              "  <tbody>\n",
              "    <tr>\n",
              "      <th>9796</th>\n",
              "      <td>254181539</td>\n",
              "      <td>26082.0</td>\n",
              "      <td>254181539_26082.0</td>\n",
              "      <td>1</td>\n",
              "      <td>0</td>\n",
              "    </tr>\n",
              "  </tbody>\n",
              "</table>\n",
              "</div>\n",
              "    <div class=\"colab-df-buttons\">\n",
              "\n",
              "  <div class=\"colab-df-container\">\n",
              "    <button class=\"colab-df-convert\" onclick=\"convertToInteractive('df-2aed198a-b8c8-4307-b262-d75ac2dd358a')\"\n",
              "            title=\"Convert this dataframe to an interactive table.\"\n",
              "            style=\"display:none;\">\n",
              "\n",
              "  <svg xmlns=\"http://www.w3.org/2000/svg\" height=\"24px\" viewBox=\"0 -960 960 960\">\n",
              "    <path d=\"M120-120v-720h720v720H120Zm60-500h600v-160H180v160Zm220 220h160v-160H400v160Zm0 220h160v-160H400v160ZM180-400h160v-160H180v160Zm440 0h160v-160H620v160ZM180-180h160v-160H180v160Zm440 0h160v-160H620v160Z\"/>\n",
              "  </svg>\n",
              "    </button>\n",
              "\n",
              "  <style>\n",
              "    .colab-df-container {\n",
              "      display:flex;\n",
              "      gap: 12px;\n",
              "    }\n",
              "\n",
              "    .colab-df-convert {\n",
              "      background-color: #E8F0FE;\n",
              "      border: none;\n",
              "      border-radius: 50%;\n",
              "      cursor: pointer;\n",
              "      display: none;\n",
              "      fill: #1967D2;\n",
              "      height: 32px;\n",
              "      padding: 0 0 0 0;\n",
              "      width: 32px;\n",
              "    }\n",
              "\n",
              "    .colab-df-convert:hover {\n",
              "      background-color: #E2EBFA;\n",
              "      box-shadow: 0px 1px 2px rgba(60, 64, 67, 0.3), 0px 1px 3px 1px rgba(60, 64, 67, 0.15);\n",
              "      fill: #174EA6;\n",
              "    }\n",
              "\n",
              "    .colab-df-buttons div {\n",
              "      margin-bottom: 4px;\n",
              "    }\n",
              "\n",
              "    [theme=dark] .colab-df-convert {\n",
              "      background-color: #3B4455;\n",
              "      fill: #D2E3FC;\n",
              "    }\n",
              "\n",
              "    [theme=dark] .colab-df-convert:hover {\n",
              "      background-color: #434B5C;\n",
              "      box-shadow: 0px 1px 3px 1px rgba(0, 0, 0, 0.15);\n",
              "      filter: drop-shadow(0px 1px 2px rgba(0, 0, 0, 0.3));\n",
              "      fill: #FFFFFF;\n",
              "    }\n",
              "  </style>\n",
              "\n",
              "    <script>\n",
              "      const buttonEl =\n",
              "        document.querySelector('#df-2aed198a-b8c8-4307-b262-d75ac2dd358a button.colab-df-convert');\n",
              "      buttonEl.style.display =\n",
              "        google.colab.kernel.accessAllowed ? 'block' : 'none';\n",
              "\n",
              "      async function convertToInteractive(key) {\n",
              "        const element = document.querySelector('#df-2aed198a-b8c8-4307-b262-d75ac2dd358a');\n",
              "        const dataTable =\n",
              "          await google.colab.kernel.invokeFunction('convertToInteractive',\n",
              "                                                    [key], {});\n",
              "        if (!dataTable) return;\n",
              "\n",
              "        const docLinkHtml = 'Like what you see? Visit the ' +\n",
              "          '<a target=\"_blank\" href=https://colab.research.google.com/notebooks/data_table.ipynb>data table notebook</a>'\n",
              "          + ' to learn more about interactive tables.';\n",
              "        element.innerHTML = '';\n",
              "        dataTable['output_type'] = 'display_data';\n",
              "        await google.colab.output.renderOutput(dataTable, element);\n",
              "        const docLink = document.createElement('div');\n",
              "        docLink.innerHTML = docLinkHtml;\n",
              "        element.appendChild(docLink);\n",
              "      }\n",
              "    </script>\n",
              "  </div>\n",
              "\n",
              "\n",
              "    </div>\n",
              "  </div>\n"
            ],
            "application/vnd.google.colaboratory.intrinsic+json": {
              "type": "dataframe",
              "summary": "{\n  \"name\": \"majorityVotingDf\",\n  \"rows\": 1,\n  \"fields\": [\n    {\n      \"column\": \"author_id\",\n      \"properties\": {\n        \"dtype\": \"string\",\n        \"num_unique_values\": 1,\n        \"samples\": [\n          \"254181539\"\n        ],\n        \"semantic_type\": \"\",\n        \"description\": \"\"\n      }\n    },\n    {\n      \"column\": \"music_id\",\n      \"properties\": {\n        \"dtype\": \"number\",\n        \"std\": null,\n        \"min\": 26082.0,\n        \"max\": 26082.0,\n        \"num_unique_values\": 1,\n        \"samples\": [\n          26082.0\n        ],\n        \"semantic_type\": \"\",\n        \"description\": \"\"\n      }\n    },\n    {\n      \"column\": \"author_music_id\",\n      \"properties\": {\n        \"dtype\": \"string\",\n        \"num_unique_values\": 1,\n        \"samples\": [\n          \"254181539_26082.0\"\n        ],\n        \"semantic_type\": \"\",\n        \"description\": \"\"\n      }\n    },\n    {\n      \"column\": \"group\",\n      \"properties\": {\n        \"dtype\": \"number\",\n        \"std\": null,\n        \"min\": 1,\n        \"max\": 1,\n        \"num_unique_values\": 1,\n        \"samples\": [\n          1\n        ],\n        \"semantic_type\": \"\",\n        \"description\": \"\"\n      }\n    },\n    {\n      \"column\": \"stress_score\",\n      \"properties\": {\n        \"dtype\": \"number\",\n        \"std\": null,\n        \"min\": 0,\n        \"max\": 0,\n        \"num_unique_values\": 1,\n        \"samples\": [\n          0\n        ],\n        \"semantic_type\": \"\",\n        \"description\": \"\"\n      }\n    }\n  ]\n}"
            }
          },
          "metadata": {},
          "execution_count": 38
        }
      ]
    },
    {
      "cell_type": "code",
      "source": [
        "# Use tweets df to add the demographic info to the majority voting df\n",
        "majorityVotingDf = majorityVotingDf.merge(demographicsDf, on = \"author_id\", how = \"left\")\n",
        "print(\"Shape before dropping na:\", majorityVotingDf.shape)\n",
        "# drop na\n",
        "majorityVotingDf = majorityVotingDf.dropna()\n",
        "# use label encoder to encode the values of the demographics\n",
        "from sklearn.preprocessing import LabelEncoder\n",
        "le = LabelEncoder()\n",
        "majorityVotingDf[\"age_group\"] = le.fit_transform(majorityVotingDf[\"age_group\"])\n",
        "mapping = {index: label for index, label in enumerate(le.classes_)}\n",
        "print(mapping)\n",
        "majorityVotingDf[\"gender\"] = le.fit_transform(majorityVotingDf[\"gender\"])\n",
        "mapping = {index: label for index, label in enumerate(le.classes_)}\n",
        "print(mapping)\n",
        "majorityVotingDf[\"edu_level\"] = le.fit_transform(majorityVotingDf[\"edu_level\"])\n",
        "mapping = {index: label for index, label in enumerate(le.classes_)}\n",
        "print(mapping)\n",
        "print(\"Shape after dropping na:\", majorityVotingDf.shape)\n",
        "majorityVotingDf.sample()"
      ],
      "metadata": {
        "colab": {
          "base_uri": "https://localhost:8080/",
          "height": 167
        },
        "id": "AMdJDf4QRwIG",
        "outputId": "8a22110d-28fb-40d3-8b67-68cf02b2f876"
      },
      "execution_count": null,
      "outputs": [
        {
          "output_type": "stream",
          "name": "stdout",
          "text": [
            "Shape before dropping na: (17426, 8)\n",
            "{0: 'Gen-Z', 1: 'Millenial'}\n",
            "{0: 'Female', 1: 'Male'}\n",
            "{0: 'High School & College', 1: 'Middle/Elemntary School'}\n",
            "Shape after dropping na: (17426, 8)\n"
          ]
        },
        {
          "output_type": "execute_result",
          "data": {
            "text/plain": [
              "                author_id  music_id              author_music_id  group  \\\n",
              "1394  1029965043495038976   27397.0  1029965043495038976_27397.0      1   \n",
              "\n",
              "      stress_score  age_group  gender  edu_level  \n",
              "1394             0          1       0          1  "
            ],
            "text/html": [
              "\n",
              "  <div id=\"df-a14d6fb6-392f-422f-a922-3dad80710ab9\" class=\"colab-df-container\">\n",
              "    <div>\n",
              "<style scoped>\n",
              "    .dataframe tbody tr th:only-of-type {\n",
              "        vertical-align: middle;\n",
              "    }\n",
              "\n",
              "    .dataframe tbody tr th {\n",
              "        vertical-align: top;\n",
              "    }\n",
              "\n",
              "    .dataframe thead th {\n",
              "        text-align: right;\n",
              "    }\n",
              "</style>\n",
              "<table border=\"1\" class=\"dataframe\">\n",
              "  <thead>\n",
              "    <tr style=\"text-align: right;\">\n",
              "      <th></th>\n",
              "      <th>author_id</th>\n",
              "      <th>music_id</th>\n",
              "      <th>author_music_id</th>\n",
              "      <th>group</th>\n",
              "      <th>stress_score</th>\n",
              "      <th>age_group</th>\n",
              "      <th>gender</th>\n",
              "      <th>edu_level</th>\n",
              "    </tr>\n",
              "  </thead>\n",
              "  <tbody>\n",
              "    <tr>\n",
              "      <th>1394</th>\n",
              "      <td>1029965043495038976</td>\n",
              "      <td>27397.0</td>\n",
              "      <td>1029965043495038976_27397.0</td>\n",
              "      <td>1</td>\n",
              "      <td>0</td>\n",
              "      <td>1</td>\n",
              "      <td>0</td>\n",
              "      <td>1</td>\n",
              "    </tr>\n",
              "  </tbody>\n",
              "</table>\n",
              "</div>\n",
              "    <div class=\"colab-df-buttons\">\n",
              "\n",
              "  <div class=\"colab-df-container\">\n",
              "    <button class=\"colab-df-convert\" onclick=\"convertToInteractive('df-a14d6fb6-392f-422f-a922-3dad80710ab9')\"\n",
              "            title=\"Convert this dataframe to an interactive table.\"\n",
              "            style=\"display:none;\">\n",
              "\n",
              "  <svg xmlns=\"http://www.w3.org/2000/svg\" height=\"24px\" viewBox=\"0 -960 960 960\">\n",
              "    <path d=\"M120-120v-720h720v720H120Zm60-500h600v-160H180v160Zm220 220h160v-160H400v160Zm0 220h160v-160H400v160ZM180-400h160v-160H180v160Zm440 0h160v-160H620v160ZM180-180h160v-160H180v160Zm440 0h160v-160H620v160Z\"/>\n",
              "  </svg>\n",
              "    </button>\n",
              "\n",
              "  <style>\n",
              "    .colab-df-container {\n",
              "      display:flex;\n",
              "      gap: 12px;\n",
              "    }\n",
              "\n",
              "    .colab-df-convert {\n",
              "      background-color: #E8F0FE;\n",
              "      border: none;\n",
              "      border-radius: 50%;\n",
              "      cursor: pointer;\n",
              "      display: none;\n",
              "      fill: #1967D2;\n",
              "      height: 32px;\n",
              "      padding: 0 0 0 0;\n",
              "      width: 32px;\n",
              "    }\n",
              "\n",
              "    .colab-df-convert:hover {\n",
              "      background-color: #E2EBFA;\n",
              "      box-shadow: 0px 1px 2px rgba(60, 64, 67, 0.3), 0px 1px 3px 1px rgba(60, 64, 67, 0.15);\n",
              "      fill: #174EA6;\n",
              "    }\n",
              "\n",
              "    .colab-df-buttons div {\n",
              "      margin-bottom: 4px;\n",
              "    }\n",
              "\n",
              "    [theme=dark] .colab-df-convert {\n",
              "      background-color: #3B4455;\n",
              "      fill: #D2E3FC;\n",
              "    }\n",
              "\n",
              "    [theme=dark] .colab-df-convert:hover {\n",
              "      background-color: #434B5C;\n",
              "      box-shadow: 0px 1px 3px 1px rgba(0, 0, 0, 0.15);\n",
              "      filter: drop-shadow(0px 1px 2px rgba(0, 0, 0, 0.3));\n",
              "      fill: #FFFFFF;\n",
              "    }\n",
              "  </style>\n",
              "\n",
              "    <script>\n",
              "      const buttonEl =\n",
              "        document.querySelector('#df-a14d6fb6-392f-422f-a922-3dad80710ab9 button.colab-df-convert');\n",
              "      buttonEl.style.display =\n",
              "        google.colab.kernel.accessAllowed ? 'block' : 'none';\n",
              "\n",
              "      async function convertToInteractive(key) {\n",
              "        const element = document.querySelector('#df-a14d6fb6-392f-422f-a922-3dad80710ab9');\n",
              "        const dataTable =\n",
              "          await google.colab.kernel.invokeFunction('convertToInteractive',\n",
              "                                                    [key], {});\n",
              "        if (!dataTable) return;\n",
              "\n",
              "        const docLinkHtml = 'Like what you see? Visit the ' +\n",
              "          '<a target=\"_blank\" href=https://colab.research.google.com/notebooks/data_table.ipynb>data table notebook</a>'\n",
              "          + ' to learn more about interactive tables.';\n",
              "        element.innerHTML = '';\n",
              "        dataTable['output_type'] = 'display_data';\n",
              "        await google.colab.output.renderOutput(dataTable, element);\n",
              "        const docLink = document.createElement('div');\n",
              "        docLink.innerHTML = docLinkHtml;\n",
              "        element.appendChild(docLink);\n",
              "      }\n",
              "    </script>\n",
              "  </div>\n",
              "\n",
              "\n",
              "    </div>\n",
              "  </div>\n"
            ],
            "application/vnd.google.colaboratory.intrinsic+json": {
              "type": "dataframe",
              "summary": "{\n  \"name\": \"majorityVotingDf\",\n  \"rows\": 1,\n  \"fields\": [\n    {\n      \"column\": \"author_id\",\n      \"properties\": {\n        \"dtype\": \"string\",\n        \"num_unique_values\": 1,\n        \"samples\": [\n          \"1029965043495038976\"\n        ],\n        \"semantic_type\": \"\",\n        \"description\": \"\"\n      }\n    },\n    {\n      \"column\": \"music_id\",\n      \"properties\": {\n        \"dtype\": \"number\",\n        \"std\": null,\n        \"min\": 27397.0,\n        \"max\": 27397.0,\n        \"num_unique_values\": 1,\n        \"samples\": [\n          27397.0\n        ],\n        \"semantic_type\": \"\",\n        \"description\": \"\"\n      }\n    },\n    {\n      \"column\": \"author_music_id\",\n      \"properties\": {\n        \"dtype\": \"string\",\n        \"num_unique_values\": 1,\n        \"samples\": [\n          \"1029965043495038976_27397.0\"\n        ],\n        \"semantic_type\": \"\",\n        \"description\": \"\"\n      }\n    },\n    {\n      \"column\": \"group\",\n      \"properties\": {\n        \"dtype\": \"number\",\n        \"std\": null,\n        \"min\": 1,\n        \"max\": 1,\n        \"num_unique_values\": 1,\n        \"samples\": [\n          1\n        ],\n        \"semantic_type\": \"\",\n        \"description\": \"\"\n      }\n    },\n    {\n      \"column\": \"stress_score\",\n      \"properties\": {\n        \"dtype\": \"number\",\n        \"std\": null,\n        \"min\": 0,\n        \"max\": 0,\n        \"num_unique_values\": 1,\n        \"samples\": [\n          0\n        ],\n        \"semantic_type\": \"\",\n        \"description\": \"\"\n      }\n    },\n    {\n      \"column\": \"age_group\",\n      \"properties\": {\n        \"dtype\": \"number\",\n        \"std\": null,\n        \"min\": 1,\n        \"max\": 1,\n        \"num_unique_values\": 1,\n        \"samples\": [\n          1\n        ],\n        \"semantic_type\": \"\",\n        \"description\": \"\"\n      }\n    },\n    {\n      \"column\": \"gender\",\n      \"properties\": {\n        \"dtype\": \"number\",\n        \"std\": null,\n        \"min\": 0,\n        \"max\": 0,\n        \"num_unique_values\": 1,\n        \"samples\": [\n          0\n        ],\n        \"semantic_type\": \"\",\n        \"description\": \"\"\n      }\n    },\n    {\n      \"column\": \"edu_level\",\n      \"properties\": {\n        \"dtype\": \"number\",\n        \"std\": null,\n        \"min\": 1,\n        \"max\": 1,\n        \"num_unique_values\": 1,\n        \"samples\": [\n          1\n        ],\n        \"semantic_type\": \"\",\n        \"description\": \"\"\n      }\n    }\n  ]\n}"
            }
          },
          "metadata": {},
          "execution_count": 39
        }
      ]
    },
    {
      "cell_type": "code",
      "source": [
        "# Save to parquet\n",
        "filePath = os.path.join(tweetsDir, \"anxietyTweetsPoolDf_majorityVoting_demographics.parquet\")\n",
        "majorityVotingDf.to_parquet(filePath)"
      ],
      "metadata": {
        "id": "qBHh5Vc4V9pp"
      },
      "execution_count": null,
      "outputs": []
    },
    {
      "cell_type": "markdown",
      "source": [
        "#### Avg. Score"
      ],
      "metadata": {
        "id": "RjYLML_SZTnt"
      }
    },
    {
      "cell_type": "code",
      "source": [
        "# Read\n",
        "avgScoreDf = pd.read_parquet(os.path.join(tweetsDir, \"anxietyTweetsPoolDf_avgScore.parquet\"))\n",
        "print(\"Shape:\", avgScoreDf.shape)\n",
        "avgScoreDf.sample()"
      ],
      "metadata": {
        "colab": {
          "base_uri": "https://localhost:8080/",
          "height": 98
        },
        "id": "0I1k11S4ZVFX",
        "outputId": "edc12eae-1120-4f81-ee7d-366883433ab4"
      },
      "execution_count": null,
      "outputs": [
        {
          "output_type": "stream",
          "name": "stdout",
          "text": [
            "Shape: (17426, 5)\n"
          ]
        },
        {
          "output_type": "execute_result",
          "data": {
            "text/plain": [
              "                author_id  music_id             author_music_id  group  \\\n",
              "17090  972085610109321216   24353.0  972085610109321216_24353.0      0   \n",
              "\n",
              "       stress_score  \n",
              "17090         0.625  "
            ],
            "text/html": [
              "\n",
              "  <div id=\"df-67158512-7334-43ca-a3b6-f37e8e964ef6\" class=\"colab-df-container\">\n",
              "    <div>\n",
              "<style scoped>\n",
              "    .dataframe tbody tr th:only-of-type {\n",
              "        vertical-align: middle;\n",
              "    }\n",
              "\n",
              "    .dataframe tbody tr th {\n",
              "        vertical-align: top;\n",
              "    }\n",
              "\n",
              "    .dataframe thead th {\n",
              "        text-align: right;\n",
              "    }\n",
              "</style>\n",
              "<table border=\"1\" class=\"dataframe\">\n",
              "  <thead>\n",
              "    <tr style=\"text-align: right;\">\n",
              "      <th></th>\n",
              "      <th>author_id</th>\n",
              "      <th>music_id</th>\n",
              "      <th>author_music_id</th>\n",
              "      <th>group</th>\n",
              "      <th>stress_score</th>\n",
              "    </tr>\n",
              "  </thead>\n",
              "  <tbody>\n",
              "    <tr>\n",
              "      <th>17090</th>\n",
              "      <td>972085610109321216</td>\n",
              "      <td>24353.0</td>\n",
              "      <td>972085610109321216_24353.0</td>\n",
              "      <td>0</td>\n",
              "      <td>0.625</td>\n",
              "    </tr>\n",
              "  </tbody>\n",
              "</table>\n",
              "</div>\n",
              "    <div class=\"colab-df-buttons\">\n",
              "\n",
              "  <div class=\"colab-df-container\">\n",
              "    <button class=\"colab-df-convert\" onclick=\"convertToInteractive('df-67158512-7334-43ca-a3b6-f37e8e964ef6')\"\n",
              "            title=\"Convert this dataframe to an interactive table.\"\n",
              "            style=\"display:none;\">\n",
              "\n",
              "  <svg xmlns=\"http://www.w3.org/2000/svg\" height=\"24px\" viewBox=\"0 -960 960 960\">\n",
              "    <path d=\"M120-120v-720h720v720H120Zm60-500h600v-160H180v160Zm220 220h160v-160H400v160Zm0 220h160v-160H400v160ZM180-400h160v-160H180v160Zm440 0h160v-160H620v160ZM180-180h160v-160H180v160Zm440 0h160v-160H620v160Z\"/>\n",
              "  </svg>\n",
              "    </button>\n",
              "\n",
              "  <style>\n",
              "    .colab-df-container {\n",
              "      display:flex;\n",
              "      gap: 12px;\n",
              "    }\n",
              "\n",
              "    .colab-df-convert {\n",
              "      background-color: #E8F0FE;\n",
              "      border: none;\n",
              "      border-radius: 50%;\n",
              "      cursor: pointer;\n",
              "      display: none;\n",
              "      fill: #1967D2;\n",
              "      height: 32px;\n",
              "      padding: 0 0 0 0;\n",
              "      width: 32px;\n",
              "    }\n",
              "\n",
              "    .colab-df-convert:hover {\n",
              "      background-color: #E2EBFA;\n",
              "      box-shadow: 0px 1px 2px rgba(60, 64, 67, 0.3), 0px 1px 3px 1px rgba(60, 64, 67, 0.15);\n",
              "      fill: #174EA6;\n",
              "    }\n",
              "\n",
              "    .colab-df-buttons div {\n",
              "      margin-bottom: 4px;\n",
              "    }\n",
              "\n",
              "    [theme=dark] .colab-df-convert {\n",
              "      background-color: #3B4455;\n",
              "      fill: #D2E3FC;\n",
              "    }\n",
              "\n",
              "    [theme=dark] .colab-df-convert:hover {\n",
              "      background-color: #434B5C;\n",
              "      box-shadow: 0px 1px 3px 1px rgba(0, 0, 0, 0.15);\n",
              "      filter: drop-shadow(0px 1px 2px rgba(0, 0, 0, 0.3));\n",
              "      fill: #FFFFFF;\n",
              "    }\n",
              "  </style>\n",
              "\n",
              "    <script>\n",
              "      const buttonEl =\n",
              "        document.querySelector('#df-67158512-7334-43ca-a3b6-f37e8e964ef6 button.colab-df-convert');\n",
              "      buttonEl.style.display =\n",
              "        google.colab.kernel.accessAllowed ? 'block' : 'none';\n",
              "\n",
              "      async function convertToInteractive(key) {\n",
              "        const element = document.querySelector('#df-67158512-7334-43ca-a3b6-f37e8e964ef6');\n",
              "        const dataTable =\n",
              "          await google.colab.kernel.invokeFunction('convertToInteractive',\n",
              "                                                    [key], {});\n",
              "        if (!dataTable) return;\n",
              "\n",
              "        const docLinkHtml = 'Like what you see? Visit the ' +\n",
              "          '<a target=\"_blank\" href=https://colab.research.google.com/notebooks/data_table.ipynb>data table notebook</a>'\n",
              "          + ' to learn more about interactive tables.';\n",
              "        element.innerHTML = '';\n",
              "        dataTable['output_type'] = 'display_data';\n",
              "        await google.colab.output.renderOutput(dataTable, element);\n",
              "        const docLink = document.createElement('div');\n",
              "        docLink.innerHTML = docLinkHtml;\n",
              "        element.appendChild(docLink);\n",
              "      }\n",
              "    </script>\n",
              "  </div>\n",
              "\n",
              "\n",
              "    </div>\n",
              "  </div>\n"
            ],
            "application/vnd.google.colaboratory.intrinsic+json": {
              "type": "dataframe",
              "summary": "{\n  \"name\": \"avgScoreDf\",\n  \"rows\": 1,\n  \"fields\": [\n    {\n      \"column\": \"author_id\",\n      \"properties\": {\n        \"dtype\": \"string\",\n        \"num_unique_values\": 1,\n        \"samples\": [\n          \"972085610109321216\"\n        ],\n        \"semantic_type\": \"\",\n        \"description\": \"\"\n      }\n    },\n    {\n      \"column\": \"music_id\",\n      \"properties\": {\n        \"dtype\": \"number\",\n        \"std\": null,\n        \"min\": 24353.0,\n        \"max\": 24353.0,\n        \"num_unique_values\": 1,\n        \"samples\": [\n          24353.0\n        ],\n        \"semantic_type\": \"\",\n        \"description\": \"\"\n      }\n    },\n    {\n      \"column\": \"author_music_id\",\n      \"properties\": {\n        \"dtype\": \"string\",\n        \"num_unique_values\": 1,\n        \"samples\": [\n          \"972085610109321216_24353.0\"\n        ],\n        \"semantic_type\": \"\",\n        \"description\": \"\"\n      }\n    },\n    {\n      \"column\": \"group\",\n      \"properties\": {\n        \"dtype\": \"number\",\n        \"std\": null,\n        \"min\": 0,\n        \"max\": 0,\n        \"num_unique_values\": 1,\n        \"samples\": [\n          0\n        ],\n        \"semantic_type\": \"\",\n        \"description\": \"\"\n      }\n    },\n    {\n      \"column\": \"stress_score\",\n      \"properties\": {\n        \"dtype\": \"number\",\n        \"std\": null,\n        \"min\": 0.625,\n        \"max\": 0.625,\n        \"num_unique_values\": 1,\n        \"samples\": [\n          0.625\n        ],\n        \"semantic_type\": \"\",\n        \"description\": \"\"\n      }\n    }\n  ]\n}"
            }
          },
          "metadata": {},
          "execution_count": 41
        }
      ]
    },
    {
      "cell_type": "code",
      "source": [
        "# Use tweets df to add the demographic info to the majority voting df\n",
        "avgScoreDf = avgScoreDf.merge(demographicsDf, on = \"author_id\", how = \"left\")\n",
        "print(\"Shape before dropping na:\", majorityVotingDf.shape)\n",
        "# drop na\n",
        "avgScoreDf = avgScoreDf.dropna()\n",
        "# use label encoder to encode the values of the demographics\n",
        "from sklearn.preprocessing import LabelEncoder\n",
        "le = LabelEncoder()\n",
        "avgScoreDf[\"age_group\"] = le.fit_transform(avgScoreDf[\"age_group\"])\n",
        "mapping = {index: label for index, label in enumerate(le.classes_)}\n",
        "print(mapping)\n",
        "avgScoreDf[\"gender\"] = le.fit_transform(avgScoreDf[\"gender\"])\n",
        "mapping = {index: label for index, label in enumerate(le.classes_)}\n",
        "print(mapping)\n",
        "avgScoreDf[\"edu_level\"] = le.fit_transform(avgScoreDf[\"edu_level\"])\n",
        "mapping = {index: label for index, label in enumerate(le.classes_)}\n",
        "print(mapping)\n",
        "print(\"Shape after dropping na:\", avgScoreDf.shape)\n",
        "avgScoreDf.sample()"
      ],
      "metadata": {
        "colab": {
          "base_uri": "https://localhost:8080/",
          "height": 167
        },
        "id": "PHlIp3lmZmWs",
        "outputId": "4e4942af-2558-4d27-98be-ae5ba4f0cabf"
      },
      "execution_count": null,
      "outputs": [
        {
          "output_type": "stream",
          "name": "stdout",
          "text": [
            "Shape before dropping na: (17426, 8)\n",
            "{0: 'Gen-Z', 1: 'Millenial'}\n",
            "{0: 'Female', 1: 'Male'}\n",
            "{0: 'High School & College', 1: 'Middle/Elemntary School'}\n",
            "Shape after dropping na: (17426, 8)\n"
          ]
        },
        {
          "output_type": "execute_result",
          "data": {
            "text/plain": [
              "               author_id  music_id              author_music_id  group  \\\n",
              "656  1028675071727030274   30266.0  1028675071727030274_30266.0      0   \n",
              "\n",
              "     stress_score  age_group  gender  edu_level  \n",
              "656      0.285714          0       0          1  "
            ],
            "text/html": [
              "\n",
              "  <div id=\"df-7cfdd0cf-d17a-4a6e-bfa3-a74c283e9b73\" class=\"colab-df-container\">\n",
              "    <div>\n",
              "<style scoped>\n",
              "    .dataframe tbody tr th:only-of-type {\n",
              "        vertical-align: middle;\n",
              "    }\n",
              "\n",
              "    .dataframe tbody tr th {\n",
              "        vertical-align: top;\n",
              "    }\n",
              "\n",
              "    .dataframe thead th {\n",
              "        text-align: right;\n",
              "    }\n",
              "</style>\n",
              "<table border=\"1\" class=\"dataframe\">\n",
              "  <thead>\n",
              "    <tr style=\"text-align: right;\">\n",
              "      <th></th>\n",
              "      <th>author_id</th>\n",
              "      <th>music_id</th>\n",
              "      <th>author_music_id</th>\n",
              "      <th>group</th>\n",
              "      <th>stress_score</th>\n",
              "      <th>age_group</th>\n",
              "      <th>gender</th>\n",
              "      <th>edu_level</th>\n",
              "    </tr>\n",
              "  </thead>\n",
              "  <tbody>\n",
              "    <tr>\n",
              "      <th>656</th>\n",
              "      <td>1028675071727030274</td>\n",
              "      <td>30266.0</td>\n",
              "      <td>1028675071727030274_30266.0</td>\n",
              "      <td>0</td>\n",
              "      <td>0.285714</td>\n",
              "      <td>0</td>\n",
              "      <td>0</td>\n",
              "      <td>1</td>\n",
              "    </tr>\n",
              "  </tbody>\n",
              "</table>\n",
              "</div>\n",
              "    <div class=\"colab-df-buttons\">\n",
              "\n",
              "  <div class=\"colab-df-container\">\n",
              "    <button class=\"colab-df-convert\" onclick=\"convertToInteractive('df-7cfdd0cf-d17a-4a6e-bfa3-a74c283e9b73')\"\n",
              "            title=\"Convert this dataframe to an interactive table.\"\n",
              "            style=\"display:none;\">\n",
              "\n",
              "  <svg xmlns=\"http://www.w3.org/2000/svg\" height=\"24px\" viewBox=\"0 -960 960 960\">\n",
              "    <path d=\"M120-120v-720h720v720H120Zm60-500h600v-160H180v160Zm220 220h160v-160H400v160Zm0 220h160v-160H400v160ZM180-400h160v-160H180v160Zm440 0h160v-160H620v160ZM180-180h160v-160H180v160Zm440 0h160v-160H620v160Z\"/>\n",
              "  </svg>\n",
              "    </button>\n",
              "\n",
              "  <style>\n",
              "    .colab-df-container {\n",
              "      display:flex;\n",
              "      gap: 12px;\n",
              "    }\n",
              "\n",
              "    .colab-df-convert {\n",
              "      background-color: #E8F0FE;\n",
              "      border: none;\n",
              "      border-radius: 50%;\n",
              "      cursor: pointer;\n",
              "      display: none;\n",
              "      fill: #1967D2;\n",
              "      height: 32px;\n",
              "      padding: 0 0 0 0;\n",
              "      width: 32px;\n",
              "    }\n",
              "\n",
              "    .colab-df-convert:hover {\n",
              "      background-color: #E2EBFA;\n",
              "      box-shadow: 0px 1px 2px rgba(60, 64, 67, 0.3), 0px 1px 3px 1px rgba(60, 64, 67, 0.15);\n",
              "      fill: #174EA6;\n",
              "    }\n",
              "\n",
              "    .colab-df-buttons div {\n",
              "      margin-bottom: 4px;\n",
              "    }\n",
              "\n",
              "    [theme=dark] .colab-df-convert {\n",
              "      background-color: #3B4455;\n",
              "      fill: #D2E3FC;\n",
              "    }\n",
              "\n",
              "    [theme=dark] .colab-df-convert:hover {\n",
              "      background-color: #434B5C;\n",
              "      box-shadow: 0px 1px 3px 1px rgba(0, 0, 0, 0.15);\n",
              "      filter: drop-shadow(0px 1px 2px rgba(0, 0, 0, 0.3));\n",
              "      fill: #FFFFFF;\n",
              "    }\n",
              "  </style>\n",
              "\n",
              "    <script>\n",
              "      const buttonEl =\n",
              "        document.querySelector('#df-7cfdd0cf-d17a-4a6e-bfa3-a74c283e9b73 button.colab-df-convert');\n",
              "      buttonEl.style.display =\n",
              "        google.colab.kernel.accessAllowed ? 'block' : 'none';\n",
              "\n",
              "      async function convertToInteractive(key) {\n",
              "        const element = document.querySelector('#df-7cfdd0cf-d17a-4a6e-bfa3-a74c283e9b73');\n",
              "        const dataTable =\n",
              "          await google.colab.kernel.invokeFunction('convertToInteractive',\n",
              "                                                    [key], {});\n",
              "        if (!dataTable) return;\n",
              "\n",
              "        const docLinkHtml = 'Like what you see? Visit the ' +\n",
              "          '<a target=\"_blank\" href=https://colab.research.google.com/notebooks/data_table.ipynb>data table notebook</a>'\n",
              "          + ' to learn more about interactive tables.';\n",
              "        element.innerHTML = '';\n",
              "        dataTable['output_type'] = 'display_data';\n",
              "        await google.colab.output.renderOutput(dataTable, element);\n",
              "        const docLink = document.createElement('div');\n",
              "        docLink.innerHTML = docLinkHtml;\n",
              "        element.appendChild(docLink);\n",
              "      }\n",
              "    </script>\n",
              "  </div>\n",
              "\n",
              "\n",
              "    </div>\n",
              "  </div>\n"
            ],
            "application/vnd.google.colaboratory.intrinsic+json": {
              "type": "dataframe",
              "summary": "{\n  \"name\": \"avgScoreDf\",\n  \"rows\": 1,\n  \"fields\": [\n    {\n      \"column\": \"author_id\",\n      \"properties\": {\n        \"dtype\": \"string\",\n        \"num_unique_values\": 1,\n        \"samples\": [\n          \"1028675071727030274\"\n        ],\n        \"semantic_type\": \"\",\n        \"description\": \"\"\n      }\n    },\n    {\n      \"column\": \"music_id\",\n      \"properties\": {\n        \"dtype\": \"number\",\n        \"std\": null,\n        \"min\": 30266.0,\n        \"max\": 30266.0,\n        \"num_unique_values\": 1,\n        \"samples\": [\n          30266.0\n        ],\n        \"semantic_type\": \"\",\n        \"description\": \"\"\n      }\n    },\n    {\n      \"column\": \"author_music_id\",\n      \"properties\": {\n        \"dtype\": \"string\",\n        \"num_unique_values\": 1,\n        \"samples\": [\n          \"1028675071727030274_30266.0\"\n        ],\n        \"semantic_type\": \"\",\n        \"description\": \"\"\n      }\n    },\n    {\n      \"column\": \"group\",\n      \"properties\": {\n        \"dtype\": \"number\",\n        \"std\": null,\n        \"min\": 0,\n        \"max\": 0,\n        \"num_unique_values\": 1,\n        \"samples\": [\n          0\n        ],\n        \"semantic_type\": \"\",\n        \"description\": \"\"\n      }\n    },\n    {\n      \"column\": \"stress_score\",\n      \"properties\": {\n        \"dtype\": \"number\",\n        \"std\": null,\n        \"min\": 0.2857142857142857,\n        \"max\": 0.2857142857142857,\n        \"num_unique_values\": 1,\n        \"samples\": [\n          0.2857142857142857\n        ],\n        \"semantic_type\": \"\",\n        \"description\": \"\"\n      }\n    },\n    {\n      \"column\": \"age_group\",\n      \"properties\": {\n        \"dtype\": \"number\",\n        \"std\": null,\n        \"min\": 0,\n        \"max\": 0,\n        \"num_unique_values\": 1,\n        \"samples\": [\n          0\n        ],\n        \"semantic_type\": \"\",\n        \"description\": \"\"\n      }\n    },\n    {\n      \"column\": \"gender\",\n      \"properties\": {\n        \"dtype\": \"number\",\n        \"std\": null,\n        \"min\": 0,\n        \"max\": 0,\n        \"num_unique_values\": 1,\n        \"samples\": [\n          0\n        ],\n        \"semantic_type\": \"\",\n        \"description\": \"\"\n      }\n    },\n    {\n      \"column\": \"edu_level\",\n      \"properties\": {\n        \"dtype\": \"number\",\n        \"std\": null,\n        \"min\": 1,\n        \"max\": 1,\n        \"num_unique_values\": 1,\n        \"samples\": [\n          1\n        ],\n        \"semantic_type\": \"\",\n        \"description\": \"\"\n      }\n    }\n  ]\n}"
            }
          },
          "metadata": {},
          "execution_count": 42
        }
      ]
    },
    {
      "cell_type": "code",
      "source": [
        "# Save to parquet\n",
        "filePath = os.path.join(tweetsDir, \"anxietyTweetsPoolDf_avgScore_demographics.parquet\")\n",
        "avgScoreDf.to_parquet(filePath)"
      ],
      "metadata": {
        "id": "9lDHqEpjZ6Ru"
      },
      "execution_count": null,
      "outputs": []
    }
  ]
}