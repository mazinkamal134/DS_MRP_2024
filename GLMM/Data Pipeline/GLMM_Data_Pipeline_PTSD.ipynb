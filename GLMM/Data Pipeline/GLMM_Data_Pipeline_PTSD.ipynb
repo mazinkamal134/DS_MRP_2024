{
  "nbformat": 4,
  "nbformat_minor": 0,
  "metadata": {
    "colab": {
      "provenance": [],
      "toc_visible": true,
      "machine_shape": "hm",
      "include_colab_link": true
    },
    "kernelspec": {
      "name": "python3",
      "display_name": "Python 3"
    },
    "language_info": {
      "name": "python"
    }
  },
  "cells": [
    {
      "cell_type": "markdown",
      "metadata": {
        "id": "view-in-github",
        "colab_type": "text"
      },
      "source": [
        "<a href=\"https://colab.research.google.com/github/mazinkamal134/DS_MRP_2024/blob/main/GLMM/Data%20Pipeline/GLMM_Data_Pipeline_PTSD.ipynb\" target=\"_parent\"><img src=\"https://colab.research.google.com/assets/colab-badge.svg\" alt=\"Open In Colab\"/></a>"
      ]
    },
    {
      "cell_type": "markdown",
      "source": [
        "Note: Stress score majority voting will not be used in establishing the relationship between listening to music and alleviating symptoms. It's kept here for reference only ..."
      ],
      "metadata": {
        "id": "LHKITILKrxPM"
      }
    },
    {
      "cell_type": "code",
      "execution_count": null,
      "metadata": {
        "id": "8XHaWW3wA_gO"
      },
      "outputs": [],
      "source": [
        "import os\n",
        "import pandas as pd\n",
        "import numpy as np\n",
        "from tqdm import tqdm\n",
        "import pickle\n",
        "import matplotlib.pyplot as plt\n",
        "import seaborn as sns\n",
        "import statsmodels.api as sm\n",
        "import statsmodels.formula.api as smf\n",
        "import scipy.stats as stats"
      ]
    },
    {
      "cell_type": "code",
      "source": [
        "# Mount Google Drive\n",
        "from google.colab import drive\n",
        "drive.mount('/content/drive')"
      ],
      "metadata": {
        "colab": {
          "base_uri": "https://localhost:8080/"
        },
        "id": "MH7qz3N_BVOi",
        "outputId": "c0a3de7f-8d64-44e9-cb1b-a96d2d1fb526"
      },
      "execution_count": null,
      "outputs": [
        {
          "output_type": "stream",
          "name": "stdout",
          "text": [
            "Mounted at /content/drive\n"
          ]
        }
      ]
    },
    {
      "cell_type": "markdown",
      "source": [
        "### Global Params"
      ],
      "metadata": {
        "id": "zKkRrBg9Gbnc"
      }
    },
    {
      "cell_type": "code",
      "source": [
        "# directories\n",
        "tensiDir = r\"/content/drive/MyDrive/Master-2024/MRP/Data/Tweets\"\n",
        "tweetsDir = r\"/content/drive/MyDrive/MRP/Mazin_Works/Project Docs/Data/Tweets\"\n",
        "demographicDir = r\"/content/drive/MyDrive/Master-2024/MRP/Data/Demographics\""
      ],
      "metadata": {
        "id": "OZo8w46AtBEr"
      },
      "execution_count": null,
      "outputs": []
    },
    {
      "cell_type": "markdown",
      "source": [
        "### Ingest & Process the data"
      ],
      "metadata": {
        "id": "aynBULP4DCO6"
      }
    },
    {
      "cell_type": "code",
      "source": [
        "tweetsDf = pd.read_pickle(os.path.join(tensiDir, \"ptsdFullWithTensiScore.pickle\"))\n",
        "print(\"Ingested file shape:\", tweetsDf.shape)"
      ],
      "metadata": {
        "colab": {
          "base_uri": "https://localhost:8080/"
        },
        "id": "vQKFyZKGs-4s",
        "outputId": "94144759-2c9c-4198-f54f-12455e18c531"
      },
      "execution_count": null,
      "outputs": [
        {
          "output_type": "stream",
          "name": "stdout",
          "text": [
            "Ingested file shape: (2967408, 28)\n"
          ]
        }
      ]
    },
    {
      "cell_type": "code",
      "source": [
        "# Create the pool of music sessions\n",
        "musicPoolDf = tweetsDf[tweetsDf.music_id > 0].sort_values(by = [\"author_id\", \"created_at\"]).reset_index()\n",
        "print(\"Music pool shape:\", musicPoolDf.shape)"
      ],
      "metadata": {
        "colab": {
          "base_uri": "https://localhost:8080/"
        },
        "id": "66TrLA1XCsj2",
        "outputId": "431435fc-4184-4ea9-e0c5-7eb5697c3247"
      },
      "execution_count": null,
      "outputs": [
        {
          "output_type": "stream",
          "name": "stdout",
          "text": [
            "Music pool shape: (9916, 29)\n"
          ]
        }
      ]
    },
    {
      "cell_type": "code",
      "source": [
        "# Remove the treatment tweets and any tweet without tensi score\n",
        "tweetsDf = tweetsDf[#(tweetsDf.tweet_type == \"timeline\") &\n",
        "                    (tweetsDf.stress_score.notna()) &\n",
        "                    (tweetsDf.lang == \"en\") &\n",
        "                    (tweetsDf.cleaned_text.notna())&\n",
        "                    (tweetsDf.author_since.notna())]\n",
        "print(\"Filtered file shape:\", tweetsDf.shape)\n",
        "# Group by group and find the unique authors per each group\n",
        "tweetsDf.groupby(\"group\")[\"author_id\"].nunique().reset_index()"
      ],
      "metadata": {
        "colab": {
          "base_uri": "https://localhost:8080/",
          "height": 129
        },
        "id": "cXsHhkGftutK",
        "outputId": "ecfd83fd-fe34-4a10-94de-bd3a657b09fa"
      },
      "execution_count": null,
      "outputs": [
        {
          "output_type": "stream",
          "name": "stdout",
          "text": [
            "Filtered file shape: (1800146, 28)\n"
          ]
        },
        {
          "output_type": "execute_result",
          "data": {
            "text/plain": [
              "   group  author_id\n",
              "0      0        764\n",
              "1      1        388"
            ],
            "text/html": [
              "\n",
              "  <div id=\"df-740cbaac-0458-40c0-a4d1-8535381e22fc\" class=\"colab-df-container\">\n",
              "    <div>\n",
              "<style scoped>\n",
              "    .dataframe tbody tr th:only-of-type {\n",
              "        vertical-align: middle;\n",
              "    }\n",
              "\n",
              "    .dataframe tbody tr th {\n",
              "        vertical-align: top;\n",
              "    }\n",
              "\n",
              "    .dataframe thead th {\n",
              "        text-align: right;\n",
              "    }\n",
              "</style>\n",
              "<table border=\"1\" class=\"dataframe\">\n",
              "  <thead>\n",
              "    <tr style=\"text-align: right;\">\n",
              "      <th></th>\n",
              "      <th>group</th>\n",
              "      <th>author_id</th>\n",
              "    </tr>\n",
              "  </thead>\n",
              "  <tbody>\n",
              "    <tr>\n",
              "      <th>0</th>\n",
              "      <td>0</td>\n",
              "      <td>764</td>\n",
              "    </tr>\n",
              "    <tr>\n",
              "      <th>1</th>\n",
              "      <td>1</td>\n",
              "      <td>388</td>\n",
              "    </tr>\n",
              "  </tbody>\n",
              "</table>\n",
              "</div>\n",
              "    <div class=\"colab-df-buttons\">\n",
              "\n",
              "  <div class=\"colab-df-container\">\n",
              "    <button class=\"colab-df-convert\" onclick=\"convertToInteractive('df-740cbaac-0458-40c0-a4d1-8535381e22fc')\"\n",
              "            title=\"Convert this dataframe to an interactive table.\"\n",
              "            style=\"display:none;\">\n",
              "\n",
              "  <svg xmlns=\"http://www.w3.org/2000/svg\" height=\"24px\" viewBox=\"0 -960 960 960\">\n",
              "    <path d=\"M120-120v-720h720v720H120Zm60-500h600v-160H180v160Zm220 220h160v-160H400v160Zm0 220h160v-160H400v160ZM180-400h160v-160H180v160Zm440 0h160v-160H620v160ZM180-180h160v-160H180v160Zm440 0h160v-160H620v160Z\"/>\n",
              "  </svg>\n",
              "    </button>\n",
              "\n",
              "  <style>\n",
              "    .colab-df-container {\n",
              "      display:flex;\n",
              "      gap: 12px;\n",
              "    }\n",
              "\n",
              "    .colab-df-convert {\n",
              "      background-color: #E8F0FE;\n",
              "      border: none;\n",
              "      border-radius: 50%;\n",
              "      cursor: pointer;\n",
              "      display: none;\n",
              "      fill: #1967D2;\n",
              "      height: 32px;\n",
              "      padding: 0 0 0 0;\n",
              "      width: 32px;\n",
              "    }\n",
              "\n",
              "    .colab-df-convert:hover {\n",
              "      background-color: #E2EBFA;\n",
              "      box-shadow: 0px 1px 2px rgba(60, 64, 67, 0.3), 0px 1px 3px 1px rgba(60, 64, 67, 0.15);\n",
              "      fill: #174EA6;\n",
              "    }\n",
              "\n",
              "    .colab-df-buttons div {\n",
              "      margin-bottom: 4px;\n",
              "    }\n",
              "\n",
              "    [theme=dark] .colab-df-convert {\n",
              "      background-color: #3B4455;\n",
              "      fill: #D2E3FC;\n",
              "    }\n",
              "\n",
              "    [theme=dark] .colab-df-convert:hover {\n",
              "      background-color: #434B5C;\n",
              "      box-shadow: 0px 1px 3px 1px rgba(0, 0, 0, 0.15);\n",
              "      filter: drop-shadow(0px 1px 2px rgba(0, 0, 0, 0.3));\n",
              "      fill: #FFFFFF;\n",
              "    }\n",
              "  </style>\n",
              "\n",
              "    <script>\n",
              "      const buttonEl =\n",
              "        document.querySelector('#df-740cbaac-0458-40c0-a4d1-8535381e22fc button.colab-df-convert');\n",
              "      buttonEl.style.display =\n",
              "        google.colab.kernel.accessAllowed ? 'block' : 'none';\n",
              "\n",
              "      async function convertToInteractive(key) {\n",
              "        const element = document.querySelector('#df-740cbaac-0458-40c0-a4d1-8535381e22fc');\n",
              "        const dataTable =\n",
              "          await google.colab.kernel.invokeFunction('convertToInteractive',\n",
              "                                                    [key], {});\n",
              "        if (!dataTable) return;\n",
              "\n",
              "        const docLinkHtml = 'Like what you see? Visit the ' +\n",
              "          '<a target=\"_blank\" href=https://colab.research.google.com/notebooks/data_table.ipynb>data table notebook</a>'\n",
              "          + ' to learn more about interactive tables.';\n",
              "        element.innerHTML = '';\n",
              "        dataTable['output_type'] = 'display_data';\n",
              "        await google.colab.output.renderOutput(dataTable, element);\n",
              "        const docLink = document.createElement('div');\n",
              "        docLink.innerHTML = docLinkHtml;\n",
              "        element.appendChild(docLink);\n",
              "      }\n",
              "    </script>\n",
              "  </div>\n",
              "\n",
              "\n",
              "<div id=\"df-02a6634c-8d0f-4050-94d8-49717fe1df76\">\n",
              "  <button class=\"colab-df-quickchart\" onclick=\"quickchart('df-02a6634c-8d0f-4050-94d8-49717fe1df76')\"\n",
              "            title=\"Suggest charts\"\n",
              "            style=\"display:none;\">\n",
              "\n",
              "<svg xmlns=\"http://www.w3.org/2000/svg\" height=\"24px\"viewBox=\"0 0 24 24\"\n",
              "     width=\"24px\">\n",
              "    <g>\n",
              "        <path d=\"M19 3H5c-1.1 0-2 .9-2 2v14c0 1.1.9 2 2 2h14c1.1 0 2-.9 2-2V5c0-1.1-.9-2-2-2zM9 17H7v-7h2v7zm4 0h-2V7h2v10zm4 0h-2v-4h2v4z\"/>\n",
              "    </g>\n",
              "</svg>\n",
              "  </button>\n",
              "\n",
              "<style>\n",
              "  .colab-df-quickchart {\n",
              "      --bg-color: #E8F0FE;\n",
              "      --fill-color: #1967D2;\n",
              "      --hover-bg-color: #E2EBFA;\n",
              "      --hover-fill-color: #174EA6;\n",
              "      --disabled-fill-color: #AAA;\n",
              "      --disabled-bg-color: #DDD;\n",
              "  }\n",
              "\n",
              "  [theme=dark] .colab-df-quickchart {\n",
              "      --bg-color: #3B4455;\n",
              "      --fill-color: #D2E3FC;\n",
              "      --hover-bg-color: #434B5C;\n",
              "      --hover-fill-color: #FFFFFF;\n",
              "      --disabled-bg-color: #3B4455;\n",
              "      --disabled-fill-color: #666;\n",
              "  }\n",
              "\n",
              "  .colab-df-quickchart {\n",
              "    background-color: var(--bg-color);\n",
              "    border: none;\n",
              "    border-radius: 50%;\n",
              "    cursor: pointer;\n",
              "    display: none;\n",
              "    fill: var(--fill-color);\n",
              "    height: 32px;\n",
              "    padding: 0;\n",
              "    width: 32px;\n",
              "  }\n",
              "\n",
              "  .colab-df-quickchart:hover {\n",
              "    background-color: var(--hover-bg-color);\n",
              "    box-shadow: 0 1px 2px rgba(60, 64, 67, 0.3), 0 1px 3px 1px rgba(60, 64, 67, 0.15);\n",
              "    fill: var(--button-hover-fill-color);\n",
              "  }\n",
              "\n",
              "  .colab-df-quickchart-complete:disabled,\n",
              "  .colab-df-quickchart-complete:disabled:hover {\n",
              "    background-color: var(--disabled-bg-color);\n",
              "    fill: var(--disabled-fill-color);\n",
              "    box-shadow: none;\n",
              "  }\n",
              "\n",
              "  .colab-df-spinner {\n",
              "    border: 2px solid var(--fill-color);\n",
              "    border-color: transparent;\n",
              "    border-bottom-color: var(--fill-color);\n",
              "    animation:\n",
              "      spin 1s steps(1) infinite;\n",
              "  }\n",
              "\n",
              "  @keyframes spin {\n",
              "    0% {\n",
              "      border-color: transparent;\n",
              "      border-bottom-color: var(--fill-color);\n",
              "      border-left-color: var(--fill-color);\n",
              "    }\n",
              "    20% {\n",
              "      border-color: transparent;\n",
              "      border-left-color: var(--fill-color);\n",
              "      border-top-color: var(--fill-color);\n",
              "    }\n",
              "    30% {\n",
              "      border-color: transparent;\n",
              "      border-left-color: var(--fill-color);\n",
              "      border-top-color: var(--fill-color);\n",
              "      border-right-color: var(--fill-color);\n",
              "    }\n",
              "    40% {\n",
              "      border-color: transparent;\n",
              "      border-right-color: var(--fill-color);\n",
              "      border-top-color: var(--fill-color);\n",
              "    }\n",
              "    60% {\n",
              "      border-color: transparent;\n",
              "      border-right-color: var(--fill-color);\n",
              "    }\n",
              "    80% {\n",
              "      border-color: transparent;\n",
              "      border-right-color: var(--fill-color);\n",
              "      border-bottom-color: var(--fill-color);\n",
              "    }\n",
              "    90% {\n",
              "      border-color: transparent;\n",
              "      border-bottom-color: var(--fill-color);\n",
              "    }\n",
              "  }\n",
              "</style>\n",
              "\n",
              "  <script>\n",
              "    async function quickchart(key) {\n",
              "      const quickchartButtonEl =\n",
              "        document.querySelector('#' + key + ' button');\n",
              "      quickchartButtonEl.disabled = true;  // To prevent multiple clicks.\n",
              "      quickchartButtonEl.classList.add('colab-df-spinner');\n",
              "      try {\n",
              "        const charts = await google.colab.kernel.invokeFunction(\n",
              "            'suggestCharts', [key], {});\n",
              "      } catch (error) {\n",
              "        console.error('Error during call to suggestCharts:', error);\n",
              "      }\n",
              "      quickchartButtonEl.classList.remove('colab-df-spinner');\n",
              "      quickchartButtonEl.classList.add('colab-df-quickchart-complete');\n",
              "    }\n",
              "    (() => {\n",
              "      let quickchartButtonEl =\n",
              "        document.querySelector('#df-02a6634c-8d0f-4050-94d8-49717fe1df76 button');\n",
              "      quickchartButtonEl.style.display =\n",
              "        google.colab.kernel.accessAllowed ? 'block' : 'none';\n",
              "    })();\n",
              "  </script>\n",
              "</div>\n",
              "\n",
              "    </div>\n",
              "  </div>\n"
            ],
            "application/vnd.google.colaboratory.intrinsic+json": {
              "type": "dataframe",
              "summary": "{\n  \"name\": \"tweetsDf\",\n  \"rows\": 2,\n  \"fields\": [\n    {\n      \"column\": \"group\",\n      \"properties\": {\n        \"dtype\": \"number\",\n        \"std\": 0,\n        \"min\": 0,\n        \"max\": 1,\n        \"num_unique_values\": 2,\n        \"samples\": [\n          1,\n          0\n        ],\n        \"semantic_type\": \"\",\n        \"description\": \"\"\n      }\n    },\n    {\n      \"column\": \"author_id\",\n      \"properties\": {\n        \"dtype\": \"number\",\n        \"std\": 265,\n        \"min\": 388,\n        \"max\": 764,\n        \"num_unique_values\": 2,\n        \"samples\": [\n          388,\n          764\n        ],\n        \"semantic_type\": \"\",\n        \"description\": \"\"\n      }\n    }\n  ]\n}"
            }
          },
          "metadata": {},
          "execution_count": 8
        }
      ]
    },
    {
      "cell_type": "markdown",
      "source": [
        "### Create the Tweets Pool"
      ],
      "metadata": {
        "id": "HvtOWHE_DGeC"
      }
    },
    {
      "cell_type": "code",
      "source": [
        "# Create an empty DataFrame with the same schema as anxietyTweetsDf\n",
        "containerDf = tweetsDf.iloc[0: 0].copy()\n",
        "\n",
        "# Exclusion list for control users/authors\n",
        "controlTweets = set()\n",
        "\n",
        "# Loop through the music sessions and capture the eligible tweets\n",
        "for index, row in tqdm(musicPoolDf.iterrows(), total = musicPoolDf.shape[0]):\n",
        "#for index, row in musicPoolDf.iterrows():\n",
        "    # Get the search parameters\n",
        "    musicId = row[\"music_id\"]\n",
        "    authorId = row[\"author_id\"]\n",
        "    # Start date for search\n",
        "    treatmentDate = row[\"created_at\"]\n",
        "    # Upper bound for search - 24 hour window\n",
        "    upperDateBound = treatmentDate + pd.Timedelta(days = 1)\n",
        "    # A slack variable, where the window will be extended to 48 hours if no tweets were found in the 24 hours window\n",
        "    upperDateBoundSlack = treatmentDate + pd.Timedelta(days = 2)\n",
        "\n",
        "    # Find all records 24 hours after music session (treatment)\n",
        "    treatmentDf = tweetsDf[\n",
        "        (tweetsDf.author_id == authorId) &\n",
        "        (tweetsDf.created_at > treatmentDate) &\n",
        "        (tweetsDf.created_at <= upperDateBound)\n",
        "    ]\n",
        "\n",
        "    if treatmentDf.empty:\n",
        "        #print(f\"No tweets found for treatment user {authorId} with music id {musicId} between {treatmentDate} and {upperDateBound}\")\n",
        "        continue\n",
        "\n",
        "    treatmentDf.loc[treatmentDf.index, \"music_id\"] = musicId\n",
        "    #print(f\"Treatment user {authorId}, with music Id: {musicId}, and total {treatmentDf.shape[0]} tweets.\")\n",
        "\n",
        "    # Find a corresponding control user within 24 hours\n",
        "    controlDf = tweetsDf[\n",
        "        (tweetsDf.group == 0) &\n",
        "        (tweetsDf.created_at > treatmentDate) &\n",
        "        (tweetsDf.created_at <= upperDateBound) &\n",
        "        (tweetsDf.cleaned_text.notna()) &\n",
        "        (~tweetsDf.id.isin(controlTweets))\n",
        "    ].groupby(\"author_id\")[\"id\"].count().reset_index()\n",
        "\n",
        "    # If no control tweets are found, extend to 48 hours\n",
        "    if controlDf.empty:\n",
        "        #print(\"No matching control user in the 24 hours window was found, using the 48 hours window ...\")\n",
        "        controlDf = tweetsDf[\n",
        "            (tweetsDf.group == 0) &\n",
        "            (tweetsDf.created_at > treatmentDate) &\n",
        "            (tweetsDf.created_at <= upperDateBoundSlack) &\n",
        "            (tweetsDf.cleaned_text.notna()) &\n",
        "            (~tweetsDf.id.isin(controlTweets))\n",
        "        ].groupby(\"author_id\")[\"id\"].count().reset_index()\n",
        "\n",
        "    if controlDf.empty:\n",
        "        #print(\"No matching control user was found, skipping both ...\")\n",
        "        continue\n",
        "\n",
        "    # Select the control user with the max tweets\n",
        "    # controlUser = controlDf.sort_values(by = \"id\", ascending=False).iloc[0][\"author_id\"]\n",
        "    # To avoid the selection bias, let's choose randomally\n",
        "    controlUser = controlDf.sample(1)[\"author_id\"].item()\n",
        "\n",
        "\n",
        "    # Get the tweets for the selected control user\n",
        "    controlTweetsDf = tweetsDf[\n",
        "        (tweetsDf.author_id == controlUser) &\n",
        "        (tweetsDf.created_at > treatmentDate) &\n",
        "        (tweetsDf.created_at <= upperDateBoundSlack) &\n",
        "        (tweetsDf.cleaned_text.notna())\n",
        "    ]\n",
        "    # Add the used control tweets to the exclusion list\n",
        "    controlTweets.update(controlTweetsDf.id.values)\n",
        "    # Add the music ids to link to the treatment tweets\n",
        "    controlTweetsDf.loc[controlTweetsDf.index, \"music_id\"] = musicId\n",
        "\n",
        "    #print(f\"Control user {controlUser}, with music Id: {musicId}, and total {controlTweetsDf.shape[0]} tweets.\")\n",
        "\n",
        "    # Combine all dataframes into one\n",
        "    containerDf = pd.concat([containerDf, treatmentDf, controlTweetsDf], ignore_index = True)"
      ],
      "metadata": {
        "colab": {
          "base_uri": "https://localhost:8080/"
        },
        "id": "bI0wfOUFCvOX",
        "outputId": "e0a807b3-f57b-439d-e209-e878613d2b9f"
      },
      "execution_count": null,
      "outputs": [
        {
          "output_type": "stream",
          "name": "stderr",
          "text": [
            "100%|██████████| 9916/9916 [1:36:13<00:00,  1.72it/s]\n"
          ]
        }
      ]
    },
    {
      "cell_type": "code",
      "source": [
        "# Pickle the file\n",
        "print(\"Shape of the pool data:\", containerDf.shape)\n",
        "filePath = os.path.join(tweetsDir, \"ptsdTweetsPoolDf.pickle\")\n",
        "with open(filePath, 'wb') as f:\n",
        "    pickle.dump(containerDf, f)"
      ],
      "metadata": {
        "id": "jaj22ImMC0Qd",
        "colab": {
          "base_uri": "https://localhost:8080/"
        },
        "outputId": "0e20b5fd-885d-47ea-b321-c9f9acb3f961"
      },
      "execution_count": null,
      "outputs": [
        {
          "output_type": "stream",
          "name": "stdout",
          "text": [
            "Shape of the pool data: (325199, 28)\n"
          ]
        }
      ]
    },
    {
      "cell_type": "code",
      "source": [
        "# # Read the pickle - whenever needed\n",
        "# filePath = os.path.join(tweetsDir, \"anxietyTweetsPoolDf.pickle\")\n",
        "# containerDf = pd.read_pickle(filePath)\n",
        "# print(\"Shape:\", containerDf.shape)"
      ],
      "metadata": {
        "id": "8PxbN0QrC1op"
      },
      "execution_count": null,
      "outputs": []
    },
    {
      "cell_type": "code",
      "source": [
        "# Fill NA on stress_Score\n",
        "containerDf[\"stress_score\"] = containerDf[\"stress_score\"].fillna(0)\n",
        "# Introduce a new binary score\n",
        "containerDf[\"stress_score_binary\"] = containerDf[\"stress_score\"].apply(lambda x: 1 if x > 0 else 0)"
      ],
      "metadata": {
        "id": "87oMtm0vC4vA"
      },
      "execution_count": null,
      "outputs": []
    },
    {
      "cell_type": "code",
      "source": [
        "# Majority voting\n",
        "def majority_vote_with_tie_breaker(group):\n",
        "    modeResult = group.mode()\n",
        "    if len(modeResult) > 1:  # Tie exists\n",
        "        return 1\n",
        "    else:\n",
        "        return modeResult[0]\n",
        "\n",
        "# Customize the original dataframe\n",
        "majorityVotingDf = containerDf[[\"author_id\", \"music_id\", \"group\", \"stress_score_binary\"]]\n",
        "\n",
        "# Group and apply the function\n",
        "majorityVotingDf = majorityVotingDf.groupby([\"author_id\", \"music_id\", \"group\"]).agg(\n",
        "    stress_score = (\"stress_score_binary\", majority_vote_with_tie_breaker)\n",
        ").reset_index().sort_values(by = [\"author_id\", \"music_id\"])\n",
        "\n",
        "# Add surrogate key\n",
        "majorityVotingDf[\"author_music_id\"] = majorityVotingDf[\"author_id\"] + '_' + majorityVotingDf[\"music_id\"].astype(str)\n",
        "# Finalize the dataframe\n",
        "majorityVotingDf = majorityVotingDf[[\"author_id\", \"music_id\", \"author_music_id\", \"group\", \"stress_score\"]]\n",
        "\n",
        "# Check\n",
        "print(\"Shape:\", majorityVotingDf.shape)\n",
        "majorityVotingDf.sample(5)"
      ],
      "metadata": {
        "colab": {
          "base_uri": "https://localhost:8080/",
          "height": 243
        },
        "id": "7VyIDUDTC7C6",
        "outputId": "c292f5fa-0c0c-4e2c-bdb3-cba12e9bf480"
      },
      "execution_count": null,
      "outputs": [
        {
          "output_type": "stream",
          "name": "stdout",
          "text": [
            "Shape: (18320, 5)\n"
          ]
        },
        {
          "output_type": "execute_result",
          "data": {
            "text/plain": [
              "                 author_id  music_id              author_music_id  group  \\\n",
              "10310            298949437   39955.0            298949437_39955.0      1   \n",
              "392    1016115183620485120   41620.0  1016115183620485120_41620.0      0   \n",
              "14375            720771871   32632.0            720771871_32632.0      0   \n",
              "3454   1207651769158750209   41024.0  1207651769158750209_41024.0      0   \n",
              "4766   1307994293362098177   34323.0  1307994293362098177_34323.0      1   \n",
              "\n",
              "       stress_score  \n",
              "10310             0  \n",
              "392               0  \n",
              "14375             0  \n",
              "3454              0  \n",
              "4766              0  "
            ],
            "text/html": [
              "\n",
              "  <div id=\"df-08ed9868-404c-442f-8144-62890289a8f5\" class=\"colab-df-container\">\n",
              "    <div>\n",
              "<style scoped>\n",
              "    .dataframe tbody tr th:only-of-type {\n",
              "        vertical-align: middle;\n",
              "    }\n",
              "\n",
              "    .dataframe tbody tr th {\n",
              "        vertical-align: top;\n",
              "    }\n",
              "\n",
              "    .dataframe thead th {\n",
              "        text-align: right;\n",
              "    }\n",
              "</style>\n",
              "<table border=\"1\" class=\"dataframe\">\n",
              "  <thead>\n",
              "    <tr style=\"text-align: right;\">\n",
              "      <th></th>\n",
              "      <th>author_id</th>\n",
              "      <th>music_id</th>\n",
              "      <th>author_music_id</th>\n",
              "      <th>group</th>\n",
              "      <th>stress_score</th>\n",
              "    </tr>\n",
              "  </thead>\n",
              "  <tbody>\n",
              "    <tr>\n",
              "      <th>10310</th>\n",
              "      <td>298949437</td>\n",
              "      <td>39955.0</td>\n",
              "      <td>298949437_39955.0</td>\n",
              "      <td>1</td>\n",
              "      <td>0</td>\n",
              "    </tr>\n",
              "    <tr>\n",
              "      <th>392</th>\n",
              "      <td>1016115183620485120</td>\n",
              "      <td>41620.0</td>\n",
              "      <td>1016115183620485120_41620.0</td>\n",
              "      <td>0</td>\n",
              "      <td>0</td>\n",
              "    </tr>\n",
              "    <tr>\n",
              "      <th>14375</th>\n",
              "      <td>720771871</td>\n",
              "      <td>32632.0</td>\n",
              "      <td>720771871_32632.0</td>\n",
              "      <td>0</td>\n",
              "      <td>0</td>\n",
              "    </tr>\n",
              "    <tr>\n",
              "      <th>3454</th>\n",
              "      <td>1207651769158750209</td>\n",
              "      <td>41024.0</td>\n",
              "      <td>1207651769158750209_41024.0</td>\n",
              "      <td>0</td>\n",
              "      <td>0</td>\n",
              "    </tr>\n",
              "    <tr>\n",
              "      <th>4766</th>\n",
              "      <td>1307994293362098177</td>\n",
              "      <td>34323.0</td>\n",
              "      <td>1307994293362098177_34323.0</td>\n",
              "      <td>1</td>\n",
              "      <td>0</td>\n",
              "    </tr>\n",
              "  </tbody>\n",
              "</table>\n",
              "</div>\n",
              "    <div class=\"colab-df-buttons\">\n",
              "\n",
              "  <div class=\"colab-df-container\">\n",
              "    <button class=\"colab-df-convert\" onclick=\"convertToInteractive('df-08ed9868-404c-442f-8144-62890289a8f5')\"\n",
              "            title=\"Convert this dataframe to an interactive table.\"\n",
              "            style=\"display:none;\">\n",
              "\n",
              "  <svg xmlns=\"http://www.w3.org/2000/svg\" height=\"24px\" viewBox=\"0 -960 960 960\">\n",
              "    <path d=\"M120-120v-720h720v720H120Zm60-500h600v-160H180v160Zm220 220h160v-160H400v160Zm0 220h160v-160H400v160ZM180-400h160v-160H180v160Zm440 0h160v-160H620v160ZM180-180h160v-160H180v160Zm440 0h160v-160H620v160Z\"/>\n",
              "  </svg>\n",
              "    </button>\n",
              "\n",
              "  <style>\n",
              "    .colab-df-container {\n",
              "      display:flex;\n",
              "      gap: 12px;\n",
              "    }\n",
              "\n",
              "    .colab-df-convert {\n",
              "      background-color: #E8F0FE;\n",
              "      border: none;\n",
              "      border-radius: 50%;\n",
              "      cursor: pointer;\n",
              "      display: none;\n",
              "      fill: #1967D2;\n",
              "      height: 32px;\n",
              "      padding: 0 0 0 0;\n",
              "      width: 32px;\n",
              "    }\n",
              "\n",
              "    .colab-df-convert:hover {\n",
              "      background-color: #E2EBFA;\n",
              "      box-shadow: 0px 1px 2px rgba(60, 64, 67, 0.3), 0px 1px 3px 1px rgba(60, 64, 67, 0.15);\n",
              "      fill: #174EA6;\n",
              "    }\n",
              "\n",
              "    .colab-df-buttons div {\n",
              "      margin-bottom: 4px;\n",
              "    }\n",
              "\n",
              "    [theme=dark] .colab-df-convert {\n",
              "      background-color: #3B4455;\n",
              "      fill: #D2E3FC;\n",
              "    }\n",
              "\n",
              "    [theme=dark] .colab-df-convert:hover {\n",
              "      background-color: #434B5C;\n",
              "      box-shadow: 0px 1px 3px 1px rgba(0, 0, 0, 0.15);\n",
              "      filter: drop-shadow(0px 1px 2px rgba(0, 0, 0, 0.3));\n",
              "      fill: #FFFFFF;\n",
              "    }\n",
              "  </style>\n",
              "\n",
              "    <script>\n",
              "      const buttonEl =\n",
              "        document.querySelector('#df-08ed9868-404c-442f-8144-62890289a8f5 button.colab-df-convert');\n",
              "      buttonEl.style.display =\n",
              "        google.colab.kernel.accessAllowed ? 'block' : 'none';\n",
              "\n",
              "      async function convertToInteractive(key) {\n",
              "        const element = document.querySelector('#df-08ed9868-404c-442f-8144-62890289a8f5');\n",
              "        const dataTable =\n",
              "          await google.colab.kernel.invokeFunction('convertToInteractive',\n",
              "                                                    [key], {});\n",
              "        if (!dataTable) return;\n",
              "\n",
              "        const docLinkHtml = 'Like what you see? Visit the ' +\n",
              "          '<a target=\"_blank\" href=https://colab.research.google.com/notebooks/data_table.ipynb>data table notebook</a>'\n",
              "          + ' to learn more about interactive tables.';\n",
              "        element.innerHTML = '';\n",
              "        dataTable['output_type'] = 'display_data';\n",
              "        await google.colab.output.renderOutput(dataTable, element);\n",
              "        const docLink = document.createElement('div');\n",
              "        docLink.innerHTML = docLinkHtml;\n",
              "        element.appendChild(docLink);\n",
              "      }\n",
              "    </script>\n",
              "  </div>\n",
              "\n",
              "\n",
              "<div id=\"df-431a271c-615c-42b1-8690-0f23d1a0b282\">\n",
              "  <button class=\"colab-df-quickchart\" onclick=\"quickchart('df-431a271c-615c-42b1-8690-0f23d1a0b282')\"\n",
              "            title=\"Suggest charts\"\n",
              "            style=\"display:none;\">\n",
              "\n",
              "<svg xmlns=\"http://www.w3.org/2000/svg\" height=\"24px\"viewBox=\"0 0 24 24\"\n",
              "     width=\"24px\">\n",
              "    <g>\n",
              "        <path d=\"M19 3H5c-1.1 0-2 .9-2 2v14c0 1.1.9 2 2 2h14c1.1 0 2-.9 2-2V5c0-1.1-.9-2-2-2zM9 17H7v-7h2v7zm4 0h-2V7h2v10zm4 0h-2v-4h2v4z\"/>\n",
              "    </g>\n",
              "</svg>\n",
              "  </button>\n",
              "\n",
              "<style>\n",
              "  .colab-df-quickchart {\n",
              "      --bg-color: #E8F0FE;\n",
              "      --fill-color: #1967D2;\n",
              "      --hover-bg-color: #E2EBFA;\n",
              "      --hover-fill-color: #174EA6;\n",
              "      --disabled-fill-color: #AAA;\n",
              "      --disabled-bg-color: #DDD;\n",
              "  }\n",
              "\n",
              "  [theme=dark] .colab-df-quickchart {\n",
              "      --bg-color: #3B4455;\n",
              "      --fill-color: #D2E3FC;\n",
              "      --hover-bg-color: #434B5C;\n",
              "      --hover-fill-color: #FFFFFF;\n",
              "      --disabled-bg-color: #3B4455;\n",
              "      --disabled-fill-color: #666;\n",
              "  }\n",
              "\n",
              "  .colab-df-quickchart {\n",
              "    background-color: var(--bg-color);\n",
              "    border: none;\n",
              "    border-radius: 50%;\n",
              "    cursor: pointer;\n",
              "    display: none;\n",
              "    fill: var(--fill-color);\n",
              "    height: 32px;\n",
              "    padding: 0;\n",
              "    width: 32px;\n",
              "  }\n",
              "\n",
              "  .colab-df-quickchart:hover {\n",
              "    background-color: var(--hover-bg-color);\n",
              "    box-shadow: 0 1px 2px rgba(60, 64, 67, 0.3), 0 1px 3px 1px rgba(60, 64, 67, 0.15);\n",
              "    fill: var(--button-hover-fill-color);\n",
              "  }\n",
              "\n",
              "  .colab-df-quickchart-complete:disabled,\n",
              "  .colab-df-quickchart-complete:disabled:hover {\n",
              "    background-color: var(--disabled-bg-color);\n",
              "    fill: var(--disabled-fill-color);\n",
              "    box-shadow: none;\n",
              "  }\n",
              "\n",
              "  .colab-df-spinner {\n",
              "    border: 2px solid var(--fill-color);\n",
              "    border-color: transparent;\n",
              "    border-bottom-color: var(--fill-color);\n",
              "    animation:\n",
              "      spin 1s steps(1) infinite;\n",
              "  }\n",
              "\n",
              "  @keyframes spin {\n",
              "    0% {\n",
              "      border-color: transparent;\n",
              "      border-bottom-color: var(--fill-color);\n",
              "      border-left-color: var(--fill-color);\n",
              "    }\n",
              "    20% {\n",
              "      border-color: transparent;\n",
              "      border-left-color: var(--fill-color);\n",
              "      border-top-color: var(--fill-color);\n",
              "    }\n",
              "    30% {\n",
              "      border-color: transparent;\n",
              "      border-left-color: var(--fill-color);\n",
              "      border-top-color: var(--fill-color);\n",
              "      border-right-color: var(--fill-color);\n",
              "    }\n",
              "    40% {\n",
              "      border-color: transparent;\n",
              "      border-right-color: var(--fill-color);\n",
              "      border-top-color: var(--fill-color);\n",
              "    }\n",
              "    60% {\n",
              "      border-color: transparent;\n",
              "      border-right-color: var(--fill-color);\n",
              "    }\n",
              "    80% {\n",
              "      border-color: transparent;\n",
              "      border-right-color: var(--fill-color);\n",
              "      border-bottom-color: var(--fill-color);\n",
              "    }\n",
              "    90% {\n",
              "      border-color: transparent;\n",
              "      border-bottom-color: var(--fill-color);\n",
              "    }\n",
              "  }\n",
              "</style>\n",
              "\n",
              "  <script>\n",
              "    async function quickchart(key) {\n",
              "      const quickchartButtonEl =\n",
              "        document.querySelector('#' + key + ' button');\n",
              "      quickchartButtonEl.disabled = true;  // To prevent multiple clicks.\n",
              "      quickchartButtonEl.classList.add('colab-df-spinner');\n",
              "      try {\n",
              "        const charts = await google.colab.kernel.invokeFunction(\n",
              "            'suggestCharts', [key], {});\n",
              "      } catch (error) {\n",
              "        console.error('Error during call to suggestCharts:', error);\n",
              "      }\n",
              "      quickchartButtonEl.classList.remove('colab-df-spinner');\n",
              "      quickchartButtonEl.classList.add('colab-df-quickchart-complete');\n",
              "    }\n",
              "    (() => {\n",
              "      let quickchartButtonEl =\n",
              "        document.querySelector('#df-431a271c-615c-42b1-8690-0f23d1a0b282 button');\n",
              "      quickchartButtonEl.style.display =\n",
              "        google.colab.kernel.accessAllowed ? 'block' : 'none';\n",
              "    })();\n",
              "  </script>\n",
              "</div>\n",
              "\n",
              "    </div>\n",
              "  </div>\n"
            ],
            "application/vnd.google.colaboratory.intrinsic+json": {
              "type": "dataframe",
              "summary": "{\n  \"name\": \"majorityVotingDf\",\n  \"rows\": 5,\n  \"fields\": [\n    {\n      \"column\": \"author_id\",\n      \"properties\": {\n        \"dtype\": \"string\",\n        \"num_unique_values\": 5,\n        \"samples\": [\n          \"1016115183620485120\",\n          \"1307994293362098177\",\n          \"720771871\"\n        ],\n        \"semantic_type\": \"\",\n        \"description\": \"\"\n      }\n    },\n    {\n      \"column\": \"music_id\",\n      \"properties\": {\n        \"dtype\": \"number\",\n        \"std\": 4134.216092562167,\n        \"min\": 32632.0,\n        \"max\": 41620.0,\n        \"num_unique_values\": 5,\n        \"samples\": [\n          41620.0,\n          34323.0,\n          32632.0\n        ],\n        \"semantic_type\": \"\",\n        \"description\": \"\"\n      }\n    },\n    {\n      \"column\": \"author_music_id\",\n      \"properties\": {\n        \"dtype\": \"string\",\n        \"num_unique_values\": 5,\n        \"samples\": [\n          \"1016115183620485120_41620.0\",\n          \"1307994293362098177_34323.0\",\n          \"720771871_32632.0\"\n        ],\n        \"semantic_type\": \"\",\n        \"description\": \"\"\n      }\n    },\n    {\n      \"column\": \"group\",\n      \"properties\": {\n        \"dtype\": \"number\",\n        \"std\": 0,\n        \"min\": 0,\n        \"max\": 1,\n        \"num_unique_values\": 2,\n        \"samples\": [\n          0,\n          1\n        ],\n        \"semantic_type\": \"\",\n        \"description\": \"\"\n      }\n    },\n    {\n      \"column\": \"stress_score\",\n      \"properties\": {\n        \"dtype\": \"number\",\n        \"std\": 0,\n        \"min\": 0,\n        \"max\": 0,\n        \"num_unique_values\": 1,\n        \"samples\": [\n          0\n        ],\n        \"semantic_type\": \"\",\n        \"description\": \"\"\n      }\n    }\n  ]\n}"
            }
          },
          "metadata": {},
          "execution_count": 13
        }
      ]
    },
    {
      "cell_type": "code",
      "source": [
        "# Save to parquet\n",
        "filePath = os.path.join(tweetsDir, \"ptsdTweetsPoolDf_majorityVoting.parquet\")\n",
        "majorityVotingDf.to_parquet(filePath)"
      ],
      "metadata": {
        "id": "oItszbMrm-Ot"
      },
      "execution_count": null,
      "outputs": []
    },
    {
      "cell_type": "markdown",
      "source": [
        "### Distributions"
      ],
      "metadata": {
        "id": "Lvo0owJHC_kH"
      }
    },
    {
      "cell_type": "markdown",
      "source": [
        "##### Majority Voting"
      ],
      "metadata": {
        "id": "SR-0MPCgDPOm"
      }
    },
    {
      "cell_type": "code",
      "source": [
        "# Plotting the distribution\n",
        "plt.figure(figsize = (8, 6))  # Adjust figure size as needed\n",
        "majorityVotingDf[\"stress_score\"].value_counts().plot(kind = \"bar\")\n",
        "plt.title(\"Distribution of Stress Scores - Majority Voting\")\n",
        "plt.xlabel(\"Stress Score\")\n",
        "plt.ylabel(\"Count\")\n",
        "plt.xticks([0, 1], [\"Relaxed (0)\", \"Stressed (1)\"], rotation = 0)\n",
        "plt.show()"
      ],
      "metadata": {
        "colab": {
          "base_uri": "https://localhost:8080/",
          "height": 555
        },
        "id": "Bw535jlqC9uL",
        "outputId": "3d2ec167-c82a-4b8d-f726-c63c96fdde12"
      },
      "execution_count": null,
      "outputs": [
        {
          "output_type": "display_data",
          "data": {
            "text/plain": [
              "<Figure size 800x600 with 1 Axes>"
            ],
            "image/png": "[encoded data removed]"
          },
          "metadata": {}
        }
      ]
    },
    {
      "cell_type": "code",
      "source": [
        "# Calculate the probability of success\n",
        "p = majorityVotingDf[\"stress_score\"].mean()  # probability of success\n",
        "# Use bionomial test to check the goodness of fit\n",
        "result = stats.binomtest(sum(majorityVotingDf[\"stress_score\"]), len(majorityVotingDf[\"stress_score\"]), p)\n",
        "# Output the result\n",
        "\n",
        "print(f\"Binomial test statistic: {result.statistic}\")\n",
        "print(f\"P-value: {result.pvalue}\")\n",
        "\n",
        "# Interpret the result\n",
        "if result.pvalue > 0.05:\n",
        "    print(\"Fail to reject the null hypothesis: The distribution is Bernoulli.\")\n",
        "else:\n",
        "    print(\"Reject the null hypothesis: The distribution is not Bernoulli.\")"
      ],
      "metadata": {
        "colab": {
          "base_uri": "https://localhost:8080/"
        },
        "id": "9x4ECJS9D59B",
        "outputId": "3798da3e-6c29-4ae3-ed7a-441bdbb30103"
      },
      "execution_count": null,
      "outputs": [
        {
          "output_type": "stream",
          "name": "stdout",
          "text": [
            "Binomial test statistic: 0.3318231441048035\n",
            "P-value: 1.0\n",
            "Fail to reject the null hypothesis: The distribution is Bernoulli.\n"
          ]
        }
      ]
    },
    {
      "cell_type": "code",
      "source": [
        "# Calculate the probability of success\n",
        "p = majorityVotingDf[\"stress_score\"].mean()\n",
        "print(f\"probability of success: {p}\")\n",
        "\n",
        "# Observed frequencies\n",
        "observedCounts = np.bincount(majorityVotingDf[\"stress_score\"])\n",
        "observedFreq = observedCounts / len(majorityVotingDf[\"stress_score\"])\n",
        "\n",
        "# Expected frequencies\n",
        "expectedFreq = np.array([1 - p, p])\n",
        "\n",
        "# chi-squared test\n",
        "chi2Stat, pValue = stats.chisquare(observedFreq, expectedFreq)\n",
        "\n",
        "print(f\"Chi-squared statistic: {chi2Stat}\")\n",
        "print(f\"P-value: {pValue}\")\n",
        "\n",
        "# Interpret the result\n",
        "if pValue > 0.05:\n",
        "    print(\"Fail to reject the null hypothesis: The distribution is Bernoulli.\")\n",
        "else:\n",
        "    print(\"Reject the null hypothesis: The distribution is not Bernoulli.\")"
      ],
      "metadata": {
        "colab": {
          "base_uri": "https://localhost:8080/"
        },
        "id": "kl2dV2_HHU5P",
        "outputId": "2ac07371-ab4a-4eea-f78e-fd471a492031"
      },
      "execution_count": null,
      "outputs": [
        {
          "output_type": "stream",
          "name": "stdout",
          "text": [
            "probability of success: 0.3318231441048035\n",
            "Chi-squared statistic: 0.0\n",
            "P-value: 1.0\n",
            "Fail to reject the null hypothesis: The distribution is Bernoulli.\n"
          ]
        }
      ]
    },
    {
      "cell_type": "markdown",
      "source": [
        "##### Average Score"
      ],
      "metadata": {
        "id": "ikOJCAARDRrM"
      }
    },
    {
      "cell_type": "code",
      "source": [
        "# Customize the original dataframe\n",
        "avgScoreDf = containerDf[[\"author_id\", \"music_id\", \"group\", \"stress_score\"]]\n",
        "\n",
        "# Group by and apply the mean function\n",
        "avgScoreDf = avgScoreDf.groupby([\"author_id\", \"music_id\", \"group\"])[\"stress_score\"].mean().reset_index().sort_values(by = [\"author_id\", \"music_id\"])\n",
        "\n",
        "# Add surrogate key\n",
        "avgScoreDf[\"author_music_id\"] = avgScoreDf[\"author_id\"] + '_' + avgScoreDf[\"music_id\"].astype(str)\n",
        "avgScoreDf = avgScoreDf[[\"author_id\", \"music_id\", \"author_music_id\", \"group\", \"stress_score\"]]\n",
        "\n",
        "# Check\n",
        "print(\"Shape:\", avgScoreDf.shape)\n",
        "avgScoreDf.sample(5)"
      ],
      "metadata": {
        "colab": {
          "base_uri": "https://localhost:8080/",
          "height": 243
        },
        "id": "98kuG3lzDMyV",
        "outputId": "778ec667-9684-4bc5-8719-4729c4b7f8c3"
      },
      "execution_count": null,
      "outputs": [
        {
          "output_type": "stream",
          "name": "stdout",
          "text": [
            "Shape: (18320, 5)\n"
          ]
        },
        {
          "output_type": "execute_result",
          "data": {
            "text/plain": [
              "                 author_id  music_id              author_music_id  group  \\\n",
              "4223   1251411741579382786   37709.0  1251411741579382786_37709.0      1   \n",
              "15887            823738296   41916.0            823738296_41916.0      0   \n",
              "8754             230912814   37412.0            230912814_37412.0      1   \n",
              "8946            2370327951   31377.0           2370327951_31377.0      0   \n",
              "16875   898820915500171264   34433.0   898820915500171264_34433.0      1   \n",
              "\n",
              "       stress_score  \n",
              "4223       0.000000  \n",
              "15887      1.416667  \n",
              "8754       0.454545  \n",
              "8946       0.857143  \n",
              "16875      0.125000  "
            ],
            "text/html": [
              "\n",
              "  <div id=\"df-f1ed5e16-76a2-4243-a2e1-61e94f9d7e10\" class=\"colab-df-container\">\n",
              "    <div>\n",
              "<style scoped>\n",
              "    .dataframe tbody tr th:only-of-type {\n",
              "        vertical-align: middle;\n",
              "    }\n",
              "\n",
              "    .dataframe tbody tr th {\n",
              "        vertical-align: top;\n",
              "    }\n",
              "\n",
              "    .dataframe thead th {\n",
              "        text-align: right;\n",
              "    }\n",
              "</style>\n",
              "<table border=\"1\" class=\"dataframe\">\n",
              "  <thead>\n",
              "    <tr style=\"text-align: right;\">\n",
              "      <th></th>\n",
              "      <th>author_id</th>\n",
              "      <th>music_id</th>\n",
              "      <th>author_music_id</th>\n",
              "      <th>group</th>\n",
              "      <th>stress_score</th>\n",
              "    </tr>\n",
              "  </thead>\n",
              "  <tbody>\n",
              "    <tr>\n",
              "      <th>4223</th>\n",
              "      <td>1251411741579382786</td>\n",
              "      <td>37709.0</td>\n",
              "      <td>1251411741579382786_37709.0</td>\n",
              "      <td>1</td>\n",
              "      <td>0.000000</td>\n",
              "    </tr>\n",
              "    <tr>\n",
              "      <th>15887</th>\n",
              "      <td>823738296</td>\n",
              "      <td>41916.0</td>\n",
              "      <td>823738296_41916.0</td>\n",
              "      <td>0</td>\n",
              "      <td>1.416667</td>\n",
              "    </tr>\n",
              "    <tr>\n",
              "      <th>8754</th>\n",
              "      <td>230912814</td>\n",
              "      <td>37412.0</td>\n",
              "      <td>230912814_37412.0</td>\n",
              "      <td>1</td>\n",
              "      <td>0.454545</td>\n",
              "    </tr>\n",
              "    <tr>\n",
              "      <th>8946</th>\n",
              "      <td>2370327951</td>\n",
              "      <td>31377.0</td>\n",
              "      <td>2370327951_31377.0</td>\n",
              "      <td>0</td>\n",
              "      <td>0.857143</td>\n",
              "    </tr>\n",
              "    <tr>\n",
              "      <th>16875</th>\n",
              "      <td>898820915500171264</td>\n",
              "      <td>34433.0</td>\n",
              "      <td>898820915500171264_34433.0</td>\n",
              "      <td>1</td>\n",
              "      <td>0.125000</td>\n",
              "    </tr>\n",
              "  </tbody>\n",
              "</table>\n",
              "</div>\n",
              "    <div class=\"colab-df-buttons\">\n",
              "\n",
              "  <div class=\"colab-df-container\">\n",
              "    <button class=\"colab-df-convert\" onclick=\"convertToInteractive('df-f1ed5e16-76a2-4243-a2e1-61e94f9d7e10')\"\n",
              "            title=\"Convert this dataframe to an interactive table.\"\n",
              "            style=\"display:none;\">\n",
              "\n",
              "  <svg xmlns=\"http://www.w3.org/2000/svg\" height=\"24px\" viewBox=\"0 -960 960 960\">\n",
              "    <path d=\"M120-120v-720h720v720H120Zm60-500h600v-160H180v160Zm220 220h160v-160H400v160Zm0 220h160v-160H400v160ZM180-400h160v-160H180v160Zm440 0h160v-160H620v160ZM180-180h160v-160H180v160Zm440 0h160v-160H620v160Z\"/>\n",
              "  </svg>\n",
              "    </button>\n",
              "\n",
              "  <style>\n",
              "    .colab-df-container {\n",
              "      display:flex;\n",
              "      gap: 12px;\n",
              "    }\n",
              "\n",
              "    .colab-df-convert {\n",
              "      background-color: #E8F0FE;\n",
              "      border: none;\n",
              "      border-radius: 50%;\n",
              "      cursor: pointer;\n",
              "      display: none;\n",
              "      fill: #1967D2;\n",
              "      height: 32px;\n",
              "      padding: 0 0 0 0;\n",
              "      width: 32px;\n",
              "    }\n",
              "\n",
              "    .colab-df-convert:hover {\n",
              "      background-color: #E2EBFA;\n",
              "      box-shadow: 0px 1px 2px rgba(60, 64, 67, 0.3), 0px 1px 3px 1px rgba(60, 64, 67, 0.15);\n",
              "      fill: #174EA6;\n",
              "    }\n",
              "\n",
              "    .colab-df-buttons div {\n",
              "      margin-bottom: 4px;\n",
              "    }\n",
              "\n",
              "    [theme=dark] .colab-df-convert {\n",
              "      background-color: #3B4455;\n",
              "      fill: #D2E3FC;\n",
              "    }\n",
              "\n",
              "    [theme=dark] .colab-df-convert:hover {\n",
              "      background-color: #434B5C;\n",
              "      box-shadow: 0px 1px 3px 1px rgba(0, 0, 0, 0.15);\n",
              "      filter: drop-shadow(0px 1px 2px rgba(0, 0, 0, 0.3));\n",
              "      fill: #FFFFFF;\n",
              "    }\n",
              "  </style>\n",
              "\n",
              "    <script>\n",
              "      const buttonEl =\n",
              "        document.querySelector('#df-f1ed5e16-76a2-4243-a2e1-61e94f9d7e10 button.colab-df-convert');\n",
              "      buttonEl.style.display =\n",
              "        google.colab.kernel.accessAllowed ? 'block' : 'none';\n",
              "\n",
              "      async function convertToInteractive(key) {\n",
              "        const element = document.querySelector('#df-f1ed5e16-76a2-4243-a2e1-61e94f9d7e10');\n",
              "        const dataTable =\n",
              "          await google.colab.kernel.invokeFunction('convertToInteractive',\n",
              "                                                    [key], {});\n",
              "        if (!dataTable) return;\n",
              "\n",
              "        const docLinkHtml = 'Like what you see? Visit the ' +\n",
              "          '<a target=\"_blank\" href=https://colab.research.google.com/notebooks/data_table.ipynb>data table notebook</a>'\n",
              "          + ' to learn more about interactive tables.';\n",
              "        element.innerHTML = '';\n",
              "        dataTable['output_type'] = 'display_data';\n",
              "        await google.colab.output.renderOutput(dataTable, element);\n",
              "        const docLink = document.createElement('div');\n",
              "        docLink.innerHTML = docLinkHtml;\n",
              "        element.appendChild(docLink);\n",
              "      }\n",
              "    </script>\n",
              "  </div>\n",
              "\n",
              "\n",
              "<div id=\"df-97163206-0c64-4d9d-b99e-1c777cd49458\">\n",
              "  <button class=\"colab-df-quickchart\" onclick=\"quickchart('df-97163206-0c64-4d9d-b99e-1c777cd49458')\"\n",
              "            title=\"Suggest charts\"\n",
              "            style=\"display:none;\">\n",
              "\n",
              "<svg xmlns=\"http://www.w3.org/2000/svg\" height=\"24px\"viewBox=\"0 0 24 24\"\n",
              "     width=\"24px\">\n",
              "    <g>\n",
              "        <path d=\"M19 3H5c-1.1 0-2 .9-2 2v14c0 1.1.9 2 2 2h14c1.1 0 2-.9 2-2V5c0-1.1-.9-2-2-2zM9 17H7v-7h2v7zm4 0h-2V7h2v10zm4 0h-2v-4h2v4z\"/>\n",
              "    </g>\n",
              "</svg>\n",
              "  </button>\n",
              "\n",
              "<style>\n",
              "  .colab-df-quickchart {\n",
              "      --bg-color: #E8F0FE;\n",
              "      --fill-color: #1967D2;\n",
              "      --hover-bg-color: #E2EBFA;\n",
              "      --hover-fill-color: #174EA6;\n",
              "      --disabled-fill-color: #AAA;\n",
              "      --disabled-bg-color: #DDD;\n",
              "  }\n",
              "\n",
              "  [theme=dark] .colab-df-quickchart {\n",
              "      --bg-color: #3B4455;\n",
              "      --fill-color: #D2E3FC;\n",
              "      --hover-bg-color: #434B5C;\n",
              "      --hover-fill-color: #FFFFFF;\n",
              "      --disabled-bg-color: #3B4455;\n",
              "      --disabled-fill-color: #666;\n",
              "  }\n",
              "\n",
              "  .colab-df-quickchart {\n",
              "    background-color: var(--bg-color);\n",
              "    border: none;\n",
              "    border-radius: 50%;\n",
              "    cursor: pointer;\n",
              "    display: none;\n",
              "    fill: var(--fill-color);\n",
              "    height: 32px;\n",
              "    padding: 0;\n",
              "    width: 32px;\n",
              "  }\n",
              "\n",
              "  .colab-df-quickchart:hover {\n",
              "    background-color: var(--hover-bg-color);\n",
              "    box-shadow: 0 1px 2px rgba(60, 64, 67, 0.3), 0 1px 3px 1px rgba(60, 64, 67, 0.15);\n",
              "    fill: var(--button-hover-fill-color);\n",
              "  }\n",
              "\n",
              "  .colab-df-quickchart-complete:disabled,\n",
              "  .colab-df-quickchart-complete:disabled:hover {\n",
              "    background-color: var(--disabled-bg-color);\n",
              "    fill: var(--disabled-fill-color);\n",
              "    box-shadow: none;\n",
              "  }\n",
              "\n",
              "  .colab-df-spinner {\n",
              "    border: 2px solid var(--fill-color);\n",
              "    border-color: transparent;\n",
              "    border-bottom-color: var(--fill-color);\n",
              "    animation:\n",
              "      spin 1s steps(1) infinite;\n",
              "  }\n",
              "\n",
              "  @keyframes spin {\n",
              "    0% {\n",
              "      border-color: transparent;\n",
              "      border-bottom-color: var(--fill-color);\n",
              "      border-left-color: var(--fill-color);\n",
              "    }\n",
              "    20% {\n",
              "      border-color: transparent;\n",
              "      border-left-color: var(--fill-color);\n",
              "      border-top-color: var(--fill-color);\n",
              "    }\n",
              "    30% {\n",
              "      border-color: transparent;\n",
              "      border-left-color: var(--fill-color);\n",
              "      border-top-color: var(--fill-color);\n",
              "      border-right-color: var(--fill-color);\n",
              "    }\n",
              "    40% {\n",
              "      border-color: transparent;\n",
              "      border-right-color: var(--fill-color);\n",
              "      border-top-color: var(--fill-color);\n",
              "    }\n",
              "    60% {\n",
              "      border-color: transparent;\n",
              "      border-right-color: var(--fill-color);\n",
              "    }\n",
              "    80% {\n",
              "      border-color: transparent;\n",
              "      border-right-color: var(--fill-color);\n",
              "      border-bottom-color: var(--fill-color);\n",
              "    }\n",
              "    90% {\n",
              "      border-color: transparent;\n",
              "      border-bottom-color: var(--fill-color);\n",
              "    }\n",
              "  }\n",
              "</style>\n",
              "\n",
              "  <script>\n",
              "    async function quickchart(key) {\n",
              "      const quickchartButtonEl =\n",
              "        document.querySelector('#' + key + ' button');\n",
              "      quickchartButtonEl.disabled = true;  // To prevent multiple clicks.\n",
              "      quickchartButtonEl.classList.add('colab-df-spinner');\n",
              "      try {\n",
              "        const charts = await google.colab.kernel.invokeFunction(\n",
              "            'suggestCharts', [key], {});\n",
              "      } catch (error) {\n",
              "        console.error('Error during call to suggestCharts:', error);\n",
              "      }\n",
              "      quickchartButtonEl.classList.remove('colab-df-spinner');\n",
              "      quickchartButtonEl.classList.add('colab-df-quickchart-complete');\n",
              "    }\n",
              "    (() => {\n",
              "      let quickchartButtonEl =\n",
              "        document.querySelector('#df-97163206-0c64-4d9d-b99e-1c777cd49458 button');\n",
              "      quickchartButtonEl.style.display =\n",
              "        google.colab.kernel.accessAllowed ? 'block' : 'none';\n",
              "    })();\n",
              "  </script>\n",
              "</div>\n",
              "\n",
              "    </div>\n",
              "  </div>\n"
            ],
            "application/vnd.google.colaboratory.intrinsic+json": {
              "type": "dataframe",
              "summary": "{\n  \"name\": \"avgScoreDf\",\n  \"rows\": 5,\n  \"fields\": [\n    {\n      \"column\": \"author_id\",\n      \"properties\": {\n        \"dtype\": \"string\",\n        \"num_unique_values\": 5,\n        \"samples\": [\n          \"823738296\",\n          \"898820915500171264\",\n          \"230912814\"\n        ],\n        \"semantic_type\": \"\",\n        \"description\": \"\"\n      }\n    },\n    {\n      \"column\": \"music_id\",\n      \"properties\": {\n        \"dtype\": \"number\",\n        \"std\": 3940.812644620396,\n        \"min\": 31377.0,\n        \"max\": 41916.0,\n        \"num_unique_values\": 5,\n        \"samples\": [\n          41916.0,\n          34433.0,\n          37412.0\n        ],\n        \"semantic_type\": \"\",\n        \"description\": \"\"\n      }\n    },\n    {\n      \"column\": \"author_music_id\",\n      \"properties\": {\n        \"dtype\": \"string\",\n        \"num_unique_values\": 5,\n        \"samples\": [\n          \"823738296_41916.0\",\n          \"898820915500171264_34433.0\",\n          \"230912814_37412.0\"\n        ],\n        \"semantic_type\": \"\",\n        \"description\": \"\"\n      }\n    },\n    {\n      \"column\": \"group\",\n      \"properties\": {\n        \"dtype\": \"number\",\n        \"std\": 0,\n        \"min\": 0,\n        \"max\": 1,\n        \"num_unique_values\": 2,\n        \"samples\": [\n          0,\n          1\n        ],\n        \"semantic_type\": \"\",\n        \"description\": \"\"\n      }\n    },\n    {\n      \"column\": \"stress_score\",\n      \"properties\": {\n        \"dtype\": \"number\",\n        \"std\": 0.577829552234647,\n        \"min\": 0.0,\n        \"max\": 1.4166666666666667,\n        \"num_unique_values\": 5,\n        \"samples\": [\n          1.4166666666666667,\n          0.125\n        ],\n        \"semantic_type\": \"\",\n        \"description\": \"\"\n      }\n    }\n  ]\n}"
            }
          },
          "metadata": {},
          "execution_count": 18
        }
      ]
    },
    {
      "cell_type": "code",
      "source": [
        "# Save to parquet\n",
        "filePath = os.path.join(tweetsDir, \"ptsdTweetsPoolDf_avgScore.parquet\")\n",
        "avgScoreDf.to_parquet(filePath)"
      ],
      "metadata": {
        "id": "OXQi4Kj-nX3O"
      },
      "execution_count": null,
      "outputs": []
    },
    {
      "cell_type": "code",
      "source": [
        "# Visual inspection of the distribution (all)\n",
        "plt.hist(avgScoreDf[\"stress_score\"], bins = 20)\n",
        "plt.title(\"Distribution of Stress Scores - Average Score\")\n",
        "plt.xlabel(\"Average Stress Score\")\n",
        "plt.ylabel(\"Frequency\")\n",
        "plt.show()"
      ],
      "metadata": {
        "colab": {
          "base_uri": "https://localhost:8080/",
          "height": 472
        },
        "id": "AodNmxuuJz7U",
        "outputId": "8f5dcf4d-73dc-47f6-e44a-d625088d744a"
      },
      "execution_count": null,
      "outputs": [
        {
          "output_type": "display_data",
          "data": {
            "text/plain": [
              "<Figure size 640x480 with 1 Axes>"
            ],
            "image/png": "[encoded data removed]"
          },
          "metadata": {}
        }
      ]
    },
    {
      "cell_type": "code",
      "source": [
        "# Visual inspection of the distribution (remove 0's)\n",
        "plt.hist([x for x in avgScoreDf[\"stress_score\"].values if x != 0], bins = 20)\n",
        "plt.title(\"Distribution of Stress Scores - Average Score with no zero's\")\n",
        "plt.xlabel(\"Average Stress Score\")\n",
        "plt.ylabel(\"Frequency\")\n",
        "plt.show()"
      ],
      "metadata": {
        "colab": {
          "base_uri": "https://localhost:8080/",
          "height": 472
        },
        "id": "eHBKlEh5Leew",
        "outputId": "5ab4a9db-55a0-4dce-8bd4-7cb6a2337c5d"
      },
      "execution_count": null,
      "outputs": [
        {
          "output_type": "display_data",
          "data": {
            "text/plain": [
              "<Figure size 640x480 with 1 Axes>"
            ],
            "image/png": "[encoded data removed]"
          },
          "metadata": {}
        }
      ]
    },
    {
      "cell_type": "markdown",
      "source": [
        "##### Gamma"
      ],
      "metadata": {
        "id": "i3LQcw2GQAIF"
      }
    },
    {
      "cell_type": "code",
      "source": [
        "# Data\n",
        "data = avgScoreDf[\"stress_score\"].values\n",
        "\n",
        "# Separate zeros and non-zeros\n",
        "zeros = [x for x in data if x == 0]\n",
        "nonZeros = [x for x in data if x != 0]\n",
        "\n",
        "# Estimate Gamma parameters (for non-zero values)\n",
        "shape, loc, scale = stats.gamma.fit(nonZeros)\n",
        "\n",
        "# Perform Kolmogorov-Smirnov test on non-zero values\n",
        "statistic, pValue = stats.kstest(nonZeros, 'gamma', args=(shape, loc, scale))\n",
        "\n",
        "# Plot histogram and PDF\n",
        "plt.hist(nonZeros, bins=20, density=True, alpha = 0.6, label = \"avg. Stress Score\")\n",
        "x = np.linspace(min(nonZeros), max(nonZeros), 100)\n",
        "plt.plot(x, stats.gamma.pdf(x, shape, loc, scale), \"r-\", lw = 2, label = 'Gamma PDF')\n",
        "plt.legend()\n",
        "plt.show()\n",
        "\n",
        "# Print results (example interpretation)\n",
        "print(f\"Proportion of zeros: {len(zeros) / len(data)}\")\n",
        "print(f\"Gamma fit for non-zeros (p-value): {pValue}\")\n",
        "print(f\"KS-statistic: {statistic}\")\n",
        "\n",
        "# Interpret the result\n",
        "if pValue > 0.05:\n",
        "    print(\"Fail to reject the null hypothesis: The distribution is Gamma.\")\n",
        "else:\n",
        "    print(\"Reject the null hypothesis: The distribution is not Gamma.\")"
      ],
      "metadata": {
        "colab": {
          "base_uri": "https://localhost:8080/",
          "height": 499
        },
        "id": "6TbCf5h9J5P8",
        "outputId": "a0505190-bbd0-4935-f23f-a0ab0d6be858"
      },
      "execution_count": null,
      "outputs": [
        {
          "output_type": "display_data",
          "data": {
            "text/plain": [
              "<Figure size 640x480 with 1 Axes>"
            ],
            "image/png": "[encoded data removed]"
          },
          "metadata": {}
        },
        {
          "output_type": "stream",
          "name": "stdout",
          "text": [
            "Proportion of zeros: 0.1427401746724891\n",
            "Gamma fit for non-zeros (p-value): 5.8889454440478416e-55\n",
            "KS-statistic: 0.06318772294059682\n",
            "Reject the null hypothesis: The distribution is not Gamma.\n"
          ]
        }
      ]
    },
    {
      "cell_type": "markdown",
      "source": [
        "##### Log-normal"
      ],
      "metadata": {
        "id": "VHwZKBWvP7h1"
      }
    },
    {
      "cell_type": "code",
      "source": [
        "# Estimate Gamma parameters (for non-zero values)\n",
        "shape, loc, scale = stats.lognorm.fit(nonZeros)\n",
        "\n",
        "# Perform Kolmogorov-Smirnov test on non-zero values\n",
        "statistic, pValue = stats.kstest(nonZeros, 'lognorm', args=(shape, loc, scale))\n",
        "\n",
        "# Plot histogram and PDF\n",
        "plt.hist(nonZeros, bins=20, density=True, alpha = 0.6, label = \"avg. Stress Score\")\n",
        "x = np.linspace(min(nonZeros), max(nonZeros), 100)\n",
        "plt.plot(x, stats.lognorm.pdf(x, shape, loc, scale), \"r-\", lw = 2, label = 'Log-Normal PDF')\n",
        "plt.legend()\n",
        "plt.show()\n",
        "\n",
        "# Print results (example interpretation)\n",
        "print(f\"Proportion of zeros: {len(zeros) / len(data)}\")\n",
        "print(f\"Log-Normal fit for non-zeros (p-value): {pValue}\")\n",
        "print(f\"KS-statistic: {statistic}\")\n",
        "\n",
        "# Interpret the result\n",
        "if pValue > 0.05:\n",
        "    print(\"Fail to reject the null hypothesis: The distribution is Log-Normal.\")\n",
        "else:\n",
        "    print(\"Reject the null hypothesis: The distribution is not Log-Normal.\")"
      ],
      "metadata": {
        "colab": {
          "base_uri": "https://localhost:8080/",
          "height": 499
        },
        "id": "lVO2rS54MuLn",
        "outputId": "504eaea7-9b0c-43be-cb7d-44bb2685dba4"
      },
      "execution_count": null,
      "outputs": [
        {
          "output_type": "display_data",
          "data": {
            "text/plain": [
              "<Figure size 640x480 with 1 Axes>"
            ],
            "image/png": "[encoded data removed]"
          },
          "metadata": {}
        },
        {
          "output_type": "stream",
          "name": "stdout",
          "text": [
            "Proportion of zeros: 0.1427401746724891\n",
            "Log-Normal fit for non-zeros (p-value): 7.24666811270433e-32\n",
            "KS-statistic: 0.047986282557563875\n",
            "Reject the null hypothesis: The distribution is not Log-Normal.\n"
          ]
        }
      ]
    },
    {
      "cell_type": "markdown",
      "source": [
        "##### Exponential"
      ],
      "metadata": {
        "id": "pj9tOYfyP1r0"
      }
    },
    {
      "cell_type": "code",
      "source": [
        "# Estimate Gamma parameters (for non-zero values)\n",
        "loc, scale = stats.expon.fit(nonZeros)\n",
        "\n",
        "# Perform Kolmogorov-Smirnov test on non-zero values\n",
        "statistic, pValue = stats.kstest(nonZeros, 'expon', args=(loc, scale))\n",
        "\n",
        "# Plot histogram and PDF\n",
        "plt.hist(nonZeros, bins=20, density=True, alpha = 0.6, label = \"avg. Stress Score\")\n",
        "x = np.linspace(min(nonZeros), max(nonZeros), 100)\n",
        "plt.plot(x, stats.expon.pdf(x, loc, scale), \"r-\", lw = 2, label = 'Exponential PDF')\n",
        "plt.legend()\n",
        "plt.show()\n",
        "\n",
        "# Print results (example interpretation)\n",
        "print(f\"Proportion of zeros: {len(zeros) / len(data)}\")\n",
        "print(f\"Exponential fit for non-zeros (p-value): {pValue}\")\n",
        "print(f\"KS-statistic: {statistic}\")\n",
        "\n",
        "# Interpret the result\n",
        "if pValue > 0.05:\n",
        "    print(\"Fail to reject the null hypothesis: The distribution is Exponential.\")\n",
        "else:\n",
        "    print(\"Reject the null hypothesis: The distribution is not Exponential.\")"
      ],
      "metadata": {
        "colab": {
          "base_uri": "https://localhost:8080/",
          "height": 499
        },
        "id": "y2s6C3H1PIY3",
        "outputId": "e54d6faa-5a11-4b4e-efde-4525661f7245"
      },
      "execution_count": null,
      "outputs": [
        {
          "output_type": "display_data",
          "data": {
            "text/plain": [
              "<Figure size 640x480 with 1 Axes>"
            ],
            "image/png": "[encoded data removed]"
          },
          "metadata": {}
        },
        {
          "output_type": "stream",
          "name": "stdout",
          "text": [
            "Proportion of zeros: 0.1427401746724891\n",
            "Exponential fit for non-zeros (p-value): 0.0\n",
            "KS-statistic: 0.20072792004171636\n",
            "Reject the null hypothesis: The distribution is not Exponential.\n"
          ]
        }
      ]
    },
    {
      "cell_type": "markdown",
      "source": [
        "### Add demographic data"
      ],
      "metadata": {
        "id": "oQUDAfDCSAu8"
      }
    },
    {
      "cell_type": "markdown",
      "source": [
        "#### Read"
      ],
      "metadata": {
        "id": "wkWmCZKaGXud"
      }
    },
    {
      "cell_type": "code",
      "source": [
        "# Read the demographics datasets\n",
        "ageDf = pd.read_pickle(os.path.join(demographicDir, \"authorAge.pickle\"))\n",
        "genderDf = pd.read_pickle(os.path.join(demographicDir, \"authorGender.pickle\"))\n",
        "eduLvlDf = pd.read_pickle(os.path.join(demographicDir, \"authorEducationLevel.pickle\"))\n",
        "# Check\n",
        "print(\"Age df shape:\", ageDf.shape)\n",
        "print(\"Gender df shape:\", genderDf.shape)\n",
        "print(\"ARI df shape:\", eduLvlDf.shape)\n",
        "\n",
        "# Combine\n",
        "demographicsDf = ageDf.merge(genderDf[[\"author_id\", \"gender\"]], on = \"author_id\", how = \"left\")\n",
        "demographicsDf = demographicsDf.merge(eduLvlDf[[\"author_id\", \"ari_grade\"]], on = \"author_id\", how = \"left\")\n",
        "# Remove unnecessary columns\n",
        "demographicsDf = demographicsDf[[\"author_id\", \"age_group\", \"gender\", \"ari_grade\"]]\n",
        "# Rename ari_grade_binary to edu_level\n",
        "demographicsDf.rename(columns = {\"ari_grade\": \"edu_level\"}, inplace = True)\n",
        "# Check\n",
        "print(\"Demographics df shape:\", demographicsDf.shape)\n",
        "demographicsDf.sample()"
      ],
      "metadata": {
        "colab": {
          "base_uri": "https://localhost:8080/",
          "height": 150
        },
        "id": "BkqnanJyGh7t",
        "outputId": "8a13ee48-888e-47cd-c158-f402bf4e07fd"
      },
      "execution_count": null,
      "outputs": [
        {
          "output_type": "stream",
          "name": "stdout",
          "text": [
            "Age df shape: (5612, 30)\n",
            "Gender df shape: (5612, 29)\n",
            "ARI df shape: (5612, 6)\n",
            "Demographics df shape: (5612, 4)\n"
          ]
        },
        {
          "output_type": "execute_result",
          "data": {
            "text/plain": [
              "      author_id  age_group gender              edu_level\n",
              "3007  158164779  Millenial   Male  High School & College"
            ],
            "text/html": [
              "\n",
              "  <div id=\"df-84cbd9c9-b169-4b94-a90f-992f08712a04\" class=\"colab-df-container\">\n",
              "    <div>\n",
              "<style scoped>\n",
              "    .dataframe tbody tr th:only-of-type {\n",
              "        vertical-align: middle;\n",
              "    }\n",
              "\n",
              "    .dataframe tbody tr th {\n",
              "        vertical-align: top;\n",
              "    }\n",
              "\n",
              "    .dataframe thead th {\n",
              "        text-align: right;\n",
              "    }\n",
              "</style>\n",
              "<table border=\"1\" class=\"dataframe\">\n",
              "  <thead>\n",
              "    <tr style=\"text-align: right;\">\n",
              "      <th></th>\n",
              "      <th>author_id</th>\n",
              "      <th>age_group</th>\n",
              "      <th>gender</th>\n",
              "      <th>edu_level</th>\n",
              "    </tr>\n",
              "  </thead>\n",
              "  <tbody>\n",
              "    <tr>\n",
              "      <th>3007</th>\n",
              "      <td>158164779</td>\n",
              "      <td>Millenial</td>\n",
              "      <td>Male</td>\n",
              "      <td>High School &amp; College</td>\n",
              "    </tr>\n",
              "  </tbody>\n",
              "</table>\n",
              "</div>\n",
              "    <div class=\"colab-df-buttons\">\n",
              "\n",
              "  <div class=\"colab-df-container\">\n",
              "    <button class=\"colab-df-convert\" onclick=\"convertToInteractive('df-84cbd9c9-b169-4b94-a90f-992f08712a04')\"\n",
              "            title=\"Convert this dataframe to an interactive table.\"\n",
              "            style=\"display:none;\">\n",
              "\n",
              "  <svg xmlns=\"http://www.w3.org/2000/svg\" height=\"24px\" viewBox=\"0 -960 960 960\">\n",
              "    <path d=\"M120-120v-720h720v720H120Zm60-500h600v-160H180v160Zm220 220h160v-160H400v160Zm0 220h160v-160H400v160ZM180-400h160v-160H180v160Zm440 0h160v-160H620v160ZM180-180h160v-160H180v160Zm440 0h160v-160H620v160Z\"/>\n",
              "  </svg>\n",
              "    </button>\n",
              "\n",
              "  <style>\n",
              "    .colab-df-container {\n",
              "      display:flex;\n",
              "      gap: 12px;\n",
              "    }\n",
              "\n",
              "    .colab-df-convert {\n",
              "      background-color: #E8F0FE;\n",
              "      border: none;\n",
              "      border-radius: 50%;\n",
              "      cursor: pointer;\n",
              "      display: none;\n",
              "      fill: #1967D2;\n",
              "      height: 32px;\n",
              "      padding: 0 0 0 0;\n",
              "      width: 32px;\n",
              "    }\n",
              "\n",
              "    .colab-df-convert:hover {\n",
              "      background-color: #E2EBFA;\n",
              "      box-shadow: 0px 1px 2px rgba(60, 64, 67, 0.3), 0px 1px 3px 1px rgba(60, 64, 67, 0.15);\n",
              "      fill: #174EA6;\n",
              "    }\n",
              "\n",
              "    .colab-df-buttons div {\n",
              "      margin-bottom: 4px;\n",
              "    }\n",
              "\n",
              "    [theme=dark] .colab-df-convert {\n",
              "      background-color: #3B4455;\n",
              "      fill: #D2E3FC;\n",
              "    }\n",
              "\n",
              "    [theme=dark] .colab-df-convert:hover {\n",
              "      background-color: #434B5C;\n",
              "      box-shadow: 0px 1px 3px 1px rgba(0, 0, 0, 0.15);\n",
              "      filter: drop-shadow(0px 1px 2px rgba(0, 0, 0, 0.3));\n",
              "      fill: #FFFFFF;\n",
              "    }\n",
              "  </style>\n",
              "\n",
              "    <script>\n",
              "      const buttonEl =\n",
              "        document.querySelector('#df-84cbd9c9-b169-4b94-a90f-992f08712a04 button.colab-df-convert');\n",
              "      buttonEl.style.display =\n",
              "        google.colab.kernel.accessAllowed ? 'block' : 'none';\n",
              "\n",
              "      async function convertToInteractive(key) {\n",
              "        const element = document.querySelector('#df-84cbd9c9-b169-4b94-a90f-992f08712a04');\n",
              "        const dataTable =\n",
              "          await google.colab.kernel.invokeFunction('convertToInteractive',\n",
              "                                                    [key], {});\n",
              "        if (!dataTable) return;\n",
              "\n",
              "        const docLinkHtml = 'Like what you see? Visit the ' +\n",
              "          '<a target=\"_blank\" href=https://colab.research.google.com/notebooks/data_table.ipynb>data table notebook</a>'\n",
              "          + ' to learn more about interactive tables.';\n",
              "        element.innerHTML = '';\n",
              "        dataTable['output_type'] = 'display_data';\n",
              "        await google.colab.output.renderOutput(dataTable, element);\n",
              "        const docLink = document.createElement('div');\n",
              "        docLink.innerHTML = docLinkHtml;\n",
              "        element.appendChild(docLink);\n",
              "      }\n",
              "    </script>\n",
              "  </div>\n",
              "\n",
              "\n",
              "    </div>\n",
              "  </div>\n"
            ],
            "application/vnd.google.colaboratory.intrinsic+json": {
              "type": "dataframe",
              "summary": "{\n  \"name\": \"demographicsDf\",\n  \"rows\": 1,\n  \"fields\": [\n    {\n      \"column\": \"author_id\",\n      \"properties\": {\n        \"dtype\": \"string\",\n        \"num_unique_values\": 1,\n        \"samples\": [\n          \"158164779\"\n        ],\n        \"semantic_type\": \"\",\n        \"description\": \"\"\n      }\n    },\n    {\n      \"column\": \"age_group\",\n      \"properties\": {\n        \"dtype\": \"string\",\n        \"num_unique_values\": 1,\n        \"samples\": [\n          \"Millenial\"\n        ],\n        \"semantic_type\": \"\",\n        \"description\": \"\"\n      }\n    },\n    {\n      \"column\": \"gender\",\n      \"properties\": {\n        \"dtype\": \"string\",\n        \"num_unique_values\": 1,\n        \"samples\": [\n          \"Male\"\n        ],\n        \"semantic_type\": \"\",\n        \"description\": \"\"\n      }\n    },\n    {\n      \"column\": \"edu_level\",\n      \"properties\": {\n        \"dtype\": \"string\",\n        \"num_unique_values\": 1,\n        \"samples\": [\n          \"High School & College\"\n        ],\n        \"semantic_type\": \"\",\n        \"description\": \"\"\n      }\n    }\n  ]\n}"
            }
          },
          "metadata": {},
          "execution_count": 25
        }
      ]
    },
    {
      "cell_type": "markdown",
      "source": [
        "#### Majority voting"
      ],
      "metadata": {
        "id": "ZOLDrBxGCNY4"
      }
    },
    {
      "cell_type": "code",
      "source": [
        "# Read\n",
        "majorityVotingDf = pd.read_parquet(os.path.join(tweetsDir, \"ptsdTweetsPoolDf_majorityVoting.parquet\"))\n",
        "print(\"Shape:\", majorityVotingDf.shape)\n",
        "majorityVotingDf.sample()"
      ],
      "metadata": {
        "id": "rADmqLr0WVOF",
        "colab": {
          "base_uri": "https://localhost:8080/",
          "height": 118
        },
        "outputId": "5da63352-ee8f-4697-e2df-0f59eb2ff606"
      },
      "execution_count": null,
      "outputs": [
        {
          "output_type": "stream",
          "name": "stdout",
          "text": [
            "Shape: (18320, 5)\n"
          ]
        },
        {
          "output_type": "execute_result",
          "data": {
            "text/plain": [
              "                author_id  music_id              author_music_id  group  \\\n",
              "5967  1403486844285636608   41535.0  1403486844285636608_41535.0      1   \n",
              "\n",
              "      stress_score  \n",
              "5967             0  "
            ],
            "text/html": [
              "\n",
              "  <div id=\"df-d1371e7b-f231-42d5-a784-b334da94a071\" class=\"colab-df-container\">\n",
              "    <div>\n",
              "<style scoped>\n",
              "    .dataframe tbody tr th:only-of-type {\n",
              "        vertical-align: middle;\n",
              "    }\n",
              "\n",
              "    .dataframe tbody tr th {\n",
              "        vertical-align: top;\n",
              "    }\n",
              "\n",
              "    .dataframe thead th {\n",
              "        text-align: right;\n",
              "    }\n",
              "</style>\n",
              "<table border=\"1\" class=\"dataframe\">\n",
              "  <thead>\n",
              "    <tr style=\"text-align: right;\">\n",
              "      <th></th>\n",
              "      <th>author_id</th>\n",
              "      <th>music_id</th>\n",
              "      <th>author_music_id</th>\n",
              "      <th>group</th>\n",
              "      <th>stress_score</th>\n",
              "    </tr>\n",
              "  </thead>\n",
              "  <tbody>\n",
              "    <tr>\n",
              "      <th>5967</th>\n",
              "      <td>1403486844285636608</td>\n",
              "      <td>41535.0</td>\n",
              "      <td>1403486844285636608_41535.0</td>\n",
              "      <td>1</td>\n",
              "      <td>0</td>\n",
              "    </tr>\n",
              "  </tbody>\n",
              "</table>\n",
              "</div>\n",
              "    <div class=\"colab-df-buttons\">\n",
              "\n",
              "  <div class=\"colab-df-container\">\n",
              "    <button class=\"colab-df-convert\" onclick=\"convertToInteractive('df-d1371e7b-f231-42d5-a784-b334da94a071')\"\n",
              "            title=\"Convert this dataframe to an interactive table.\"\n",
              "            style=\"display:none;\">\n",
              "\n",
              "  <svg xmlns=\"http://www.w3.org/2000/svg\" height=\"24px\" viewBox=\"0 -960 960 960\">\n",
              "    <path d=\"M120-120v-720h720v720H120Zm60-500h600v-160H180v160Zm220 220h160v-160H400v160Zm0 220h160v-160H400v160ZM180-400h160v-160H180v160Zm440 0h160v-160H620v160ZM180-180h160v-160H180v160Zm440 0h160v-160H620v160Z\"/>\n",
              "  </svg>\n",
              "    </button>\n",
              "\n",
              "  <style>\n",
              "    .colab-df-container {\n",
              "      display:flex;\n",
              "      gap: 12px;\n",
              "    }\n",
              "\n",
              "    .colab-df-convert {\n",
              "      background-color: #E8F0FE;\n",
              "      border: none;\n",
              "      border-radius: 50%;\n",
              "      cursor: pointer;\n",
              "      display: none;\n",
              "      fill: #1967D2;\n",
              "      height: 32px;\n",
              "      padding: 0 0 0 0;\n",
              "      width: 32px;\n",
              "    }\n",
              "\n",
              "    .colab-df-convert:hover {\n",
              "      background-color: #E2EBFA;\n",
              "      box-shadow: 0px 1px 2px rgba(60, 64, 67, 0.3), 0px 1px 3px 1px rgba(60, 64, 67, 0.15);\n",
              "      fill: #174EA6;\n",
              "    }\n",
              "\n",
              "    .colab-df-buttons div {\n",
              "      margin-bottom: 4px;\n",
              "    }\n",
              "\n",
              "    [theme=dark] .colab-df-convert {\n",
              "      background-color: #3B4455;\n",
              "      fill: #D2E3FC;\n",
              "    }\n",
              "\n",
              "    [theme=dark] .colab-df-convert:hover {\n",
              "      background-color: #434B5C;\n",
              "      box-shadow: 0px 1px 3px 1px rgba(0, 0, 0, 0.15);\n",
              "      filter: drop-shadow(0px 1px 2px rgba(0, 0, 0, 0.3));\n",
              "      fill: #FFFFFF;\n",
              "    }\n",
              "  </style>\n",
              "\n",
              "    <script>\n",
              "      const buttonEl =\n",
              "        document.querySelector('#df-d1371e7b-f231-42d5-a784-b334da94a071 button.colab-df-convert');\n",
              "      buttonEl.style.display =\n",
              "        google.colab.kernel.accessAllowed ? 'block' : 'none';\n",
              "\n",
              "      async function convertToInteractive(key) {\n",
              "        const element = document.querySelector('#df-d1371e7b-f231-42d5-a784-b334da94a071');\n",
              "        const dataTable =\n",
              "          await google.colab.kernel.invokeFunction('convertToInteractive',\n",
              "                                                    [key], {});\n",
              "        if (!dataTable) return;\n",
              "\n",
              "        const docLinkHtml = 'Like what you see? Visit the ' +\n",
              "          '<a target=\"_blank\" href=https://colab.research.google.com/notebooks/data_table.ipynb>data table notebook</a>'\n",
              "          + ' to learn more about interactive tables.';\n",
              "        element.innerHTML = '';\n",
              "        dataTable['output_type'] = 'display_data';\n",
              "        await google.colab.output.renderOutput(dataTable, element);\n",
              "        const docLink = document.createElement('div');\n",
              "        docLink.innerHTML = docLinkHtml;\n",
              "        element.appendChild(docLink);\n",
              "      }\n",
              "    </script>\n",
              "  </div>\n",
              "\n",
              "\n",
              "    </div>\n",
              "  </div>\n"
            ],
            "application/vnd.google.colaboratory.intrinsic+json": {
              "type": "dataframe",
              "summary": "{\n  \"name\": \"majorityVotingDf\",\n  \"rows\": 1,\n  \"fields\": [\n    {\n      \"column\": \"author_id\",\n      \"properties\": {\n        \"dtype\": \"string\",\n        \"num_unique_values\": 1,\n        \"samples\": [\n          \"1403486844285636608\"\n        ],\n        \"semantic_type\": \"\",\n        \"description\": \"\"\n      }\n    },\n    {\n      \"column\": \"music_id\",\n      \"properties\": {\n        \"dtype\": \"number\",\n        \"std\": null,\n        \"min\": 41535.0,\n        \"max\": 41535.0,\n        \"num_unique_values\": 1,\n        \"samples\": [\n          41535.0\n        ],\n        \"semantic_type\": \"\",\n        \"description\": \"\"\n      }\n    },\n    {\n      \"column\": \"author_music_id\",\n      \"properties\": {\n        \"dtype\": \"string\",\n        \"num_unique_values\": 1,\n        \"samples\": [\n          \"1403486844285636608_41535.0\"\n        ],\n        \"semantic_type\": \"\",\n        \"description\": \"\"\n      }\n    },\n    {\n      \"column\": \"group\",\n      \"properties\": {\n        \"dtype\": \"number\",\n        \"std\": null,\n        \"min\": 1,\n        \"max\": 1,\n        \"num_unique_values\": 1,\n        \"samples\": [\n          1\n        ],\n        \"semantic_type\": \"\",\n        \"description\": \"\"\n      }\n    },\n    {\n      \"column\": \"stress_score\",\n      \"properties\": {\n        \"dtype\": \"number\",\n        \"std\": null,\n        \"min\": 0,\n        \"max\": 0,\n        \"num_unique_values\": 1,\n        \"samples\": [\n          0\n        ],\n        \"semantic_type\": \"\",\n        \"description\": \"\"\n      }\n    }\n  ]\n}"
            }
          },
          "metadata": {},
          "execution_count": 26
        }
      ]
    },
    {
      "cell_type": "code",
      "source": [
        "# Use tweets df to add the demographic info to the majority voting df\n",
        "majorityVotingDf = majorityVotingDf.merge(demographicsDf, on = \"author_id\", how = \"left\")\n",
        "print(\"Shape before dropping na:\", majorityVotingDf.shape)\n",
        "# drop na\n",
        "majorityVotingDf = majorityVotingDf.dropna()\n",
        "# use label encoder to encode the values of the demographics\n",
        "from sklearn.preprocessing import LabelEncoder\n",
        "le = LabelEncoder()\n",
        "majorityVotingDf[\"age_group\"] = le.fit_transform(majorityVotingDf[\"age_group\"])\n",
        "mapping = {index: label for index, label in enumerate(le.classes_)}\n",
        "print(mapping)\n",
        "majorityVotingDf[\"gender\"] = le.fit_transform(majorityVotingDf[\"gender\"])\n",
        "mapping = {index: label for index, label in enumerate(le.classes_)}\n",
        "print(mapping)\n",
        "majorityVotingDf[\"edu_level\"] = le.fit_transform(majorityVotingDf[\"edu_level\"])\n",
        "mapping = {index: label for index, label in enumerate(le.classes_)}\n",
        "print(mapping)\n",
        "print(\"Shape after dropping na:\", majorityVotingDf.shape)\n",
        "majorityVotingDf.sample()"
      ],
      "metadata": {
        "id": "ZBSvs_hBmRs1",
        "colab": {
          "base_uri": "https://localhost:8080/",
          "height": 187
        },
        "outputId": "3d951772-3bb8-44db-aa4b-12a0680eb1fc"
      },
      "execution_count": null,
      "outputs": [
        {
          "output_type": "stream",
          "name": "stdout",
          "text": [
            "Shape before dropping na: (18320, 8)\n",
            "{0: 'Gen-Z', 1: 'Millenial'}\n",
            "{0: 'Female', 1: 'Male'}\n",
            "{0: 'High School & College', 1: 'Middle/Elemntary School'}\n",
            "Shape after dropping na: (18320, 8)\n"
          ]
        },
        {
          "output_type": "execute_result",
          "data": {
            "text/plain": [
              "                author_id  music_id              author_music_id  group  \\\n",
              "5040  1343242522131390464   38503.0  1343242522131390464_38503.0      0   \n",
              "\n",
              "      stress_score  age_group  gender  edu_level  \n",
              "5040             1          0       0          1  "
            ],
            "text/html": [
              "\n",
              "  <div id=\"df-cca85f3e-0ffb-4bee-aab1-22784d8572af\" class=\"colab-df-container\">\n",
              "    <div>\n",
              "<style scoped>\n",
              "    .dataframe tbody tr th:only-of-type {\n",
              "        vertical-align: middle;\n",
              "    }\n",
              "\n",
              "    .dataframe tbody tr th {\n",
              "        vertical-align: top;\n",
              "    }\n",
              "\n",
              "    .dataframe thead th {\n",
              "        text-align: right;\n",
              "    }\n",
              "</style>\n",
              "<table border=\"1\" class=\"dataframe\">\n",
              "  <thead>\n",
              "    <tr style=\"text-align: right;\">\n",
              "      <th></th>\n",
              "      <th>author_id</th>\n",
              "      <th>music_id</th>\n",
              "      <th>author_music_id</th>\n",
              "      <th>group</th>\n",
              "      <th>stress_score</th>\n",
              "      <th>age_group</th>\n",
              "      <th>gender</th>\n",
              "      <th>edu_level</th>\n",
              "    </tr>\n",
              "  </thead>\n",
              "  <tbody>\n",
              "    <tr>\n",
              "      <th>5040</th>\n",
              "      <td>1343242522131390464</td>\n",
              "      <td>38503.0</td>\n",
              "      <td>1343242522131390464_38503.0</td>\n",
              "      <td>0</td>\n",
              "      <td>1</td>\n",
              "      <td>0</td>\n",
              "      <td>0</td>\n",
              "      <td>1</td>\n",
              "    </tr>\n",
              "  </tbody>\n",
              "</table>\n",
              "</div>\n",
              "    <div class=\"colab-df-buttons\">\n",
              "\n",
              "  <div class=\"colab-df-container\">\n",
              "    <button class=\"colab-df-convert\" onclick=\"convertToInteractive('df-cca85f3e-0ffb-4bee-aab1-22784d8572af')\"\n",
              "            title=\"Convert this dataframe to an interactive table.\"\n",
              "            style=\"display:none;\">\n",
              "\n",
              "  <svg xmlns=\"http://www.w3.org/2000/svg\" height=\"24px\" viewBox=\"0 -960 960 960\">\n",
              "    <path d=\"M120-120v-720h720v720H120Zm60-500h600v-160H180v160Zm220 220h160v-160H400v160Zm0 220h160v-160H400v160ZM180-400h160v-160H180v160Zm440 0h160v-160H620v160ZM180-180h160v-160H180v160Zm440 0h160v-160H620v160Z\"/>\n",
              "  </svg>\n",
              "    </button>\n",
              "\n",
              "  <style>\n",
              "    .colab-df-container {\n",
              "      display:flex;\n",
              "      gap: 12px;\n",
              "    }\n",
              "\n",
              "    .colab-df-convert {\n",
              "      background-color: #E8F0FE;\n",
              "      border: none;\n",
              "      border-radius: 50%;\n",
              "      cursor: pointer;\n",
              "      display: none;\n",
              "      fill: #1967D2;\n",
              "      height: 32px;\n",
              "      padding: 0 0 0 0;\n",
              "      width: 32px;\n",
              "    }\n",
              "\n",
              "    .colab-df-convert:hover {\n",
              "      background-color: #E2EBFA;\n",
              "      box-shadow: 0px 1px 2px rgba(60, 64, 67, 0.3), 0px 1px 3px 1px rgba(60, 64, 67, 0.15);\n",
              "      fill: #174EA6;\n",
              "    }\n",
              "\n",
              "    .colab-df-buttons div {\n",
              "      margin-bottom: 4px;\n",
              "    }\n",
              "\n",
              "    [theme=dark] .colab-df-convert {\n",
              "      background-color: #3B4455;\n",
              "      fill: #D2E3FC;\n",
              "    }\n",
              "\n",
              "    [theme=dark] .colab-df-convert:hover {\n",
              "      background-color: #434B5C;\n",
              "      box-shadow: 0px 1px 3px 1px rgba(0, 0, 0, 0.15);\n",
              "      filter: drop-shadow(0px 1px 2px rgba(0, 0, 0, 0.3));\n",
              "      fill: #FFFFFF;\n",
              "    }\n",
              "  </style>\n",
              "\n",
              "    <script>\n",
              "      const buttonEl =\n",
              "        document.querySelector('#df-cca85f3e-0ffb-4bee-aab1-22784d8572af button.colab-df-convert');\n",
              "      buttonEl.style.display =\n",
              "        google.colab.kernel.accessAllowed ? 'block' : 'none';\n",
              "\n",
              "      async function convertToInteractive(key) {\n",
              "        const element = document.querySelector('#df-cca85f3e-0ffb-4bee-aab1-22784d8572af');\n",
              "        const dataTable =\n",
              "          await google.colab.kernel.invokeFunction('convertToInteractive',\n",
              "                                                    [key], {});\n",
              "        if (!dataTable) return;\n",
              "\n",
              "        const docLinkHtml = 'Like what you see? Visit the ' +\n",
              "          '<a target=\"_blank\" href=https://colab.research.google.com/notebooks/data_table.ipynb>data table notebook</a>'\n",
              "          + ' to learn more about interactive tables.';\n",
              "        element.innerHTML = '';\n",
              "        dataTable['output_type'] = 'display_data';\n",
              "        await google.colab.output.renderOutput(dataTable, element);\n",
              "        const docLink = document.createElement('div');\n",
              "        docLink.innerHTML = docLinkHtml;\n",
              "        element.appendChild(docLink);\n",
              "      }\n",
              "    </script>\n",
              "  </div>\n",
              "\n",
              "\n",
              "    </div>\n",
              "  </div>\n"
            ],
            "application/vnd.google.colaboratory.intrinsic+json": {
              "type": "dataframe",
              "summary": "{\n  \"name\": \"majorityVotingDf\",\n  \"rows\": 1,\n  \"fields\": [\n    {\n      \"column\": \"author_id\",\n      \"properties\": {\n        \"dtype\": \"string\",\n        \"num_unique_values\": 1,\n        \"samples\": [\n          \"1343242522131390464\"\n        ],\n        \"semantic_type\": \"\",\n        \"description\": \"\"\n      }\n    },\n    {\n      \"column\": \"music_id\",\n      \"properties\": {\n        \"dtype\": \"number\",\n        \"std\": null,\n        \"min\": 38503.0,\n        \"max\": 38503.0,\n        \"num_unique_values\": 1,\n        \"samples\": [\n          38503.0\n        ],\n        \"semantic_type\": \"\",\n        \"description\": \"\"\n      }\n    },\n    {\n      \"column\": \"author_music_id\",\n      \"properties\": {\n        \"dtype\": \"string\",\n        \"num_unique_values\": 1,\n        \"samples\": [\n          \"1343242522131390464_38503.0\"\n        ],\n        \"semantic_type\": \"\",\n        \"description\": \"\"\n      }\n    },\n    {\n      \"column\": \"group\",\n      \"properties\": {\n        \"dtype\": \"number\",\n        \"std\": null,\n        \"min\": 0,\n        \"max\": 0,\n        \"num_unique_values\": 1,\n        \"samples\": [\n          0\n        ],\n        \"semantic_type\": \"\",\n        \"description\": \"\"\n      }\n    },\n    {\n      \"column\": \"stress_score\",\n      \"properties\": {\n        \"dtype\": \"number\",\n        \"std\": null,\n        \"min\": 1,\n        \"max\": 1,\n        \"num_unique_values\": 1,\n        \"samples\": [\n          1\n        ],\n        \"semantic_type\": \"\",\n        \"description\": \"\"\n      }\n    },\n    {\n      \"column\": \"age_group\",\n      \"properties\": {\n        \"dtype\": \"number\",\n        \"std\": null,\n        \"min\": 0,\n        \"max\": 0,\n        \"num_unique_values\": 1,\n        \"samples\": [\n          0\n        ],\n        \"semantic_type\": \"\",\n        \"description\": \"\"\n      }\n    },\n    {\n      \"column\": \"gender\",\n      \"properties\": {\n        \"dtype\": \"number\",\n        \"std\": null,\n        \"min\": 0,\n        \"max\": 0,\n        \"num_unique_values\": 1,\n        \"samples\": [\n          0\n        ],\n        \"semantic_type\": \"\",\n        \"description\": \"\"\n      }\n    },\n    {\n      \"column\": \"edu_level\",\n      \"properties\": {\n        \"dtype\": \"number\",\n        \"std\": null,\n        \"min\": 1,\n        \"max\": 1,\n        \"num_unique_values\": 1,\n        \"samples\": [\n          1\n        ],\n        \"semantic_type\": \"\",\n        \"description\": \"\"\n      }\n    }\n  ]\n}"
            }
          },
          "metadata": {},
          "execution_count": 27
        }
      ]
    },
    {
      "cell_type": "code",
      "source": [
        "# Save to parquet\n",
        "filePath = os.path.join(tweetsDir, \"ptsdTweetsPoolDf_majorityVoting_demographics.parquet\")\n",
        "majorityVotingDf.to_parquet(filePath)"
      ],
      "metadata": {
        "id": "Mmk7F96bCaT0"
      },
      "execution_count": null,
      "outputs": []
    },
    {
      "cell_type": "markdown",
      "source": [
        "#### Avg. Score"
      ],
      "metadata": {
        "id": "38UdQrHhCdk-"
      }
    },
    {
      "cell_type": "code",
      "source": [
        "# Read\n",
        "avgScoreDf = pd.read_parquet(os.path.join(tweetsDir, \"ptsdTweetsPoolDf_avgScore.parquet\"))\n",
        "print(\"Shape:\", avgScoreDf.shape)\n",
        "avgScoreDf.sample()"
      ],
      "metadata": {
        "colab": {
          "base_uri": "https://localhost:8080/",
          "height": 118
        },
        "id": "Bhh-qXAvCfKC",
        "outputId": "f0313e8a-d94e-46e6-c354-ca18797cac7f"
      },
      "execution_count": null,
      "outputs": [
        {
          "output_type": "stream",
          "name": "stdout",
          "text": [
            "Shape: (18320, 5)\n"
          ]
        },
        {
          "output_type": "execute_result",
          "data": {
            "text/plain": [
              "                author_id  music_id              author_music_id  group  \\\n",
              "5460  1367841613414760455   24661.0  1367841613414760455_24661.0      1   \n",
              "\n",
              "      stress_score  \n",
              "5460      0.681818  "
            ],
            "text/html": [
              "\n",
              "  <div id=\"df-6de142ab-b45d-459f-9d15-f26941047abc\" class=\"colab-df-container\">\n",
              "    <div>\n",
              "<style scoped>\n",
              "    .dataframe tbody tr th:only-of-type {\n",
              "        vertical-align: middle;\n",
              "    }\n",
              "\n",
              "    .dataframe tbody tr th {\n",
              "        vertical-align: top;\n",
              "    }\n",
              "\n",
              "    .dataframe thead th {\n",
              "        text-align: right;\n",
              "    }\n",
              "</style>\n",
              "<table border=\"1\" class=\"dataframe\">\n",
              "  <thead>\n",
              "    <tr style=\"text-align: right;\">\n",
              "      <th></th>\n",
              "      <th>author_id</th>\n",
              "      <th>music_id</th>\n",
              "      <th>author_music_id</th>\n",
              "      <th>group</th>\n",
              "      <th>stress_score</th>\n",
              "    </tr>\n",
              "  </thead>\n",
              "  <tbody>\n",
              "    <tr>\n",
              "      <th>5460</th>\n",
              "      <td>1367841613414760455</td>\n",
              "      <td>24661.0</td>\n",
              "      <td>1367841613414760455_24661.0</td>\n",
              "      <td>1</td>\n",
              "      <td>0.681818</td>\n",
              "    </tr>\n",
              "  </tbody>\n",
              "</table>\n",
              "</div>\n",
              "    <div class=\"colab-df-buttons\">\n",
              "\n",
              "  <div class=\"colab-df-container\">\n",
              "    <button class=\"colab-df-convert\" onclick=\"convertToInteractive('df-6de142ab-b45d-459f-9d15-f26941047abc')\"\n",
              "            title=\"Convert this dataframe to an interactive table.\"\n",
              "            style=\"display:none;\">\n",
              "\n",
              "  <svg xmlns=\"http://www.w3.org/2000/svg\" height=\"24px\" viewBox=\"0 -960 960 960\">\n",
              "    <path d=\"M120-120v-720h720v720H120Zm60-500h600v-160H180v160Zm220 220h160v-160H400v160Zm0 220h160v-160H400v160ZM180-400h160v-160H180v160Zm440 0h160v-160H620v160ZM180-180h160v-160H180v160Zm440 0h160v-160H620v160Z\"/>\n",
              "  </svg>\n",
              "    </button>\n",
              "\n",
              "  <style>\n",
              "    .colab-df-container {\n",
              "      display:flex;\n",
              "      gap: 12px;\n",
              "    }\n",
              "\n",
              "    .colab-df-convert {\n",
              "      background-color: #E8F0FE;\n",
              "      border: none;\n",
              "      border-radius: 50%;\n",
              "      cursor: pointer;\n",
              "      display: none;\n",
              "      fill: #1967D2;\n",
              "      height: 32px;\n",
              "      padding: 0 0 0 0;\n",
              "      width: 32px;\n",
              "    }\n",
              "\n",
              "    .colab-df-convert:hover {\n",
              "      background-color: #E2EBFA;\n",
              "      box-shadow: 0px 1px 2px rgba(60, 64, 67, 0.3), 0px 1px 3px 1px rgba(60, 64, 67, 0.15);\n",
              "      fill: #174EA6;\n",
              "    }\n",
              "\n",
              "    .colab-df-buttons div {\n",
              "      margin-bottom: 4px;\n",
              "    }\n",
              "\n",
              "    [theme=dark] .colab-df-convert {\n",
              "      background-color: #3B4455;\n",
              "      fill: #D2E3FC;\n",
              "    }\n",
              "\n",
              "    [theme=dark] .colab-df-convert:hover {\n",
              "      background-color: #434B5C;\n",
              "      box-shadow: 0px 1px 3px 1px rgba(0, 0, 0, 0.15);\n",
              "      filter: drop-shadow(0px 1px 2px rgba(0, 0, 0, 0.3));\n",
              "      fill: #FFFFFF;\n",
              "    }\n",
              "  </style>\n",
              "\n",
              "    <script>\n",
              "      const buttonEl =\n",
              "        document.querySelector('#df-6de142ab-b45d-459f-9d15-f26941047abc button.colab-df-convert');\n",
              "      buttonEl.style.display =\n",
              "        google.colab.kernel.accessAllowed ? 'block' : 'none';\n",
              "\n",
              "      async function convertToInteractive(key) {\n",
              "        const element = document.querySelector('#df-6de142ab-b45d-459f-9d15-f26941047abc');\n",
              "        const dataTable =\n",
              "          await google.colab.kernel.invokeFunction('convertToInteractive',\n",
              "                                                    [key], {});\n",
              "        if (!dataTable) return;\n",
              "\n",
              "        const docLinkHtml = 'Like what you see? Visit the ' +\n",
              "          '<a target=\"_blank\" href=https://colab.research.google.com/notebooks/data_table.ipynb>data table notebook</a>'\n",
              "          + ' to learn more about interactive tables.';\n",
              "        element.innerHTML = '';\n",
              "        dataTable['output_type'] = 'display_data';\n",
              "        await google.colab.output.renderOutput(dataTable, element);\n",
              "        const docLink = document.createElement('div');\n",
              "        docLink.innerHTML = docLinkHtml;\n",
              "        element.appendChild(docLink);\n",
              "      }\n",
              "    </script>\n",
              "  </div>\n",
              "\n",
              "\n",
              "    </div>\n",
              "  </div>\n"
            ],
            "application/vnd.google.colaboratory.intrinsic+json": {
              "type": "dataframe",
              "summary": "{\n  \"name\": \"avgScoreDf\",\n  \"rows\": 1,\n  \"fields\": [\n    {\n      \"column\": \"author_id\",\n      \"properties\": {\n        \"dtype\": \"string\",\n        \"num_unique_values\": 1,\n        \"samples\": [\n          \"1367841613414760455\"\n        ],\n        \"semantic_type\": \"\",\n        \"description\": \"\"\n      }\n    },\n    {\n      \"column\": \"music_id\",\n      \"properties\": {\n        \"dtype\": \"number\",\n        \"std\": null,\n        \"min\": 24661.0,\n        \"max\": 24661.0,\n        \"num_unique_values\": 1,\n        \"samples\": [\n          24661.0\n        ],\n        \"semantic_type\": \"\",\n        \"description\": \"\"\n      }\n    },\n    {\n      \"column\": \"author_music_id\",\n      \"properties\": {\n        \"dtype\": \"string\",\n        \"num_unique_values\": 1,\n        \"samples\": [\n          \"1367841613414760455_24661.0\"\n        ],\n        \"semantic_type\": \"\",\n        \"description\": \"\"\n      }\n    },\n    {\n      \"column\": \"group\",\n      \"properties\": {\n        \"dtype\": \"number\",\n        \"std\": null,\n        \"min\": 1,\n        \"max\": 1,\n        \"num_unique_values\": 1,\n        \"samples\": [\n          1\n        ],\n        \"semantic_type\": \"\",\n        \"description\": \"\"\n      }\n    },\n    {\n      \"column\": \"stress_score\",\n      \"properties\": {\n        \"dtype\": \"number\",\n        \"std\": null,\n        \"min\": 0.6818181818181818,\n        \"max\": 0.6818181818181818,\n        \"num_unique_values\": 1,\n        \"samples\": [\n          0.6818181818181818\n        ],\n        \"semantic_type\": \"\",\n        \"description\": \"\"\n      }\n    }\n  ]\n}"
            }
          },
          "metadata": {},
          "execution_count": 29
        }
      ]
    },
    {
      "cell_type": "code",
      "source": [
        "# Use tweets df to add the demographic info to the majority voting df\n",
        "avgScoreDf = avgScoreDf.merge(demographicsDf, on = \"author_id\", how = 'left')\n",
        "print(\"Shape before dropping na:\", avgScoreDf.shape)\n",
        "# drop na\n",
        "avgScoreDf = avgScoreDf.dropna()\n",
        "# use label encoder to encode the values of the demographics\n",
        "from sklearn.preprocessing import LabelEncoder\n",
        "le = LabelEncoder()\n",
        "avgScoreDf[\"age_group\"] = le.fit_transform(avgScoreDf[\"age_group\"])\n",
        "mapping = {index: label for index, label in enumerate(le.classes_)}\n",
        "print(mapping)\n",
        "avgScoreDf[\"gender\"] = le.fit_transform(avgScoreDf[\"gender\"])\n",
        "mapping = {index: label for index, label in enumerate(le.classes_)}\n",
        "print(mapping)\n",
        "avgScoreDf[\"edu_level\"] = le.fit_transform(avgScoreDf[\"edu_level\"])\n",
        "mapping = {index: label for index, label in enumerate(le.classes_)}\n",
        "print(mapping)\n",
        "\n",
        "print(\"Shape after dropping na:\", avgScoreDf.shape)\n",
        "avgScoreDf.sample()"
      ],
      "metadata": {
        "colab": {
          "base_uri": "https://localhost:8080/",
          "height": 187
        },
        "id": "IvEv_3UsCmfp",
        "outputId": "623f3002-6746-4689-e0b2-a95300022923"
      },
      "execution_count": null,
      "outputs": [
        {
          "output_type": "stream",
          "name": "stdout",
          "text": [
            "Shape before dropping na: (18320, 8)\n",
            "{0: 'Gen-Z', 1: 'Millenial'}\n",
            "{0: 'Female', 1: 'Male'}\n",
            "{0: 'High School & College', 1: 'Middle/Elemntary School'}\n",
            "Shape after dropping na: (18320, 8)\n"
          ]
        },
        {
          "output_type": "execute_result",
          "data": {
            "text/plain": [
              "                author_id  music_id             author_music_id  group  \\\n",
              "15396  797597148342874113   36653.0  797597148342874113_36653.0      1   \n",
              "\n",
              "       stress_score  age_group  gender  edu_level  \n",
              "15396      0.285714          0       0          1  "
            ],
            "text/html": [
              "\n",
              "  <div id=\"df-8e3b425d-2566-489f-b760-9f2aeef02287\" class=\"colab-df-container\">\n",
              "    <div>\n",
              "<style scoped>\n",
              "    .dataframe tbody tr th:only-of-type {\n",
              "        vertical-align: middle;\n",
              "    }\n",
              "\n",
              "    .dataframe tbody tr th {\n",
              "        vertical-align: top;\n",
              "    }\n",
              "\n",
              "    .dataframe thead th {\n",
              "        text-align: right;\n",
              "    }\n",
              "</style>\n",
              "<table border=\"1\" class=\"dataframe\">\n",
              "  <thead>\n",
              "    <tr style=\"text-align: right;\">\n",
              "      <th></th>\n",
              "      <th>author_id</th>\n",
              "      <th>music_id</th>\n",
              "      <th>author_music_id</th>\n",
              "      <th>group</th>\n",
              "      <th>stress_score</th>\n",
              "      <th>age_group</th>\n",
              "      <th>gender</th>\n",
              "      <th>edu_level</th>\n",
              "    </tr>\n",
              "  </thead>\n",
              "  <tbody>\n",
              "    <tr>\n",
              "      <th>15396</th>\n",
              "      <td>797597148342874113</td>\n",
              "      <td>36653.0</td>\n",
              "      <td>797597148342874113_36653.0</td>\n",
              "      <td>1</td>\n",
              "      <td>0.285714</td>\n",
              "      <td>0</td>\n",
              "      <td>0</td>\n",
              "      <td>1</td>\n",
              "    </tr>\n",
              "  </tbody>\n",
              "</table>\n",
              "</div>\n",
              "    <div class=\"colab-df-buttons\">\n",
              "\n",
              "  <div class=\"colab-df-container\">\n",
              "    <button class=\"colab-df-convert\" onclick=\"convertToInteractive('df-8e3b425d-2566-489f-b760-9f2aeef02287')\"\n",
              "            title=\"Convert this dataframe to an interactive table.\"\n",
              "            style=\"display:none;\">\n",
              "\n",
              "  <svg xmlns=\"http://www.w3.org/2000/svg\" height=\"24px\" viewBox=\"0 -960 960 960\">\n",
              "    <path d=\"M120-120v-720h720v720H120Zm60-500h600v-160H180v160Zm220 220h160v-160H400v160Zm0 220h160v-160H400v160ZM180-400h160v-160H180v160Zm440 0h160v-160H620v160ZM180-180h160v-160H180v160Zm440 0h160v-160H620v160Z\"/>\n",
              "  </svg>\n",
              "    </button>\n",
              "\n",
              "  <style>\n",
              "    .colab-df-container {\n",
              "      display:flex;\n",
              "      gap: 12px;\n",
              "    }\n",
              "\n",
              "    .colab-df-convert {\n",
              "      background-color: #E8F0FE;\n",
              "      border: none;\n",
              "      border-radius: 50%;\n",
              "      cursor: pointer;\n",
              "      display: none;\n",
              "      fill: #1967D2;\n",
              "      height: 32px;\n",
              "      padding: 0 0 0 0;\n",
              "      width: 32px;\n",
              "    }\n",
              "\n",
              "    .colab-df-convert:hover {\n",
              "      background-color: #E2EBFA;\n",
              "      box-shadow: 0px 1px 2px rgba(60, 64, 67, 0.3), 0px 1px 3px 1px rgba(60, 64, 67, 0.15);\n",
              "      fill: #174EA6;\n",
              "    }\n",
              "\n",
              "    .colab-df-buttons div {\n",
              "      margin-bottom: 4px;\n",
              "    }\n",
              "\n",
              "    [theme=dark] .colab-df-convert {\n",
              "      background-color: #3B4455;\n",
              "      fill: #D2E3FC;\n",
              "    }\n",
              "\n",
              "    [theme=dark] .colab-df-convert:hover {\n",
              "      background-color: #434B5C;\n",
              "      box-shadow: 0px 1px 3px 1px rgba(0, 0, 0, 0.15);\n",
              "      filter: drop-shadow(0px 1px 2px rgba(0, 0, 0, 0.3));\n",
              "      fill: #FFFFFF;\n",
              "    }\n",
              "  </style>\n",
              "\n",
              "    <script>\n",
              "      const buttonEl =\n",
              "        document.querySelector('#df-8e3b425d-2566-489f-b760-9f2aeef02287 button.colab-df-convert');\n",
              "      buttonEl.style.display =\n",
              "        google.colab.kernel.accessAllowed ? 'block' : 'none';\n",
              "\n",
              "      async function convertToInteractive(key) {\n",
              "        const element = document.querySelector('#df-8e3b425d-2566-489f-b760-9f2aeef02287');\n",
              "        const dataTable =\n",
              "          await google.colab.kernel.invokeFunction('convertToInteractive',\n",
              "                                                    [key], {});\n",
              "        if (!dataTable) return;\n",
              "\n",
              "        const docLinkHtml = 'Like what you see? Visit the ' +\n",
              "          '<a target=\"_blank\" href=https://colab.research.google.com/notebooks/data_table.ipynb>data table notebook</a>'\n",
              "          + ' to learn more about interactive tables.';\n",
              "        element.innerHTML = '';\n",
              "        dataTable['output_type'] = 'display_data';\n",
              "        await google.colab.output.renderOutput(dataTable, element);\n",
              "        const docLink = document.createElement('div');\n",
              "        docLink.innerHTML = docLinkHtml;\n",
              "        element.appendChild(docLink);\n",
              "      }\n",
              "    </script>\n",
              "  </div>\n",
              "\n",
              "\n",
              "    </div>\n",
              "  </div>\n"
            ],
            "application/vnd.google.colaboratory.intrinsic+json": {
              "type": "dataframe",
              "summary": "{\n  \"name\": \"avgScoreDf\",\n  \"rows\": 1,\n  \"fields\": [\n    {\n      \"column\": \"author_id\",\n      \"properties\": {\n        \"dtype\": \"string\",\n        \"num_unique_values\": 1,\n        \"samples\": [\n          \"797597148342874113\"\n        ],\n        \"semantic_type\": \"\",\n        \"description\": \"\"\n      }\n    },\n    {\n      \"column\": \"music_id\",\n      \"properties\": {\n        \"dtype\": \"number\",\n        \"std\": null,\n        \"min\": 36653.0,\n        \"max\": 36653.0,\n        \"num_unique_values\": 1,\n        \"samples\": [\n          36653.0\n        ],\n        \"semantic_type\": \"\",\n        \"description\": \"\"\n      }\n    },\n    {\n      \"column\": \"author_music_id\",\n      \"properties\": {\n        \"dtype\": \"string\",\n        \"num_unique_values\": 1,\n        \"samples\": [\n          \"797597148342874113_36653.0\"\n        ],\n        \"semantic_type\": \"\",\n        \"description\": \"\"\n      }\n    },\n    {\n      \"column\": \"group\",\n      \"properties\": {\n        \"dtype\": \"number\",\n        \"std\": null,\n        \"min\": 1,\n        \"max\": 1,\n        \"num_unique_values\": 1,\n        \"samples\": [\n          1\n        ],\n        \"semantic_type\": \"\",\n        \"description\": \"\"\n      }\n    },\n    {\n      \"column\": \"stress_score\",\n      \"properties\": {\n        \"dtype\": \"number\",\n        \"std\": null,\n        \"min\": 0.2857142857142857,\n        \"max\": 0.2857142857142857,\n        \"num_unique_values\": 1,\n        \"samples\": [\n          0.2857142857142857\n        ],\n        \"semantic_type\": \"\",\n        \"description\": \"\"\n      }\n    },\n    {\n      \"column\": \"age_group\",\n      \"properties\": {\n        \"dtype\": \"number\",\n        \"std\": null,\n        \"min\": 0,\n        \"max\": 0,\n        \"num_unique_values\": 1,\n        \"samples\": [\n          0\n        ],\n        \"semantic_type\": \"\",\n        \"description\": \"\"\n      }\n    },\n    {\n      \"column\": \"gender\",\n      \"properties\": {\n        \"dtype\": \"number\",\n        \"std\": null,\n        \"min\": 0,\n        \"max\": 0,\n        \"num_unique_values\": 1,\n        \"samples\": [\n          0\n        ],\n        \"semantic_type\": \"\",\n        \"description\": \"\"\n      }\n    },\n    {\n      \"column\": \"edu_level\",\n      \"properties\": {\n        \"dtype\": \"number\",\n        \"std\": null,\n        \"min\": 1,\n        \"max\": 1,\n        \"num_unique_values\": 1,\n        \"samples\": [\n          1\n        ],\n        \"semantic_type\": \"\",\n        \"description\": \"\"\n      }\n    }\n  ]\n}"
            }
          },
          "metadata": {},
          "execution_count": 30
        }
      ]
    },
    {
      "cell_type": "code",
      "source": [
        "# Save to parquet\n",
        "filePath = os.path.join(tweetsDir, \"ptsdTweetsPoolDf_avgScore_demographics.parquet\")\n",
        "avgScoreDf.to_parquet(filePath)"
      ],
      "metadata": {
        "id": "X9mooIEmCx_e"
      },
      "execution_count": null,
      "outputs": []
    }
  ]
}