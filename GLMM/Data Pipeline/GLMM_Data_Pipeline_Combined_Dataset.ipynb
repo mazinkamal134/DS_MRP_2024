{
  "nbformat": 4,
  "nbformat_minor": 0,
  "metadata": {
    "colab": {
      "provenance": [],
      "toc_visible": true,
      "include_colab_link": true
    },
    "kernelspec": {
      "name": "python3",
      "display_name": "Python 3"
    },
    "language_info": {
      "name": "python"
    }
  },
  "cells": [
    {
      "cell_type": "markdown",
      "metadata": {
        "id": "view-in-github",
        "colab_type": "text"
      },
      "source": [
        "<a href=\"https://colab.research.google.com/github/mazinkamal134/DS_MRP_2024/blob/main/GLMM/Data%20Pipeline/GLMM_Data_Pipeline_Combined_Dataset.ipynb\" target=\"_parent\"><img src=\"https://colab.research.google.com/assets/colab-badge.svg\" alt=\"Open In Colab\"/></a>"
      ]
    },
    {
      "cell_type": "markdown",
      "source": [
        "Note: Stress score majority voting will not be used in establishing the relationship between listening to music and alleviating symptoms. It's kept here for reference only ..."
      ],
      "metadata": {
        "id": "M9i0WqhNrdc5"
      }
    },
    {
      "cell_type": "markdown",
      "source": [
        "### Packages"
      ],
      "metadata": {
        "id": "-SwvlqqOnKX9"
      }
    },
    {
      "cell_type": "code",
      "execution_count": null,
      "metadata": {
        "id": "J13FD6s-m0NE"
      },
      "outputs": [],
      "source": [
        "import os\n",
        "import pandas as pd\n",
        "import numpy as np\n",
        "import pickle"
      ]
    },
    {
      "cell_type": "markdown",
      "source": [
        "### Mount the Drive"
      ],
      "metadata": {
        "id": "cnC0B9FwnNSy"
      }
    },
    {
      "cell_type": "code",
      "source": [
        "# Mount Google Drive\n",
        "from google.colab import drive\n",
        "drive.mount('/content/drive')"
      ],
      "metadata": {
        "colab": {
          "base_uri": "https://localhost:8080/"
        },
        "id": "6R63I0KCm4W2",
        "outputId": "e75d7b71-e782-4695-88cc-76e03ad5225d"
      },
      "execution_count": null,
      "outputs": [
        {
          "output_type": "stream",
          "name": "stdout",
          "text": [
            "Mounted at /content/drive\n"
          ]
        }
      ]
    },
    {
      "cell_type": "markdown",
      "source": [
        "### Global Params"
      ],
      "metadata": {
        "id": "rzeGTRTWnJxM"
      }
    },
    {
      "cell_type": "code",
      "source": [
        "tweetsDir = r\"/content/drive/MyDrive/MRP/Mazin_Works/Project Docs/Data/Tweets\""
      ],
      "metadata": {
        "id": "8Vupkcy-nJKM"
      },
      "execution_count": null,
      "outputs": []
    },
    {
      "cell_type": "markdown",
      "source": [
        "### Read & Combine"
      ],
      "metadata": {
        "id": "np0L2_wdoyfq"
      }
    },
    {
      "cell_type": "code",
      "source": [
        "# Read the avgScore data and combine\n",
        "anxietyDf = pd.read_parquet(os.path.join(tweetsDir, \"anxietyTweetsPoolDf_avgScore_demographics.parquet\"))\n",
        "# Add the disorder\n",
        "anxietyDf[\"disorder\"] = \"anxiety\"\n",
        "depressionDf = pd.read_parquet(os.path.join(tweetsDir, \"depressionTweetsPoolDf_avgScore_demographics.parquet\"))\n",
        "# Add the disorder\n",
        "depressionDf[\"disorder\"] = \"depression\"\n",
        "ptsdDf = pd.read_parquet(os.path.join(tweetsDir, \"ptsdTweetsPoolDf_avgScore_demographics.parquet\"))\n",
        "# Add the disorder\n",
        "ptsdDf[\"disorder\"] = \"ptsd\"\n",
        "\n",
        "# Combine\n",
        "combinedDf = pd.concat([anxietyDf, depressionDf, ptsdDf], ignore_index=True)\n",
        "# Check\n",
        "combinedDf.disorder.value_counts()"
      ],
      "metadata": {
        "colab": {
          "base_uri": "https://localhost:8080/"
        },
        "id": "Jg_wC-KQnE-q",
        "outputId": "b8c74cf5-8810-428b-e633-8c3496b97c3f"
      },
      "execution_count": null,
      "outputs": [
        {
          "output_type": "execute_result",
          "data": {
            "text/plain": [
              "disorder\n",
              "depression    35970\n",
              "ptsd          18320\n",
              "anxiety       17426\n",
              "Name: count, dtype: int64"
            ]
          },
          "metadata": {},
          "execution_count": 5
        }
      ]
    },
    {
      "cell_type": "code",
      "source": [
        "# Save to parquet\n",
        "combinedDf.to_parquet(os.path.join(tweetsDir, \"combinedTweetsPoolDf_avgScore_demographics.parquet\"))"
      ],
      "metadata": {
        "id": "M8gG9Peho5yj"
      },
      "execution_count": null,
      "outputs": []
    },
    {
      "cell_type": "code",
      "source": [
        "# Read the majority voting data and combine\n",
        "anxietyDf = pd.read_parquet(os.path.join(tweetsDir, \"anxietyTweetsPoolDf_majorityVoting_demographics.parquet\"))\n",
        "# Add the disorder\n",
        "anxietyDf[\"disorder\"] = \"anxiety\"\n",
        "depressionDf = pd.read_parquet(os.path.join(tweetsDir, \"depressionTweetsPoolDf_majorityVoting_demographics.parquet\"))\n",
        "# Add the disorder\n",
        "depressionDf[\"disorder\"] = \"depression\"\n",
        "ptsdDf = pd.read_parquet(os.path.join(tweetsDir, \"ptsdTweetsPoolDf_majorityVoting_demographics.parquet\"))\n",
        "# Add the disorder\n",
        "ptsdDf[\"disorder\"] = \"ptsd\"\n",
        "\n",
        "# Combine\n",
        "combinedDf = pd.concat([anxietyDf, depressionDf, ptsdDf], ignore_index=True)\n",
        "# Check\n",
        "combinedDf.disorder.value_counts()"
      ],
      "metadata": {
        "colab": {
          "base_uri": "https://localhost:8080/"
        },
        "id": "At25Hh75pCIR",
        "outputId": "b6e25d0c-fb4d-4c1f-dbc9-2e103d248c71"
      },
      "execution_count": null,
      "outputs": [
        {
          "output_type": "execute_result",
          "data": {
            "text/plain": [
              "disorder\n",
              "depression    35970\n",
              "ptsd          18320\n",
              "anxiety       17426\n",
              "Name: count, dtype: int64"
            ]
          },
          "metadata": {},
          "execution_count": 7
        }
      ]
    },
    {
      "cell_type": "code",
      "source": [
        "# Save\n",
        "combinedDf.to_parquet(os.path.join(tweetsDir, \"combinedTweetsPoolDf_majorityVoting_demographics.parquet\"))"
      ],
      "metadata": {
        "id": "dE2lckCUqn1I"
      },
      "execution_count": null,
      "outputs": []
    }
  ]
}