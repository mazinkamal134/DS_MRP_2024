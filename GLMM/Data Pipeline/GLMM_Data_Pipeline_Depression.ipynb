{
  "nbformat": 4,
  "nbformat_minor": 0,
  "metadata": {
    "colab": {
      "provenance": [],
      "toc_visible": true,
      "machine_shape": "hm",
      "include_colab_link": true
    },
    "kernelspec": {
      "name": "python3",
      "display_name": "Python 3"
    },
    "language_info": {
      "name": "python"
    }
  },
  "cells": [
    {
      "cell_type": "markdown",
      "metadata": {
        "id": "view-in-github",
        "colab_type": "text"
      },
      "source": [
        "<a href=\"https://colab.research.google.com/github/mazinkamal134/DS_MRP_2024/blob/main/GLMM/Data%20Pipeline/GLMM_Data_Pipeline_Depression.ipynb\" target=\"_parent\"><img src=\"https://colab.research.google.com/assets/colab-badge.svg\" alt=\"Open In Colab\"/></a>"
      ]
    },
    {
      "cell_type": "markdown",
      "source": [
        "Note: Stress score majority voting will not be used in establishing the relationship between listening to music and alleviating symptoms. It's kept here for reference only ..."
      ],
      "metadata": {
        "id": "Sh5Z2CN3rl0F"
      }
    },
    {
      "cell_type": "code",
      "execution_count": null,
      "metadata": {
        "id": "8XHaWW3wA_gO"
      },
      "outputs": [],
      "source": [
        "import os\n",
        "import pandas as pd\n",
        "import numpy as np\n",
        "from tqdm import tqdm\n",
        "import pickle\n",
        "import matplotlib.pyplot as plt\n",
        "import seaborn as sns\n",
        "import statsmodels.api as sm\n",
        "import statsmodels.formula.api as smf\n",
        "import scipy.stats as stats"
      ]
    },
    {
      "cell_type": "code",
      "source": [
        "# Mount Google Drive\n",
        "from google.colab import drive\n",
        "drive.mount('/content/drive')"
      ],
      "metadata": {
        "colab": {
          "base_uri": "https://localhost:8080/"
        },
        "id": "MH7qz3N_BVOi",
        "outputId": "fed480da-d846-457a-ac95-7467c42315f6"
      },
      "execution_count": null,
      "outputs": [
        {
          "output_type": "stream",
          "name": "stdout",
          "text": [
            "Drive already mounted at /content/drive; to attempt to forcibly remount, call drive.mount(\"/content/drive\", force_remount=True).\n"
          ]
        }
      ]
    },
    {
      "cell_type": "markdown",
      "source": [
        "### Global Params"
      ],
      "metadata": {
        "id": "zKkRrBg9Gbnc"
      }
    },
    {
      "cell_type": "code",
      "source": [
        "# directories\n",
        "tensiDir = r\"/content/drive/MyDrive/Master-2024/MRP/Data/Tweets\"\n",
        "tweetsDir = r\"/content/drive/MyDrive/MRP/Mazin_Works/Project Docs/Data/Tweets\"\n",
        "demographicDir = r\"/content/drive/MyDrive/Master-2024/MRP/Data/Demographics\""
      ],
      "metadata": {
        "id": "OZo8w46AtBEr"
      },
      "execution_count": null,
      "outputs": []
    },
    {
      "cell_type": "markdown",
      "source": [
        "### Ingest & Process the data"
      ],
      "metadata": {
        "id": "aynBULP4DCO6"
      }
    },
    {
      "cell_type": "code",
      "source": [
        "tweetsDf = pd.read_pickle(os.path.join(tensiDir, \"depressionFullWithTensiScore.pickle\"))\n",
        "print(\"Ingested file shape:\", tweetsDf.shape)"
      ],
      "metadata": {
        "colab": {
          "base_uri": "https://localhost:8080/"
        },
        "id": "vQKFyZKGs-4s",
        "outputId": "d1239801-1651-4f7e-81b4-d3fc498ad091"
      },
      "execution_count": null,
      "outputs": [
        {
          "output_type": "stream",
          "name": "stdout",
          "text": [
            "Ingested file shape: (7208458, 28)\n"
          ]
        }
      ]
    },
    {
      "cell_type": "code",
      "source": [
        "# Create the pool of music sessions\n",
        "musicPoolDf = tweetsDf[tweetsDf.music_id > 0].sort_values(by = [\"author_id\", \"created_at\"]).reset_index()\n",
        "print(\"Music pool shape:\", musicPoolDf.shape)"
      ],
      "metadata": {
        "colab": {
          "base_uri": "https://localhost:8080/"
        },
        "id": "66TrLA1XCsj2",
        "outputId": "91eb919e-d7a9-4b56-a002-ea426e032757"
      },
      "execution_count": null,
      "outputs": [
        {
          "output_type": "stream",
          "name": "stdout",
          "text": [
            "Music pool shape: (20073, 29)\n"
          ]
        }
      ]
    },
    {
      "cell_type": "code",
      "source": [
        "# Remove the treatment tweets and any tweet without tensi score\n",
        "tweetsDf = tweetsDf[(tweetsDf.tweet_type != \"treatment\") &\n",
        "                    (tweetsDf.stress_score.notna()) &\n",
        "                    (tweetsDf.lang == \"en\") &\n",
        "                    (tweetsDf.cleaned_text.notna()) &\n",
        "                    (tweetsDf.author_since.notna())]\n",
        "print(\"Filtered file shape:\", tweetsDf.shape)\n",
        "# Group by group and find the unique authors per each group\n",
        "tweetsDf.groupby(\"group\")[\"author_id\"].nunique().reset_index()"
      ],
      "metadata": {
        "colab": {
          "base_uri": "https://localhost:8080/",
          "height": 129
        },
        "id": "cXsHhkGftutK",
        "outputId": "869eda7b-b017-4996-d7fd-5eca46c36546"
      },
      "execution_count": null,
      "outputs": [
        {
          "output_type": "stream",
          "name": "stdout",
          "text": [
            "Filtered file shape: (4207320, 28)\n"
          ]
        },
        {
          "output_type": "execute_result",
          "data": {
            "text/plain": [
              "   group  author_id\n",
              "0      0       2027\n",
              "1      1        999"
            ],
            "text/html": [
              "\n",
              "  <div id=\"df-6a33efd3-8b29-46c5-abcd-69603b6983aa\" class=\"colab-df-container\">\n",
              "    <div>\n",
              "<style scoped>\n",
              "    .dataframe tbody tr th:only-of-type {\n",
              "        vertical-align: middle;\n",
              "    }\n",
              "\n",
              "    .dataframe tbody tr th {\n",
              "        vertical-align: top;\n",
              "    }\n",
              "\n",
              "    .dataframe thead th {\n",
              "        text-align: right;\n",
              "    }\n",
              "</style>\n",
              "<table border=\"1\" class=\"dataframe\">\n",
              "  <thead>\n",
              "    <tr style=\"text-align: right;\">\n",
              "      <th></th>\n",
              "      <th>group</th>\n",
              "      <th>author_id</th>\n",
              "    </tr>\n",
              "  </thead>\n",
              "  <tbody>\n",
              "    <tr>\n",
              "      <th>0</th>\n",
              "      <td>0</td>\n",
              "      <td>2027</td>\n",
              "    </tr>\n",
              "    <tr>\n",
              "      <th>1</th>\n",
              "      <td>1</td>\n",
              "      <td>999</td>\n",
              "    </tr>\n",
              "  </tbody>\n",
              "</table>\n",
              "</div>\n",
              "    <div class=\"colab-df-buttons\">\n",
              "\n",
              "  <div class=\"colab-df-container\">\n",
              "    <button class=\"colab-df-convert\" onclick=\"convertToInteractive('df-6a33efd3-8b29-46c5-abcd-69603b6983aa')\"\n",
              "            title=\"Convert this dataframe to an interactive table.\"\n",
              "            style=\"display:none;\">\n",
              "\n",
              "  <svg xmlns=\"http://www.w3.org/2000/svg\" height=\"24px\" viewBox=\"0 -960 960 960\">\n",
              "    <path d=\"M120-120v-720h720v720H120Zm60-500h600v-160H180v160Zm220 220h160v-160H400v160Zm0 220h160v-160H400v160ZM180-400h160v-160H180v160Zm440 0h160v-160H620v160ZM180-180h160v-160H180v160Zm440 0h160v-160H620v160Z\"/>\n",
              "  </svg>\n",
              "    </button>\n",
              "\n",
              "  <style>\n",
              "    .colab-df-container {\n",
              "      display:flex;\n",
              "      gap: 12px;\n",
              "    }\n",
              "\n",
              "    .colab-df-convert {\n",
              "      background-color: #E8F0FE;\n",
              "      border: none;\n",
              "      border-radius: 50%;\n",
              "      cursor: pointer;\n",
              "      display: none;\n",
              "      fill: #1967D2;\n",
              "      height: 32px;\n",
              "      padding: 0 0 0 0;\n",
              "      width: 32px;\n",
              "    }\n",
              "\n",
              "    .colab-df-convert:hover {\n",
              "      background-color: #E2EBFA;\n",
              "      box-shadow: 0px 1px 2px rgba(60, 64, 67, 0.3), 0px 1px 3px 1px rgba(60, 64, 67, 0.15);\n",
              "      fill: #174EA6;\n",
              "    }\n",
              "\n",
              "    .colab-df-buttons div {\n",
              "      margin-bottom: 4px;\n",
              "    }\n",
              "\n",
              "    [theme=dark] .colab-df-convert {\n",
              "      background-color: #3B4455;\n",
              "      fill: #D2E3FC;\n",
              "    }\n",
              "\n",
              "    [theme=dark] .colab-df-convert:hover {\n",
              "      background-color: #434B5C;\n",
              "      box-shadow: 0px 1px 3px 1px rgba(0, 0, 0, 0.15);\n",
              "      filter: drop-shadow(0px 1px 2px rgba(0, 0, 0, 0.3));\n",
              "      fill: #FFFFFF;\n",
              "    }\n",
              "  </style>\n",
              "\n",
              "    <script>\n",
              "      const buttonEl =\n",
              "        document.querySelector('#df-6a33efd3-8b29-46c5-abcd-69603b6983aa button.colab-df-convert');\n",
              "      buttonEl.style.display =\n",
              "        google.colab.kernel.accessAllowed ? 'block' : 'none';\n",
              "\n",
              "      async function convertToInteractive(key) {\n",
              "        const element = document.querySelector('#df-6a33efd3-8b29-46c5-abcd-69603b6983aa');\n",
              "        const dataTable =\n",
              "          await google.colab.kernel.invokeFunction('convertToInteractive',\n",
              "                                                    [key], {});\n",
              "        if (!dataTable) return;\n",
              "\n",
              "        const docLinkHtml = 'Like what you see? Visit the ' +\n",
              "          '<a target=\"_blank\" href=https://colab.research.google.com/notebooks/data_table.ipynb>data table notebook</a>'\n",
              "          + ' to learn more about interactive tables.';\n",
              "        element.innerHTML = '';\n",
              "        dataTable['output_type'] = 'display_data';\n",
              "        await google.colab.output.renderOutput(dataTable, element);\n",
              "        const docLink = document.createElement('div');\n",
              "        docLink.innerHTML = docLinkHtml;\n",
              "        element.appendChild(docLink);\n",
              "      }\n",
              "    </script>\n",
              "  </div>\n",
              "\n",
              "\n",
              "<div id=\"df-ca61faa9-02a1-4aa0-bcc4-5b5d0b6da725\">\n",
              "  <button class=\"colab-df-quickchart\" onclick=\"quickchart('df-ca61faa9-02a1-4aa0-bcc4-5b5d0b6da725')\"\n",
              "            title=\"Suggest charts\"\n",
              "            style=\"display:none;\">\n",
              "\n",
              "<svg xmlns=\"http://www.w3.org/2000/svg\" height=\"24px\"viewBox=\"0 0 24 24\"\n",
              "     width=\"24px\">\n",
              "    <g>\n",
              "        <path d=\"M19 3H5c-1.1 0-2 .9-2 2v14c0 1.1.9 2 2 2h14c1.1 0 2-.9 2-2V5c0-1.1-.9-2-2-2zM9 17H7v-7h2v7zm4 0h-2V7h2v10zm4 0h-2v-4h2v4z\"/>\n",
              "    </g>\n",
              "</svg>\n",
              "  </button>\n",
              "\n",
              "<style>\n",
              "  .colab-df-quickchart {\n",
              "      --bg-color: #E8F0FE;\n",
              "      --fill-color: #1967D2;\n",
              "      --hover-bg-color: #E2EBFA;\n",
              "      --hover-fill-color: #174EA6;\n",
              "      --disabled-fill-color: #AAA;\n",
              "      --disabled-bg-color: #DDD;\n",
              "  }\n",
              "\n",
              "  [theme=dark] .colab-df-quickchart {\n",
              "      --bg-color: #3B4455;\n",
              "      --fill-color: #D2E3FC;\n",
              "      --hover-bg-color: #434B5C;\n",
              "      --hover-fill-color: #FFFFFF;\n",
              "      --disabled-bg-color: #3B4455;\n",
              "      --disabled-fill-color: #666;\n",
              "  }\n",
              "\n",
              "  .colab-df-quickchart {\n",
              "    background-color: var(--bg-color);\n",
              "    border: none;\n",
              "    border-radius: 50%;\n",
              "    cursor: pointer;\n",
              "    display: none;\n",
              "    fill: var(--fill-color);\n",
              "    height: 32px;\n",
              "    padding: 0;\n",
              "    width: 32px;\n",
              "  }\n",
              "\n",
              "  .colab-df-quickchart:hover {\n",
              "    background-color: var(--hover-bg-color);\n",
              "    box-shadow: 0 1px 2px rgba(60, 64, 67, 0.3), 0 1px 3px 1px rgba(60, 64, 67, 0.15);\n",
              "    fill: var(--button-hover-fill-color);\n",
              "  }\n",
              "\n",
              "  .colab-df-quickchart-complete:disabled,\n",
              "  .colab-df-quickchart-complete:disabled:hover {\n",
              "    background-color: var(--disabled-bg-color);\n",
              "    fill: var(--disabled-fill-color);\n",
              "    box-shadow: none;\n",
              "  }\n",
              "\n",
              "  .colab-df-spinner {\n",
              "    border: 2px solid var(--fill-color);\n",
              "    border-color: transparent;\n",
              "    border-bottom-color: var(--fill-color);\n",
              "    animation:\n",
              "      spin 1s steps(1) infinite;\n",
              "  }\n",
              "\n",
              "  @keyframes spin {\n",
              "    0% {\n",
              "      border-color: transparent;\n",
              "      border-bottom-color: var(--fill-color);\n",
              "      border-left-color: var(--fill-color);\n",
              "    }\n",
              "    20% {\n",
              "      border-color: transparent;\n",
              "      border-left-color: var(--fill-color);\n",
              "      border-top-color: var(--fill-color);\n",
              "    }\n",
              "    30% {\n",
              "      border-color: transparent;\n",
              "      border-left-color: var(--fill-color);\n",
              "      border-top-color: var(--fill-color);\n",
              "      border-right-color: var(--fill-color);\n",
              "    }\n",
              "    40% {\n",
              "      border-color: transparent;\n",
              "      border-right-color: var(--fill-color);\n",
              "      border-top-color: var(--fill-color);\n",
              "    }\n",
              "    60% {\n",
              "      border-color: transparent;\n",
              "      border-right-color: var(--fill-color);\n",
              "    }\n",
              "    80% {\n",
              "      border-color: transparent;\n",
              "      border-right-color: var(--fill-color);\n",
              "      border-bottom-color: var(--fill-color);\n",
              "    }\n",
              "    90% {\n",
              "      border-color: transparent;\n",
              "      border-bottom-color: var(--fill-color);\n",
              "    }\n",
              "  }\n",
              "</style>\n",
              "\n",
              "  <script>\n",
              "    async function quickchart(key) {\n",
              "      const quickchartButtonEl =\n",
              "        document.querySelector('#' + key + ' button');\n",
              "      quickchartButtonEl.disabled = true;  // To prevent multiple clicks.\n",
              "      quickchartButtonEl.classList.add('colab-df-spinner');\n",
              "      try {\n",
              "        const charts = await google.colab.kernel.invokeFunction(\n",
              "            'suggestCharts', [key], {});\n",
              "      } catch (error) {\n",
              "        console.error('Error during call to suggestCharts:', error);\n",
              "      }\n",
              "      quickchartButtonEl.classList.remove('colab-df-spinner');\n",
              "      quickchartButtonEl.classList.add('colab-df-quickchart-complete');\n",
              "    }\n",
              "    (() => {\n",
              "      let quickchartButtonEl =\n",
              "        document.querySelector('#df-ca61faa9-02a1-4aa0-bcc4-5b5d0b6da725 button');\n",
              "      quickchartButtonEl.style.display =\n",
              "        google.colab.kernel.accessAllowed ? 'block' : 'none';\n",
              "    })();\n",
              "  </script>\n",
              "</div>\n",
              "\n",
              "    </div>\n",
              "  </div>\n"
            ],
            "application/vnd.google.colaboratory.intrinsic+json": {
              "type": "dataframe",
              "summary": "{\n  \"name\": \"tweetsDf\",\n  \"rows\": 2,\n  \"fields\": [\n    {\n      \"column\": \"group\",\n      \"properties\": {\n        \"dtype\": \"number\",\n        \"std\": 0,\n        \"min\": 0,\n        \"max\": 1,\n        \"num_unique_values\": 2,\n        \"samples\": [\n          1,\n          0\n        ],\n        \"semantic_type\": \"\",\n        \"description\": \"\"\n      }\n    },\n    {\n      \"column\": \"author_id\",\n      \"properties\": {\n        \"dtype\": \"number\",\n        \"std\": 726,\n        \"min\": 999,\n        \"max\": 2027,\n        \"num_unique_values\": 2,\n        \"samples\": [\n          999,\n          2027\n        ],\n        \"semantic_type\": \"\",\n        \"description\": \"\"\n      }\n    }\n  ]\n}"
            }
          },
          "metadata": {},
          "execution_count": 51
        }
      ]
    },
    {
      "cell_type": "markdown",
      "source": [
        "### Create the Tweets Pool"
      ],
      "metadata": {
        "id": "HvtOWHE_DGeC"
      }
    },
    {
      "cell_type": "code",
      "source": [
        "# Create an empty DataFrame with the same schema as anxietyTweetsDf\n",
        "containerDf = tweetsDf.iloc[0: 0].copy()\n",
        "\n",
        "# Exclusion list for control users/authors\n",
        "controlTweets = set()\n",
        "\n",
        "# Loop through the music sessions and capture the eligible tweets\n",
        "for index, row in tqdm(musicPoolDf.iterrows(), total = musicPoolDf.shape[0]):\n",
        "#for index, row in musicPoolDf.iterrows():\n",
        "    # Get the search parameters\n",
        "    musicId = row[\"music_id\"]\n",
        "    authorId = row[\"author_id\"]\n",
        "    # Start date for search\n",
        "    treatmentDate = row[\"created_at\"]\n",
        "    # Upper bound for search - 24 hour window\n",
        "    upperDateBound = treatmentDate + pd.Timedelta(days = 1)\n",
        "    # A slack variable, where the window will be extended to 48 hours if no tweets were found in the 24 hours window\n",
        "    upperDateBoundSlack = treatmentDate + pd.Timedelta(days = 2)\n",
        "\n",
        "    # Find all records 24 hours after music session (treatment)\n",
        "    treatmentDf = tweetsDf[\n",
        "        (tweetsDf.author_id == authorId) &\n",
        "        (tweetsDf.created_at > treatmentDate) &\n",
        "        (tweetsDf.created_at <= upperDateBound)\n",
        "    ]\n",
        "\n",
        "    if treatmentDf.empty:\n",
        "        #print(f\"No tweets found for treatment user {authorId} with music id {musicId} between {treatmentDate} and {upperDateBound}\")\n",
        "        continue\n",
        "\n",
        "    treatmentDf.loc[treatmentDf.index, \"music_id\"] = musicId\n",
        "    #print(f\"Treatment user {authorId}, with music Id: {musicId}, and total {treatmentDf.shape[0]} tweets.\")\n",
        "\n",
        "    # Find a corresponding control user within 24 hours\n",
        "    controlDf = tweetsDf[\n",
        "        (tweetsDf.group == 0) &\n",
        "        (tweetsDf.created_at > treatmentDate) &\n",
        "        (tweetsDf.created_at <= upperDateBound) &\n",
        "        (tweetsDf.cleaned_text.notna()) &\n",
        "        (~tweetsDf.id.isin(controlTweets))\n",
        "    ].groupby(\"author_id\")[\"id\"].count().reset_index()\n",
        "\n",
        "    # If no control tweets are found, extend to 48 hours\n",
        "    if controlDf.empty:\n",
        "        #print(\"No matching control user in the 24 hours window was found, using the 48 hours window ...\")\n",
        "        controlDf = tweetsDf[\n",
        "            (tweetsDf.group == 0) &\n",
        "            (tweetsDf.created_at > treatmentDate) &\n",
        "            (tweetsDf.created_at <= upperDateBoundSlack) &\n",
        "            (tweetsDf.cleaned_text.notna()) &\n",
        "            (~tweetsDf.id.isin(controlTweets))\n",
        "        ].groupby(\"author_id\")[\"id\"].count().reset_index()\n",
        "\n",
        "    if controlDf.empty:\n",
        "        #print(\"No matching control user was found, skipping both ...\")\n",
        "        continue\n",
        "\n",
        "    # Select the control user with the max tweets\n",
        "    # controlUser = controlDf.sort_values(by = \"id\", ascending=False).iloc[0][\"author_id\"]\n",
        "    # To avoid the selection bias, let's choose randomally\n",
        "    controlUser = controlDf.sample(1)[\"author_id\"].item()\n",
        "\n",
        "\n",
        "    # Get the tweets for the selected control user\n",
        "    controlTweetsDf = tweetsDf[\n",
        "        (tweetsDf.author_id == controlUser) &\n",
        "        (tweetsDf.created_at > treatmentDate) &\n",
        "        (tweetsDf.created_at <= upperDateBoundSlack) &\n",
        "        (tweetsDf.cleaned_text.notna())\n",
        "    ]\n",
        "    # Add the used control tweets to the exclusion list\n",
        "    controlTweets.update(controlTweetsDf.id.values)\n",
        "    # Add the music ids to link to the treatment tweets\n",
        "    controlTweetsDf.loc[controlTweetsDf.index, \"music_id\"] = musicId\n",
        "\n",
        "    #print(f\"Control user {controlUser}, with music Id: {musicId}, and total {controlTweetsDf.shape[0]} tweets.\")\n",
        "\n",
        "    # Combine all dataframes into one\n",
        "    containerDf = pd.concat([containerDf, treatmentDf, controlTweetsDf], ignore_index = True)"
      ],
      "metadata": {
        "colab": {
          "base_uri": "https://localhost:8080/"
        },
        "id": "bI0wfOUFCvOX",
        "outputId": "a36cf475-7b33-4d0f-8962-f15612f1b0fe"
      },
      "execution_count": null,
      "outputs": [
        {
          "output_type": "stream",
          "name": "stderr",
          "text": [
            "100%|██████████| 20073/20073 [7:24:27<00:00,  1.33s/it]\n"
          ]
        }
      ]
    },
    {
      "cell_type": "code",
      "source": [
        "# Pickle the file\n",
        "print(\"Shape of the pool data:\", containerDf.shape)\n",
        "filePath = os.path.join(tweetsDir, \"depressionTweetsPoolDf.pickle\")\n",
        "with open(filePath, 'wb') as f:\n",
        "    pickle.dump(containerDf, f)"
      ],
      "metadata": {
        "id": "jaj22ImMC0Qd",
        "colab": {
          "base_uri": "https://localhost:8080/"
        },
        "outputId": "ce329a92-dc95-4a23-8858-c535de7eb613"
      },
      "execution_count": null,
      "outputs": [
        {
          "output_type": "stream",
          "name": "stdout",
          "text": [
            "Shape of the pool data: (664772, 28)\n"
          ]
        }
      ]
    },
    {
      "cell_type": "code",
      "source": [
        "# # Read the pickle - whenever needed\n",
        "# filePath = os.path.join(tweetsDir, \"anxietyTweetsPoolDf.pickle\")\n",
        "# containerDf = pd.read_pickle(filePath)\n",
        "# print(\"Shape:\", containerDf.shape)"
      ],
      "metadata": {
        "id": "8PxbN0QrC1op"
      },
      "execution_count": null,
      "outputs": []
    },
    {
      "cell_type": "code",
      "source": [
        "# Fill NA on stress_Score\n",
        "containerDf[\"stress_score\"] = containerDf[\"stress_score\"].fillna(0)\n",
        "# Introduce a new binary score\n",
        "containerDf[\"stress_score_binary\"] = containerDf[\"stress_score\"].apply(lambda x: 1 if x > 0 else 0)"
      ],
      "metadata": {
        "id": "87oMtm0vC4vA"
      },
      "execution_count": null,
      "outputs": []
    },
    {
      "cell_type": "code",
      "source": [
        "# Majority voting\n",
        "def majority_vote_with_tie_breaker(group):\n",
        "    modeResult = group.mode()\n",
        "    if len(modeResult) > 1:  # Tie exists\n",
        "        return 1\n",
        "    else:\n",
        "        return modeResult[0]\n",
        "\n",
        "# Customize the original dataframe\n",
        "majorityVotingDf = containerDf[[\"author_id\", \"music_id\", \"group\", \"stress_score_binary\"]]\n",
        "\n",
        "# Group and apply the function\n",
        "majorityVotingDf = majorityVotingDf.groupby([\"author_id\", \"music_id\", \"group\"]).agg(\n",
        "    stress_score = (\"stress_score_binary\", majority_vote_with_tie_breaker)\n",
        ").reset_index().sort_values(by = [\"author_id\", \"music_id\"])\n",
        "\n",
        "# Add surrogate key\n",
        "majorityVotingDf[\"author_music_id\"] = majorityVotingDf[\"author_id\"] + '_' + majorityVotingDf[\"music_id\"].astype(str)\n",
        "# Finalize the dataframe\n",
        "majorityVotingDf = majorityVotingDf[[\"author_id\", \"music_id\", \"author_music_id\", \"group\", \"stress_score\"]]\n",
        "\n",
        "# Check\n",
        "print(\"Shape:\", majorityVotingDf.shape)\n",
        "majorityVotingDf.sample(5)"
      ],
      "metadata": {
        "colab": {
          "base_uri": "https://localhost:8080/",
          "height": 223
        },
        "id": "7VyIDUDTC7C6",
        "outputId": "151c14e0-4ad8-4dcd-b88a-6323cecffdfc"
      },
      "execution_count": null,
      "outputs": [
        {
          "output_type": "stream",
          "name": "stdout",
          "text": [
            "Shape: (35970, 5)\n"
          ]
        },
        {
          "output_type": "execute_result",
          "data": {
            "text/plain": [
              "                 author_id  music_id              author_music_id  group  \\\n",
              "27330            395514224    4885.0             395514224_4885.0      0   \n",
              "5972   1142974216322469888    3282.0   1142974216322469888_3282.0      1   \n",
              "19092           1611233796    8290.0            1611233796_8290.0      0   \n",
              "746    1018890745665777664   19539.0  1018890745665777664_19539.0      1   \n",
              "14230  1329427376531501058   16384.0  1329427376531501058_16384.0      1   \n",
              "\n",
              "       stress_score  \n",
              "27330             1  \n",
              "5972              0  \n",
              "19092             0  \n",
              "746               0  \n",
              "14230             0  "
            ],
            "text/html": [
              "\n",
              "  <div id=\"df-be57b44d-fab0-4e5f-8a20-7f4327b372fb\" class=\"colab-df-container\">\n",
              "    <div>\n",
              "<style scoped>\n",
              "    .dataframe tbody tr th:only-of-type {\n",
              "        vertical-align: middle;\n",
              "    }\n",
              "\n",
              "    .dataframe tbody tr th {\n",
              "        vertical-align: top;\n",
              "    }\n",
              "\n",
              "    .dataframe thead th {\n",
              "        text-align: right;\n",
              "    }\n",
              "</style>\n",
              "<table border=\"1\" class=\"dataframe\">\n",
              "  <thead>\n",
              "    <tr style=\"text-align: right;\">\n",
              "      <th></th>\n",
              "      <th>author_id</th>\n",
              "      <th>music_id</th>\n",
              "      <th>author_music_id</th>\n",
              "      <th>group</th>\n",
              "      <th>stress_score</th>\n",
              "    </tr>\n",
              "  </thead>\n",
              "  <tbody>\n",
              "    <tr>\n",
              "      <th>27330</th>\n",
              "      <td>395514224</td>\n",
              "      <td>4885.0</td>\n",
              "      <td>395514224_4885.0</td>\n",
              "      <td>0</td>\n",
              "      <td>1</td>\n",
              "    </tr>\n",
              "    <tr>\n",
              "      <th>5972</th>\n",
              "      <td>1142974216322469888</td>\n",
              "      <td>3282.0</td>\n",
              "      <td>1142974216322469888_3282.0</td>\n",
              "      <td>1</td>\n",
              "      <td>0</td>\n",
              "    </tr>\n",
              "    <tr>\n",
              "      <th>19092</th>\n",
              "      <td>1611233796</td>\n",
              "      <td>8290.0</td>\n",
              "      <td>1611233796_8290.0</td>\n",
              "      <td>0</td>\n",
              "      <td>0</td>\n",
              "    </tr>\n",
              "    <tr>\n",
              "      <th>746</th>\n",
              "      <td>1018890745665777664</td>\n",
              "      <td>19539.0</td>\n",
              "      <td>1018890745665777664_19539.0</td>\n",
              "      <td>1</td>\n",
              "      <td>0</td>\n",
              "    </tr>\n",
              "    <tr>\n",
              "      <th>14230</th>\n",
              "      <td>1329427376531501058</td>\n",
              "      <td>16384.0</td>\n",
              "      <td>1329427376531501058_16384.0</td>\n",
              "      <td>1</td>\n",
              "      <td>0</td>\n",
              "    </tr>\n",
              "  </tbody>\n",
              "</table>\n",
              "</div>\n",
              "    <div class=\"colab-df-buttons\">\n",
              "\n",
              "  <div class=\"colab-df-container\">\n",
              "    <button class=\"colab-df-convert\" onclick=\"convertToInteractive('df-be57b44d-fab0-4e5f-8a20-7f4327b372fb')\"\n",
              "            title=\"Convert this dataframe to an interactive table.\"\n",
              "            style=\"display:none;\">\n",
              "\n",
              "  <svg xmlns=\"http://www.w3.org/2000/svg\" height=\"24px\" viewBox=\"0 -960 960 960\">\n",
              "    <path d=\"M120-120v-720h720v720H120Zm60-500h600v-160H180v160Zm220 220h160v-160H400v160Zm0 220h160v-160H400v160ZM180-400h160v-160H180v160Zm440 0h160v-160H620v160ZM180-180h160v-160H180v160Zm440 0h160v-160H620v160Z\"/>\n",
              "  </svg>\n",
              "    </button>\n",
              "\n",
              "  <style>\n",
              "    .colab-df-container {\n",
              "      display:flex;\n",
              "      gap: 12px;\n",
              "    }\n",
              "\n",
              "    .colab-df-convert {\n",
              "      background-color: #E8F0FE;\n",
              "      border: none;\n",
              "      border-radius: 50%;\n",
              "      cursor: pointer;\n",
              "      display: none;\n",
              "      fill: #1967D2;\n",
              "      height: 32px;\n",
              "      padding: 0 0 0 0;\n",
              "      width: 32px;\n",
              "    }\n",
              "\n",
              "    .colab-df-convert:hover {\n",
              "      background-color: #E2EBFA;\n",
              "      box-shadow: 0px 1px 2px rgba(60, 64, 67, 0.3), 0px 1px 3px 1px rgba(60, 64, 67, 0.15);\n",
              "      fill: #174EA6;\n",
              "    }\n",
              "\n",
              "    .colab-df-buttons div {\n",
              "      margin-bottom: 4px;\n",
              "    }\n",
              "\n",
              "    [theme=dark] .colab-df-convert {\n",
              "      background-color: #3B4455;\n",
              "      fill: #D2E3FC;\n",
              "    }\n",
              "\n",
              "    [theme=dark] .colab-df-convert:hover {\n",
              "      background-color: #434B5C;\n",
              "      box-shadow: 0px 1px 3px 1px rgba(0, 0, 0, 0.15);\n",
              "      filter: drop-shadow(0px 1px 2px rgba(0, 0, 0, 0.3));\n",
              "      fill: #FFFFFF;\n",
              "    }\n",
              "  </style>\n",
              "\n",
              "    <script>\n",
              "      const buttonEl =\n",
              "        document.querySelector('#df-be57b44d-fab0-4e5f-8a20-7f4327b372fb button.colab-df-convert');\n",
              "      buttonEl.style.display =\n",
              "        google.colab.kernel.accessAllowed ? 'block' : 'none';\n",
              "\n",
              "      async function convertToInteractive(key) {\n",
              "        const element = document.querySelector('#df-be57b44d-fab0-4e5f-8a20-7f4327b372fb');\n",
              "        const dataTable =\n",
              "          await google.colab.kernel.invokeFunction('convertToInteractive',\n",
              "                                                    [key], {});\n",
              "        if (!dataTable) return;\n",
              "\n",
              "        const docLinkHtml = 'Like what you see? Visit the ' +\n",
              "          '<a target=\"_blank\" href=https://colab.research.google.com/notebooks/data_table.ipynb>data table notebook</a>'\n",
              "          + ' to learn more about interactive tables.';\n",
              "        element.innerHTML = '';\n",
              "        dataTable['output_type'] = 'display_data';\n",
              "        await google.colab.output.renderOutput(dataTable, element);\n",
              "        const docLink = document.createElement('div');\n",
              "        docLink.innerHTML = docLinkHtml;\n",
              "        element.appendChild(docLink);\n",
              "      }\n",
              "    </script>\n",
              "  </div>\n",
              "\n",
              "\n",
              "<div id=\"df-ae9873c4-e51e-472e-a65f-a10232cc1fb4\">\n",
              "  <button class=\"colab-df-quickchart\" onclick=\"quickchart('df-ae9873c4-e51e-472e-a65f-a10232cc1fb4')\"\n",
              "            title=\"Suggest charts\"\n",
              "            style=\"display:none;\">\n",
              "\n",
              "<svg xmlns=\"http://www.w3.org/2000/svg\" height=\"24px\"viewBox=\"0 0 24 24\"\n",
              "     width=\"24px\">\n",
              "    <g>\n",
              "        <path d=\"M19 3H5c-1.1 0-2 .9-2 2v14c0 1.1.9 2 2 2h14c1.1 0 2-.9 2-2V5c0-1.1-.9-2-2-2zM9 17H7v-7h2v7zm4 0h-2V7h2v10zm4 0h-2v-4h2v4z\"/>\n",
              "    </g>\n",
              "</svg>\n",
              "  </button>\n",
              "\n",
              "<style>\n",
              "  .colab-df-quickchart {\n",
              "      --bg-color: #E8F0FE;\n",
              "      --fill-color: #1967D2;\n",
              "      --hover-bg-color: #E2EBFA;\n",
              "      --hover-fill-color: #174EA6;\n",
              "      --disabled-fill-color: #AAA;\n",
              "      --disabled-bg-color: #DDD;\n",
              "  }\n",
              "\n",
              "  [theme=dark] .colab-df-quickchart {\n",
              "      --bg-color: #3B4455;\n",
              "      --fill-color: #D2E3FC;\n",
              "      --hover-bg-color: #434B5C;\n",
              "      --hover-fill-color: #FFFFFF;\n",
              "      --disabled-bg-color: #3B4455;\n",
              "      --disabled-fill-color: #666;\n",
              "  }\n",
              "\n",
              "  .colab-df-quickchart {\n",
              "    background-color: var(--bg-color);\n",
              "    border: none;\n",
              "    border-radius: 50%;\n",
              "    cursor: pointer;\n",
              "    display: none;\n",
              "    fill: var(--fill-color);\n",
              "    height: 32px;\n",
              "    padding: 0;\n",
              "    width: 32px;\n",
              "  }\n",
              "\n",
              "  .colab-df-quickchart:hover {\n",
              "    background-color: var(--hover-bg-color);\n",
              "    box-shadow: 0 1px 2px rgba(60, 64, 67, 0.3), 0 1px 3px 1px rgba(60, 64, 67, 0.15);\n",
              "    fill: var(--button-hover-fill-color);\n",
              "  }\n",
              "\n",
              "  .colab-df-quickchart-complete:disabled,\n",
              "  .colab-df-quickchart-complete:disabled:hover {\n",
              "    background-color: var(--disabled-bg-color);\n",
              "    fill: var(--disabled-fill-color);\n",
              "    box-shadow: none;\n",
              "  }\n",
              "\n",
              "  .colab-df-spinner {\n",
              "    border: 2px solid var(--fill-color);\n",
              "    border-color: transparent;\n",
              "    border-bottom-color: var(--fill-color);\n",
              "    animation:\n",
              "      spin 1s steps(1) infinite;\n",
              "  }\n",
              "\n",
              "  @keyframes spin {\n",
              "    0% {\n",
              "      border-color: transparent;\n",
              "      border-bottom-color: var(--fill-color);\n",
              "      border-left-color: var(--fill-color);\n",
              "    }\n",
              "    20% {\n",
              "      border-color: transparent;\n",
              "      border-left-color: var(--fill-color);\n",
              "      border-top-color: var(--fill-color);\n",
              "    }\n",
              "    30% {\n",
              "      border-color: transparent;\n",
              "      border-left-color: var(--fill-color);\n",
              "      border-top-color: var(--fill-color);\n",
              "      border-right-color: var(--fill-color);\n",
              "    }\n",
              "    40% {\n",
              "      border-color: transparent;\n",
              "      border-right-color: var(--fill-color);\n",
              "      border-top-color: var(--fill-color);\n",
              "    }\n",
              "    60% {\n",
              "      border-color: transparent;\n",
              "      border-right-color: var(--fill-color);\n",
              "    }\n",
              "    80% {\n",
              "      border-color: transparent;\n",
              "      border-right-color: var(--fill-color);\n",
              "      border-bottom-color: var(--fill-color);\n",
              "    }\n",
              "    90% {\n",
              "      border-color: transparent;\n",
              "      border-bottom-color: var(--fill-color);\n",
              "    }\n",
              "  }\n",
              "</style>\n",
              "\n",
              "  <script>\n",
              "    async function quickchart(key) {\n",
              "      const quickchartButtonEl =\n",
              "        document.querySelector('#' + key + ' button');\n",
              "      quickchartButtonEl.disabled = true;  // To prevent multiple clicks.\n",
              "      quickchartButtonEl.classList.add('colab-df-spinner');\n",
              "      try {\n",
              "        const charts = await google.colab.kernel.invokeFunction(\n",
              "            'suggestCharts', [key], {});\n",
              "      } catch (error) {\n",
              "        console.error('Error during call to suggestCharts:', error);\n",
              "      }\n",
              "      quickchartButtonEl.classList.remove('colab-df-spinner');\n",
              "      quickchartButtonEl.classList.add('colab-df-quickchart-complete');\n",
              "    }\n",
              "    (() => {\n",
              "      let quickchartButtonEl =\n",
              "        document.querySelector('#df-ae9873c4-e51e-472e-a65f-a10232cc1fb4 button');\n",
              "      quickchartButtonEl.style.display =\n",
              "        google.colab.kernel.accessAllowed ? 'block' : 'none';\n",
              "    })();\n",
              "  </script>\n",
              "</div>\n",
              "\n",
              "    </div>\n",
              "  </div>\n"
            ],
            "application/vnd.google.colaboratory.intrinsic+json": {
              "type": "dataframe",
              "summary": "{\n  \"name\": \"majorityVotingDf\",\n  \"rows\": 5,\n  \"fields\": [\n    {\n      \"column\": \"author_id\",\n      \"properties\": {\n        \"dtype\": \"string\",\n        \"num_unique_values\": 5,\n        \"samples\": [\n          \"1142974216322469888\",\n          \"1329427376531501058\",\n          \"1611233796\"\n        ],\n        \"semantic_type\": \"\",\n        \"description\": \"\"\n      }\n    },\n    {\n      \"column\": \"music_id\",\n      \"properties\": {\n        \"dtype\": \"number\",\n        \"std\": 7156.010515643476,\n        \"min\": 3282.0,\n        \"max\": 19539.0,\n        \"num_unique_values\": 5,\n        \"samples\": [\n          3282.0,\n          16384.0,\n          8290.0\n        ],\n        \"semantic_type\": \"\",\n        \"description\": \"\"\n      }\n    },\n    {\n      \"column\": \"author_music_id\",\n      \"properties\": {\n        \"dtype\": \"string\",\n        \"num_unique_values\": 5,\n        \"samples\": [\n          \"1142974216322469888_3282.0\",\n          \"1329427376531501058_16384.0\",\n          \"1611233796_8290.0\"\n        ],\n        \"semantic_type\": \"\",\n        \"description\": \"\"\n      }\n    },\n    {\n      \"column\": \"group\",\n      \"properties\": {\n        \"dtype\": \"number\",\n        \"std\": 0,\n        \"min\": 0,\n        \"max\": 1,\n        \"num_unique_values\": 2,\n        \"samples\": [\n          1,\n          0\n        ],\n        \"semantic_type\": \"\",\n        \"description\": \"\"\n      }\n    },\n    {\n      \"column\": \"stress_score\",\n      \"properties\": {\n        \"dtype\": \"number\",\n        \"std\": 0,\n        \"min\": 0,\n        \"max\": 1,\n        \"num_unique_values\": 2,\n        \"samples\": [\n          0,\n          1\n        ],\n        \"semantic_type\": \"\",\n        \"description\": \"\"\n      }\n    }\n  ]\n}"
            }
          },
          "metadata": {},
          "execution_count": 56
        }
      ]
    },
    {
      "cell_type": "code",
      "source": [
        "# Save to parquet\n",
        "filePath = os.path.join(tweetsDir, \"depressionTweetsPoolDf_majorityVoting.parquet\")\n",
        "majorityVotingDf.to_parquet(filePath)"
      ],
      "metadata": {
        "id": "oItszbMrm-Ot"
      },
      "execution_count": null,
      "outputs": []
    },
    {
      "cell_type": "markdown",
      "source": [
        "### Distributions"
      ],
      "metadata": {
        "id": "Lvo0owJHC_kH"
      }
    },
    {
      "cell_type": "markdown",
      "source": [
        "##### Majority Voting"
      ],
      "metadata": {
        "id": "SR-0MPCgDPOm"
      }
    },
    {
      "cell_type": "code",
      "source": [
        "# Plotting the distribution\n",
        "plt.figure(figsize = (8, 6))  # Adjust figure size as needed\n",
        "majorityVotingDf[\"stress_score\"].value_counts().plot(kind = \"bar\")\n",
        "plt.title(\"Distribution of Stress Scores - Majority Voting\")\n",
        "plt.xlabel(\"Stress Score\")\n",
        "plt.ylabel(\"Count\")\n",
        "plt.xticks([0, 1], [\"Relaxed (0)\", \"Stressed (1)\"], rotation = 0)\n",
        "plt.show()"
      ],
      "metadata": {
        "colab": {
          "base_uri": "https://localhost:8080/",
          "height": 564
        },
        "id": "Bw535jlqC9uL",
        "outputId": "c3065c24-f0b2-4fce-e4af-1c69a3090067"
      },
      "execution_count": null,
      "outputs": [
        {
          "output_type": "display_data",
          "data": {
            "text/plain": [
              "<Figure size 800x600 with 1 Axes>"
            ],
            "image/png": "[encoded data removed]"
          },
          "metadata": {}
        }
      ]
    },
    {
      "cell_type": "code",
      "source": [
        "# Calculate the probability of success\n",
        "p = majorityVotingDf[\"stress_score\"].mean()  # probability of success\n",
        "# Use bionomial test to check the goodness of fit\n",
        "result = stats.binomtest(sum(majorityVotingDf[\"stress_score\"]), len(majorityVotingDf[\"stress_score\"]), p)\n",
        "# Output the result\n",
        "\n",
        "print(f\"Binomial test statistic: {result.statistic}\")\n",
        "print(f\"P-value: {result.pvalue}\")\n",
        "\n",
        "# Interpret the result\n",
        "if result.pvalue > 0.05:\n",
        "    print(\"Fail to reject the null hypothesis: The distribution is Bernoulli.\")\n",
        "else:\n",
        "    print(\"Reject the null hypothesis: The distribution is not Bernoulli.\")"
      ],
      "metadata": {
        "colab": {
          "base_uri": "https://localhost:8080/"
        },
        "id": "9x4ECJS9D59B",
        "outputId": "3249b553-a260-4961-efde-6f21360947d0"
      },
      "execution_count": null,
      "outputs": [
        {
          "output_type": "stream",
          "name": "stdout",
          "text": [
            "Binomial test statistic: 0.31748679455101475\n",
            "P-value: 1.0\n",
            "Fail to reject the null hypothesis: The distribution is Bernoulli.\n"
          ]
        }
      ]
    },
    {
      "cell_type": "code",
      "source": [
        "# Calculate the probability of success\n",
        "p = majorityVotingDf[\"stress_score\"].mean()\n",
        "print(f\"probability of success: {p}\")\n",
        "\n",
        "# Observed frequencies\n",
        "observedCounts = np.bincount(majorityVotingDf[\"stress_score\"])\n",
        "observedFreq = observedCounts / len(majorityVotingDf[\"stress_score\"])\n",
        "\n",
        "# Expected frequencies\n",
        "expectedFreq = np.array([1 - p, p])\n",
        "\n",
        "# chi-squared test\n",
        "chi2Stat, pValue = stats.chisquare(observedFreq, expectedFreq)\n",
        "\n",
        "print(f\"Chi-squared statistic: {chi2Stat}\")\n",
        "print(f\"P-value: {pValue}\")\n",
        "\n",
        "# Interpret the result\n",
        "if pValue > 0.05:\n",
        "    print(\"Fail to reject the null hypothesis: The distribution is Bernoulli.\")\n",
        "else:\n",
        "    print(\"Reject the null hypothesis: The distribution is not Bernoulli.\")"
      ],
      "metadata": {
        "colab": {
          "base_uri": "https://localhost:8080/"
        },
        "id": "kl2dV2_HHU5P",
        "outputId": "a73c18d0-2af8-4f27-8fe5-7a313350beba"
      },
      "execution_count": null,
      "outputs": [
        {
          "output_type": "stream",
          "name": "stdout",
          "text": [
            "probability of success: 0.31748679455101475\n",
            "Chi-squared statistic: 0.0\n",
            "P-value: 1.0\n",
            "Fail to reject the null hypothesis: The distribution is Bernoulli.\n"
          ]
        }
      ]
    },
    {
      "cell_type": "markdown",
      "source": [
        "##### Average Score"
      ],
      "metadata": {
        "id": "ikOJCAARDRrM"
      }
    },
    {
      "cell_type": "code",
      "source": [
        "# Customize the original dataframe\n",
        "avgScoreDf = containerDf[[\"author_id\", \"music_id\", \"group\", \"stress_score\"]]\n",
        "\n",
        "# Group by and apply the mean function\n",
        "avgScoreDf = avgScoreDf.groupby([\"author_id\", \"music_id\", \"group\"])[\"stress_score\"].mean().reset_index().sort_values(by = [\"author_id\", \"music_id\"])\n",
        "\n",
        "# Add surrogate key\n",
        "avgScoreDf[\"author_music_id\"] = avgScoreDf[\"author_id\"] + '_' + avgScoreDf[\"music_id\"].astype(str)\n",
        "avgScoreDf = avgScoreDf[[\"author_id\", \"music_id\", \"author_music_id\", \"group\", \"stress_score\"]]\n",
        "\n",
        "# Check\n",
        "print(\"Shape:\", avgScoreDf.shape)\n",
        "avgScoreDf.sample(5)"
      ],
      "metadata": {
        "colab": {
          "base_uri": "https://localhost:8080/",
          "height": 223
        },
        "id": "98kuG3lzDMyV",
        "outputId": "25107eb5-2e22-4226-f87b-9a4c2913cdd7"
      },
      "execution_count": null,
      "outputs": [
        {
          "output_type": "stream",
          "name": "stdout",
          "text": [
            "Shape: (35970, 5)\n"
          ]
        },
        {
          "output_type": "execute_result",
          "data": {
            "text/plain": [
              "                 author_id  music_id              author_music_id  group  \\\n",
              "6182   1144191167648751616   10023.0  1144191167648751616_10023.0      1   \n",
              "32474   795716554860072962    6666.0    795716554860072962_6666.0      0   \n",
              "1823   1044556207674085377    7260.0   1044556207674085377_7260.0      0   \n",
              "35909   995567851267211269    6490.0    995567851267211269_6490.0      1   \n",
              "23262           2652352698   11366.0           2652352698_11366.0      0   \n",
              "\n",
              "       stress_score  \n",
              "6182            1.0  \n",
              "32474           0.0  \n",
              "1823            1.0  \n",
              "35909           0.0  \n",
              "23262           2.0  "
            ],
            "text/html": [
              "\n",
              "  <div id=\"df-1b6a276b-7228-4490-b6b0-7a144dda9c8e\" class=\"colab-df-container\">\n",
              "    <div>\n",
              "<style scoped>\n",
              "    .dataframe tbody tr th:only-of-type {\n",
              "        vertical-align: middle;\n",
              "    }\n",
              "\n",
              "    .dataframe tbody tr th {\n",
              "        vertical-align: top;\n",
              "    }\n",
              "\n",
              "    .dataframe thead th {\n",
              "        text-align: right;\n",
              "    }\n",
              "</style>\n",
              "<table border=\"1\" class=\"dataframe\">\n",
              "  <thead>\n",
              "    <tr style=\"text-align: right;\">\n",
              "      <th></th>\n",
              "      <th>author_id</th>\n",
              "      <th>music_id</th>\n",
              "      <th>author_music_id</th>\n",
              "      <th>group</th>\n",
              "      <th>stress_score</th>\n",
              "    </tr>\n",
              "  </thead>\n",
              "  <tbody>\n",
              "    <tr>\n",
              "      <th>6182</th>\n",
              "      <td>1144191167648751616</td>\n",
              "      <td>10023.0</td>\n",
              "      <td>1144191167648751616_10023.0</td>\n",
              "      <td>1</td>\n",
              "      <td>1.0</td>\n",
              "    </tr>\n",
              "    <tr>\n",
              "      <th>32474</th>\n",
              "      <td>795716554860072962</td>\n",
              "      <td>6666.0</td>\n",
              "      <td>795716554860072962_6666.0</td>\n",
              "      <td>0</td>\n",
              "      <td>0.0</td>\n",
              "    </tr>\n",
              "    <tr>\n",
              "      <th>1823</th>\n",
              "      <td>1044556207674085377</td>\n",
              "      <td>7260.0</td>\n",
              "      <td>1044556207674085377_7260.0</td>\n",
              "      <td>0</td>\n",
              "      <td>1.0</td>\n",
              "    </tr>\n",
              "    <tr>\n",
              "      <th>35909</th>\n",
              "      <td>995567851267211269</td>\n",
              "      <td>6490.0</td>\n",
              "      <td>995567851267211269_6490.0</td>\n",
              "      <td>1</td>\n",
              "      <td>0.0</td>\n",
              "    </tr>\n",
              "    <tr>\n",
              "      <th>23262</th>\n",
              "      <td>2652352698</td>\n",
              "      <td>11366.0</td>\n",
              "      <td>2652352698_11366.0</td>\n",
              "      <td>0</td>\n",
              "      <td>2.0</td>\n",
              "    </tr>\n",
              "  </tbody>\n",
              "</table>\n",
              "</div>\n",
              "    <div class=\"colab-df-buttons\">\n",
              "\n",
              "  <div class=\"colab-df-container\">\n",
              "    <button class=\"colab-df-convert\" onclick=\"convertToInteractive('df-1b6a276b-7228-4490-b6b0-7a144dda9c8e')\"\n",
              "            title=\"Convert this dataframe to an interactive table.\"\n",
              "            style=\"display:none;\">\n",
              "\n",
              "  <svg xmlns=\"http://www.w3.org/2000/svg\" height=\"24px\" viewBox=\"0 -960 960 960\">\n",
              "    <path d=\"M120-120v-720h720v720H120Zm60-500h600v-160H180v160Zm220 220h160v-160H400v160Zm0 220h160v-160H400v160ZM180-400h160v-160H180v160Zm440 0h160v-160H620v160ZM180-180h160v-160H180v160Zm440 0h160v-160H620v160Z\"/>\n",
              "  </svg>\n",
              "    </button>\n",
              "\n",
              "  <style>\n",
              "    .colab-df-container {\n",
              "      display:flex;\n",
              "      gap: 12px;\n",
              "    }\n",
              "\n",
              "    .colab-df-convert {\n",
              "      background-color: #E8F0FE;\n",
              "      border: none;\n",
              "      border-radius: 50%;\n",
              "      cursor: pointer;\n",
              "      display: none;\n",
              "      fill: #1967D2;\n",
              "      height: 32px;\n",
              "      padding: 0 0 0 0;\n",
              "      width: 32px;\n",
              "    }\n",
              "\n",
              "    .colab-df-convert:hover {\n",
              "      background-color: #E2EBFA;\n",
              "      box-shadow: 0px 1px 2px rgba(60, 64, 67, 0.3), 0px 1px 3px 1px rgba(60, 64, 67, 0.15);\n",
              "      fill: #174EA6;\n",
              "    }\n",
              "\n",
              "    .colab-df-buttons div {\n",
              "      margin-bottom: 4px;\n",
              "    }\n",
              "\n",
              "    [theme=dark] .colab-df-convert {\n",
              "      background-color: #3B4455;\n",
              "      fill: #D2E3FC;\n",
              "    }\n",
              "\n",
              "    [theme=dark] .colab-df-convert:hover {\n",
              "      background-color: #434B5C;\n",
              "      box-shadow: 0px 1px 3px 1px rgba(0, 0, 0, 0.15);\n",
              "      filter: drop-shadow(0px 1px 2px rgba(0, 0, 0, 0.3));\n",
              "      fill: #FFFFFF;\n",
              "    }\n",
              "  </style>\n",
              "\n",
              "    <script>\n",
              "      const buttonEl =\n",
              "        document.querySelector('#df-1b6a276b-7228-4490-b6b0-7a144dda9c8e button.colab-df-convert');\n",
              "      buttonEl.style.display =\n",
              "        google.colab.kernel.accessAllowed ? 'block' : 'none';\n",
              "\n",
              "      async function convertToInteractive(key) {\n",
              "        const element = document.querySelector('#df-1b6a276b-7228-4490-b6b0-7a144dda9c8e');\n",
              "        const dataTable =\n",
              "          await google.colab.kernel.invokeFunction('convertToInteractive',\n",
              "                                                    [key], {});\n",
              "        if (!dataTable) return;\n",
              "\n",
              "        const docLinkHtml = 'Like what you see? Visit the ' +\n",
              "          '<a target=\"_blank\" href=https://colab.research.google.com/notebooks/data_table.ipynb>data table notebook</a>'\n",
              "          + ' to learn more about interactive tables.';\n",
              "        element.innerHTML = '';\n",
              "        dataTable['output_type'] = 'display_data';\n",
              "        await google.colab.output.renderOutput(dataTable, element);\n",
              "        const docLink = document.createElement('div');\n",
              "        docLink.innerHTML = docLinkHtml;\n",
              "        element.appendChild(docLink);\n",
              "      }\n",
              "    </script>\n",
              "  </div>\n",
              "\n",
              "\n",
              "<div id=\"df-ee05bdd8-5433-4760-89bb-aa7befd77f80\">\n",
              "  <button class=\"colab-df-quickchart\" onclick=\"quickchart('df-ee05bdd8-5433-4760-89bb-aa7befd77f80')\"\n",
              "            title=\"Suggest charts\"\n",
              "            style=\"display:none;\">\n",
              "\n",
              "<svg xmlns=\"http://www.w3.org/2000/svg\" height=\"24px\"viewBox=\"0 0 24 24\"\n",
              "     width=\"24px\">\n",
              "    <g>\n",
              "        <path d=\"M19 3H5c-1.1 0-2 .9-2 2v14c0 1.1.9 2 2 2h14c1.1 0 2-.9 2-2V5c0-1.1-.9-2-2-2zM9 17H7v-7h2v7zm4 0h-2V7h2v10zm4 0h-2v-4h2v4z\"/>\n",
              "    </g>\n",
              "</svg>\n",
              "  </button>\n",
              "\n",
              "<style>\n",
              "  .colab-df-quickchart {\n",
              "      --bg-color: #E8F0FE;\n",
              "      --fill-color: #1967D2;\n",
              "      --hover-bg-color: #E2EBFA;\n",
              "      --hover-fill-color: #174EA6;\n",
              "      --disabled-fill-color: #AAA;\n",
              "      --disabled-bg-color: #DDD;\n",
              "  }\n",
              "\n",
              "  [theme=dark] .colab-df-quickchart {\n",
              "      --bg-color: #3B4455;\n",
              "      --fill-color: #D2E3FC;\n",
              "      --hover-bg-color: #434B5C;\n",
              "      --hover-fill-color: #FFFFFF;\n",
              "      --disabled-bg-color: #3B4455;\n",
              "      --disabled-fill-color: #666;\n",
              "  }\n",
              "\n",
              "  .colab-df-quickchart {\n",
              "    background-color: var(--bg-color);\n",
              "    border: none;\n",
              "    border-radius: 50%;\n",
              "    cursor: pointer;\n",
              "    display: none;\n",
              "    fill: var(--fill-color);\n",
              "    height: 32px;\n",
              "    padding: 0;\n",
              "    width: 32px;\n",
              "  }\n",
              "\n",
              "  .colab-df-quickchart:hover {\n",
              "    background-color: var(--hover-bg-color);\n",
              "    box-shadow: 0 1px 2px rgba(60, 64, 67, 0.3), 0 1px 3px 1px rgba(60, 64, 67, 0.15);\n",
              "    fill: var(--button-hover-fill-color);\n",
              "  }\n",
              "\n",
              "  .colab-df-quickchart-complete:disabled,\n",
              "  .colab-df-quickchart-complete:disabled:hover {\n",
              "    background-color: var(--disabled-bg-color);\n",
              "    fill: var(--disabled-fill-color);\n",
              "    box-shadow: none;\n",
              "  }\n",
              "\n",
              "  .colab-df-spinner {\n",
              "    border: 2px solid var(--fill-color);\n",
              "    border-color: transparent;\n",
              "    border-bottom-color: var(--fill-color);\n",
              "    animation:\n",
              "      spin 1s steps(1) infinite;\n",
              "  }\n",
              "\n",
              "  @keyframes spin {\n",
              "    0% {\n",
              "      border-color: transparent;\n",
              "      border-bottom-color: var(--fill-color);\n",
              "      border-left-color: var(--fill-color);\n",
              "    }\n",
              "    20% {\n",
              "      border-color: transparent;\n",
              "      border-left-color: var(--fill-color);\n",
              "      border-top-color: var(--fill-color);\n",
              "    }\n",
              "    30% {\n",
              "      border-color: transparent;\n",
              "      border-left-color: var(--fill-color);\n",
              "      border-top-color: var(--fill-color);\n",
              "      border-right-color: var(--fill-color);\n",
              "    }\n",
              "    40% {\n",
              "      border-color: transparent;\n",
              "      border-right-color: var(--fill-color);\n",
              "      border-top-color: var(--fill-color);\n",
              "    }\n",
              "    60% {\n",
              "      border-color: transparent;\n",
              "      border-right-color: var(--fill-color);\n",
              "    }\n",
              "    80% {\n",
              "      border-color: transparent;\n",
              "      border-right-color: var(--fill-color);\n",
              "      border-bottom-color: var(--fill-color);\n",
              "    }\n",
              "    90% {\n",
              "      border-color: transparent;\n",
              "      border-bottom-color: var(--fill-color);\n",
              "    }\n",
              "  }\n",
              "</style>\n",
              "\n",
              "  <script>\n",
              "    async function quickchart(key) {\n",
              "      const quickchartButtonEl =\n",
              "        document.querySelector('#' + key + ' button');\n",
              "      quickchartButtonEl.disabled = true;  // To prevent multiple clicks.\n",
              "      quickchartButtonEl.classList.add('colab-df-spinner');\n",
              "      try {\n",
              "        const charts = await google.colab.kernel.invokeFunction(\n",
              "            'suggestCharts', [key], {});\n",
              "      } catch (error) {\n",
              "        console.error('Error during call to suggestCharts:', error);\n",
              "      }\n",
              "      quickchartButtonEl.classList.remove('colab-df-spinner');\n",
              "      quickchartButtonEl.classList.add('colab-df-quickchart-complete');\n",
              "    }\n",
              "    (() => {\n",
              "      let quickchartButtonEl =\n",
              "        document.querySelector('#df-ee05bdd8-5433-4760-89bb-aa7befd77f80 button');\n",
              "      quickchartButtonEl.style.display =\n",
              "        google.colab.kernel.accessAllowed ? 'block' : 'none';\n",
              "    })();\n",
              "  </script>\n",
              "</div>\n",
              "\n",
              "    </div>\n",
              "  </div>\n"
            ],
            "application/vnd.google.colaboratory.intrinsic+json": {
              "type": "dataframe",
              "summary": "{\n  \"name\": \"avgScoreDf\",\n  \"rows\": 5,\n  \"fields\": [\n    {\n      \"column\": \"author_id\",\n      \"properties\": {\n        \"dtype\": \"string\",\n        \"num_unique_values\": 5,\n        \"samples\": [\n          \"795716554860072962\",\n          \"2652352698\",\n          \"1044556207674085377\"\n        ],\n        \"semantic_type\": \"\",\n        \"description\": \"\"\n      }\n    },\n    {\n      \"column\": \"music_id\",\n      \"properties\": {\n        \"dtype\": \"number\",\n        \"std\": 2201.0302133319296,\n        \"min\": 6490.0,\n        \"max\": 11366.0,\n        \"num_unique_values\": 5,\n        \"samples\": [\n          6666.0,\n          11366.0,\n          7260.0\n        ],\n        \"semantic_type\": \"\",\n        \"description\": \"\"\n      }\n    },\n    {\n      \"column\": \"author_music_id\",\n      \"properties\": {\n        \"dtype\": \"string\",\n        \"num_unique_values\": 5,\n        \"samples\": [\n          \"795716554860072962_6666.0\",\n          \"2652352698_11366.0\",\n          \"1044556207674085377_7260.0\"\n        ],\n        \"semantic_type\": \"\",\n        \"description\": \"\"\n      }\n    },\n    {\n      \"column\": \"group\",\n      \"properties\": {\n        \"dtype\": \"number\",\n        \"std\": 0,\n        \"min\": 0,\n        \"max\": 1,\n        \"num_unique_values\": 2,\n        \"samples\": [\n          0,\n          1\n        ],\n        \"semantic_type\": \"\",\n        \"description\": \"\"\n      }\n    },\n    {\n      \"column\": \"stress_score\",\n      \"properties\": {\n        \"dtype\": \"number\",\n        \"std\": 0.8366600265340756,\n        \"min\": 0.0,\n        \"max\": 2.0,\n        \"num_unique_values\": 3,\n        \"samples\": [\n          1.0,\n          0.0\n        ],\n        \"semantic_type\": \"\",\n        \"description\": \"\"\n      }\n    }\n  ]\n}"
            }
          },
          "metadata": {},
          "execution_count": 61
        }
      ]
    },
    {
      "cell_type": "code",
      "source": [
        "# Save to parquet\n",
        "filePath = os.path.join(tweetsDir, \"depressionTweetsPoolDf_avgScore.parquet\")\n",
        "avgScoreDf.to_parquet(filePath)"
      ],
      "metadata": {
        "id": "OXQi4Kj-nX3O"
      },
      "execution_count": null,
      "outputs": []
    },
    {
      "cell_type": "code",
      "source": [
        "# Visual inspection of the distribution (all)\n",
        "plt.hist(avgScoreDf[\"stress_score\"], bins = 20)\n",
        "plt.title(\"Distribution of Stress Scores - Average Score\")\n",
        "plt.xlabel(\"Average Stress Score\")\n",
        "plt.ylabel(\"Frequency\")\n",
        "plt.show()"
      ],
      "metadata": {
        "colab": {
          "base_uri": "https://localhost:8080/",
          "height": 472
        },
        "id": "AodNmxuuJz7U",
        "outputId": "2a2b93bc-682d-45e6-b49e-e3c6333ba7bf"
      },
      "execution_count": null,
      "outputs": [
        {
          "output_type": "display_data",
          "data": {
            "text/plain": [
              "<Figure size 640x480 with 1 Axes>"
            ],
            "image/png": "[encoded data removed]"
          },
          "metadata": {}
        }
      ]
    },
    {
      "cell_type": "code",
      "source": [
        "# Visual inspection of the distribution (remove 0's)\n",
        "plt.hist([x for x in avgScoreDf[\"stress_score\"].values if x != 0], bins = 20)\n",
        "plt.title(\"Distribution of Stress Scores - Average Score with no zero's\")\n",
        "plt.xlabel(\"Average Stress Score\")\n",
        "plt.ylabel(\"Frequency\")\n",
        "plt.show()"
      ],
      "metadata": {
        "colab": {
          "base_uri": "https://localhost:8080/",
          "height": 472
        },
        "id": "eHBKlEh5Leew",
        "outputId": "fb6ba8f9-8137-473c-b163-9673f39ac803"
      },
      "execution_count": null,
      "outputs": [
        {
          "output_type": "display_data",
          "data": {
            "text/plain": [
              "<Figure size 640x480 with 1 Axes>"
            ],
            "image/png": "[encoded data removed]"
          },
          "metadata": {}
        }
      ]
    },
    {
      "cell_type": "markdown",
      "source": [
        "##### Gamma"
      ],
      "metadata": {
        "id": "i3LQcw2GQAIF"
      }
    },
    {
      "cell_type": "code",
      "source": [
        "# Data\n",
        "data = avgScoreDf[\"stress_score\"].values\n",
        "\n",
        "# Separate zeros and non-zeros\n",
        "zeros = [x for x in data if x == 0]\n",
        "nonZeros = [x for x in data if x != 0]\n",
        "\n",
        "# Estimate Gamma parameters (for non-zero values)\n",
        "shape, loc, scale = stats.gamma.fit(nonZeros)\n",
        "\n",
        "# Perform Kolmogorov-Smirnov test on non-zero values\n",
        "statistic, pValue = stats.kstest(nonZeros, 'gamma', args=(shape, loc, scale))\n",
        "\n",
        "# Plot histogram and PDF\n",
        "plt.hist(nonZeros, bins=20, density=True, alpha = 0.6, label = \"avg. Stress Score\")\n",
        "x = np.linspace(min(nonZeros), max(nonZeros), 100)\n",
        "plt.plot(x, stats.gamma.pdf(x, shape, loc, scale), \"r-\", lw = 2, label = 'Gamma PDF')\n",
        "plt.legend()\n",
        "plt.show()\n",
        "\n",
        "# Print results (example interpretation)\n",
        "print(f\"Proportion of zeros: {len(zeros) / len(data)}\")\n",
        "print(f\"Gamma fit for non-zeros (p-value): {pValue}\")\n",
        "print(f\"KS-statistic: {statistic}\")\n",
        "\n",
        "# Interpret the result\n",
        "if pValue > 0.05:\n",
        "    print(\"Fail to reject the null hypothesis: The distribution is Gamma.\")\n",
        "else:\n",
        "    print(\"Reject the null hypothesis: The distribution is not Gamma.\")"
      ],
      "metadata": {
        "colab": {
          "base_uri": "https://localhost:8080/",
          "height": 499
        },
        "id": "6TbCf5h9J5P8",
        "outputId": "54bf2269-3b14-42cc-eaa1-0f871b14236c"
      },
      "execution_count": null,
      "outputs": [
        {
          "output_type": "display_data",
          "data": {
            "text/plain": [
              "<Figure size 640x480 with 1 Axes>"
            ],
            "image/png": "[encoded data removed]"
          },
          "metadata": {}
        },
        {
          "output_type": "stream",
          "name": "stdout",
          "text": [
            "Proportion of zeros: 0.15312760633861552\n",
            "Gamma fit for non-zeros (p-value): 5.374373223422455e-117\n",
            "KS-statistic: 0.06633784345906979\n",
            "Reject the null hypothesis: The distribution is not Gamma.\n"
          ]
        }
      ]
    },
    {
      "cell_type": "markdown",
      "source": [
        "##### Log-normal"
      ],
      "metadata": {
        "id": "VHwZKBWvP7h1"
      }
    },
    {
      "cell_type": "code",
      "source": [
        "# Estimate Gamma parameters (for non-zero values)\n",
        "shape, loc, scale = stats.lognorm.fit(nonZeros)\n",
        "\n",
        "# Perform Kolmogorov-Smirnov test on non-zero values\n",
        "statistic, pValue = stats.kstest(nonZeros, 'lognorm', args=(shape, loc, scale))\n",
        "\n",
        "# Plot histogram and PDF\n",
        "plt.hist(nonZeros, bins=20, density=True, alpha = 0.6, label = \"avg. Stress Score\")\n",
        "x = np.linspace(min(nonZeros), max(nonZeros), 100)\n",
        "plt.plot(x, stats.lognorm.pdf(x, shape, loc, scale), \"r-\", lw = 2, label = 'Log-Normal PDF')\n",
        "plt.legend()\n",
        "plt.show()\n",
        "\n",
        "# Print results (example interpretation)\n",
        "print(f\"Proportion of zeros: {len(zeros) / len(data)}\")\n",
        "print(f\"Log-Normal fit for non-zeros (p-value): {pValue}\")\n",
        "print(f\"KS-statistic: {statistic}\")\n",
        "\n",
        "# Interpret the result\n",
        "if pValue > 0.05:\n",
        "    print(\"Fail to reject the null hypothesis: The distribution is Log-Normal.\")\n",
        "else:\n",
        "    print(\"Reject the null hypothesis: The distribution is not Log-Normal.\")"
      ],
      "metadata": {
        "colab": {
          "base_uri": "https://localhost:8080/",
          "height": 499
        },
        "id": "lVO2rS54MuLn",
        "outputId": "fdcdd877-5f9d-41cf-f990-42495df9768c"
      },
      "execution_count": null,
      "outputs": [
        {
          "output_type": "display_data",
          "data": {
            "text/plain": [
              "<Figure size 640x480 with 1 Axes>"
            ],
            "image/png": "[encoded data removed]"
          },
          "metadata": {}
        },
        {
          "output_type": "stream",
          "name": "stdout",
          "text": [
            "Proportion of zeros: 0.15312760633861552\n",
            "Log-Normal fit for non-zeros (p-value): 8.973691208746677e-74\n",
            "KS-statistic: 0.05262965998605884\n",
            "Reject the null hypothesis: The distribution is not Log-Normal.\n"
          ]
        }
      ]
    },
    {
      "cell_type": "markdown",
      "source": [
        "##### Exponential"
      ],
      "metadata": {
        "id": "pj9tOYfyP1r0"
      }
    },
    {
      "cell_type": "code",
      "source": [
        "# Estimate Gamma parameters (for non-zero values)\n",
        "loc, scale = stats.expon.fit(nonZeros)\n",
        "\n",
        "# Perform Kolmogorov-Smirnov test on non-zero values\n",
        "statistic, pValue = stats.kstest(nonZeros, 'expon', args=(loc, scale))\n",
        "\n",
        "# Plot histogram and PDF\n",
        "plt.hist(nonZeros, bins=20, density=True, alpha = 0.6, label = \"avg. Stress Score\")\n",
        "x = np.linspace(min(nonZeros), max(nonZeros), 100)\n",
        "plt.plot(x, stats.expon.pdf(x, loc, scale), \"r-\", lw = 2, label = 'Exponential PDF')\n",
        "plt.legend()\n",
        "plt.show()\n",
        "\n",
        "# Print results (example interpretation)\n",
        "print(f\"Proportion of zeros: {len(zeros) / len(data)}\")\n",
        "print(f\"Exponential fit for non-zeros (p-value): {pValue}\")\n",
        "print(f\"KS-statistic: {statistic}\")\n",
        "\n",
        "# Interpret the result\n",
        "if pValue > 0.05:\n",
        "    print(\"Fail to reject the null hypothesis: The distribution is Exponential.\")\n",
        "else:\n",
        "    print(\"Reject the null hypothesis: The distribution is not Exponential.\")"
      ],
      "metadata": {
        "colab": {
          "base_uri": "https://localhost:8080/",
          "height": 499
        },
        "id": "y2s6C3H1PIY3",
        "outputId": "7a2bf476-9651-4c9e-e42d-a3f04c3ccc77"
      },
      "execution_count": null,
      "outputs": [
        {
          "output_type": "display_data",
          "data": {
            "text/plain": [
              "<Figure size 640x480 with 1 Axes>"
            ],
            "image/png": "[encoded data removed]"
          },
          "metadata": {}
        },
        {
          "output_type": "stream",
          "name": "stdout",
          "text": [
            "Proportion of zeros: 0.15312760633861552\n",
            "Exponential fit for non-zeros (p-value): 0.0\n",
            "KS-statistic: 0.22941721549267974\n",
            "Reject the null hypothesis: The distribution is not Exponential.\n"
          ]
        }
      ]
    },
    {
      "cell_type": "markdown",
      "source": [
        "### Add demographic data"
      ],
      "metadata": {
        "id": "oQUDAfDCSAu8"
      }
    },
    {
      "cell_type": "markdown",
      "source": [
        "#### Read"
      ],
      "metadata": {
        "id": "wkWmCZKaGXud"
      }
    },
    {
      "cell_type": "code",
      "source": [
        "# Read the demographics datasets\n",
        "ageDf = pd.read_pickle(os.path.join(demographicDir, \"authorAge.pickle\"))\n",
        "genderDf = pd.read_pickle(os.path.join(demographicDir, \"authorGender.pickle\"))\n",
        "eduLvlDf = pd.read_pickle(os.path.join(demographicDir, \"authorEducationLevel.pickle\"))\n",
        "# Check\n",
        "print(\"Age df shape:\", ageDf.shape)\n",
        "print(\"Gender df shape:\", genderDf.shape)\n",
        "print(\"ARI df shape:\", eduLvlDf.shape)\n",
        "\n",
        "# Combine\n",
        "demographicsDf = ageDf.merge(genderDf[[\"author_id\", \"gender\"]], on = \"author_id\", how = \"left\")\n",
        "demographicsDf = demographicsDf.merge(eduLvlDf[[\"author_id\", \"ari_grade\"]], on = \"author_id\", how = \"left\")\n",
        "# Remove unnecessary columns\n",
        "demographicsDf = demographicsDf[[\"author_id\", \"age_group\", \"gender\", \"ari_grade\"]]\n",
        "# Rename ari_grade_binary to edu_level\n",
        "demographicsDf.rename(columns = {\"ari_grade\": \"edu_level\"}, inplace = True)\n",
        "# Check\n",
        "print(\"Demographics df shape:\", demographicsDf.shape)\n",
        "demographicsDf.sample()"
      ],
      "metadata": {
        "colab": {
          "base_uri": "https://localhost:8080/",
          "height": 150
        },
        "id": "BkqnanJyGh7t",
        "outputId": "ed185587-58db-4fd8-baee-48778434f82f"
      },
      "execution_count": null,
      "outputs": [
        {
          "output_type": "stream",
          "name": "stdout",
          "text": [
            "Age df shape: (5612, 30)\n",
            "Gender df shape: (5612, 29)\n",
            "ARI df shape: (5612, 6)\n",
            "Demographics df shape: (5612, 4)\n"
          ]
        },
        {
          "output_type": "execute_result",
          "data": {
            "text/plain": [
              "      author_id age_group gender                edu_level\n",
              "4528  594024668     Gen-Z   Male  Middle/Elemntary School"
            ],
            "text/html": [
              "\n",
              "  <div id=\"df-4eb42fcc-29d9-4965-a9ed-f45986283f9e\" class=\"colab-df-container\">\n",
              "    <div>\n",
              "<style scoped>\n",
              "    .dataframe tbody tr th:only-of-type {\n",
              "        vertical-align: middle;\n",
              "    }\n",
              "\n",
              "    .dataframe tbody tr th {\n",
              "        vertical-align: top;\n",
              "    }\n",
              "\n",
              "    .dataframe thead th {\n",
              "        text-align: right;\n",
              "    }\n",
              "</style>\n",
              "<table border=\"1\" class=\"dataframe\">\n",
              "  <thead>\n",
              "    <tr style=\"text-align: right;\">\n",
              "      <th></th>\n",
              "      <th>author_id</th>\n",
              "      <th>age_group</th>\n",
              "      <th>gender</th>\n",
              "      <th>edu_level</th>\n",
              "    </tr>\n",
              "  </thead>\n",
              "  <tbody>\n",
              "    <tr>\n",
              "      <th>4528</th>\n",
              "      <td>594024668</td>\n",
              "      <td>Gen-Z</td>\n",
              "      <td>Male</td>\n",
              "      <td>Middle/Elemntary School</td>\n",
              "    </tr>\n",
              "  </tbody>\n",
              "</table>\n",
              "</div>\n",
              "    <div class=\"colab-df-buttons\">\n",
              "\n",
              "  <div class=\"colab-df-container\">\n",
              "    <button class=\"colab-df-convert\" onclick=\"convertToInteractive('df-4eb42fcc-29d9-4965-a9ed-f45986283f9e')\"\n",
              "            title=\"Convert this dataframe to an interactive table.\"\n",
              "            style=\"display:none;\">\n",
              "\n",
              "  <svg xmlns=\"http://www.w3.org/2000/svg\" height=\"24px\" viewBox=\"0 -960 960 960\">\n",
              "    <path d=\"M120-120v-720h720v720H120Zm60-500h600v-160H180v160Zm220 220h160v-160H400v160Zm0 220h160v-160H400v160ZM180-400h160v-160H180v160Zm440 0h160v-160H620v160ZM180-180h160v-160H180v160Zm440 0h160v-160H620v160Z\"/>\n",
              "  </svg>\n",
              "    </button>\n",
              "\n",
              "  <style>\n",
              "    .colab-df-container {\n",
              "      display:flex;\n",
              "      gap: 12px;\n",
              "    }\n",
              "\n",
              "    .colab-df-convert {\n",
              "      background-color: #E8F0FE;\n",
              "      border: none;\n",
              "      border-radius: 50%;\n",
              "      cursor: pointer;\n",
              "      display: none;\n",
              "      fill: #1967D2;\n",
              "      height: 32px;\n",
              "      padding: 0 0 0 0;\n",
              "      width: 32px;\n",
              "    }\n",
              "\n",
              "    .colab-df-convert:hover {\n",
              "      background-color: #E2EBFA;\n",
              "      box-shadow: 0px 1px 2px rgba(60, 64, 67, 0.3), 0px 1px 3px 1px rgba(60, 64, 67, 0.15);\n",
              "      fill: #174EA6;\n",
              "    }\n",
              "\n",
              "    .colab-df-buttons div {\n",
              "      margin-bottom: 4px;\n",
              "    }\n",
              "\n",
              "    [theme=dark] .colab-df-convert {\n",
              "      background-color: #3B4455;\n",
              "      fill: #D2E3FC;\n",
              "    }\n",
              "\n",
              "    [theme=dark] .colab-df-convert:hover {\n",
              "      background-color: #434B5C;\n",
              "      box-shadow: 0px 1px 3px 1px rgba(0, 0, 0, 0.15);\n",
              "      filter: drop-shadow(0px 1px 2px rgba(0, 0, 0, 0.3));\n",
              "      fill: #FFFFFF;\n",
              "    }\n",
              "  </style>\n",
              "\n",
              "    <script>\n",
              "      const buttonEl =\n",
              "        document.querySelector('#df-4eb42fcc-29d9-4965-a9ed-f45986283f9e button.colab-df-convert');\n",
              "      buttonEl.style.display =\n",
              "        google.colab.kernel.accessAllowed ? 'block' : 'none';\n",
              "\n",
              "      async function convertToInteractive(key) {\n",
              "        const element = document.querySelector('#df-4eb42fcc-29d9-4965-a9ed-f45986283f9e');\n",
              "        const dataTable =\n",
              "          await google.colab.kernel.invokeFunction('convertToInteractive',\n",
              "                                                    [key], {});\n",
              "        if (!dataTable) return;\n",
              "\n",
              "        const docLinkHtml = 'Like what you see? Visit the ' +\n",
              "          '<a target=\"_blank\" href=https://colab.research.google.com/notebooks/data_table.ipynb>data table notebook</a>'\n",
              "          + ' to learn more about interactive tables.';\n",
              "        element.innerHTML = '';\n",
              "        dataTable['output_type'] = 'display_data';\n",
              "        await google.colab.output.renderOutput(dataTable, element);\n",
              "        const docLink = document.createElement('div');\n",
              "        docLink.innerHTML = docLinkHtml;\n",
              "        element.appendChild(docLink);\n",
              "      }\n",
              "    </script>\n",
              "  </div>\n",
              "\n",
              "\n",
              "    </div>\n",
              "  </div>\n"
            ],
            "application/vnd.google.colaboratory.intrinsic+json": {
              "type": "dataframe",
              "summary": "{\n  \"name\": \"demographicsDf\",\n  \"rows\": 1,\n  \"fields\": [\n    {\n      \"column\": \"author_id\",\n      \"properties\": {\n        \"dtype\": \"string\",\n        \"num_unique_values\": 1,\n        \"samples\": [\n          \"594024668\"\n        ],\n        \"semantic_type\": \"\",\n        \"description\": \"\"\n      }\n    },\n    {\n      \"column\": \"age_group\",\n      \"properties\": {\n        \"dtype\": \"string\",\n        \"num_unique_values\": 1,\n        \"samples\": [\n          \"Gen-Z\"\n        ],\n        \"semantic_type\": \"\",\n        \"description\": \"\"\n      }\n    },\n    {\n      \"column\": \"gender\",\n      \"properties\": {\n        \"dtype\": \"string\",\n        \"num_unique_values\": 1,\n        \"samples\": [\n          \"Male\"\n        ],\n        \"semantic_type\": \"\",\n        \"description\": \"\"\n      }\n    },\n    {\n      \"column\": \"edu_level\",\n      \"properties\": {\n        \"dtype\": \"string\",\n        \"num_unique_values\": 1,\n        \"samples\": [\n          \"Middle/Elemntary School\"\n        ],\n        \"semantic_type\": \"\",\n        \"description\": \"\"\n      }\n    }\n  ]\n}"
            }
          },
          "metadata": {},
          "execution_count": 68
        }
      ]
    },
    {
      "cell_type": "markdown",
      "source": [
        "#### Majority voting"
      ],
      "metadata": {
        "id": "ZOLDrBxGCNY4"
      }
    },
    {
      "cell_type": "code",
      "source": [
        "# Read\n",
        "majorityVotingDf = pd.read_parquet(os.path.join(tweetsDir, \"depressionTweetsPoolDf_majorityVoting.parquet\"))\n",
        "print(\"Shape:\", majorityVotingDf.shape)\n",
        "majorityVotingDf.sample()"
      ],
      "metadata": {
        "id": "rADmqLr0WVOF",
        "colab": {
          "base_uri": "https://localhost:8080/",
          "height": 98
        },
        "outputId": "45ea4ee5-e482-40e5-96c2-d909c28cd067"
      },
      "execution_count": null,
      "outputs": [
        {
          "output_type": "stream",
          "name": "stdout",
          "text": [
            "Shape: (35970, 5)\n"
          ]
        },
        {
          "output_type": "execute_result",
          "data": {
            "text/plain": [
              "                author_id  music_id             author_music_id  group  \\\n",
              "5282  1129346042321940486    5626.0  1129346042321940486_5626.0      1   \n",
              "\n",
              "      stress_score  \n",
              "5282             1  "
            ],
            "text/html": [
              "\n",
              "  <div id=\"df-e24fb255-a817-448f-b9c7-600c1e25df43\" class=\"colab-df-container\">\n",
              "    <div>\n",
              "<style scoped>\n",
              "    .dataframe tbody tr th:only-of-type {\n",
              "        vertical-align: middle;\n",
              "    }\n",
              "\n",
              "    .dataframe tbody tr th {\n",
              "        vertical-align: top;\n",
              "    }\n",
              "\n",
              "    .dataframe thead th {\n",
              "        text-align: right;\n",
              "    }\n",
              "</style>\n",
              "<table border=\"1\" class=\"dataframe\">\n",
              "  <thead>\n",
              "    <tr style=\"text-align: right;\">\n",
              "      <th></th>\n",
              "      <th>author_id</th>\n",
              "      <th>music_id</th>\n",
              "      <th>author_music_id</th>\n",
              "      <th>group</th>\n",
              "      <th>stress_score</th>\n",
              "    </tr>\n",
              "  </thead>\n",
              "  <tbody>\n",
              "    <tr>\n",
              "      <th>5282</th>\n",
              "      <td>1129346042321940486</td>\n",
              "      <td>5626.0</td>\n",
              "      <td>1129346042321940486_5626.0</td>\n",
              "      <td>1</td>\n",
              "      <td>1</td>\n",
              "    </tr>\n",
              "  </tbody>\n",
              "</table>\n",
              "</div>\n",
              "    <div class=\"colab-df-buttons\">\n",
              "\n",
              "  <div class=\"colab-df-container\">\n",
              "    <button class=\"colab-df-convert\" onclick=\"convertToInteractive('df-e24fb255-a817-448f-b9c7-600c1e25df43')\"\n",
              "            title=\"Convert this dataframe to an interactive table.\"\n",
              "            style=\"display:none;\">\n",
              "\n",
              "  <svg xmlns=\"http://www.w3.org/2000/svg\" height=\"24px\" viewBox=\"0 -960 960 960\">\n",
              "    <path d=\"M120-120v-720h720v720H120Zm60-500h600v-160H180v160Zm220 220h160v-160H400v160Zm0 220h160v-160H400v160ZM180-400h160v-160H180v160Zm440 0h160v-160H620v160ZM180-180h160v-160H180v160Zm440 0h160v-160H620v160Z\"/>\n",
              "  </svg>\n",
              "    </button>\n",
              "\n",
              "  <style>\n",
              "    .colab-df-container {\n",
              "      display:flex;\n",
              "      gap: 12px;\n",
              "    }\n",
              "\n",
              "    .colab-df-convert {\n",
              "      background-color: #E8F0FE;\n",
              "      border: none;\n",
              "      border-radius: 50%;\n",
              "      cursor: pointer;\n",
              "      display: none;\n",
              "      fill: #1967D2;\n",
              "      height: 32px;\n",
              "      padding: 0 0 0 0;\n",
              "      width: 32px;\n",
              "    }\n",
              "\n",
              "    .colab-df-convert:hover {\n",
              "      background-color: #E2EBFA;\n",
              "      box-shadow: 0px 1px 2px rgba(60, 64, 67, 0.3), 0px 1px 3px 1px rgba(60, 64, 67, 0.15);\n",
              "      fill: #174EA6;\n",
              "    }\n",
              "\n",
              "    .colab-df-buttons div {\n",
              "      margin-bottom: 4px;\n",
              "    }\n",
              "\n",
              "    [theme=dark] .colab-df-convert {\n",
              "      background-color: #3B4455;\n",
              "      fill: #D2E3FC;\n",
              "    }\n",
              "\n",
              "    [theme=dark] .colab-df-convert:hover {\n",
              "      background-color: #434B5C;\n",
              "      box-shadow: 0px 1px 3px 1px rgba(0, 0, 0, 0.15);\n",
              "      filter: drop-shadow(0px 1px 2px rgba(0, 0, 0, 0.3));\n",
              "      fill: #FFFFFF;\n",
              "    }\n",
              "  </style>\n",
              "\n",
              "    <script>\n",
              "      const buttonEl =\n",
              "        document.querySelector('#df-e24fb255-a817-448f-b9c7-600c1e25df43 button.colab-df-convert');\n",
              "      buttonEl.style.display =\n",
              "        google.colab.kernel.accessAllowed ? 'block' : 'none';\n",
              "\n",
              "      async function convertToInteractive(key) {\n",
              "        const element = document.querySelector('#df-e24fb255-a817-448f-b9c7-600c1e25df43');\n",
              "        const dataTable =\n",
              "          await google.colab.kernel.invokeFunction('convertToInteractive',\n",
              "                                                    [key], {});\n",
              "        if (!dataTable) return;\n",
              "\n",
              "        const docLinkHtml = 'Like what you see? Visit the ' +\n",
              "          '<a target=\"_blank\" href=https://colab.research.google.com/notebooks/data_table.ipynb>data table notebook</a>'\n",
              "          + ' to learn more about interactive tables.';\n",
              "        element.innerHTML = '';\n",
              "        dataTable['output_type'] = 'display_data';\n",
              "        await google.colab.output.renderOutput(dataTable, element);\n",
              "        const docLink = document.createElement('div');\n",
              "        docLink.innerHTML = docLinkHtml;\n",
              "        element.appendChild(docLink);\n",
              "      }\n",
              "    </script>\n",
              "  </div>\n",
              "\n",
              "\n",
              "    </div>\n",
              "  </div>\n"
            ],
            "application/vnd.google.colaboratory.intrinsic+json": {
              "type": "dataframe",
              "summary": "{\n  \"name\": \"majorityVotingDf\",\n  \"rows\": 1,\n  \"fields\": [\n    {\n      \"column\": \"author_id\",\n      \"properties\": {\n        \"dtype\": \"string\",\n        \"num_unique_values\": 1,\n        \"samples\": [\n          \"1129346042321940486\"\n        ],\n        \"semantic_type\": \"\",\n        \"description\": \"\"\n      }\n    },\n    {\n      \"column\": \"music_id\",\n      \"properties\": {\n        \"dtype\": \"number\",\n        \"std\": null,\n        \"min\": 5626.0,\n        \"max\": 5626.0,\n        \"num_unique_values\": 1,\n        \"samples\": [\n          5626.0\n        ],\n        \"semantic_type\": \"\",\n        \"description\": \"\"\n      }\n    },\n    {\n      \"column\": \"author_music_id\",\n      \"properties\": {\n        \"dtype\": \"string\",\n        \"num_unique_values\": 1,\n        \"samples\": [\n          \"1129346042321940486_5626.0\"\n        ],\n        \"semantic_type\": \"\",\n        \"description\": \"\"\n      }\n    },\n    {\n      \"column\": \"group\",\n      \"properties\": {\n        \"dtype\": \"number\",\n        \"std\": null,\n        \"min\": 1,\n        \"max\": 1,\n        \"num_unique_values\": 1,\n        \"samples\": [\n          1\n        ],\n        \"semantic_type\": \"\",\n        \"description\": \"\"\n      }\n    },\n    {\n      \"column\": \"stress_score\",\n      \"properties\": {\n        \"dtype\": \"number\",\n        \"std\": null,\n        \"min\": 1,\n        \"max\": 1,\n        \"num_unique_values\": 1,\n        \"samples\": [\n          1\n        ],\n        \"semantic_type\": \"\",\n        \"description\": \"\"\n      }\n    }\n  ]\n}"
            }
          },
          "metadata": {},
          "execution_count": 69
        }
      ]
    },
    {
      "cell_type": "code",
      "source": [
        "# Use tweets df to add the demographic info to the majority voting df\n",
        "majorityVotingDf = majorityVotingDf.merge(demographicsDf, on = \"author_id\", how = \"left\")\n",
        "print(\"Shape before dropping na:\", majorityVotingDf.shape)\n",
        "# drop na\n",
        "majorityVotingDf = majorityVotingDf.dropna()\n",
        "# use label encoder to encode the values of the demographics\n",
        "from sklearn.preprocessing import LabelEncoder\n",
        "le = LabelEncoder()\n",
        "majorityVotingDf[\"age_group\"] = le.fit_transform(majorityVotingDf[\"age_group\"])\n",
        "mapping = {index: label for index, label in enumerate(le.classes_)}\n",
        "print(mapping)\n",
        "majorityVotingDf[\"gender\"] = le.fit_transform(majorityVotingDf[\"gender\"])\n",
        "mapping = {index: label for index, label in enumerate(le.classes_)}\n",
        "print(mapping)\n",
        "majorityVotingDf[\"edu_level\"] = le.fit_transform(majorityVotingDf[\"edu_level\"])\n",
        "mapping = {index: label for index, label in enumerate(le.classes_)}\n",
        "print(mapping)\n",
        "print(\"Shape after dropping na:\", majorityVotingDf.shape)\n",
        "majorityVotingDf.sample()"
      ],
      "metadata": {
        "id": "ZBSvs_hBmRs1",
        "colab": {
          "base_uri": "https://localhost:8080/",
          "height": 167
        },
        "outputId": "b961cfab-6199-4338-a3e8-f8f91fd77206"
      },
      "execution_count": null,
      "outputs": [
        {
          "output_type": "stream",
          "name": "stdout",
          "text": [
            "Shape before dropping na: (35970, 8)\n",
            "{0: 'Gen-Z', 1: 'Millenial'}\n",
            "{0: 'Female', 1: 'Male'}\n",
            "{0: 'High School & College', 1: 'Middle/Elemntary School'}\n",
            "Shape after dropping na: (35970, 8)\n"
          ]
        },
        {
          "output_type": "execute_result",
          "data": {
            "text/plain": [
              "                author_id  music_id              author_music_id  group  \\\n",
              "7667  1169520110639280128   10635.0  1169520110639280128_10635.0      1   \n",
              "\n",
              "      stress_score  age_group  gender  edu_level  \n",
              "7667             0          0       1          1  "
            ],
            "text/html": [
              "\n",
              "  <div id=\"df-7c4bd32c-772d-4f48-b7c1-ef4684e88bb0\" class=\"colab-df-container\">\n",
              "    <div>\n",
              "<style scoped>\n",
              "    .dataframe tbody tr th:only-of-type {\n",
              "        vertical-align: middle;\n",
              "    }\n",
              "\n",
              "    .dataframe tbody tr th {\n",
              "        vertical-align: top;\n",
              "    }\n",
              "\n",
              "    .dataframe thead th {\n",
              "        text-align: right;\n",
              "    }\n",
              "</style>\n",
              "<table border=\"1\" class=\"dataframe\">\n",
              "  <thead>\n",
              "    <tr style=\"text-align: right;\">\n",
              "      <th></th>\n",
              "      <th>author_id</th>\n",
              "      <th>music_id</th>\n",
              "      <th>author_music_id</th>\n",
              "      <th>group</th>\n",
              "      <th>stress_score</th>\n",
              "      <th>age_group</th>\n",
              "      <th>gender</th>\n",
              "      <th>edu_level</th>\n",
              "    </tr>\n",
              "  </thead>\n",
              "  <tbody>\n",
              "    <tr>\n",
              "      <th>7667</th>\n",
              "      <td>1169520110639280128</td>\n",
              "      <td>10635.0</td>\n",
              "      <td>1169520110639280128_10635.0</td>\n",
              "      <td>1</td>\n",
              "      <td>0</td>\n",
              "      <td>0</td>\n",
              "      <td>1</td>\n",
              "      <td>1</td>\n",
              "    </tr>\n",
              "  </tbody>\n",
              "</table>\n",
              "</div>\n",
              "    <div class=\"colab-df-buttons\">\n",
              "\n",
              "  <div class=\"colab-df-container\">\n",
              "    <button class=\"colab-df-convert\" onclick=\"convertToInteractive('df-7c4bd32c-772d-4f48-b7c1-ef4684e88bb0')\"\n",
              "            title=\"Convert this dataframe to an interactive table.\"\n",
              "            style=\"display:none;\">\n",
              "\n",
              "  <svg xmlns=\"http://www.w3.org/2000/svg\" height=\"24px\" viewBox=\"0 -960 960 960\">\n",
              "    <path d=\"M120-120v-720h720v720H120Zm60-500h600v-160H180v160Zm220 220h160v-160H400v160Zm0 220h160v-160H400v160ZM180-400h160v-160H180v160Zm440 0h160v-160H620v160ZM180-180h160v-160H180v160Zm440 0h160v-160H620v160Z\"/>\n",
              "  </svg>\n",
              "    </button>\n",
              "\n",
              "  <style>\n",
              "    .colab-df-container {\n",
              "      display:flex;\n",
              "      gap: 12px;\n",
              "    }\n",
              "\n",
              "    .colab-df-convert {\n",
              "      background-color: #E8F0FE;\n",
              "      border: none;\n",
              "      border-radius: 50%;\n",
              "      cursor: pointer;\n",
              "      display: none;\n",
              "      fill: #1967D2;\n",
              "      height: 32px;\n",
              "      padding: 0 0 0 0;\n",
              "      width: 32px;\n",
              "    }\n",
              "\n",
              "    .colab-df-convert:hover {\n",
              "      background-color: #E2EBFA;\n",
              "      box-shadow: 0px 1px 2px rgba(60, 64, 67, 0.3), 0px 1px 3px 1px rgba(60, 64, 67, 0.15);\n",
              "      fill: #174EA6;\n",
              "    }\n",
              "\n",
              "    .colab-df-buttons div {\n",
              "      margin-bottom: 4px;\n",
              "    }\n",
              "\n",
              "    [theme=dark] .colab-df-convert {\n",
              "      background-color: #3B4455;\n",
              "      fill: #D2E3FC;\n",
              "    }\n",
              "\n",
              "    [theme=dark] .colab-df-convert:hover {\n",
              "      background-color: #434B5C;\n",
              "      box-shadow: 0px 1px 3px 1px rgba(0, 0, 0, 0.15);\n",
              "      filter: drop-shadow(0px 1px 2px rgba(0, 0, 0, 0.3));\n",
              "      fill: #FFFFFF;\n",
              "    }\n",
              "  </style>\n",
              "\n",
              "    <script>\n",
              "      const buttonEl =\n",
              "        document.querySelector('#df-7c4bd32c-772d-4f48-b7c1-ef4684e88bb0 button.colab-df-convert');\n",
              "      buttonEl.style.display =\n",
              "        google.colab.kernel.accessAllowed ? 'block' : 'none';\n",
              "\n",
              "      async function convertToInteractive(key) {\n",
              "        const element = document.querySelector('#df-7c4bd32c-772d-4f48-b7c1-ef4684e88bb0');\n",
              "        const dataTable =\n",
              "          await google.colab.kernel.invokeFunction('convertToInteractive',\n",
              "                                                    [key], {});\n",
              "        if (!dataTable) return;\n",
              "\n",
              "        const docLinkHtml = 'Like what you see? Visit the ' +\n",
              "          '<a target=\"_blank\" href=https://colab.research.google.com/notebooks/data_table.ipynb>data table notebook</a>'\n",
              "          + ' to learn more about interactive tables.';\n",
              "        element.innerHTML = '';\n",
              "        dataTable['output_type'] = 'display_data';\n",
              "        await google.colab.output.renderOutput(dataTable, element);\n",
              "        const docLink = document.createElement('div');\n",
              "        docLink.innerHTML = docLinkHtml;\n",
              "        element.appendChild(docLink);\n",
              "      }\n",
              "    </script>\n",
              "  </div>\n",
              "\n",
              "\n",
              "    </div>\n",
              "  </div>\n"
            ],
            "application/vnd.google.colaboratory.intrinsic+json": {
              "type": "dataframe",
              "summary": "{\n  \"name\": \"majorityVotingDf\",\n  \"rows\": 1,\n  \"fields\": [\n    {\n      \"column\": \"author_id\",\n      \"properties\": {\n        \"dtype\": \"string\",\n        \"num_unique_values\": 1,\n        \"samples\": [\n          \"1169520110639280128\"\n        ],\n        \"semantic_type\": \"\",\n        \"description\": \"\"\n      }\n    },\n    {\n      \"column\": \"music_id\",\n      \"properties\": {\n        \"dtype\": \"number\",\n        \"std\": null,\n        \"min\": 10635.0,\n        \"max\": 10635.0,\n        \"num_unique_values\": 1,\n        \"samples\": [\n          10635.0\n        ],\n        \"semantic_type\": \"\",\n        \"description\": \"\"\n      }\n    },\n    {\n      \"column\": \"author_music_id\",\n      \"properties\": {\n        \"dtype\": \"string\",\n        \"num_unique_values\": 1,\n        \"samples\": [\n          \"1169520110639280128_10635.0\"\n        ],\n        \"semantic_type\": \"\",\n        \"description\": \"\"\n      }\n    },\n    {\n      \"column\": \"group\",\n      \"properties\": {\n        \"dtype\": \"number\",\n        \"std\": null,\n        \"min\": 1,\n        \"max\": 1,\n        \"num_unique_values\": 1,\n        \"samples\": [\n          1\n        ],\n        \"semantic_type\": \"\",\n        \"description\": \"\"\n      }\n    },\n    {\n      \"column\": \"stress_score\",\n      \"properties\": {\n        \"dtype\": \"number\",\n        \"std\": null,\n        \"min\": 0,\n        \"max\": 0,\n        \"num_unique_values\": 1,\n        \"samples\": [\n          0\n        ],\n        \"semantic_type\": \"\",\n        \"description\": \"\"\n      }\n    },\n    {\n      \"column\": \"age_group\",\n      \"properties\": {\n        \"dtype\": \"number\",\n        \"std\": null,\n        \"min\": 0,\n        \"max\": 0,\n        \"num_unique_values\": 1,\n        \"samples\": [\n          0\n        ],\n        \"semantic_type\": \"\",\n        \"description\": \"\"\n      }\n    },\n    {\n      \"column\": \"gender\",\n      \"properties\": {\n        \"dtype\": \"number\",\n        \"std\": null,\n        \"min\": 1,\n        \"max\": 1,\n        \"num_unique_values\": 1,\n        \"samples\": [\n          1\n        ],\n        \"semantic_type\": \"\",\n        \"description\": \"\"\n      }\n    },\n    {\n      \"column\": \"edu_level\",\n      \"properties\": {\n        \"dtype\": \"number\",\n        \"std\": null,\n        \"min\": 1,\n        \"max\": 1,\n        \"num_unique_values\": 1,\n        \"samples\": [\n          1\n        ],\n        \"semantic_type\": \"\",\n        \"description\": \"\"\n      }\n    }\n  ]\n}"
            }
          },
          "metadata": {},
          "execution_count": 70
        }
      ]
    },
    {
      "cell_type": "code",
      "source": [
        "# Save to parquet\n",
        "filePath = os.path.join(tweetsDir, \"depressionTweetsPoolDf_majorityVoting_demographics.parquet\")\n",
        "majorityVotingDf.to_parquet(filePath)"
      ],
      "metadata": {
        "id": "Mmk7F96bCaT0"
      },
      "execution_count": null,
      "outputs": []
    },
    {
      "cell_type": "markdown",
      "source": [
        "#### Avg. Score"
      ],
      "metadata": {
        "id": "38UdQrHhCdk-"
      }
    },
    {
      "cell_type": "code",
      "source": [
        "# Read\n",
        "avgScoreDf = pd.read_parquet(os.path.join(tweetsDir, \"depressionTweetsPoolDf_avgScore.parquet\"))\n",
        "print(\"Shape:\", avgScoreDf.shape)\n",
        "avgScoreDf.sample()"
      ],
      "metadata": {
        "colab": {
          "base_uri": "https://localhost:8080/",
          "height": 98
        },
        "id": "Bhh-qXAvCfKC",
        "outputId": "9c1fc4c5-8b53-4ec4-df43-a3133909d11a"
      },
      "execution_count": null,
      "outputs": [
        {
          "output_type": "stream",
          "name": "stdout",
          "text": [
            "Shape: (35970, 5)\n"
          ]
        },
        {
          "output_type": "execute_result",
          "data": {
            "text/plain": [
              "                author_id  music_id              author_music_id  group  \\\n",
              "3819  1087027267665096704   17171.0  1087027267665096704_17171.0      0   \n",
              "\n",
              "      stress_score  \n",
              "3819          0.55  "
            ],
            "text/html": [
              "\n",
              "  <div id=\"df-4819b51e-ba3c-4c46-a33d-0d5029804f34\" class=\"colab-df-container\">\n",
              "    <div>\n",
              "<style scoped>\n",
              "    .dataframe tbody tr th:only-of-type {\n",
              "        vertical-align: middle;\n",
              "    }\n",
              "\n",
              "    .dataframe tbody tr th {\n",
              "        vertical-align: top;\n",
              "    }\n",
              "\n",
              "    .dataframe thead th {\n",
              "        text-align: right;\n",
              "    }\n",
              "</style>\n",
              "<table border=\"1\" class=\"dataframe\">\n",
              "  <thead>\n",
              "    <tr style=\"text-align: right;\">\n",
              "      <th></th>\n",
              "      <th>author_id</th>\n",
              "      <th>music_id</th>\n",
              "      <th>author_music_id</th>\n",
              "      <th>group</th>\n",
              "      <th>stress_score</th>\n",
              "    </tr>\n",
              "  </thead>\n",
              "  <tbody>\n",
              "    <tr>\n",
              "      <th>3819</th>\n",
              "      <td>1087027267665096704</td>\n",
              "      <td>17171.0</td>\n",
              "      <td>1087027267665096704_17171.0</td>\n",
              "      <td>0</td>\n",
              "      <td>0.55</td>\n",
              "    </tr>\n",
              "  </tbody>\n",
              "</table>\n",
              "</div>\n",
              "    <div class=\"colab-df-buttons\">\n",
              "\n",
              "  <div class=\"colab-df-container\">\n",
              "    <button class=\"colab-df-convert\" onclick=\"convertToInteractive('df-4819b51e-ba3c-4c46-a33d-0d5029804f34')\"\n",
              "            title=\"Convert this dataframe to an interactive table.\"\n",
              "            style=\"display:none;\">\n",
              "\n",
              "  <svg xmlns=\"http://www.w3.org/2000/svg\" height=\"24px\" viewBox=\"0 -960 960 960\">\n",
              "    <path d=\"M120-120v-720h720v720H120Zm60-500h600v-160H180v160Zm220 220h160v-160H400v160Zm0 220h160v-160H400v160ZM180-400h160v-160H180v160Zm440 0h160v-160H620v160ZM180-180h160v-160H180v160Zm440 0h160v-160H620v160Z\"/>\n",
              "  </svg>\n",
              "    </button>\n",
              "\n",
              "  <style>\n",
              "    .colab-df-container {\n",
              "      display:flex;\n",
              "      gap: 12px;\n",
              "    }\n",
              "\n",
              "    .colab-df-convert {\n",
              "      background-color: #E8F0FE;\n",
              "      border: none;\n",
              "      border-radius: 50%;\n",
              "      cursor: pointer;\n",
              "      display: none;\n",
              "      fill: #1967D2;\n",
              "      height: 32px;\n",
              "      padding: 0 0 0 0;\n",
              "      width: 32px;\n",
              "    }\n",
              "\n",
              "    .colab-df-convert:hover {\n",
              "      background-color: #E2EBFA;\n",
              "      box-shadow: 0px 1px 2px rgba(60, 64, 67, 0.3), 0px 1px 3px 1px rgba(60, 64, 67, 0.15);\n",
              "      fill: #174EA6;\n",
              "    }\n",
              "\n",
              "    .colab-df-buttons div {\n",
              "      margin-bottom: 4px;\n",
              "    }\n",
              "\n",
              "    [theme=dark] .colab-df-convert {\n",
              "      background-color: #3B4455;\n",
              "      fill: #D2E3FC;\n",
              "    }\n",
              "\n",
              "    [theme=dark] .colab-df-convert:hover {\n",
              "      background-color: #434B5C;\n",
              "      box-shadow: 0px 1px 3px 1px rgba(0, 0, 0, 0.15);\n",
              "      filter: drop-shadow(0px 1px 2px rgba(0, 0, 0, 0.3));\n",
              "      fill: #FFFFFF;\n",
              "    }\n",
              "  </style>\n",
              "\n",
              "    <script>\n",
              "      const buttonEl =\n",
              "        document.querySelector('#df-4819b51e-ba3c-4c46-a33d-0d5029804f34 button.colab-df-convert');\n",
              "      buttonEl.style.display =\n",
              "        google.colab.kernel.accessAllowed ? 'block' : 'none';\n",
              "\n",
              "      async function convertToInteractive(key) {\n",
              "        const element = document.querySelector('#df-4819b51e-ba3c-4c46-a33d-0d5029804f34');\n",
              "        const dataTable =\n",
              "          await google.colab.kernel.invokeFunction('convertToInteractive',\n",
              "                                                    [key], {});\n",
              "        if (!dataTable) return;\n",
              "\n",
              "        const docLinkHtml = 'Like what you see? Visit the ' +\n",
              "          '<a target=\"_blank\" href=https://colab.research.google.com/notebooks/data_table.ipynb>data table notebook</a>'\n",
              "          + ' to learn more about interactive tables.';\n",
              "        element.innerHTML = '';\n",
              "        dataTable['output_type'] = 'display_data';\n",
              "        await google.colab.output.renderOutput(dataTable, element);\n",
              "        const docLink = document.createElement('div');\n",
              "        docLink.innerHTML = docLinkHtml;\n",
              "        element.appendChild(docLink);\n",
              "      }\n",
              "    </script>\n",
              "  </div>\n",
              "\n",
              "\n",
              "    </div>\n",
              "  </div>\n"
            ],
            "application/vnd.google.colaboratory.intrinsic+json": {
              "type": "dataframe",
              "summary": "{\n  \"name\": \"avgScoreDf\",\n  \"rows\": 1,\n  \"fields\": [\n    {\n      \"column\": \"author_id\",\n      \"properties\": {\n        \"dtype\": \"string\",\n        \"num_unique_values\": 1,\n        \"samples\": [\n          \"1087027267665096704\"\n        ],\n        \"semantic_type\": \"\",\n        \"description\": \"\"\n      }\n    },\n    {\n      \"column\": \"music_id\",\n      \"properties\": {\n        \"dtype\": \"number\",\n        \"std\": null,\n        \"min\": 17171.0,\n        \"max\": 17171.0,\n        \"num_unique_values\": 1,\n        \"samples\": [\n          17171.0\n        ],\n        \"semantic_type\": \"\",\n        \"description\": \"\"\n      }\n    },\n    {\n      \"column\": \"author_music_id\",\n      \"properties\": {\n        \"dtype\": \"string\",\n        \"num_unique_values\": 1,\n        \"samples\": [\n          \"1087027267665096704_17171.0\"\n        ],\n        \"semantic_type\": \"\",\n        \"description\": \"\"\n      }\n    },\n    {\n      \"column\": \"group\",\n      \"properties\": {\n        \"dtype\": \"number\",\n        \"std\": null,\n        \"min\": 0,\n        \"max\": 0,\n        \"num_unique_values\": 1,\n        \"samples\": [\n          0\n        ],\n        \"semantic_type\": \"\",\n        \"description\": \"\"\n      }\n    },\n    {\n      \"column\": \"stress_score\",\n      \"properties\": {\n        \"dtype\": \"number\",\n        \"std\": null,\n        \"min\": 0.55,\n        \"max\": 0.55,\n        \"num_unique_values\": 1,\n        \"samples\": [\n          0.55\n        ],\n        \"semantic_type\": \"\",\n        \"description\": \"\"\n      }\n    }\n  ]\n}"
            }
          },
          "metadata": {},
          "execution_count": 72
        }
      ]
    },
    {
      "cell_type": "code",
      "source": [
        "# Use tweets df to add the demographic info to the majority voting df\n",
        "avgScoreDf = avgScoreDf.merge(demographicsDf, on = \"author_id\", how = 'left')\n",
        "print(\"Shape before dropping na:\", avgScoreDf.shape)\n",
        "# drop na\n",
        "avgScoreDf = avgScoreDf.dropna()\n",
        "# use label encoder to encode the values of the demographics\n",
        "from sklearn.preprocessing import LabelEncoder\n",
        "le = LabelEncoder()\n",
        "avgScoreDf[\"age_group\"] = le.fit_transform(avgScoreDf[\"age_group\"])\n",
        "mapping = {index: label for index, label in enumerate(le.classes_)}\n",
        "print(mapping)\n",
        "avgScoreDf[\"gender\"] = le.fit_transform(avgScoreDf[\"gender\"])\n",
        "mapping = {index: label for index, label in enumerate(le.classes_)}\n",
        "print(mapping)\n",
        "avgScoreDf[\"edu_level\"] = le.fit_transform(avgScoreDf[\"edu_level\"])\n",
        "mapping = {index: label for index, label in enumerate(le.classes_)}\n",
        "print(mapping)\n",
        "\n",
        "print(\"Shape after dropping na:\", avgScoreDf.shape)\n",
        "avgScoreDf.sample()"
      ],
      "metadata": {
        "colab": {
          "base_uri": "https://localhost:8080/",
          "height": 167
        },
        "id": "IvEv_3UsCmfp",
        "outputId": "b7ec937f-6c21-490b-fad9-b6fbe724bc47"
      },
      "execution_count": null,
      "outputs": [
        {
          "output_type": "stream",
          "name": "stdout",
          "text": [
            "Shape before dropping na: (35970, 8)\n",
            "{0: 'Gen-Z', 1: 'Millenial'}\n",
            "{0: 'Female', 1: 'Male'}\n",
            "{0: 'High School & College', 1: 'Middle/Elemntary School'}\n",
            "Shape after dropping na: (35970, 8)\n"
          ]
        },
        {
          "output_type": "execute_result",
          "data": {
            "text/plain": [
              "       author_id  music_id    author_music_id  group  stress_score  age_group  \\\n",
              "26684  359120567   17910.0  359120567_17910.0      0      0.701754          0   \n",
              "\n",
              "       gender  edu_level  \n",
              "26684       0          1  "
            ],
            "text/html": [
              "\n",
              "  <div id=\"df-1a4b5212-26a4-4404-8c92-14b4b2dc01f1\" class=\"colab-df-container\">\n",
              "    <div>\n",
              "<style scoped>\n",
              "    .dataframe tbody tr th:only-of-type {\n",
              "        vertical-align: middle;\n",
              "    }\n",
              "\n",
              "    .dataframe tbody tr th {\n",
              "        vertical-align: top;\n",
              "    }\n",
              "\n",
              "    .dataframe thead th {\n",
              "        text-align: right;\n",
              "    }\n",
              "</style>\n",
              "<table border=\"1\" class=\"dataframe\">\n",
              "  <thead>\n",
              "    <tr style=\"text-align: right;\">\n",
              "      <th></th>\n",
              "      <th>author_id</th>\n",
              "      <th>music_id</th>\n",
              "      <th>author_music_id</th>\n",
              "      <th>group</th>\n",
              "      <th>stress_score</th>\n",
              "      <th>age_group</th>\n",
              "      <th>gender</th>\n",
              "      <th>edu_level</th>\n",
              "    </tr>\n",
              "  </thead>\n",
              "  <tbody>\n",
              "    <tr>\n",
              "      <th>26684</th>\n",
              "      <td>359120567</td>\n",
              "      <td>17910.0</td>\n",
              "      <td>359120567_17910.0</td>\n",
              "      <td>0</td>\n",
              "      <td>0.701754</td>\n",
              "      <td>0</td>\n",
              "      <td>0</td>\n",
              "      <td>1</td>\n",
              "    </tr>\n",
              "  </tbody>\n",
              "</table>\n",
              "</div>\n",
              "    <div class=\"colab-df-buttons\">\n",
              "\n",
              "  <div class=\"colab-df-container\">\n",
              "    <button class=\"colab-df-convert\" onclick=\"convertToInteractive('df-1a4b5212-26a4-4404-8c92-14b4b2dc01f1')\"\n",
              "            title=\"Convert this dataframe to an interactive table.\"\n",
              "            style=\"display:none;\">\n",
              "\n",
              "  <svg xmlns=\"http://www.w3.org/2000/svg\" height=\"24px\" viewBox=\"0 -960 960 960\">\n",
              "    <path d=\"M120-120v-720h720v720H120Zm60-500h600v-160H180v160Zm220 220h160v-160H400v160Zm0 220h160v-160H400v160ZM180-400h160v-160H180v160Zm440 0h160v-160H620v160ZM180-180h160v-160H180v160Zm440 0h160v-160H620v160Z\"/>\n",
              "  </svg>\n",
              "    </button>\n",
              "\n",
              "  <style>\n",
              "    .colab-df-container {\n",
              "      display:flex;\n",
              "      gap: 12px;\n",
              "    }\n",
              "\n",
              "    .colab-df-convert {\n",
              "      background-color: #E8F0FE;\n",
              "      border: none;\n",
              "      border-radius: 50%;\n",
              "      cursor: pointer;\n",
              "      display: none;\n",
              "      fill: #1967D2;\n",
              "      height: 32px;\n",
              "      padding: 0 0 0 0;\n",
              "      width: 32px;\n",
              "    }\n",
              "\n",
              "    .colab-df-convert:hover {\n",
              "      background-color: #E2EBFA;\n",
              "      box-shadow: 0px 1px 2px rgba(60, 64, 67, 0.3), 0px 1px 3px 1px rgba(60, 64, 67, 0.15);\n",
              "      fill: #174EA6;\n",
              "    }\n",
              "\n",
              "    .colab-df-buttons div {\n",
              "      margin-bottom: 4px;\n",
              "    }\n",
              "\n",
              "    [theme=dark] .colab-df-convert {\n",
              "      background-color: #3B4455;\n",
              "      fill: #D2E3FC;\n",
              "    }\n",
              "\n",
              "    [theme=dark] .colab-df-convert:hover {\n",
              "      background-color: #434B5C;\n",
              "      box-shadow: 0px 1px 3px 1px rgba(0, 0, 0, 0.15);\n",
              "      filter: drop-shadow(0px 1px 2px rgba(0, 0, 0, 0.3));\n",
              "      fill: #FFFFFF;\n",
              "    }\n",
              "  </style>\n",
              "\n",
              "    <script>\n",
              "      const buttonEl =\n",
              "        document.querySelector('#df-1a4b5212-26a4-4404-8c92-14b4b2dc01f1 button.colab-df-convert');\n",
              "      buttonEl.style.display =\n",
              "        google.colab.kernel.accessAllowed ? 'block' : 'none';\n",
              "\n",
              "      async function convertToInteractive(key) {\n",
              "        const element = document.querySelector('#df-1a4b5212-26a4-4404-8c92-14b4b2dc01f1');\n",
              "        const dataTable =\n",
              "          await google.colab.kernel.invokeFunction('convertToInteractive',\n",
              "                                                    [key], {});\n",
              "        if (!dataTable) return;\n",
              "\n",
              "        const docLinkHtml = 'Like what you see? Visit the ' +\n",
              "          '<a target=\"_blank\" href=https://colab.research.google.com/notebooks/data_table.ipynb>data table notebook</a>'\n",
              "          + ' to learn more about interactive tables.';\n",
              "        element.innerHTML = '';\n",
              "        dataTable['output_type'] = 'display_data';\n",
              "        await google.colab.output.renderOutput(dataTable, element);\n",
              "        const docLink = document.createElement('div');\n",
              "        docLink.innerHTML = docLinkHtml;\n",
              "        element.appendChild(docLink);\n",
              "      }\n",
              "    </script>\n",
              "  </div>\n",
              "\n",
              "\n",
              "    </div>\n",
              "  </div>\n"
            ],
            "application/vnd.google.colaboratory.intrinsic+json": {
              "type": "dataframe",
              "summary": "{\n  \"name\": \"avgScoreDf\",\n  \"rows\": 1,\n  \"fields\": [\n    {\n      \"column\": \"author_id\",\n      \"properties\": {\n        \"dtype\": \"string\",\n        \"num_unique_values\": 1,\n        \"samples\": [\n          \"359120567\"\n        ],\n        \"semantic_type\": \"\",\n        \"description\": \"\"\n      }\n    },\n    {\n      \"column\": \"music_id\",\n      \"properties\": {\n        \"dtype\": \"number\",\n        \"std\": null,\n        \"min\": 17910.0,\n        \"max\": 17910.0,\n        \"num_unique_values\": 1,\n        \"samples\": [\n          17910.0\n        ],\n        \"semantic_type\": \"\",\n        \"description\": \"\"\n      }\n    },\n    {\n      \"column\": \"author_music_id\",\n      \"properties\": {\n        \"dtype\": \"string\",\n        \"num_unique_values\": 1,\n        \"samples\": [\n          \"359120567_17910.0\"\n        ],\n        \"semantic_type\": \"\",\n        \"description\": \"\"\n      }\n    },\n    {\n      \"column\": \"group\",\n      \"properties\": {\n        \"dtype\": \"number\",\n        \"std\": null,\n        \"min\": 0,\n        \"max\": 0,\n        \"num_unique_values\": 1,\n        \"samples\": [\n          0\n        ],\n        \"semantic_type\": \"\",\n        \"description\": \"\"\n      }\n    },\n    {\n      \"column\": \"stress_score\",\n      \"properties\": {\n        \"dtype\": \"number\",\n        \"std\": null,\n        \"min\": 0.7017543859649122,\n        \"max\": 0.7017543859649122,\n        \"num_unique_values\": 1,\n        \"samples\": [\n          0.7017543859649122\n        ],\n        \"semantic_type\": \"\",\n        \"description\": \"\"\n      }\n    },\n    {\n      \"column\": \"age_group\",\n      \"properties\": {\n        \"dtype\": \"number\",\n        \"std\": null,\n        \"min\": 0,\n        \"max\": 0,\n        \"num_unique_values\": 1,\n        \"samples\": [\n          0\n        ],\n        \"semantic_type\": \"\",\n        \"description\": \"\"\n      }\n    },\n    {\n      \"column\": \"gender\",\n      \"properties\": {\n        \"dtype\": \"number\",\n        \"std\": null,\n        \"min\": 0,\n        \"max\": 0,\n        \"num_unique_values\": 1,\n        \"samples\": [\n          0\n        ],\n        \"semantic_type\": \"\",\n        \"description\": \"\"\n      }\n    },\n    {\n      \"column\": \"edu_level\",\n      \"properties\": {\n        \"dtype\": \"number\",\n        \"std\": null,\n        \"min\": 1,\n        \"max\": 1,\n        \"num_unique_values\": 1,\n        \"samples\": [\n          1\n        ],\n        \"semantic_type\": \"\",\n        \"description\": \"\"\n      }\n    }\n  ]\n}"
            }
          },
          "metadata": {},
          "execution_count": 73
        }
      ]
    },
    {
      "cell_type": "code",
      "source": [
        "# Save to parquet\n",
        "filePath = os.path.join(tweetsDir, \"depressionTweetsPoolDf_avgScore_demographics.parquet\")\n",
        "avgScoreDf.to_parquet(filePath)"
      ],
      "metadata": {
        "id": "X9mooIEmCx_e"
      },
      "execution_count": null,
      "outputs": []
    }
  ]
}