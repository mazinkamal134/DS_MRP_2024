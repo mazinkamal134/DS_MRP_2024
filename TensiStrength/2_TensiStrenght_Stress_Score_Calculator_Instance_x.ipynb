{
  "nbformat": 4,
  "nbformat_minor": 0,
  "metadata": {
    "colab": {
      "provenance": [],
      "toc_visible": true,
      "authorship_tag": "ABX9TyPpuztRXAA33syTEjXawN+1",
      "include_colab_link": true
    },
    "kernelspec": {
      "name": "python3",
      "display_name": "Python 3"
    },
    "language_info": {
      "name": "python"
    }
  },
  "cells": [
    {
      "cell_type": "markdown",
      "metadata": {
        "id": "view-in-github",
        "colab_type": "text"
      },
      "source": [
        "<a href=\"https://colab.research.google.com/github/mazinkamal134/DS_MRP_2024/blob/main/TensiStrength/2_TensiStrenght_Stress_Score_Calculator_Instance_x.ipynb\" target=\"_parent\"><img src=\"https://colab.research.google.com/assets/colab-badge.svg\" alt=\"Open In Colab\"/></a>"
      ]
    },
    {
      "cell_type": "markdown",
      "source": [
        "Please note:\n",
        "- Multiple versions of this notebook, equal to the number of file splits per disorder, need to be created and run in parallel to save the stress score calculation time.\n",
        "\n",
        "- This notebook must run on a local Colab or Jupyter notebook on a machine with Java installed."
      ],
      "metadata": {
        "id": "UhYunyIvXne-"
      }
    },
    {
      "cell_type": "code",
      "source": [
        "import pandas as pd\n",
        "import numpy as np\n",
        "import pickle\n",
        "import subprocess\n",
        "import os\n",
        "import re\n",
        "import html\n",
        "from tqdm import tqdm\n",
        "import time"
      ],
      "metadata": {
        "id": "1zVv8y3bX_BA"
      },
      "execution_count": null,
      "outputs": []
    },
    {
      "cell_type": "markdown",
      "source": [
        "## Global Params"
      ],
      "metadata": {
        "id": "AYMegR8yYNDk"
      }
    },
    {
      "cell_type": "code",
      "source": [
        "# Configure the instance, disorder, and the location of the API and the file chunks\n",
        "instanceId = 0\n",
        "disorder = \"anxiety\" # [\"depression\", \"ptsd\"]\n",
        "# API location\n",
        "path = \"/Stress_Detection_Files\"\n",
        "apiPath = path + \"TensiStrengthMain.jar\"\n",
        "tensiStrengthDir = \"/TensiStrength/Chunks\""
      ],
      "metadata": {
        "id": "9lXR1bZJYAG_"
      },
      "execution_count": null,
      "outputs": []
    },
    {
      "cell_type": "markdown",
      "source": [
        "## Data cleaning"
      ],
      "metadata": {
        "id": "7GHC7UP4YouX"
      }
    },
    {
      "cell_type": "code",
      "source": [
        "# Function to preprocess the text\n",
        "def clean_text(text):\n",
        "\n",
        "    # regex\n",
        "    JUST_WORDS = re.compile(r\"\\W+\")\n",
        "    SLASHES = re.compile(r\"[\\\\/]\")\n",
        "    PERCENT = re.compile(r\"[%]\")\n",
        "    URLs = re.compile(r\"http\\S+|www\\S+|https\\S+\")\n",
        "    HASHTAG = re.compile(r\"#\\w+\")\n",
        "    EMOJIS = re.compile(\n",
        "        \"[\"\n",
        "        \"\\U0001F600-\\U0001F64F\"  # Emoticons\n",
        "        \"\\U0001F300-\\U0001F5FF\"  # Symbols & Pictographs\n",
        "        \"\\U0001F680-\\U0001F6FF\"  # Transport & Map Symbols\n",
        "        \"\\U0001F1E0-\\U0001F1FF\"  # Flags (iOS)\n",
        "        \"\\U00002700-\\U000027BF\"  # Dingbats\n",
        "        \"\\U0001F900-\\U0001F9FF\"  # Supplemental Symbols and Pictographs\n",
        "        \"\\U0001FA70-\\U0001FAFF\"  # Symbols and Pictographs Extended-A\n",
        "        \"\\U00002600-\\U000026FF\"  # Miscellaneous Symbols\n",
        "        \"\\U00002500-\\U00002BEF\"  # Other symbols\n",
        "        \"\\U0001F004\"             # Mahjong Tile Red Dragon\n",
        "        \"\\U0001F0CF\"             # Playing Card Black Joker\n",
        "        \"\\U0001F018-\\U0001F270\"  # Various Asian characters\n",
        "        \"\\U0001F201-\\U0001F251\"  # Enclosed characters\n",
        "        \"\\U0001F926-\\U0001F937\"  # Additional emoji\n",
        "        \"\\U0001F97C-\\U0001F9FF\"  # Additional emoji\n",
        "        \"\\U0001F9E0-\\U0001F9E6\"  # Additional emoji\n",
        "        \"\\U0001F680-\\U0001F6C5\"  # Transport and map symbols\n",
        "        \"\\U0001F6F4-\\U0001F6F8\"  # Additional transport and map symbols\n",
        "        \"\\U0001F7E0-\\U0001F7EB\"  # Additional symbols\n",
        "        \"\\U0001F90D-\\U0001F93A\"  # Additional emoji\n",
        "        \"\\U0001F93C-\\U0001F945\"  # Additional emoji\n",
        "        \"\\U0001F947-\\U0001F978\"  # Additional emoji\n",
        "        \"\\U0001F97A-\\U0001F9CB\"  # Additional emoji\n",
        "        \"\\U0001F9CD-\\U0001FA6D\"  # Additional emoji\n",
        "        \"\\U0001FA60-\\U0001FA6D\"  # Additional emoji\n",
        "        \"\\U0001FA70-\\U0001FA74\"  # Additional emoji\n",
        "        \"\\U0001FA78-\\U0001FA7A\"  # Additional emoji\n",
        "        \"\\U0001FA80-\\U0001FA86\"  # Additional emoji\n",
        "        \"\\U0001FA90-\\U0001FAA8\"  # Additional emoji\n",
        "        \"\\U0001FAB0-\\U0001FAB6\"  # Additional emoji\n",
        "        \"\\U0001FAC0-\\U0001FAC2\"  # Additional emoji\n",
        "        \"\\U0001FAD0-\\U0001FAD6\"  # Additional emoji\n",
        "        \"\\u200d\"                 # Zero Width Joiner\n",
        "        \"\\u2640-\\u2642\"          # Gender symbols\n",
        "        \"\\u2600-\\u2B55\"          # Miscellaneous symbols and dingbats\n",
        "        \"\\u23cf\"                 # Eject symbol\n",
        "        \"\\u23e9\"                 # Fast forward\n",
        "        \"\\u231a\"                 # Watch\n",
        "        \"\\ufe0f\"                 # Dingbats\n",
        "        \"\\u3030\"                 # Wavy dash\n",
        "        \"\\u00a9\"                 # Copyright\n",
        "        \"\\u00ae\"                 # Registered\n",
        "        \"\\u2122\"                 # Trademark\n",
        "        \"]+\", flags = re.UNICODE)\n",
        "\n",
        "    # remove html related\n",
        "    text = html.unescape(text)\n",
        "    # remove the line feeds\n",
        "    text = re.sub(r\"\\n\", \" \", text)\n",
        "    # lowercase text\n",
        "    text = text.lower()\n",
        "    # Remove emojis from the text using the pattern\n",
        "    text = EMOJIS.sub(\" \", text)\n",
        "    # Substitute the matched string in URLs with space.\n",
        "    text = URLs.sub(\" \", text)\n",
        "    # Substitute the matched string in HASHTAG with space.\n",
        "    text = HASHTAG.sub(\" \", text)\n",
        "    # Substitute the matched string in SLASHES with space.\n",
        "    text = SLASHES.sub(\" \", text)\n",
        "    # Replace % (this is specific to the Java API)\n",
        "    text = re.sub(r'%', \" percent\", text)\n",
        "    # Remove what's left\n",
        "    text = JUST_WORDS.sub(\" \", text)\n",
        "    # Trim the text\n",
        "    text = text.strip()\n",
        "    # Add . to the end of the text\n",
        "    if not text.endswith(\".\"):\n",
        "        text += \".\"\n",
        "\n",
        "    return text"
      ],
      "metadata": {
        "id": "B9ZUPvj5YtrS"
      },
      "execution_count": null,
      "outputs": []
    },
    {
      "cell_type": "markdown",
      "source": [
        "## Stress score analyzer function"
      ],
      "metadata": {
        "id": "YmEYcIjBY32w"
      }
    },
    {
      "cell_type": "code",
      "source": [
        "# Run the API passing a piece of text and getting the output from cmd\n",
        "def analyze(text):\n",
        "    # command to run the Java API on a windows machine\n",
        "    cmd = [\"C:/Program Files/Java/jre-1.8/bin/java.exe\", \"-jar\", apiPath, \"sentidata\", path, \"explain\", \"text\", text, \"urlencoded\", \"mood\", \"0\"]\n",
        "\n",
        "    # Run and get a result\n",
        "    result = subprocess.run(cmd, stdout = subprocess.PIPE, stderr = subprocess.PIPE, text = True, shell = True)\n",
        "\n",
        "    # Sucessful run\n",
        "    if result.returncode == 0:\n",
        "        # Format the output\n",
        "        splitted = result.stdout.split(\"+\")\n",
        "        relaxScore, stressScore = splitted[0], splitted[1]\n",
        "        return relaxScore, stressScore\n",
        "    else:\n",
        "        # Unsucessful run\n",
        "        print(\"Error executing command. Return code: \", result.stderr)\n",
        "        return None, None"
      ],
      "metadata": {
        "id": "LxlsoCf1Y7FR"
      },
      "execution_count": null,
      "outputs": []
    },
    {
      "cell_type": "markdown",
      "source": [
        "## Read the tweets file"
      ],
      "metadata": {
        "id": "mmj8wOIHZFGP"
      }
    },
    {
      "cell_type": "code",
      "source": [
        "# Read the pickle file\n",
        "fileName = f\"{disorder}TweetsDfWithTensiStrength{instanceId}.pickle\"\n",
        "print(\"Working for:\", fileName)\n",
        "tweetsDf = pd.read_pickle(os.path.join(tensiStrengthDir, fileName))\n",
        "print(\"Shape:\", tweetsDf.shape)\n",
        "tweetsDf.sample(3)"
      ],
      "metadata": {
        "id": "wwpBbxT_ZJKJ"
      },
      "execution_count": null,
      "outputs": []
    },
    {
      "cell_type": "markdown",
      "source": [
        "## Run the API"
      ],
      "metadata": {
        "id": "81FZ6wTJZ9Hc"
      }
    },
    {
      "cell_type": "code",
      "source": [
        "# Run the tweets dataframe against the Java API\n",
        "# Create two new columns for the scores\n",
        "tweetsDf[\"relaxScore\"] = np.NaN\n",
        "tweetsDf[\"stressScore\"] = np.NaN\n",
        "\n",
        "start = time.time()\n",
        "for index, row in tqdm(tweetsDf.iterrows(), total = tweetsDf.shape[0]):\n",
        "    text = clean_text(row[\"cleaned_text\"])\n",
        "    try:\n",
        "        relaxScore, stressScore = analyze(text)\n",
        "    except:\n",
        "        relaxScore, stressScore = None, None\n",
        "    tweetsDf.at[index, \"relaxScore\"] = relaxScore\n",
        "    tweetsDf.at[index, \"stressScore\"] = stressScore\n",
        "end = time.time()\n",
        "print(\"Elapsed time: \", np.round((end - start)/60.0/60, 2), \" Hours\")"
      ],
      "metadata": {
        "id": "n0svPjpGZ-Tm"
      },
      "execution_count": null,
      "outputs": []
    },
    {
      "cell_type": "markdown",
      "source": [
        "Once the entire file is processed, check the None stress scores and fix accordingly"
      ],
      "metadata": {
        "id": "SIayct3FaJGj"
      }
    },
    {
      "cell_type": "markdown",
      "source": [
        "## Save the result"
      ],
      "metadata": {
        "id": "zwqlH-R2aRUh"
      }
    },
    {
      "cell_type": "code",
      "source": [
        "# Pickle\n",
        "fileName = f\"{disorder}TweetsDfWithTensiStrengthScore_{instanceId}.pickle\"\n",
        "tweetsDf.to_pickle(os.path.join(tensiStrengthDir, fileName))"
      ],
      "metadata": {
        "id": "gAA9leLAaQCG"
      },
      "execution_count": null,
      "outputs": []
    },
    {
      "cell_type": "markdown",
      "source": [
        "Next step is to combine all the files per disorder into one file having the calculated stress scores for all English, non-empty timeline tweets"
      ],
      "metadata": {
        "id": "synCMJu7atPk"
      }
    },
    {
      "cell_type": "code",
      "source": [],
      "metadata": {
        "id": "xhuhlYC3a5jV"
      },
      "execution_count": null,
      "outputs": []
    }
  ]
}