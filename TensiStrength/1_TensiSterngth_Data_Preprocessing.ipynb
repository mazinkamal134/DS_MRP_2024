{
  "nbformat": 4,
  "nbformat_minor": 0,
  "metadata": {
    "colab": {
      "provenance": [],
      "authorship_tag": "ABX9TyOhuFdeYYUQMih18tx010Nt",
      "include_colab_link": true
    },
    "kernelspec": {
      "name": "python3",
      "display_name": "Python 3"
    },
    "language_info": {
      "name": "python"
    }
  },
  "cells": [
    {
      "cell_type": "markdown",
      "metadata": {
        "id": "view-in-github",
        "colab_type": "text"
      },
      "source": [
        "<a href=\"https://colab.research.google.com/github/mazinkamal134/DS_MRP_2024/blob/main/TensiStrength/1_TensiSterngth_Data_Preprocessing.ipynb\" target=\"_parent\"><img src=\"https://colab.research.google.com/assets/colab-badge.svg\" alt=\"Open In Colab\"/></a>"
      ]
    },
    {
      "cell_type": "markdown",
      "source": [
        "This notebook will read the control and treatment tweets datasets and prepares them for the stress score calculation\n",
        "\n",
        "Since running the TensiStrength Java API is a time consuming process, this notebook splits the tweets for each disorder into multiple chunks to be able to run multiple instances of the API in parallel"
      ],
      "metadata": {
        "id": "Y8-x94pmLIsI"
      }
    },
    {
      "cell_type": "code",
      "source": [
        "import pandas as pd\n",
        "import pickle\n",
        "from datetime import datetime\n",
        "import os\n",
        "import json"
      ],
      "metadata": {
        "id": "---0VrgDLW2b"
      },
      "execution_count": null,
      "outputs": []
    },
    {
      "cell_type": "code",
      "source": [
        "# mount the Google Drive\n",
        "from google.colab import drive\n",
        "drive.mount('/content/drive')"
      ],
      "metadata": {
        "colab": {
          "base_uri": "https://localhost:8080/"
        },
        "id": "6z8GcLSWLflq",
        "outputId": "d1a0de0f-0249-4ecf-89aa-ee6c76c71b3b"
      },
      "execution_count": null,
      "outputs": [
        {
          "output_type": "stream",
          "name": "stdout",
          "text": [
            "Drive already mounted at /content/drive; to attempt to forcibly remount, call drive.mount(\"/content/drive\", force_remount=True).\n"
          ]
        }
      ]
    },
    {
      "cell_type": "markdown",
      "source": [
        "## Global Params"
      ],
      "metadata": {
        "id": "YXtI2SUcLWCR"
      }
    },
    {
      "cell_type": "code",
      "source": [
        "tweetsDir = \"/content/drive/MyDrive/Master-2024/MRP/Data/Tweets\"\n",
        "tensiStrengthDir = \"/content/drive/MyDrive/Master-2024/MRP/Data/TensiStrength\""
      ],
      "metadata": {
        "id": "ah_LSw0MLT-d"
      },
      "execution_count": null,
      "outputs": []
    },
    {
      "cell_type": "markdown",
      "source": [
        "## Ingest the control tweets"
      ],
      "metadata": {
        "id": "9gA7P-xeLmET"
      }
    },
    {
      "cell_type": "code",
      "source": [
        "disorders = [\"anxiety\", \"depression\", \"ptsd\"]"
      ],
      "metadata": {
        "id": "kNl0_PufMW67"
      },
      "execution_count": null,
      "outputs": []
    },
    {
      "cell_type": "code",
      "source": [
        "# Read the control Tweets CSV file and pickle\n",
        "fileName = os.path.join(tweetsDir, \"control_tweets.csv\")\n",
        "controlTweetsDf = pd.read_csv(fileName)\n",
        "print(\"Shape of the original control tweets file:\", controlTweetsDf.shape)\n",
        "# Filter\n",
        "controlTweetsDf = controlTweetsDf[(controlTweetsDf.disorder.isin(disorders)) & (controlTweetsDf.tweet_type == \"timeline\") & (controlTweetsDf.lang == \"en\") & (controlTweetsDf.cleaned_text.notna())]\n",
        "# Add the group\n",
        "controlTweetsDf[\"group\"] = 0\n",
        "print(\"Filtered Control dataset shape:\", controlTweetsDf.shape)"
      ],
      "metadata": {
        "id": "EcFuGztfLoch"
      },
      "execution_count": null,
      "outputs": []
    },
    {
      "cell_type": "markdown",
      "source": [
        "## Ingest the treatment tweets"
      ],
      "metadata": {
        "id": "sIaZAO2XLquY"
      }
    },
    {
      "cell_type": "code",
      "source": [
        "# Read the treatment Tweets CSV file and pickle\n",
        "fileName = os.path.join(tweetsDir, \"treatment_tweets.csv\")\n",
        "treatmentTweetsDf = pd.read_csv(fileName)\n",
        "print(\"Shape of the original treatment tweets file:\", treatmentTweetsDf.shape)\n",
        "# Filter\n",
        "treatmentTweetsDf = treatmentTweetsDf[(treatmentTweetsDf.disorder.isin(disorders)) & (treatmentTweetsDf.tweet_type == \"timeline\") & (treatmentTweetsDf.lang == \"en\") & (treatmentTweetsDf.cleaned_text.notna())]\n",
        "# Add the group\n",
        "treatmentTweetsDf[\"group\"] = 1\n",
        "print(\"Filtered Treatment dataset shape:\", treatmentTweetsDf.shape)"
      ],
      "metadata": {
        "id": "m2X4tiqELs7j"
      },
      "execution_count": null,
      "outputs": []
    },
    {
      "cell_type": "markdown",
      "source": [
        "## Combine control and treatment tweets\n",
        "Additionally select only timeline English tweets with cleaned_text is not null\n",
        "\n",
        "Disorders = Anxiety, Depression, and PTSD"
      ],
      "metadata": {
        "id": "iVUNLdI5Lxir"
      }
    },
    {
      "cell_type": "code",
      "source": [
        "# Combine\n",
        "tweetsDf = pd.concat([controlTweetsDf, treatmentTweetsDf])\n",
        "print(\"Shape combined:\", tweetsDf.shape)\n",
        "\n",
        "# Fix the data types\n",
        "tweetsDf[\"created_at\"] = pd.to_datetime(tweetsDf.created_at).dt.tz_convert(None)\n",
        "tweetsDf[\"author_id\"] = tweetsDf[\"author_id\"].astype(\"str\")\n",
        "\n",
        "# Reorder the columns\n",
        "cols = [\"id\", \"tweet_type\", \"referenced_tweet_type\", \"created_at\", \"lang\", \"disorder\", \"group\", \"author_id\", \"text\", \"cleaned_text\", \"retweet_count\", \"reply_count\", \"like_count\", \"quote_count\", \"source\", \"group\"]\n",
        "tweetsDf = tweetsDf[cols]\n",
        "\n",
        "# Check the counts, and use to find the proper chunk size\n",
        "tweetsDf.groupby(\"disorder\")[\"id\"].count().reset_index()"
      ],
      "metadata": {
        "colab": {
          "base_uri": "https://localhost:8080/",
          "height": 162
        },
        "id": "xBG2z4tGL0Vj",
        "outputId": "1972bb70-e437-4daa-d68a-4bb27fdf2205"
      },
      "execution_count": null,
      "outputs": [
        {
          "output_type": "stream",
          "name": "stdout",
          "text": [
            "Shape combined: (3232475, 19)\n"
          ]
        },
        {
          "output_type": "execute_result",
          "data": {
            "text/plain": [
              "     disorder       id\n",
              "0     anxiety   616143\n",
              "1  depression  2070766\n",
              "2        ptsd   545566"
            ],
            "text/html": [
              "\n",
              "  <div id=\"df-0296c9cb-a7a6-48c8-a5fb-d2f19837cb87\" class=\"colab-df-container\">\n",
              "    <div>\n",
              "<style scoped>\n",
              "    .dataframe tbody tr th:only-of-type {\n",
              "        vertical-align: middle;\n",
              "    }\n",
              "\n",
              "    .dataframe tbody tr th {\n",
              "        vertical-align: top;\n",
              "    }\n",
              "\n",
              "    .dataframe thead th {\n",
              "        text-align: right;\n",
              "    }\n",
              "</style>\n",
              "<table border=\"1\" class=\"dataframe\">\n",
              "  <thead>\n",
              "    <tr style=\"text-align: right;\">\n",
              "      <th></th>\n",
              "      <th>disorder</th>\n",
              "      <th>id</th>\n",
              "    </tr>\n",
              "  </thead>\n",
              "  <tbody>\n",
              "    <tr>\n",
              "      <th>0</th>\n",
              "      <td>anxiety</td>\n",
              "      <td>616143</td>\n",
              "    </tr>\n",
              "    <tr>\n",
              "      <th>1</th>\n",
              "      <td>depression</td>\n",
              "      <td>2070766</td>\n",
              "    </tr>\n",
              "    <tr>\n",
              "      <th>2</th>\n",
              "      <td>ptsd</td>\n",
              "      <td>545566</td>\n",
              "    </tr>\n",
              "  </tbody>\n",
              "</table>\n",
              "</div>\n",
              "    <div class=\"colab-df-buttons\">\n",
              "\n",
              "  <div class=\"colab-df-container\">\n",
              "    <button class=\"colab-df-convert\" onclick=\"convertToInteractive('df-0296c9cb-a7a6-48c8-a5fb-d2f19837cb87')\"\n",
              "            title=\"Convert this dataframe to an interactive table.\"\n",
              "            style=\"display:none;\">\n",
              "\n",
              "  <svg xmlns=\"http://www.w3.org/2000/svg\" height=\"24px\" viewBox=\"0 -960 960 960\">\n",
              "    <path d=\"M120-120v-720h720v720H120Zm60-500h600v-160H180v160Zm220 220h160v-160H400v160Zm0 220h160v-160H400v160ZM180-400h160v-160H180v160Zm440 0h160v-160H620v160ZM180-180h160v-160H180v160Zm440 0h160v-160H620v160Z\"/>\n",
              "  </svg>\n",
              "    </button>\n",
              "\n",
              "  <style>\n",
              "    .colab-df-container {\n",
              "      display:flex;\n",
              "      gap: 12px;\n",
              "    }\n",
              "\n",
              "    .colab-df-convert {\n",
              "      background-color: #E8F0FE;\n",
              "      border: none;\n",
              "      border-radius: 50%;\n",
              "      cursor: pointer;\n",
              "      display: none;\n",
              "      fill: #1967D2;\n",
              "      height: 32px;\n",
              "      padding: 0 0 0 0;\n",
              "      width: 32px;\n",
              "    }\n",
              "\n",
              "    .colab-df-convert:hover {\n",
              "      background-color: #E2EBFA;\n",
              "      box-shadow: 0px 1px 2px rgba(60, 64, 67, 0.3), 0px 1px 3px 1px rgba(60, 64, 67, 0.15);\n",
              "      fill: #174EA6;\n",
              "    }\n",
              "\n",
              "    .colab-df-buttons div {\n",
              "      margin-bottom: 4px;\n",
              "    }\n",
              "\n",
              "    [theme=dark] .colab-df-convert {\n",
              "      background-color: #3B4455;\n",
              "      fill: #D2E3FC;\n",
              "    }\n",
              "\n",
              "    [theme=dark] .colab-df-convert:hover {\n",
              "      background-color: #434B5C;\n",
              "      box-shadow: 0px 1px 3px 1px rgba(0, 0, 0, 0.15);\n",
              "      filter: drop-shadow(0px 1px 2px rgba(0, 0, 0, 0.3));\n",
              "      fill: #FFFFFF;\n",
              "    }\n",
              "  </style>\n",
              "\n",
              "    <script>\n",
              "      const buttonEl =\n",
              "        document.querySelector('#df-0296c9cb-a7a6-48c8-a5fb-d2f19837cb87 button.colab-df-convert');\n",
              "      buttonEl.style.display =\n",
              "        google.colab.kernel.accessAllowed ? 'block' : 'none';\n",
              "\n",
              "      async function convertToInteractive(key) {\n",
              "        const element = document.querySelector('#df-0296c9cb-a7a6-48c8-a5fb-d2f19837cb87');\n",
              "        const dataTable =\n",
              "          await google.colab.kernel.invokeFunction('convertToInteractive',\n",
              "                                                    [key], {});\n",
              "        if (!dataTable) return;\n",
              "\n",
              "        const docLinkHtml = 'Like what you see? Visit the ' +\n",
              "          '<a target=\"_blank\" href=https://colab.research.google.com/notebooks/data_table.ipynb>data table notebook</a>'\n",
              "          + ' to learn more about interactive tables.';\n",
              "        element.innerHTML = '';\n",
              "        dataTable['output_type'] = 'display_data';\n",
              "        await google.colab.output.renderOutput(dataTable, element);\n",
              "        const docLink = document.createElement('div');\n",
              "        docLink.innerHTML = docLinkHtml;\n",
              "        element.appendChild(docLink);\n",
              "      }\n",
              "    </script>\n",
              "  </div>\n",
              "\n",
              "\n",
              "<div id=\"df-d9fb37a7-ed5b-4e5b-a867-aa3d3e659acf\">\n",
              "  <button class=\"colab-df-quickchart\" onclick=\"quickchart('df-d9fb37a7-ed5b-4e5b-a867-aa3d3e659acf')\"\n",
              "            title=\"Suggest charts\"\n",
              "            style=\"display:none;\">\n",
              "\n",
              "<svg xmlns=\"http://www.w3.org/2000/svg\" height=\"24px\"viewBox=\"0 0 24 24\"\n",
              "     width=\"24px\">\n",
              "    <g>\n",
              "        <path d=\"M19 3H5c-1.1 0-2 .9-2 2v14c0 1.1.9 2 2 2h14c1.1 0 2-.9 2-2V5c0-1.1-.9-2-2-2zM9 17H7v-7h2v7zm4 0h-2V7h2v10zm4 0h-2v-4h2v4z\"/>\n",
              "    </g>\n",
              "</svg>\n",
              "  </button>\n",
              "\n",
              "<style>\n",
              "  .colab-df-quickchart {\n",
              "      --bg-color: #E8F0FE;\n",
              "      --fill-color: #1967D2;\n",
              "      --hover-bg-color: #E2EBFA;\n",
              "      --hover-fill-color: #174EA6;\n",
              "      --disabled-fill-color: #AAA;\n",
              "      --disabled-bg-color: #DDD;\n",
              "  }\n",
              "\n",
              "  [theme=dark] .colab-df-quickchart {\n",
              "      --bg-color: #3B4455;\n",
              "      --fill-color: #D2E3FC;\n",
              "      --hover-bg-color: #434B5C;\n",
              "      --hover-fill-color: #FFFFFF;\n",
              "      --disabled-bg-color: #3B4455;\n",
              "      --disabled-fill-color: #666;\n",
              "  }\n",
              "\n",
              "  .colab-df-quickchart {\n",
              "    background-color: var(--bg-color);\n",
              "    border: none;\n",
              "    border-radius: 50%;\n",
              "    cursor: pointer;\n",
              "    display: none;\n",
              "    fill: var(--fill-color);\n",
              "    height: 32px;\n",
              "    padding: 0;\n",
              "    width: 32px;\n",
              "  }\n",
              "\n",
              "  .colab-df-quickchart:hover {\n",
              "    background-color: var(--hover-bg-color);\n",
              "    box-shadow: 0 1px 2px rgba(60, 64, 67, 0.3), 0 1px 3px 1px rgba(60, 64, 67, 0.15);\n",
              "    fill: var(--button-hover-fill-color);\n",
              "  }\n",
              "\n",
              "  .colab-df-quickchart-complete:disabled,\n",
              "  .colab-df-quickchart-complete:disabled:hover {\n",
              "    background-color: var(--disabled-bg-color);\n",
              "    fill: var(--disabled-fill-color);\n",
              "    box-shadow: none;\n",
              "  }\n",
              "\n",
              "  .colab-df-spinner {\n",
              "    border: 2px solid var(--fill-color);\n",
              "    border-color: transparent;\n",
              "    border-bottom-color: var(--fill-color);\n",
              "    animation:\n",
              "      spin 1s steps(1) infinite;\n",
              "  }\n",
              "\n",
              "  @keyframes spin {\n",
              "    0% {\n",
              "      border-color: transparent;\n",
              "      border-bottom-color: var(--fill-color);\n",
              "      border-left-color: var(--fill-color);\n",
              "    }\n",
              "    20% {\n",
              "      border-color: transparent;\n",
              "      border-left-color: var(--fill-color);\n",
              "      border-top-color: var(--fill-color);\n",
              "    }\n",
              "    30% {\n",
              "      border-color: transparent;\n",
              "      border-left-color: var(--fill-color);\n",
              "      border-top-color: var(--fill-color);\n",
              "      border-right-color: var(--fill-color);\n",
              "    }\n",
              "    40% {\n",
              "      border-color: transparent;\n",
              "      border-right-color: var(--fill-color);\n",
              "      border-top-color: var(--fill-color);\n",
              "    }\n",
              "    60% {\n",
              "      border-color: transparent;\n",
              "      border-right-color: var(--fill-color);\n",
              "    }\n",
              "    80% {\n",
              "      border-color: transparent;\n",
              "      border-right-color: var(--fill-color);\n",
              "      border-bottom-color: var(--fill-color);\n",
              "    }\n",
              "    90% {\n",
              "      border-color: transparent;\n",
              "      border-bottom-color: var(--fill-color);\n",
              "    }\n",
              "  }\n",
              "</style>\n",
              "\n",
              "  <script>\n",
              "    async function quickchart(key) {\n",
              "      const quickchartButtonEl =\n",
              "        document.querySelector('#' + key + ' button');\n",
              "      quickchartButtonEl.disabled = true;  // To prevent multiple clicks.\n",
              "      quickchartButtonEl.classList.add('colab-df-spinner');\n",
              "      try {\n",
              "        const charts = await google.colab.kernel.invokeFunction(\n",
              "            'suggestCharts', [key], {});\n",
              "      } catch (error) {\n",
              "        console.error('Error during call to suggestCharts:', error);\n",
              "      }\n",
              "      quickchartButtonEl.classList.remove('colab-df-spinner');\n",
              "      quickchartButtonEl.classList.add('colab-df-quickchart-complete');\n",
              "    }\n",
              "    (() => {\n",
              "      let quickchartButtonEl =\n",
              "        document.querySelector('#df-d9fb37a7-ed5b-4e5b-a867-aa3d3e659acf button');\n",
              "      quickchartButtonEl.style.display =\n",
              "        google.colab.kernel.accessAllowed ? 'block' : 'none';\n",
              "    })();\n",
              "  </script>\n",
              "</div>\n",
              "\n",
              "    </div>\n",
              "  </div>\n"
            ],
            "application/vnd.google.colaboratory.intrinsic+json": {
              "type": "dataframe",
              "summary": "{\n  \"name\": \"tweetsDf\",\n  \"rows\": 3,\n  \"fields\": [\n    {\n      \"column\": \"disorder\",\n      \"properties\": {\n        \"dtype\": \"string\",\n        \"num_unique_values\": 3,\n        \"samples\": [\n          \"anxiety\",\n          \"depression\",\n          \"ptsd\"\n        ],\n        \"semantic_type\": \"\",\n        \"description\": \"\"\n      }\n    },\n    {\n      \"column\": \"id\",\n      \"properties\": {\n        \"dtype\": \"number\",\n        \"std\": 860924,\n        \"min\": 545566,\n        \"max\": 2070766,\n        \"num_unique_values\": 3,\n        \"samples\": [\n          616143,\n          2070766,\n          545566\n        ],\n        \"semantic_type\": \"\",\n        \"description\": \"\"\n      }\n    }\n  ]\n}"
            }
          },
          "metadata": {},
          "execution_count": 8
        }
      ]
    },
    {
      "cell_type": "markdown",
      "source": [
        "# Split the data based on disorder and chunk size\n",
        "In order to run the TensiStrenght Java API in parallel, split the disorder tweets into multiple files to act as input for the multiple code instances that should be used to calculate the stress score"
      ],
      "metadata": {
        "id": "z_OapAS2MQWY"
      }
    },
    {
      "cell_type": "code",
      "source": [
        "# Define the chunk (file) size based on the total number of tweets in each disorder (previous cell)\n",
        "# The below values are for refrence only!\n",
        "disorderChunkSizes = {\"anxiety\": 125000, \"depression\": 420000, \"ptsd\": 110000}"
      ],
      "metadata": {
        "id": "XnQuLHD5ODYc"
      },
      "execution_count": null,
      "outputs": []
    },
    {
      "cell_type": "code",
      "source": [
        "# Loop through the disorders to create the file splits\n",
        "for disorder, chunkSize in disorderChunkSizes.items():\n",
        "  # Isolate the disorder\n",
        "  disorderDf = tweetsDf[tweetsDf.disorder == disorder]\n",
        "  print(f\"{disorder} df shape:\", disorderDf.shape)\n",
        "\n",
        "  # Split the DataFrame into chunks\n",
        "  chunks = disorderDf.shape[0] // chunkSize + (disorderDf.shape[0] % chunkSize != 0)\n",
        "\n",
        "  # Create a list of DataFrames\n",
        "  dfs = [disorderDf.iloc[i * chunkSize:(i+1) * chunkSize] for i in range(chunks)]\n",
        "\n",
        "  # Save the resulting DataFrames\n",
        "  for i, df in enumerate(dfs):\n",
        "      print(f\"{disorder} data frame {i + 1} shape:{df.shape}\\n\")\n",
        "      # Pickle\n",
        "      fileName = f\"{disorder}TweetsDfWithTensiStrength{i}.pickle\"\n",
        "      df.to_pickle(os.path.join(tensiStrengthDir + \"/Chunks\", fileName))"
      ],
      "metadata": {
        "id": "-9mDD91VMV17"
      },
      "execution_count": null,
      "outputs": []
    },
    {
      "cell_type": "markdown",
      "source": [
        "Next step is to run the next notebook(s) in the pipeline to calculate the sterss score for each file, followed by the final step that combines the file chunks into one file for each disorder."
      ],
      "metadata": {
        "id": "0objFFXPVmk7"
      }
    },
    {
      "cell_type": "code",
      "source": [],
      "metadata": {
        "id": "mkzKjz4tWIqq"
      },
      "execution_count": null,
      "outputs": []
    }
  ]
}